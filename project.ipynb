{
  "nbformat": 4,
  "nbformat_minor": 0,
  "metadata": {
    "colab": {
      "provenance": [],
      "include_colab_link": true
    },
    "kernelspec": {
      "name": "python3",
      "display_name": "Python 3"
    },
    "language_info": {
      "name": "python"
    },
    "accelerator": "GPU",
    "gpuClass": "standard",
    "widgets": {
      "application/vnd.jupyter.widget-state+json": {
        "38dadf17facf4950986e75596d395f02": {
          "model_module": "@jupyter-widgets/controls",
          "model_name": "HBoxModel",
          "model_module_version": "1.5.0",
          "state": {
            "_dom_classes": [],
            "_model_module": "@jupyter-widgets/controls",
            "_model_module_version": "1.5.0",
            "_model_name": "HBoxModel",
            "_view_count": null,
            "_view_module": "@jupyter-widgets/controls",
            "_view_module_version": "1.5.0",
            "_view_name": "HBoxView",
            "box_style": "",
            "children": [
              "IPY_MODEL_90fc39ac33eb4d598d035045c1a9b897",
              "IPY_MODEL_6d8b04488050490993ba7dc7db1d46e8",
              "IPY_MODEL_fb87732010534e0cbb74b40373b7a625"
            ],
            "layout": "IPY_MODEL_fdc09022a2de4e3aaeebc1688ee172da"
          }
        },
        "90fc39ac33eb4d598d035045c1a9b897": {
          "model_module": "@jupyter-widgets/controls",
          "model_name": "HTMLModel",
          "model_module_version": "1.5.0",
          "state": {
            "_dom_classes": [],
            "_model_module": "@jupyter-widgets/controls",
            "_model_module_version": "1.5.0",
            "_model_name": "HTMLModel",
            "_view_count": null,
            "_view_module": "@jupyter-widgets/controls",
            "_view_module_version": "1.5.0",
            "_view_name": "HTMLView",
            "description": "",
            "description_tooltip": null,
            "layout": "IPY_MODEL_6432875b29d445dc844923a646b98d34",
            "placeholder": "​",
            "style": "IPY_MODEL_3288354c8b42417ab6c721205ff91e86",
            "value": "100%"
          }
        },
        "6d8b04488050490993ba7dc7db1d46e8": {
          "model_module": "@jupyter-widgets/controls",
          "model_name": "FloatProgressModel",
          "model_module_version": "1.5.0",
          "state": {
            "_dom_classes": [],
            "_model_module": "@jupyter-widgets/controls",
            "_model_module_version": "1.5.0",
            "_model_name": "FloatProgressModel",
            "_view_count": null,
            "_view_module": "@jupyter-widgets/controls",
            "_view_module_version": "1.5.0",
            "_view_name": "ProgressView",
            "bar_style": "success",
            "description": "",
            "description_tooltip": null,
            "layout": "IPY_MODEL_3369fa8e0cfe41d0ad262cbf4f8d4718",
            "max": 8,
            "min": 0,
            "orientation": "horizontal",
            "style": "IPY_MODEL_6b47eb85015c413cb9432d521909eefd",
            "value": 8
          }
        },
        "fb87732010534e0cbb74b40373b7a625": {
          "model_module": "@jupyter-widgets/controls",
          "model_name": "HTMLModel",
          "model_module_version": "1.5.0",
          "state": {
            "_dom_classes": [],
            "_model_module": "@jupyter-widgets/controls",
            "_model_module_version": "1.5.0",
            "_model_name": "HTMLModel",
            "_view_count": null,
            "_view_module": "@jupyter-widgets/controls",
            "_view_module_version": "1.5.0",
            "_view_name": "HTMLView",
            "description": "",
            "description_tooltip": null,
            "layout": "IPY_MODEL_63e1e177a15a490a9f4a89798f3ca62c",
            "placeholder": "​",
            "style": "IPY_MODEL_aed2cd8ff04242bd949173e014a9e867",
            "value": " 8/8 [01:09&lt;00:00,  8.02s/it]"
          }
        },
        "fdc09022a2de4e3aaeebc1688ee172da": {
          "model_module": "@jupyter-widgets/base",
          "model_name": "LayoutModel",
          "model_module_version": "1.2.0",
          "state": {
            "_model_module": "@jupyter-widgets/base",
            "_model_module_version": "1.2.0",
            "_model_name": "LayoutModel",
            "_view_count": null,
            "_view_module": "@jupyter-widgets/base",
            "_view_module_version": "1.2.0",
            "_view_name": "LayoutView",
            "align_content": null,
            "align_items": null,
            "align_self": null,
            "border": null,
            "bottom": null,
            "display": null,
            "flex": null,
            "flex_flow": null,
            "grid_area": null,
            "grid_auto_columns": null,
            "grid_auto_flow": null,
            "grid_auto_rows": null,
            "grid_column": null,
            "grid_gap": null,
            "grid_row": null,
            "grid_template_areas": null,
            "grid_template_columns": null,
            "grid_template_rows": null,
            "height": null,
            "justify_content": null,
            "justify_items": null,
            "left": null,
            "margin": null,
            "max_height": null,
            "max_width": null,
            "min_height": null,
            "min_width": null,
            "object_fit": null,
            "object_position": null,
            "order": null,
            "overflow": null,
            "overflow_x": null,
            "overflow_y": null,
            "padding": null,
            "right": null,
            "top": null,
            "visibility": null,
            "width": null
          }
        },
        "6432875b29d445dc844923a646b98d34": {
          "model_module": "@jupyter-widgets/base",
          "model_name": "LayoutModel",
          "model_module_version": "1.2.0",
          "state": {
            "_model_module": "@jupyter-widgets/base",
            "_model_module_version": "1.2.0",
            "_model_name": "LayoutModel",
            "_view_count": null,
            "_view_module": "@jupyter-widgets/base",
            "_view_module_version": "1.2.0",
            "_view_name": "LayoutView",
            "align_content": null,
            "align_items": null,
            "align_self": null,
            "border": null,
            "bottom": null,
            "display": null,
            "flex": null,
            "flex_flow": null,
            "grid_area": null,
            "grid_auto_columns": null,
            "grid_auto_flow": null,
            "grid_auto_rows": null,
            "grid_column": null,
            "grid_gap": null,
            "grid_row": null,
            "grid_template_areas": null,
            "grid_template_columns": null,
            "grid_template_rows": null,
            "height": null,
            "justify_content": null,
            "justify_items": null,
            "left": null,
            "margin": null,
            "max_height": null,
            "max_width": null,
            "min_height": null,
            "min_width": null,
            "object_fit": null,
            "object_position": null,
            "order": null,
            "overflow": null,
            "overflow_x": null,
            "overflow_y": null,
            "padding": null,
            "right": null,
            "top": null,
            "visibility": null,
            "width": null
          }
        },
        "3288354c8b42417ab6c721205ff91e86": {
          "model_module": "@jupyter-widgets/controls",
          "model_name": "DescriptionStyleModel",
          "model_module_version": "1.5.0",
          "state": {
            "_model_module": "@jupyter-widgets/controls",
            "_model_module_version": "1.5.0",
            "_model_name": "DescriptionStyleModel",
            "_view_count": null,
            "_view_module": "@jupyter-widgets/base",
            "_view_module_version": "1.2.0",
            "_view_name": "StyleView",
            "description_width": ""
          }
        },
        "3369fa8e0cfe41d0ad262cbf4f8d4718": {
          "model_module": "@jupyter-widgets/base",
          "model_name": "LayoutModel",
          "model_module_version": "1.2.0",
          "state": {
            "_model_module": "@jupyter-widgets/base",
            "_model_module_version": "1.2.0",
            "_model_name": "LayoutModel",
            "_view_count": null,
            "_view_module": "@jupyter-widgets/base",
            "_view_module_version": "1.2.0",
            "_view_name": "LayoutView",
            "align_content": null,
            "align_items": null,
            "align_self": null,
            "border": null,
            "bottom": null,
            "display": null,
            "flex": null,
            "flex_flow": null,
            "grid_area": null,
            "grid_auto_columns": null,
            "grid_auto_flow": null,
            "grid_auto_rows": null,
            "grid_column": null,
            "grid_gap": null,
            "grid_row": null,
            "grid_template_areas": null,
            "grid_template_columns": null,
            "grid_template_rows": null,
            "height": null,
            "justify_content": null,
            "justify_items": null,
            "left": null,
            "margin": null,
            "max_height": null,
            "max_width": null,
            "min_height": null,
            "min_width": null,
            "object_fit": null,
            "object_position": null,
            "order": null,
            "overflow": null,
            "overflow_x": null,
            "overflow_y": null,
            "padding": null,
            "right": null,
            "top": null,
            "visibility": null,
            "width": null
          }
        },
        "6b47eb85015c413cb9432d521909eefd": {
          "model_module": "@jupyter-widgets/controls",
          "model_name": "ProgressStyleModel",
          "model_module_version": "1.5.0",
          "state": {
            "_model_module": "@jupyter-widgets/controls",
            "_model_module_version": "1.5.0",
            "_model_name": "ProgressStyleModel",
            "_view_count": null,
            "_view_module": "@jupyter-widgets/base",
            "_view_module_version": "1.2.0",
            "_view_name": "StyleView",
            "bar_color": null,
            "description_width": ""
          }
        },
        "63e1e177a15a490a9f4a89798f3ca62c": {
          "model_module": "@jupyter-widgets/base",
          "model_name": "LayoutModel",
          "model_module_version": "1.2.0",
          "state": {
            "_model_module": "@jupyter-widgets/base",
            "_model_module_version": "1.2.0",
            "_model_name": "LayoutModel",
            "_view_count": null,
            "_view_module": "@jupyter-widgets/base",
            "_view_module_version": "1.2.0",
            "_view_name": "LayoutView",
            "align_content": null,
            "align_items": null,
            "align_self": null,
            "border": null,
            "bottom": null,
            "display": null,
            "flex": null,
            "flex_flow": null,
            "grid_area": null,
            "grid_auto_columns": null,
            "grid_auto_flow": null,
            "grid_auto_rows": null,
            "grid_column": null,
            "grid_gap": null,
            "grid_row": null,
            "grid_template_areas": null,
            "grid_template_columns": null,
            "grid_template_rows": null,
            "height": null,
            "justify_content": null,
            "justify_items": null,
            "left": null,
            "margin": null,
            "max_height": null,
            "max_width": null,
            "min_height": null,
            "min_width": null,
            "object_fit": null,
            "object_position": null,
            "order": null,
            "overflow": null,
            "overflow_x": null,
            "overflow_y": null,
            "padding": null,
            "right": null,
            "top": null,
            "visibility": null,
            "width": null
          }
        },
        "aed2cd8ff04242bd949173e014a9e867": {
          "model_module": "@jupyter-widgets/controls",
          "model_name": "DescriptionStyleModel",
          "model_module_version": "1.5.0",
          "state": {
            "_model_module": "@jupyter-widgets/controls",
            "_model_module_version": "1.5.0",
            "_model_name": "DescriptionStyleModel",
            "_view_count": null,
            "_view_module": "@jupyter-widgets/base",
            "_view_module_version": "1.2.0",
            "_view_name": "StyleView",
            "description_width": ""
          }
        },
        "5a4c468f64a442c0b0ea5c0d804c7e96": {
          "model_module": "@jupyter-widgets/controls",
          "model_name": "HBoxModel",
          "model_module_version": "1.5.0",
          "state": {
            "_dom_classes": [],
            "_model_module": "@jupyter-widgets/controls",
            "_model_module_version": "1.5.0",
            "_model_name": "HBoxModel",
            "_view_count": null,
            "_view_module": "@jupyter-widgets/controls",
            "_view_module_version": "1.5.0",
            "_view_name": "HBoxView",
            "box_style": "",
            "children": [
              "IPY_MODEL_a497355a5f0c43dda11744d885f978be",
              "IPY_MODEL_b0c79ca8aeaf49d197e4dacd7fddaa2d",
              "IPY_MODEL_9c1ec8c3e7a6447ebb3b799c97136907"
            ],
            "layout": "IPY_MODEL_46cb6db4fb5e480e8a66544bf4c2d9c7"
          }
        },
        "a497355a5f0c43dda11744d885f978be": {
          "model_module": "@jupyter-widgets/controls",
          "model_name": "HTMLModel",
          "model_module_version": "1.5.0",
          "state": {
            "_dom_classes": [],
            "_model_module": "@jupyter-widgets/controls",
            "_model_module_version": "1.5.0",
            "_model_name": "HTMLModel",
            "_view_count": null,
            "_view_module": "@jupyter-widgets/controls",
            "_view_module_version": "1.5.0",
            "_view_name": "HTMLView",
            "description": "",
            "description_tooltip": null,
            "layout": "IPY_MODEL_e32a7346371c4959967c8a05624bb46a",
            "placeholder": "​",
            "style": "IPY_MODEL_d16e029929b943f5884d37ca21d211f5",
            "value": "100%"
          }
        },
        "b0c79ca8aeaf49d197e4dacd7fddaa2d": {
          "model_module": "@jupyter-widgets/controls",
          "model_name": "FloatProgressModel",
          "model_module_version": "1.5.0",
          "state": {
            "_dom_classes": [],
            "_model_module": "@jupyter-widgets/controls",
            "_model_module_version": "1.5.0",
            "_model_name": "FloatProgressModel",
            "_view_count": null,
            "_view_module": "@jupyter-widgets/controls",
            "_view_module_version": "1.5.0",
            "_view_name": "ProgressView",
            "bar_style": "success",
            "description": "",
            "description_tooltip": null,
            "layout": "IPY_MODEL_d26abf254ba74d67ae888104150bd826",
            "max": 8,
            "min": 0,
            "orientation": "horizontal",
            "style": "IPY_MODEL_e4f491e38beb48b289707ad54554a45c",
            "value": 8
          }
        },
        "9c1ec8c3e7a6447ebb3b799c97136907": {
          "model_module": "@jupyter-widgets/controls",
          "model_name": "HTMLModel",
          "model_module_version": "1.5.0",
          "state": {
            "_dom_classes": [],
            "_model_module": "@jupyter-widgets/controls",
            "_model_module_version": "1.5.0",
            "_model_name": "HTMLModel",
            "_view_count": null,
            "_view_module": "@jupyter-widgets/controls",
            "_view_module_version": "1.5.0",
            "_view_name": "HTMLView",
            "description": "",
            "description_tooltip": null,
            "layout": "IPY_MODEL_0fbe649ec0f047e5afa1886398dcc68c",
            "placeholder": "​",
            "style": "IPY_MODEL_616082651f954510ba181d514f287c1f",
            "value": " 8/8 [00:44&lt;00:00,  5.61s/it]"
          }
        },
        "46cb6db4fb5e480e8a66544bf4c2d9c7": {
          "model_module": "@jupyter-widgets/base",
          "model_name": "LayoutModel",
          "model_module_version": "1.2.0",
          "state": {
            "_model_module": "@jupyter-widgets/base",
            "_model_module_version": "1.2.0",
            "_model_name": "LayoutModel",
            "_view_count": null,
            "_view_module": "@jupyter-widgets/base",
            "_view_module_version": "1.2.0",
            "_view_name": "LayoutView",
            "align_content": null,
            "align_items": null,
            "align_self": null,
            "border": null,
            "bottom": null,
            "display": null,
            "flex": null,
            "flex_flow": null,
            "grid_area": null,
            "grid_auto_columns": null,
            "grid_auto_flow": null,
            "grid_auto_rows": null,
            "grid_column": null,
            "grid_gap": null,
            "grid_row": null,
            "grid_template_areas": null,
            "grid_template_columns": null,
            "grid_template_rows": null,
            "height": null,
            "justify_content": null,
            "justify_items": null,
            "left": null,
            "margin": null,
            "max_height": null,
            "max_width": null,
            "min_height": null,
            "min_width": null,
            "object_fit": null,
            "object_position": null,
            "order": null,
            "overflow": null,
            "overflow_x": null,
            "overflow_y": null,
            "padding": null,
            "right": null,
            "top": null,
            "visibility": null,
            "width": null
          }
        },
        "e32a7346371c4959967c8a05624bb46a": {
          "model_module": "@jupyter-widgets/base",
          "model_name": "LayoutModel",
          "model_module_version": "1.2.0",
          "state": {
            "_model_module": "@jupyter-widgets/base",
            "_model_module_version": "1.2.0",
            "_model_name": "LayoutModel",
            "_view_count": null,
            "_view_module": "@jupyter-widgets/base",
            "_view_module_version": "1.2.0",
            "_view_name": "LayoutView",
            "align_content": null,
            "align_items": null,
            "align_self": null,
            "border": null,
            "bottom": null,
            "display": null,
            "flex": null,
            "flex_flow": null,
            "grid_area": null,
            "grid_auto_columns": null,
            "grid_auto_flow": null,
            "grid_auto_rows": null,
            "grid_column": null,
            "grid_gap": null,
            "grid_row": null,
            "grid_template_areas": null,
            "grid_template_columns": null,
            "grid_template_rows": null,
            "height": null,
            "justify_content": null,
            "justify_items": null,
            "left": null,
            "margin": null,
            "max_height": null,
            "max_width": null,
            "min_height": null,
            "min_width": null,
            "object_fit": null,
            "object_position": null,
            "order": null,
            "overflow": null,
            "overflow_x": null,
            "overflow_y": null,
            "padding": null,
            "right": null,
            "top": null,
            "visibility": null,
            "width": null
          }
        },
        "d16e029929b943f5884d37ca21d211f5": {
          "model_module": "@jupyter-widgets/controls",
          "model_name": "DescriptionStyleModel",
          "model_module_version": "1.5.0",
          "state": {
            "_model_module": "@jupyter-widgets/controls",
            "_model_module_version": "1.5.0",
            "_model_name": "DescriptionStyleModel",
            "_view_count": null,
            "_view_module": "@jupyter-widgets/base",
            "_view_module_version": "1.2.0",
            "_view_name": "StyleView",
            "description_width": ""
          }
        },
        "d26abf254ba74d67ae888104150bd826": {
          "model_module": "@jupyter-widgets/base",
          "model_name": "LayoutModel",
          "model_module_version": "1.2.0",
          "state": {
            "_model_module": "@jupyter-widgets/base",
            "_model_module_version": "1.2.0",
            "_model_name": "LayoutModel",
            "_view_count": null,
            "_view_module": "@jupyter-widgets/base",
            "_view_module_version": "1.2.0",
            "_view_name": "LayoutView",
            "align_content": null,
            "align_items": null,
            "align_self": null,
            "border": null,
            "bottom": null,
            "display": null,
            "flex": null,
            "flex_flow": null,
            "grid_area": null,
            "grid_auto_columns": null,
            "grid_auto_flow": null,
            "grid_auto_rows": null,
            "grid_column": null,
            "grid_gap": null,
            "grid_row": null,
            "grid_template_areas": null,
            "grid_template_columns": null,
            "grid_template_rows": null,
            "height": null,
            "justify_content": null,
            "justify_items": null,
            "left": null,
            "margin": null,
            "max_height": null,
            "max_width": null,
            "min_height": null,
            "min_width": null,
            "object_fit": null,
            "object_position": null,
            "order": null,
            "overflow": null,
            "overflow_x": null,
            "overflow_y": null,
            "padding": null,
            "right": null,
            "top": null,
            "visibility": null,
            "width": null
          }
        },
        "e4f491e38beb48b289707ad54554a45c": {
          "model_module": "@jupyter-widgets/controls",
          "model_name": "ProgressStyleModel",
          "model_module_version": "1.5.0",
          "state": {
            "_model_module": "@jupyter-widgets/controls",
            "_model_module_version": "1.5.0",
            "_model_name": "ProgressStyleModel",
            "_view_count": null,
            "_view_module": "@jupyter-widgets/base",
            "_view_module_version": "1.2.0",
            "_view_name": "StyleView",
            "bar_color": null,
            "description_width": ""
          }
        },
        "0fbe649ec0f047e5afa1886398dcc68c": {
          "model_module": "@jupyter-widgets/base",
          "model_name": "LayoutModel",
          "model_module_version": "1.2.0",
          "state": {
            "_model_module": "@jupyter-widgets/base",
            "_model_module_version": "1.2.0",
            "_model_name": "LayoutModel",
            "_view_count": null,
            "_view_module": "@jupyter-widgets/base",
            "_view_module_version": "1.2.0",
            "_view_name": "LayoutView",
            "align_content": null,
            "align_items": null,
            "align_self": null,
            "border": null,
            "bottom": null,
            "display": null,
            "flex": null,
            "flex_flow": null,
            "grid_area": null,
            "grid_auto_columns": null,
            "grid_auto_flow": null,
            "grid_auto_rows": null,
            "grid_column": null,
            "grid_gap": null,
            "grid_row": null,
            "grid_template_areas": null,
            "grid_template_columns": null,
            "grid_template_rows": null,
            "height": null,
            "justify_content": null,
            "justify_items": null,
            "left": null,
            "margin": null,
            "max_height": null,
            "max_width": null,
            "min_height": null,
            "min_width": null,
            "object_fit": null,
            "object_position": null,
            "order": null,
            "overflow": null,
            "overflow_x": null,
            "overflow_y": null,
            "padding": null,
            "right": null,
            "top": null,
            "visibility": null,
            "width": null
          }
        },
        "616082651f954510ba181d514f287c1f": {
          "model_module": "@jupyter-widgets/controls",
          "model_name": "DescriptionStyleModel",
          "model_module_version": "1.5.0",
          "state": {
            "_model_module": "@jupyter-widgets/controls",
            "_model_module_version": "1.5.0",
            "_model_name": "DescriptionStyleModel",
            "_view_count": null,
            "_view_module": "@jupyter-widgets/base",
            "_view_module_version": "1.2.0",
            "_view_name": "StyleView",
            "description_width": ""
          }
        },
        "11ce155cacdc4922b72efa4c66158a99": {
          "model_module": "@jupyter-widgets/controls",
          "model_name": "HBoxModel",
          "model_module_version": "1.5.0",
          "state": {
            "_dom_classes": [],
            "_model_module": "@jupyter-widgets/controls",
            "_model_module_version": "1.5.0",
            "_model_name": "HBoxModel",
            "_view_count": null,
            "_view_module": "@jupyter-widgets/controls",
            "_view_module_version": "1.5.0",
            "_view_name": "HBoxView",
            "box_style": "",
            "children": [
              "IPY_MODEL_0b92f7005aab4db893c0015cfa44bffd",
              "IPY_MODEL_b76c3f5a0e484428851fef7f278dbf86",
              "IPY_MODEL_8813f804109d42c7be23c94904a56115"
            ],
            "layout": "IPY_MODEL_c3edc86c9b8d4d19a9618e7be0f33c27"
          }
        },
        "0b92f7005aab4db893c0015cfa44bffd": {
          "model_module": "@jupyter-widgets/controls",
          "model_name": "HTMLModel",
          "model_module_version": "1.5.0",
          "state": {
            "_dom_classes": [],
            "_model_module": "@jupyter-widgets/controls",
            "_model_module_version": "1.5.0",
            "_model_name": "HTMLModel",
            "_view_count": null,
            "_view_module": "@jupyter-widgets/controls",
            "_view_module_version": "1.5.0",
            "_view_name": "HTMLView",
            "description": "",
            "description_tooltip": null,
            "layout": "IPY_MODEL_6cdb208a14584bb8bcb8e91224d1c03b",
            "placeholder": "​",
            "style": "IPY_MODEL_7a34ae0cf5aa47c09b9b5e0e1bc18149",
            "value": "100%"
          }
        },
        "b76c3f5a0e484428851fef7f278dbf86": {
          "model_module": "@jupyter-widgets/controls",
          "model_name": "FloatProgressModel",
          "model_module_version": "1.5.0",
          "state": {
            "_dom_classes": [],
            "_model_module": "@jupyter-widgets/controls",
            "_model_module_version": "1.5.0",
            "_model_name": "FloatProgressModel",
            "_view_count": null,
            "_view_module": "@jupyter-widgets/controls",
            "_view_module_version": "1.5.0",
            "_view_name": "ProgressView",
            "bar_style": "success",
            "description": "",
            "description_tooltip": null,
            "layout": "IPY_MODEL_f5b5f142159f4b3ea337652a738d4e58",
            "max": 8,
            "min": 0,
            "orientation": "horizontal",
            "style": "IPY_MODEL_9c45ae857ba34c18868f22c0a0b1b382",
            "value": 8
          }
        },
        "8813f804109d42c7be23c94904a56115": {
          "model_module": "@jupyter-widgets/controls",
          "model_name": "HTMLModel",
          "model_module_version": "1.5.0",
          "state": {
            "_dom_classes": [],
            "_model_module": "@jupyter-widgets/controls",
            "_model_module_version": "1.5.0",
            "_model_name": "HTMLModel",
            "_view_count": null,
            "_view_module": "@jupyter-widgets/controls",
            "_view_module_version": "1.5.0",
            "_view_name": "HTMLView",
            "description": "",
            "description_tooltip": null,
            "layout": "IPY_MODEL_e5e1eca858194b35af9646a90dfac9c6",
            "placeholder": "​",
            "style": "IPY_MODEL_f6783923fd524c92b384909e9c77f118",
            "value": " 8/8 [00:21&lt;00:00,  2.64s/it]"
          }
        },
        "c3edc86c9b8d4d19a9618e7be0f33c27": {
          "model_module": "@jupyter-widgets/base",
          "model_name": "LayoutModel",
          "model_module_version": "1.2.0",
          "state": {
            "_model_module": "@jupyter-widgets/base",
            "_model_module_version": "1.2.0",
            "_model_name": "LayoutModel",
            "_view_count": null,
            "_view_module": "@jupyter-widgets/base",
            "_view_module_version": "1.2.0",
            "_view_name": "LayoutView",
            "align_content": null,
            "align_items": null,
            "align_self": null,
            "border": null,
            "bottom": null,
            "display": null,
            "flex": null,
            "flex_flow": null,
            "grid_area": null,
            "grid_auto_columns": null,
            "grid_auto_flow": null,
            "grid_auto_rows": null,
            "grid_column": null,
            "grid_gap": null,
            "grid_row": null,
            "grid_template_areas": null,
            "grid_template_columns": null,
            "grid_template_rows": null,
            "height": null,
            "justify_content": null,
            "justify_items": null,
            "left": null,
            "margin": null,
            "max_height": null,
            "max_width": null,
            "min_height": null,
            "min_width": null,
            "object_fit": null,
            "object_position": null,
            "order": null,
            "overflow": null,
            "overflow_x": null,
            "overflow_y": null,
            "padding": null,
            "right": null,
            "top": null,
            "visibility": null,
            "width": null
          }
        },
        "6cdb208a14584bb8bcb8e91224d1c03b": {
          "model_module": "@jupyter-widgets/base",
          "model_name": "LayoutModel",
          "model_module_version": "1.2.0",
          "state": {
            "_model_module": "@jupyter-widgets/base",
            "_model_module_version": "1.2.0",
            "_model_name": "LayoutModel",
            "_view_count": null,
            "_view_module": "@jupyter-widgets/base",
            "_view_module_version": "1.2.0",
            "_view_name": "LayoutView",
            "align_content": null,
            "align_items": null,
            "align_self": null,
            "border": null,
            "bottom": null,
            "display": null,
            "flex": null,
            "flex_flow": null,
            "grid_area": null,
            "grid_auto_columns": null,
            "grid_auto_flow": null,
            "grid_auto_rows": null,
            "grid_column": null,
            "grid_gap": null,
            "grid_row": null,
            "grid_template_areas": null,
            "grid_template_columns": null,
            "grid_template_rows": null,
            "height": null,
            "justify_content": null,
            "justify_items": null,
            "left": null,
            "margin": null,
            "max_height": null,
            "max_width": null,
            "min_height": null,
            "min_width": null,
            "object_fit": null,
            "object_position": null,
            "order": null,
            "overflow": null,
            "overflow_x": null,
            "overflow_y": null,
            "padding": null,
            "right": null,
            "top": null,
            "visibility": null,
            "width": null
          }
        },
        "7a34ae0cf5aa47c09b9b5e0e1bc18149": {
          "model_module": "@jupyter-widgets/controls",
          "model_name": "DescriptionStyleModel",
          "model_module_version": "1.5.0",
          "state": {
            "_model_module": "@jupyter-widgets/controls",
            "_model_module_version": "1.5.0",
            "_model_name": "DescriptionStyleModel",
            "_view_count": null,
            "_view_module": "@jupyter-widgets/base",
            "_view_module_version": "1.2.0",
            "_view_name": "StyleView",
            "description_width": ""
          }
        },
        "f5b5f142159f4b3ea337652a738d4e58": {
          "model_module": "@jupyter-widgets/base",
          "model_name": "LayoutModel",
          "model_module_version": "1.2.0",
          "state": {
            "_model_module": "@jupyter-widgets/base",
            "_model_module_version": "1.2.0",
            "_model_name": "LayoutModel",
            "_view_count": null,
            "_view_module": "@jupyter-widgets/base",
            "_view_module_version": "1.2.0",
            "_view_name": "LayoutView",
            "align_content": null,
            "align_items": null,
            "align_self": null,
            "border": null,
            "bottom": null,
            "display": null,
            "flex": null,
            "flex_flow": null,
            "grid_area": null,
            "grid_auto_columns": null,
            "grid_auto_flow": null,
            "grid_auto_rows": null,
            "grid_column": null,
            "grid_gap": null,
            "grid_row": null,
            "grid_template_areas": null,
            "grid_template_columns": null,
            "grid_template_rows": null,
            "height": null,
            "justify_content": null,
            "justify_items": null,
            "left": null,
            "margin": null,
            "max_height": null,
            "max_width": null,
            "min_height": null,
            "min_width": null,
            "object_fit": null,
            "object_position": null,
            "order": null,
            "overflow": null,
            "overflow_x": null,
            "overflow_y": null,
            "padding": null,
            "right": null,
            "top": null,
            "visibility": null,
            "width": null
          }
        },
        "9c45ae857ba34c18868f22c0a0b1b382": {
          "model_module": "@jupyter-widgets/controls",
          "model_name": "ProgressStyleModel",
          "model_module_version": "1.5.0",
          "state": {
            "_model_module": "@jupyter-widgets/controls",
            "_model_module_version": "1.5.0",
            "_model_name": "ProgressStyleModel",
            "_view_count": null,
            "_view_module": "@jupyter-widgets/base",
            "_view_module_version": "1.2.0",
            "_view_name": "StyleView",
            "bar_color": null,
            "description_width": ""
          }
        },
        "e5e1eca858194b35af9646a90dfac9c6": {
          "model_module": "@jupyter-widgets/base",
          "model_name": "LayoutModel",
          "model_module_version": "1.2.0",
          "state": {
            "_model_module": "@jupyter-widgets/base",
            "_model_module_version": "1.2.0",
            "_model_name": "LayoutModel",
            "_view_count": null,
            "_view_module": "@jupyter-widgets/base",
            "_view_module_version": "1.2.0",
            "_view_name": "LayoutView",
            "align_content": null,
            "align_items": null,
            "align_self": null,
            "border": null,
            "bottom": null,
            "display": null,
            "flex": null,
            "flex_flow": null,
            "grid_area": null,
            "grid_auto_columns": null,
            "grid_auto_flow": null,
            "grid_auto_rows": null,
            "grid_column": null,
            "grid_gap": null,
            "grid_row": null,
            "grid_template_areas": null,
            "grid_template_columns": null,
            "grid_template_rows": null,
            "height": null,
            "justify_content": null,
            "justify_items": null,
            "left": null,
            "margin": null,
            "max_height": null,
            "max_width": null,
            "min_height": null,
            "min_width": null,
            "object_fit": null,
            "object_position": null,
            "order": null,
            "overflow": null,
            "overflow_x": null,
            "overflow_y": null,
            "padding": null,
            "right": null,
            "top": null,
            "visibility": null,
            "width": null
          }
        },
        "f6783923fd524c92b384909e9c77f118": {
          "model_module": "@jupyter-widgets/controls",
          "model_name": "DescriptionStyleModel",
          "model_module_version": "1.5.0",
          "state": {
            "_model_module": "@jupyter-widgets/controls",
            "_model_module_version": "1.5.0",
            "_model_name": "DescriptionStyleModel",
            "_view_count": null,
            "_view_module": "@jupyter-widgets/base",
            "_view_module_version": "1.2.0",
            "_view_name": "StyleView",
            "description_width": ""
          }
        },
        "4b66759171ba45dba64025bf4ac7271b": {
          "model_module": "@jupyter-widgets/controls",
          "model_name": "HBoxModel",
          "model_module_version": "1.5.0",
          "state": {
            "_dom_classes": [],
            "_model_module": "@jupyter-widgets/controls",
            "_model_module_version": "1.5.0",
            "_model_name": "HBoxModel",
            "_view_count": null,
            "_view_module": "@jupyter-widgets/controls",
            "_view_module_version": "1.5.0",
            "_view_name": "HBoxView",
            "box_style": "",
            "children": [
              "IPY_MODEL_c62d7ad7cb8644549d6f85daea8f3893",
              "IPY_MODEL_2b7bf18dba564106b155c47067f015e8",
              "IPY_MODEL_37203752d24d4394a9542f61e5c18262"
            ],
            "layout": "IPY_MODEL_3332e51276d2494781d4b4c47c85c7ac"
          }
        },
        "c62d7ad7cb8644549d6f85daea8f3893": {
          "model_module": "@jupyter-widgets/controls",
          "model_name": "HTMLModel",
          "model_module_version": "1.5.0",
          "state": {
            "_dom_classes": [],
            "_model_module": "@jupyter-widgets/controls",
            "_model_module_version": "1.5.0",
            "_model_name": "HTMLModel",
            "_view_count": null,
            "_view_module": "@jupyter-widgets/controls",
            "_view_module_version": "1.5.0",
            "_view_name": "HTMLView",
            "description": "",
            "description_tooltip": null,
            "layout": "IPY_MODEL_bff734c760e549aaa735e3a8d757c2d3",
            "placeholder": "​",
            "style": "IPY_MODEL_31f8750e8a9b4a75b47585fa63489765",
            "value": "100%"
          }
        },
        "2b7bf18dba564106b155c47067f015e8": {
          "model_module": "@jupyter-widgets/controls",
          "model_name": "FloatProgressModel",
          "model_module_version": "1.5.0",
          "state": {
            "_dom_classes": [],
            "_model_module": "@jupyter-widgets/controls",
            "_model_module_version": "1.5.0",
            "_model_name": "FloatProgressModel",
            "_view_count": null,
            "_view_module": "@jupyter-widgets/controls",
            "_view_module_version": "1.5.0",
            "_view_name": "ProgressView",
            "bar_style": "success",
            "description": "",
            "description_tooltip": null,
            "layout": "IPY_MODEL_ab0ab3f143ee49e4955a04e6b4244765",
            "max": 8,
            "min": 0,
            "orientation": "horizontal",
            "style": "IPY_MODEL_33da7736a0004342acf497bff20e6aef",
            "value": 8
          }
        },
        "37203752d24d4394a9542f61e5c18262": {
          "model_module": "@jupyter-widgets/controls",
          "model_name": "HTMLModel",
          "model_module_version": "1.5.0",
          "state": {
            "_dom_classes": [],
            "_model_module": "@jupyter-widgets/controls",
            "_model_module_version": "1.5.0",
            "_model_name": "HTMLModel",
            "_view_count": null,
            "_view_module": "@jupyter-widgets/controls",
            "_view_module_version": "1.5.0",
            "_view_name": "HTMLView",
            "description": "",
            "description_tooltip": null,
            "layout": "IPY_MODEL_5abce3091add4825a57756c0bb1c1537",
            "placeholder": "​",
            "style": "IPY_MODEL_f12cce4477e840e4940437aa3cf99f0b",
            "value": " 8/8 [00:21&lt;00:00,  2.81s/it]"
          }
        },
        "3332e51276d2494781d4b4c47c85c7ac": {
          "model_module": "@jupyter-widgets/base",
          "model_name": "LayoutModel",
          "model_module_version": "1.2.0",
          "state": {
            "_model_module": "@jupyter-widgets/base",
            "_model_module_version": "1.2.0",
            "_model_name": "LayoutModel",
            "_view_count": null,
            "_view_module": "@jupyter-widgets/base",
            "_view_module_version": "1.2.0",
            "_view_name": "LayoutView",
            "align_content": null,
            "align_items": null,
            "align_self": null,
            "border": null,
            "bottom": null,
            "display": null,
            "flex": null,
            "flex_flow": null,
            "grid_area": null,
            "grid_auto_columns": null,
            "grid_auto_flow": null,
            "grid_auto_rows": null,
            "grid_column": null,
            "grid_gap": null,
            "grid_row": null,
            "grid_template_areas": null,
            "grid_template_columns": null,
            "grid_template_rows": null,
            "height": null,
            "justify_content": null,
            "justify_items": null,
            "left": null,
            "margin": null,
            "max_height": null,
            "max_width": null,
            "min_height": null,
            "min_width": null,
            "object_fit": null,
            "object_position": null,
            "order": null,
            "overflow": null,
            "overflow_x": null,
            "overflow_y": null,
            "padding": null,
            "right": null,
            "top": null,
            "visibility": null,
            "width": null
          }
        },
        "bff734c760e549aaa735e3a8d757c2d3": {
          "model_module": "@jupyter-widgets/base",
          "model_name": "LayoutModel",
          "model_module_version": "1.2.0",
          "state": {
            "_model_module": "@jupyter-widgets/base",
            "_model_module_version": "1.2.0",
            "_model_name": "LayoutModel",
            "_view_count": null,
            "_view_module": "@jupyter-widgets/base",
            "_view_module_version": "1.2.0",
            "_view_name": "LayoutView",
            "align_content": null,
            "align_items": null,
            "align_self": null,
            "border": null,
            "bottom": null,
            "display": null,
            "flex": null,
            "flex_flow": null,
            "grid_area": null,
            "grid_auto_columns": null,
            "grid_auto_flow": null,
            "grid_auto_rows": null,
            "grid_column": null,
            "grid_gap": null,
            "grid_row": null,
            "grid_template_areas": null,
            "grid_template_columns": null,
            "grid_template_rows": null,
            "height": null,
            "justify_content": null,
            "justify_items": null,
            "left": null,
            "margin": null,
            "max_height": null,
            "max_width": null,
            "min_height": null,
            "min_width": null,
            "object_fit": null,
            "object_position": null,
            "order": null,
            "overflow": null,
            "overflow_x": null,
            "overflow_y": null,
            "padding": null,
            "right": null,
            "top": null,
            "visibility": null,
            "width": null
          }
        },
        "31f8750e8a9b4a75b47585fa63489765": {
          "model_module": "@jupyter-widgets/controls",
          "model_name": "DescriptionStyleModel",
          "model_module_version": "1.5.0",
          "state": {
            "_model_module": "@jupyter-widgets/controls",
            "_model_module_version": "1.5.0",
            "_model_name": "DescriptionStyleModel",
            "_view_count": null,
            "_view_module": "@jupyter-widgets/base",
            "_view_module_version": "1.2.0",
            "_view_name": "StyleView",
            "description_width": ""
          }
        },
        "ab0ab3f143ee49e4955a04e6b4244765": {
          "model_module": "@jupyter-widgets/base",
          "model_name": "LayoutModel",
          "model_module_version": "1.2.0",
          "state": {
            "_model_module": "@jupyter-widgets/base",
            "_model_module_version": "1.2.0",
            "_model_name": "LayoutModel",
            "_view_count": null,
            "_view_module": "@jupyter-widgets/base",
            "_view_module_version": "1.2.0",
            "_view_name": "LayoutView",
            "align_content": null,
            "align_items": null,
            "align_self": null,
            "border": null,
            "bottom": null,
            "display": null,
            "flex": null,
            "flex_flow": null,
            "grid_area": null,
            "grid_auto_columns": null,
            "grid_auto_flow": null,
            "grid_auto_rows": null,
            "grid_column": null,
            "grid_gap": null,
            "grid_row": null,
            "grid_template_areas": null,
            "grid_template_columns": null,
            "grid_template_rows": null,
            "height": null,
            "justify_content": null,
            "justify_items": null,
            "left": null,
            "margin": null,
            "max_height": null,
            "max_width": null,
            "min_height": null,
            "min_width": null,
            "object_fit": null,
            "object_position": null,
            "order": null,
            "overflow": null,
            "overflow_x": null,
            "overflow_y": null,
            "padding": null,
            "right": null,
            "top": null,
            "visibility": null,
            "width": null
          }
        },
        "33da7736a0004342acf497bff20e6aef": {
          "model_module": "@jupyter-widgets/controls",
          "model_name": "ProgressStyleModel",
          "model_module_version": "1.5.0",
          "state": {
            "_model_module": "@jupyter-widgets/controls",
            "_model_module_version": "1.5.0",
            "_model_name": "ProgressStyleModel",
            "_view_count": null,
            "_view_module": "@jupyter-widgets/base",
            "_view_module_version": "1.2.0",
            "_view_name": "StyleView",
            "bar_color": null,
            "description_width": ""
          }
        },
        "5abce3091add4825a57756c0bb1c1537": {
          "model_module": "@jupyter-widgets/base",
          "model_name": "LayoutModel",
          "model_module_version": "1.2.0",
          "state": {
            "_model_module": "@jupyter-widgets/base",
            "_model_module_version": "1.2.0",
            "_model_name": "LayoutModel",
            "_view_count": null,
            "_view_module": "@jupyter-widgets/base",
            "_view_module_version": "1.2.0",
            "_view_name": "LayoutView",
            "align_content": null,
            "align_items": null,
            "align_self": null,
            "border": null,
            "bottom": null,
            "display": null,
            "flex": null,
            "flex_flow": null,
            "grid_area": null,
            "grid_auto_columns": null,
            "grid_auto_flow": null,
            "grid_auto_rows": null,
            "grid_column": null,
            "grid_gap": null,
            "grid_row": null,
            "grid_template_areas": null,
            "grid_template_columns": null,
            "grid_template_rows": null,
            "height": null,
            "justify_content": null,
            "justify_items": null,
            "left": null,
            "margin": null,
            "max_height": null,
            "max_width": null,
            "min_height": null,
            "min_width": null,
            "object_fit": null,
            "object_position": null,
            "order": null,
            "overflow": null,
            "overflow_x": null,
            "overflow_y": null,
            "padding": null,
            "right": null,
            "top": null,
            "visibility": null,
            "width": null
          }
        },
        "f12cce4477e840e4940437aa3cf99f0b": {
          "model_module": "@jupyter-widgets/controls",
          "model_name": "DescriptionStyleModel",
          "model_module_version": "1.5.0",
          "state": {
            "_model_module": "@jupyter-widgets/controls",
            "_model_module_version": "1.5.0",
            "_model_name": "DescriptionStyleModel",
            "_view_count": null,
            "_view_module": "@jupyter-widgets/base",
            "_view_module_version": "1.2.0",
            "_view_name": "StyleView",
            "description_width": ""
          }
        },
        "c496cf02f2a046edb4ace89f4fad43ad": {
          "model_module": "@jupyter-widgets/controls",
          "model_name": "HBoxModel",
          "model_module_version": "1.5.0",
          "state": {
            "_dom_classes": [],
            "_model_module": "@jupyter-widgets/controls",
            "_model_module_version": "1.5.0",
            "_model_name": "HBoxModel",
            "_view_count": null,
            "_view_module": "@jupyter-widgets/controls",
            "_view_module_version": "1.5.0",
            "_view_name": "HBoxView",
            "box_style": "",
            "children": [
              "IPY_MODEL_9f2858dbf9974b3d88cede37be373409",
              "IPY_MODEL_3ff0ae1254764bc7b4b8658d30d2e4cf",
              "IPY_MODEL_42bfd43e5c1b48749db6d01475bbe33c"
            ],
            "layout": "IPY_MODEL_002f5af815644260aeac4de385c0a0a3"
          }
        },
        "9f2858dbf9974b3d88cede37be373409": {
          "model_module": "@jupyter-widgets/controls",
          "model_name": "HTMLModel",
          "model_module_version": "1.5.0",
          "state": {
            "_dom_classes": [],
            "_model_module": "@jupyter-widgets/controls",
            "_model_module_version": "1.5.0",
            "_model_name": "HTMLModel",
            "_view_count": null,
            "_view_module": "@jupyter-widgets/controls",
            "_view_module_version": "1.5.0",
            "_view_name": "HTMLView",
            "description": "",
            "description_tooltip": null,
            "layout": "IPY_MODEL_813e33f14db5410f8ced1e84c10a7081",
            "placeholder": "​",
            "style": "IPY_MODEL_a570c85397204567a394192e8b2aed0e",
            "value": "100%"
          }
        },
        "3ff0ae1254764bc7b4b8658d30d2e4cf": {
          "model_module": "@jupyter-widgets/controls",
          "model_name": "FloatProgressModel",
          "model_module_version": "1.5.0",
          "state": {
            "_dom_classes": [],
            "_model_module": "@jupyter-widgets/controls",
            "_model_module_version": "1.5.0",
            "_model_name": "FloatProgressModel",
            "_view_count": null,
            "_view_module": "@jupyter-widgets/controls",
            "_view_module_version": "1.5.0",
            "_view_name": "ProgressView",
            "bar_style": "success",
            "description": "",
            "description_tooltip": null,
            "layout": "IPY_MODEL_7760da9a003f43f3ba2c9d6b636077d9",
            "max": 8,
            "min": 0,
            "orientation": "horizontal",
            "style": "IPY_MODEL_fb60b40b67ea41aab0f9dc77a2cd6fab",
            "value": 8
          }
        },
        "42bfd43e5c1b48749db6d01475bbe33c": {
          "model_module": "@jupyter-widgets/controls",
          "model_name": "HTMLModel",
          "model_module_version": "1.5.0",
          "state": {
            "_dom_classes": [],
            "_model_module": "@jupyter-widgets/controls",
            "_model_module_version": "1.5.0",
            "_model_name": "HTMLModel",
            "_view_count": null,
            "_view_module": "@jupyter-widgets/controls",
            "_view_module_version": "1.5.0",
            "_view_name": "HTMLView",
            "description": "",
            "description_tooltip": null,
            "layout": "IPY_MODEL_634158dcd0fb43078d3144d3d9cb11ef",
            "placeholder": "​",
            "style": "IPY_MODEL_0f0ba68f77d4412492d732b91086d494",
            "value": " 8/8 [00:25&lt;00:00,  2.92s/it]"
          }
        },
        "002f5af815644260aeac4de385c0a0a3": {
          "model_module": "@jupyter-widgets/base",
          "model_name": "LayoutModel",
          "model_module_version": "1.2.0",
          "state": {
            "_model_module": "@jupyter-widgets/base",
            "_model_module_version": "1.2.0",
            "_model_name": "LayoutModel",
            "_view_count": null,
            "_view_module": "@jupyter-widgets/base",
            "_view_module_version": "1.2.0",
            "_view_name": "LayoutView",
            "align_content": null,
            "align_items": null,
            "align_self": null,
            "border": null,
            "bottom": null,
            "display": null,
            "flex": null,
            "flex_flow": null,
            "grid_area": null,
            "grid_auto_columns": null,
            "grid_auto_flow": null,
            "grid_auto_rows": null,
            "grid_column": null,
            "grid_gap": null,
            "grid_row": null,
            "grid_template_areas": null,
            "grid_template_columns": null,
            "grid_template_rows": null,
            "height": null,
            "justify_content": null,
            "justify_items": null,
            "left": null,
            "margin": null,
            "max_height": null,
            "max_width": null,
            "min_height": null,
            "min_width": null,
            "object_fit": null,
            "object_position": null,
            "order": null,
            "overflow": null,
            "overflow_x": null,
            "overflow_y": null,
            "padding": null,
            "right": null,
            "top": null,
            "visibility": null,
            "width": null
          }
        },
        "813e33f14db5410f8ced1e84c10a7081": {
          "model_module": "@jupyter-widgets/base",
          "model_name": "LayoutModel",
          "model_module_version": "1.2.0",
          "state": {
            "_model_module": "@jupyter-widgets/base",
            "_model_module_version": "1.2.0",
            "_model_name": "LayoutModel",
            "_view_count": null,
            "_view_module": "@jupyter-widgets/base",
            "_view_module_version": "1.2.0",
            "_view_name": "LayoutView",
            "align_content": null,
            "align_items": null,
            "align_self": null,
            "border": null,
            "bottom": null,
            "display": null,
            "flex": null,
            "flex_flow": null,
            "grid_area": null,
            "grid_auto_columns": null,
            "grid_auto_flow": null,
            "grid_auto_rows": null,
            "grid_column": null,
            "grid_gap": null,
            "grid_row": null,
            "grid_template_areas": null,
            "grid_template_columns": null,
            "grid_template_rows": null,
            "height": null,
            "justify_content": null,
            "justify_items": null,
            "left": null,
            "margin": null,
            "max_height": null,
            "max_width": null,
            "min_height": null,
            "min_width": null,
            "object_fit": null,
            "object_position": null,
            "order": null,
            "overflow": null,
            "overflow_x": null,
            "overflow_y": null,
            "padding": null,
            "right": null,
            "top": null,
            "visibility": null,
            "width": null
          }
        },
        "a570c85397204567a394192e8b2aed0e": {
          "model_module": "@jupyter-widgets/controls",
          "model_name": "DescriptionStyleModel",
          "model_module_version": "1.5.0",
          "state": {
            "_model_module": "@jupyter-widgets/controls",
            "_model_module_version": "1.5.0",
            "_model_name": "DescriptionStyleModel",
            "_view_count": null,
            "_view_module": "@jupyter-widgets/base",
            "_view_module_version": "1.2.0",
            "_view_name": "StyleView",
            "description_width": ""
          }
        },
        "7760da9a003f43f3ba2c9d6b636077d9": {
          "model_module": "@jupyter-widgets/base",
          "model_name": "LayoutModel",
          "model_module_version": "1.2.0",
          "state": {
            "_model_module": "@jupyter-widgets/base",
            "_model_module_version": "1.2.0",
            "_model_name": "LayoutModel",
            "_view_count": null,
            "_view_module": "@jupyter-widgets/base",
            "_view_module_version": "1.2.0",
            "_view_name": "LayoutView",
            "align_content": null,
            "align_items": null,
            "align_self": null,
            "border": null,
            "bottom": null,
            "display": null,
            "flex": null,
            "flex_flow": null,
            "grid_area": null,
            "grid_auto_columns": null,
            "grid_auto_flow": null,
            "grid_auto_rows": null,
            "grid_column": null,
            "grid_gap": null,
            "grid_row": null,
            "grid_template_areas": null,
            "grid_template_columns": null,
            "grid_template_rows": null,
            "height": null,
            "justify_content": null,
            "justify_items": null,
            "left": null,
            "margin": null,
            "max_height": null,
            "max_width": null,
            "min_height": null,
            "min_width": null,
            "object_fit": null,
            "object_position": null,
            "order": null,
            "overflow": null,
            "overflow_x": null,
            "overflow_y": null,
            "padding": null,
            "right": null,
            "top": null,
            "visibility": null,
            "width": null
          }
        },
        "fb60b40b67ea41aab0f9dc77a2cd6fab": {
          "model_module": "@jupyter-widgets/controls",
          "model_name": "ProgressStyleModel",
          "model_module_version": "1.5.0",
          "state": {
            "_model_module": "@jupyter-widgets/controls",
            "_model_module_version": "1.5.0",
            "_model_name": "ProgressStyleModel",
            "_view_count": null,
            "_view_module": "@jupyter-widgets/base",
            "_view_module_version": "1.2.0",
            "_view_name": "StyleView",
            "bar_color": null,
            "description_width": ""
          }
        },
        "634158dcd0fb43078d3144d3d9cb11ef": {
          "model_module": "@jupyter-widgets/base",
          "model_name": "LayoutModel",
          "model_module_version": "1.2.0",
          "state": {
            "_model_module": "@jupyter-widgets/base",
            "_model_module_version": "1.2.0",
            "_model_name": "LayoutModel",
            "_view_count": null,
            "_view_module": "@jupyter-widgets/base",
            "_view_module_version": "1.2.0",
            "_view_name": "LayoutView",
            "align_content": null,
            "align_items": null,
            "align_self": null,
            "border": null,
            "bottom": null,
            "display": null,
            "flex": null,
            "flex_flow": null,
            "grid_area": null,
            "grid_auto_columns": null,
            "grid_auto_flow": null,
            "grid_auto_rows": null,
            "grid_column": null,
            "grid_gap": null,
            "grid_row": null,
            "grid_template_areas": null,
            "grid_template_columns": null,
            "grid_template_rows": null,
            "height": null,
            "justify_content": null,
            "justify_items": null,
            "left": null,
            "margin": null,
            "max_height": null,
            "max_width": null,
            "min_height": null,
            "min_width": null,
            "object_fit": null,
            "object_position": null,
            "order": null,
            "overflow": null,
            "overflow_x": null,
            "overflow_y": null,
            "padding": null,
            "right": null,
            "top": null,
            "visibility": null,
            "width": null
          }
        },
        "0f0ba68f77d4412492d732b91086d494": {
          "model_module": "@jupyter-widgets/controls",
          "model_name": "DescriptionStyleModel",
          "model_module_version": "1.5.0",
          "state": {
            "_model_module": "@jupyter-widgets/controls",
            "_model_module_version": "1.5.0",
            "_model_name": "DescriptionStyleModel",
            "_view_count": null,
            "_view_module": "@jupyter-widgets/base",
            "_view_module_version": "1.2.0",
            "_view_name": "StyleView",
            "description_width": ""
          }
        },
        "8e29ec40e9e7432ebf80e9aab42b2df9": {
          "model_module": "@jupyter-widgets/controls",
          "model_name": "HBoxModel",
          "model_module_version": "1.5.0",
          "state": {
            "_dom_classes": [],
            "_model_module": "@jupyter-widgets/controls",
            "_model_module_version": "1.5.0",
            "_model_name": "HBoxModel",
            "_view_count": null,
            "_view_module": "@jupyter-widgets/controls",
            "_view_module_version": "1.5.0",
            "_view_name": "HBoxView",
            "box_style": "",
            "children": [
              "IPY_MODEL_b4cf69d030f04ab29acb2d36403194db",
              "IPY_MODEL_73d4b8585f2c43adbf1dfea1155ae273",
              "IPY_MODEL_d68a8a622aff4028be89c790c1900880"
            ],
            "layout": "IPY_MODEL_e6336ef8d972461c91258271f62effbc"
          }
        },
        "b4cf69d030f04ab29acb2d36403194db": {
          "model_module": "@jupyter-widgets/controls",
          "model_name": "HTMLModel",
          "model_module_version": "1.5.0",
          "state": {
            "_dom_classes": [],
            "_model_module": "@jupyter-widgets/controls",
            "_model_module_version": "1.5.0",
            "_model_name": "HTMLModel",
            "_view_count": null,
            "_view_module": "@jupyter-widgets/controls",
            "_view_module_version": "1.5.0",
            "_view_name": "HTMLView",
            "description": "",
            "description_tooltip": null,
            "layout": "IPY_MODEL_64a508d092684c7486dc26bd7c668e69",
            "placeholder": "​",
            "style": "IPY_MODEL_81bbcf50e1314600b93ebfbd3cdc130d",
            "value": "100%"
          }
        },
        "73d4b8585f2c43adbf1dfea1155ae273": {
          "model_module": "@jupyter-widgets/controls",
          "model_name": "FloatProgressModel",
          "model_module_version": "1.5.0",
          "state": {
            "_dom_classes": [],
            "_model_module": "@jupyter-widgets/controls",
            "_model_module_version": "1.5.0",
            "_model_name": "FloatProgressModel",
            "_view_count": null,
            "_view_module": "@jupyter-widgets/controls",
            "_view_module_version": "1.5.0",
            "_view_name": "ProgressView",
            "bar_style": "success",
            "description": "",
            "description_tooltip": null,
            "layout": "IPY_MODEL_f26c74c24cef4145b215518cb09ab058",
            "max": 8,
            "min": 0,
            "orientation": "horizontal",
            "style": "IPY_MODEL_f7a5367b7d5c4f69a8ae0dbfa367e41a",
            "value": 8
          }
        },
        "d68a8a622aff4028be89c790c1900880": {
          "model_module": "@jupyter-widgets/controls",
          "model_name": "HTMLModel",
          "model_module_version": "1.5.0",
          "state": {
            "_dom_classes": [],
            "_model_module": "@jupyter-widgets/controls",
            "_model_module_version": "1.5.0",
            "_model_name": "HTMLModel",
            "_view_count": null,
            "_view_module": "@jupyter-widgets/controls",
            "_view_module_version": "1.5.0",
            "_view_name": "HTMLView",
            "description": "",
            "description_tooltip": null,
            "layout": "IPY_MODEL_d36be6c9b3f84d12bb2667e4ff1296bf",
            "placeholder": "​",
            "style": "IPY_MODEL_b01af7014a954309b299462fcc842ff3",
            "value": " 8/8 [00:23&lt;00:00,  2.87s/it]"
          }
        },
        "e6336ef8d972461c91258271f62effbc": {
          "model_module": "@jupyter-widgets/base",
          "model_name": "LayoutModel",
          "model_module_version": "1.2.0",
          "state": {
            "_model_module": "@jupyter-widgets/base",
            "_model_module_version": "1.2.0",
            "_model_name": "LayoutModel",
            "_view_count": null,
            "_view_module": "@jupyter-widgets/base",
            "_view_module_version": "1.2.0",
            "_view_name": "LayoutView",
            "align_content": null,
            "align_items": null,
            "align_self": null,
            "border": null,
            "bottom": null,
            "display": null,
            "flex": null,
            "flex_flow": null,
            "grid_area": null,
            "grid_auto_columns": null,
            "grid_auto_flow": null,
            "grid_auto_rows": null,
            "grid_column": null,
            "grid_gap": null,
            "grid_row": null,
            "grid_template_areas": null,
            "grid_template_columns": null,
            "grid_template_rows": null,
            "height": null,
            "justify_content": null,
            "justify_items": null,
            "left": null,
            "margin": null,
            "max_height": null,
            "max_width": null,
            "min_height": null,
            "min_width": null,
            "object_fit": null,
            "object_position": null,
            "order": null,
            "overflow": null,
            "overflow_x": null,
            "overflow_y": null,
            "padding": null,
            "right": null,
            "top": null,
            "visibility": null,
            "width": null
          }
        },
        "64a508d092684c7486dc26bd7c668e69": {
          "model_module": "@jupyter-widgets/base",
          "model_name": "LayoutModel",
          "model_module_version": "1.2.0",
          "state": {
            "_model_module": "@jupyter-widgets/base",
            "_model_module_version": "1.2.0",
            "_model_name": "LayoutModel",
            "_view_count": null,
            "_view_module": "@jupyter-widgets/base",
            "_view_module_version": "1.2.0",
            "_view_name": "LayoutView",
            "align_content": null,
            "align_items": null,
            "align_self": null,
            "border": null,
            "bottom": null,
            "display": null,
            "flex": null,
            "flex_flow": null,
            "grid_area": null,
            "grid_auto_columns": null,
            "grid_auto_flow": null,
            "grid_auto_rows": null,
            "grid_column": null,
            "grid_gap": null,
            "grid_row": null,
            "grid_template_areas": null,
            "grid_template_columns": null,
            "grid_template_rows": null,
            "height": null,
            "justify_content": null,
            "justify_items": null,
            "left": null,
            "margin": null,
            "max_height": null,
            "max_width": null,
            "min_height": null,
            "min_width": null,
            "object_fit": null,
            "object_position": null,
            "order": null,
            "overflow": null,
            "overflow_x": null,
            "overflow_y": null,
            "padding": null,
            "right": null,
            "top": null,
            "visibility": null,
            "width": null
          }
        },
        "81bbcf50e1314600b93ebfbd3cdc130d": {
          "model_module": "@jupyter-widgets/controls",
          "model_name": "DescriptionStyleModel",
          "model_module_version": "1.5.0",
          "state": {
            "_model_module": "@jupyter-widgets/controls",
            "_model_module_version": "1.5.0",
            "_model_name": "DescriptionStyleModel",
            "_view_count": null,
            "_view_module": "@jupyter-widgets/base",
            "_view_module_version": "1.2.0",
            "_view_name": "StyleView",
            "description_width": ""
          }
        },
        "f26c74c24cef4145b215518cb09ab058": {
          "model_module": "@jupyter-widgets/base",
          "model_name": "LayoutModel",
          "model_module_version": "1.2.0",
          "state": {
            "_model_module": "@jupyter-widgets/base",
            "_model_module_version": "1.2.0",
            "_model_name": "LayoutModel",
            "_view_count": null,
            "_view_module": "@jupyter-widgets/base",
            "_view_module_version": "1.2.0",
            "_view_name": "LayoutView",
            "align_content": null,
            "align_items": null,
            "align_self": null,
            "border": null,
            "bottom": null,
            "display": null,
            "flex": null,
            "flex_flow": null,
            "grid_area": null,
            "grid_auto_columns": null,
            "grid_auto_flow": null,
            "grid_auto_rows": null,
            "grid_column": null,
            "grid_gap": null,
            "grid_row": null,
            "grid_template_areas": null,
            "grid_template_columns": null,
            "grid_template_rows": null,
            "height": null,
            "justify_content": null,
            "justify_items": null,
            "left": null,
            "margin": null,
            "max_height": null,
            "max_width": null,
            "min_height": null,
            "min_width": null,
            "object_fit": null,
            "object_position": null,
            "order": null,
            "overflow": null,
            "overflow_x": null,
            "overflow_y": null,
            "padding": null,
            "right": null,
            "top": null,
            "visibility": null,
            "width": null
          }
        },
        "f7a5367b7d5c4f69a8ae0dbfa367e41a": {
          "model_module": "@jupyter-widgets/controls",
          "model_name": "ProgressStyleModel",
          "model_module_version": "1.5.0",
          "state": {
            "_model_module": "@jupyter-widgets/controls",
            "_model_module_version": "1.5.0",
            "_model_name": "ProgressStyleModel",
            "_view_count": null,
            "_view_module": "@jupyter-widgets/base",
            "_view_module_version": "1.2.0",
            "_view_name": "StyleView",
            "bar_color": null,
            "description_width": ""
          }
        },
        "d36be6c9b3f84d12bb2667e4ff1296bf": {
          "model_module": "@jupyter-widgets/base",
          "model_name": "LayoutModel",
          "model_module_version": "1.2.0",
          "state": {
            "_model_module": "@jupyter-widgets/base",
            "_model_module_version": "1.2.0",
            "_model_name": "LayoutModel",
            "_view_count": null,
            "_view_module": "@jupyter-widgets/base",
            "_view_module_version": "1.2.0",
            "_view_name": "LayoutView",
            "align_content": null,
            "align_items": null,
            "align_self": null,
            "border": null,
            "bottom": null,
            "display": null,
            "flex": null,
            "flex_flow": null,
            "grid_area": null,
            "grid_auto_columns": null,
            "grid_auto_flow": null,
            "grid_auto_rows": null,
            "grid_column": null,
            "grid_gap": null,
            "grid_row": null,
            "grid_template_areas": null,
            "grid_template_columns": null,
            "grid_template_rows": null,
            "height": null,
            "justify_content": null,
            "justify_items": null,
            "left": null,
            "margin": null,
            "max_height": null,
            "max_width": null,
            "min_height": null,
            "min_width": null,
            "object_fit": null,
            "object_position": null,
            "order": null,
            "overflow": null,
            "overflow_x": null,
            "overflow_y": null,
            "padding": null,
            "right": null,
            "top": null,
            "visibility": null,
            "width": null
          }
        },
        "b01af7014a954309b299462fcc842ff3": {
          "model_module": "@jupyter-widgets/controls",
          "model_name": "DescriptionStyleModel",
          "model_module_version": "1.5.0",
          "state": {
            "_model_module": "@jupyter-widgets/controls",
            "_model_module_version": "1.5.0",
            "_model_name": "DescriptionStyleModel",
            "_view_count": null,
            "_view_module": "@jupyter-widgets/base",
            "_view_module_version": "1.2.0",
            "_view_name": "StyleView",
            "description_width": ""
          }
        },
        "d239d8f8bdd44cabaae909a94529cf99": {
          "model_module": "@jupyter-widgets/controls",
          "model_name": "HBoxModel",
          "model_module_version": "1.5.0",
          "state": {
            "_dom_classes": [],
            "_model_module": "@jupyter-widgets/controls",
            "_model_module_version": "1.5.0",
            "_model_name": "HBoxModel",
            "_view_count": null,
            "_view_module": "@jupyter-widgets/controls",
            "_view_module_version": "1.5.0",
            "_view_name": "HBoxView",
            "box_style": "",
            "children": [
              "IPY_MODEL_160a38b323d64c3580377d0ff964241d",
              "IPY_MODEL_fcd0e54878d54e19ba80027d588c3784",
              "IPY_MODEL_e9df5b298d6b46e2b2ab23a03a1df025"
            ],
            "layout": "IPY_MODEL_4ecf08a9b8f8499e8c69056aa0e8e572"
          }
        },
        "160a38b323d64c3580377d0ff964241d": {
          "model_module": "@jupyter-widgets/controls",
          "model_name": "HTMLModel",
          "model_module_version": "1.5.0",
          "state": {
            "_dom_classes": [],
            "_model_module": "@jupyter-widgets/controls",
            "_model_module_version": "1.5.0",
            "_model_name": "HTMLModel",
            "_view_count": null,
            "_view_module": "@jupyter-widgets/controls",
            "_view_module_version": "1.5.0",
            "_view_name": "HTMLView",
            "description": "",
            "description_tooltip": null,
            "layout": "IPY_MODEL_595686d1e4ac47248b22cfff259a3c49",
            "placeholder": "​",
            "style": "IPY_MODEL_70e94599035441b8947bb74c9572d9c5",
            "value": "100%"
          }
        },
        "fcd0e54878d54e19ba80027d588c3784": {
          "model_module": "@jupyter-widgets/controls",
          "model_name": "FloatProgressModel",
          "model_module_version": "1.5.0",
          "state": {
            "_dom_classes": [],
            "_model_module": "@jupyter-widgets/controls",
            "_model_module_version": "1.5.0",
            "_model_name": "FloatProgressModel",
            "_view_count": null,
            "_view_module": "@jupyter-widgets/controls",
            "_view_module_version": "1.5.0",
            "_view_name": "ProgressView",
            "bar_style": "success",
            "description": "",
            "description_tooltip": null,
            "layout": "IPY_MODEL_47cafa9292c14328ad709eda96d48072",
            "max": 8,
            "min": 0,
            "orientation": "horizontal",
            "style": "IPY_MODEL_4cac9583f6e44e9189dbeb33180e3832",
            "value": 8
          }
        },
        "e9df5b298d6b46e2b2ab23a03a1df025": {
          "model_module": "@jupyter-widgets/controls",
          "model_name": "HTMLModel",
          "model_module_version": "1.5.0",
          "state": {
            "_dom_classes": [],
            "_model_module": "@jupyter-widgets/controls",
            "_model_module_version": "1.5.0",
            "_model_name": "HTMLModel",
            "_view_count": null,
            "_view_module": "@jupyter-widgets/controls",
            "_view_module_version": "1.5.0",
            "_view_name": "HTMLView",
            "description": "",
            "description_tooltip": null,
            "layout": "IPY_MODEL_de850b139e1d4dc88e035388e60408e0",
            "placeholder": "​",
            "style": "IPY_MODEL_c83aad2dedde484fbcdd381670e8c65a",
            "value": " 8/8 [00:21&lt;00:00,  2.71s/it]"
          }
        },
        "4ecf08a9b8f8499e8c69056aa0e8e572": {
          "model_module": "@jupyter-widgets/base",
          "model_name": "LayoutModel",
          "model_module_version": "1.2.0",
          "state": {
            "_model_module": "@jupyter-widgets/base",
            "_model_module_version": "1.2.0",
            "_model_name": "LayoutModel",
            "_view_count": null,
            "_view_module": "@jupyter-widgets/base",
            "_view_module_version": "1.2.0",
            "_view_name": "LayoutView",
            "align_content": null,
            "align_items": null,
            "align_self": null,
            "border": null,
            "bottom": null,
            "display": null,
            "flex": null,
            "flex_flow": null,
            "grid_area": null,
            "grid_auto_columns": null,
            "grid_auto_flow": null,
            "grid_auto_rows": null,
            "grid_column": null,
            "grid_gap": null,
            "grid_row": null,
            "grid_template_areas": null,
            "grid_template_columns": null,
            "grid_template_rows": null,
            "height": null,
            "justify_content": null,
            "justify_items": null,
            "left": null,
            "margin": null,
            "max_height": null,
            "max_width": null,
            "min_height": null,
            "min_width": null,
            "object_fit": null,
            "object_position": null,
            "order": null,
            "overflow": null,
            "overflow_x": null,
            "overflow_y": null,
            "padding": null,
            "right": null,
            "top": null,
            "visibility": null,
            "width": null
          }
        },
        "595686d1e4ac47248b22cfff259a3c49": {
          "model_module": "@jupyter-widgets/base",
          "model_name": "LayoutModel",
          "model_module_version": "1.2.0",
          "state": {
            "_model_module": "@jupyter-widgets/base",
            "_model_module_version": "1.2.0",
            "_model_name": "LayoutModel",
            "_view_count": null,
            "_view_module": "@jupyter-widgets/base",
            "_view_module_version": "1.2.0",
            "_view_name": "LayoutView",
            "align_content": null,
            "align_items": null,
            "align_self": null,
            "border": null,
            "bottom": null,
            "display": null,
            "flex": null,
            "flex_flow": null,
            "grid_area": null,
            "grid_auto_columns": null,
            "grid_auto_flow": null,
            "grid_auto_rows": null,
            "grid_column": null,
            "grid_gap": null,
            "grid_row": null,
            "grid_template_areas": null,
            "grid_template_columns": null,
            "grid_template_rows": null,
            "height": null,
            "justify_content": null,
            "justify_items": null,
            "left": null,
            "margin": null,
            "max_height": null,
            "max_width": null,
            "min_height": null,
            "min_width": null,
            "object_fit": null,
            "object_position": null,
            "order": null,
            "overflow": null,
            "overflow_x": null,
            "overflow_y": null,
            "padding": null,
            "right": null,
            "top": null,
            "visibility": null,
            "width": null
          }
        },
        "70e94599035441b8947bb74c9572d9c5": {
          "model_module": "@jupyter-widgets/controls",
          "model_name": "DescriptionStyleModel",
          "model_module_version": "1.5.0",
          "state": {
            "_model_module": "@jupyter-widgets/controls",
            "_model_module_version": "1.5.0",
            "_model_name": "DescriptionStyleModel",
            "_view_count": null,
            "_view_module": "@jupyter-widgets/base",
            "_view_module_version": "1.2.0",
            "_view_name": "StyleView",
            "description_width": ""
          }
        },
        "47cafa9292c14328ad709eda96d48072": {
          "model_module": "@jupyter-widgets/base",
          "model_name": "LayoutModel",
          "model_module_version": "1.2.0",
          "state": {
            "_model_module": "@jupyter-widgets/base",
            "_model_module_version": "1.2.0",
            "_model_name": "LayoutModel",
            "_view_count": null,
            "_view_module": "@jupyter-widgets/base",
            "_view_module_version": "1.2.0",
            "_view_name": "LayoutView",
            "align_content": null,
            "align_items": null,
            "align_self": null,
            "border": null,
            "bottom": null,
            "display": null,
            "flex": null,
            "flex_flow": null,
            "grid_area": null,
            "grid_auto_columns": null,
            "grid_auto_flow": null,
            "grid_auto_rows": null,
            "grid_column": null,
            "grid_gap": null,
            "grid_row": null,
            "grid_template_areas": null,
            "grid_template_columns": null,
            "grid_template_rows": null,
            "height": null,
            "justify_content": null,
            "justify_items": null,
            "left": null,
            "margin": null,
            "max_height": null,
            "max_width": null,
            "min_height": null,
            "min_width": null,
            "object_fit": null,
            "object_position": null,
            "order": null,
            "overflow": null,
            "overflow_x": null,
            "overflow_y": null,
            "padding": null,
            "right": null,
            "top": null,
            "visibility": null,
            "width": null
          }
        },
        "4cac9583f6e44e9189dbeb33180e3832": {
          "model_module": "@jupyter-widgets/controls",
          "model_name": "ProgressStyleModel",
          "model_module_version": "1.5.0",
          "state": {
            "_model_module": "@jupyter-widgets/controls",
            "_model_module_version": "1.5.0",
            "_model_name": "ProgressStyleModel",
            "_view_count": null,
            "_view_module": "@jupyter-widgets/base",
            "_view_module_version": "1.2.0",
            "_view_name": "StyleView",
            "bar_color": null,
            "description_width": ""
          }
        },
        "de850b139e1d4dc88e035388e60408e0": {
          "model_module": "@jupyter-widgets/base",
          "model_name": "LayoutModel",
          "model_module_version": "1.2.0",
          "state": {
            "_model_module": "@jupyter-widgets/base",
            "_model_module_version": "1.2.0",
            "_model_name": "LayoutModel",
            "_view_count": null,
            "_view_module": "@jupyter-widgets/base",
            "_view_module_version": "1.2.0",
            "_view_name": "LayoutView",
            "align_content": null,
            "align_items": null,
            "align_self": null,
            "border": null,
            "bottom": null,
            "display": null,
            "flex": null,
            "flex_flow": null,
            "grid_area": null,
            "grid_auto_columns": null,
            "grid_auto_flow": null,
            "grid_auto_rows": null,
            "grid_column": null,
            "grid_gap": null,
            "grid_row": null,
            "grid_template_areas": null,
            "grid_template_columns": null,
            "grid_template_rows": null,
            "height": null,
            "justify_content": null,
            "justify_items": null,
            "left": null,
            "margin": null,
            "max_height": null,
            "max_width": null,
            "min_height": null,
            "min_width": null,
            "object_fit": null,
            "object_position": null,
            "order": null,
            "overflow": null,
            "overflow_x": null,
            "overflow_y": null,
            "padding": null,
            "right": null,
            "top": null,
            "visibility": null,
            "width": null
          }
        },
        "c83aad2dedde484fbcdd381670e8c65a": {
          "model_module": "@jupyter-widgets/controls",
          "model_name": "DescriptionStyleModel",
          "model_module_version": "1.5.0",
          "state": {
            "_model_module": "@jupyter-widgets/controls",
            "_model_module_version": "1.5.0",
            "_model_name": "DescriptionStyleModel",
            "_view_count": null,
            "_view_module": "@jupyter-widgets/base",
            "_view_module_version": "1.2.0",
            "_view_name": "StyleView",
            "description_width": ""
          }
        }
      }
    }
  },
  "cells": [
    {
      "cell_type": "markdown",
      "metadata": {
        "id": "view-in-github",
        "colab_type": "text"
      },
      "source": [
        "<a href=\"https://colab.research.google.com/github/Frostbite22/learning-DL-by-doing-1/blob/main/project.ipynb\" target=\"_parent\"><img src=\"https://colab.research.google.com/assets/colab-badge.svg\" alt=\"Open In Colab\"/></a>"
      ]
    },
    {
      "cell_type": "code",
      "execution_count": 4,
      "metadata": {
        "id": "LuYZFU2gHm3k"
      },
      "outputs": [],
      "source": [
        "import torch \n",
        "from torch import nn"
      ]
    },
    {
      "cell_type": "code",
      "source": [
        "device = 'cuda' if torch.cuda.is_available() else 'cpu'"
      ],
      "metadata": {
        "id": "tBQrFN4kRSZS"
      },
      "execution_count": 5,
      "outputs": []
    },
    {
      "cell_type": "code",
      "source": [
        "from google.colab import drive\n",
        "  \n",
        "drive.mount('/content/drive')\n",
        "import os\n",
        "os.chdir(\"/content/drive/MyDrive/PyTorch/learning_DL/\")"
      ],
      "metadata": {
        "colab": {
          "base_uri": "https://localhost:8080/"
        },
        "id": "w22rRQDJUWrX",
        "outputId": "64fa132b-3ff1-4c4d-d7ef-052372aae4c0"
      },
      "execution_count": 6,
      "outputs": [
        {
          "output_type": "stream",
          "name": "stdout",
          "text": [
            "Mounted at /content/drive\n"
          ]
        }
      ]
    },
    {
      "cell_type": "code",
      "source": [
        "import zipfile \n",
        "\n",
        "with zipfile.ZipFile('archive.zip','r') as zip_ref:\n",
        "  zip_ref.extractall()"
      ],
      "metadata": {
        "id": "wGMu7Q0mSSNY"
      },
      "execution_count": 7,
      "outputs": []
    },
    {
      "cell_type": "code",
      "source": [
        "path = os.getcwd()\n",
        "path"
      ],
      "metadata": {
        "colab": {
          "base_uri": "https://localhost:8080/",
          "height": 35
        },
        "id": "suDcbrtiU0Ez",
        "outputId": "e6a748e8-14b4-41a7-a48e-fdb0ecad9ae4"
      },
      "execution_count": 8,
      "outputs": [
        {
          "output_type": "execute_result",
          "data": {
            "text/plain": [
              "'/content/drive/MyDrive/PyTorch/learning_DL'"
            ],
            "application/vnd.google.colaboratory.intrinsic+json": {
              "type": "string"
            }
          },
          "metadata": {},
          "execution_count": 8
        }
      ]
    },
    {
      "cell_type": "code",
      "source": [
        "import numpy as np\n",
        "import pandas as pd\n",
        "\n",
        "train_df = pd.read_csv('sign_mnist_train.csv')\n",
        "test_df = pd.read_csv(\"sign_mnist_test.csv\")\n"
      ],
      "metadata": {
        "id": "TUSCYhsZOpOY"
      },
      "execution_count": 9,
      "outputs": []
    },
    {
      "cell_type": "code",
      "source": [
        "train_df.head()"
      ],
      "metadata": {
        "colab": {
          "base_uri": "https://localhost:8080/",
          "height": 300
        },
        "id": "YgK0WZdOonWB",
        "outputId": "797f0da4-1954-4917-ab91-87a675c1b06c"
      },
      "execution_count": 10,
      "outputs": [
        {
          "output_type": "execute_result",
          "data": {
            "text/plain": [
              "   label  pixel1  pixel2  pixel3  pixel4  pixel5  pixel6  pixel7  pixel8  \\\n",
              "0      3     107     118     127     134     139     143     146     150   \n",
              "1      6     155     157     156     156     156     157     156     158   \n",
              "2      2     187     188     188     187     187     186     187     188   \n",
              "3      2     211     211     212     212     211     210     211     210   \n",
              "4     13     164     167     170     172     176     179     180     184   \n",
              "\n",
              "   pixel9  ...  pixel775  pixel776  pixel777  pixel778  pixel779  pixel780  \\\n",
              "0     153  ...       207       207       207       207       206       206   \n",
              "1     158  ...        69       149       128        87        94       163   \n",
              "2     187  ...       202       201       200       199       198       199   \n",
              "3     210  ...       235       234       233       231       230       226   \n",
              "4     185  ...        92       105       105       108       133       163   \n",
              "\n",
              "   pixel781  pixel782  pixel783  pixel784  \n",
              "0       206       204       203       202  \n",
              "1       175       103       135       149  \n",
              "2       198       195       194       195  \n",
              "3       225       222       229       163  \n",
              "4       157       163       164       179  \n",
              "\n",
              "[5 rows x 785 columns]"
            ],
            "text/html": [
              "\n",
              "  <div id=\"df-6dcb6f6b-1160-4ef9-bf25-5325ab4c2f40\">\n",
              "    <div class=\"colab-df-container\">\n",
              "      <div>\n",
              "<style scoped>\n",
              "    .dataframe tbody tr th:only-of-type {\n",
              "        vertical-align: middle;\n",
              "    }\n",
              "\n",
              "    .dataframe tbody tr th {\n",
              "        vertical-align: top;\n",
              "    }\n",
              "\n",
              "    .dataframe thead th {\n",
              "        text-align: right;\n",
              "    }\n",
              "</style>\n",
              "<table border=\"1\" class=\"dataframe\">\n",
              "  <thead>\n",
              "    <tr style=\"text-align: right;\">\n",
              "      <th></th>\n",
              "      <th>label</th>\n",
              "      <th>pixel1</th>\n",
              "      <th>pixel2</th>\n",
              "      <th>pixel3</th>\n",
              "      <th>pixel4</th>\n",
              "      <th>pixel5</th>\n",
              "      <th>pixel6</th>\n",
              "      <th>pixel7</th>\n",
              "      <th>pixel8</th>\n",
              "      <th>pixel9</th>\n",
              "      <th>...</th>\n",
              "      <th>pixel775</th>\n",
              "      <th>pixel776</th>\n",
              "      <th>pixel777</th>\n",
              "      <th>pixel778</th>\n",
              "      <th>pixel779</th>\n",
              "      <th>pixel780</th>\n",
              "      <th>pixel781</th>\n",
              "      <th>pixel782</th>\n",
              "      <th>pixel783</th>\n",
              "      <th>pixel784</th>\n",
              "    </tr>\n",
              "  </thead>\n",
              "  <tbody>\n",
              "    <tr>\n",
              "      <th>0</th>\n",
              "      <td>3</td>\n",
              "      <td>107</td>\n",
              "      <td>118</td>\n",
              "      <td>127</td>\n",
              "      <td>134</td>\n",
              "      <td>139</td>\n",
              "      <td>143</td>\n",
              "      <td>146</td>\n",
              "      <td>150</td>\n",
              "      <td>153</td>\n",
              "      <td>...</td>\n",
              "      <td>207</td>\n",
              "      <td>207</td>\n",
              "      <td>207</td>\n",
              "      <td>207</td>\n",
              "      <td>206</td>\n",
              "      <td>206</td>\n",
              "      <td>206</td>\n",
              "      <td>204</td>\n",
              "      <td>203</td>\n",
              "      <td>202</td>\n",
              "    </tr>\n",
              "    <tr>\n",
              "      <th>1</th>\n",
              "      <td>6</td>\n",
              "      <td>155</td>\n",
              "      <td>157</td>\n",
              "      <td>156</td>\n",
              "      <td>156</td>\n",
              "      <td>156</td>\n",
              "      <td>157</td>\n",
              "      <td>156</td>\n",
              "      <td>158</td>\n",
              "      <td>158</td>\n",
              "      <td>...</td>\n",
              "      <td>69</td>\n",
              "      <td>149</td>\n",
              "      <td>128</td>\n",
              "      <td>87</td>\n",
              "      <td>94</td>\n",
              "      <td>163</td>\n",
              "      <td>175</td>\n",
              "      <td>103</td>\n",
              "      <td>135</td>\n",
              "      <td>149</td>\n",
              "    </tr>\n",
              "    <tr>\n",
              "      <th>2</th>\n",
              "      <td>2</td>\n",
              "      <td>187</td>\n",
              "      <td>188</td>\n",
              "      <td>188</td>\n",
              "      <td>187</td>\n",
              "      <td>187</td>\n",
              "      <td>186</td>\n",
              "      <td>187</td>\n",
              "      <td>188</td>\n",
              "      <td>187</td>\n",
              "      <td>...</td>\n",
              "      <td>202</td>\n",
              "      <td>201</td>\n",
              "      <td>200</td>\n",
              "      <td>199</td>\n",
              "      <td>198</td>\n",
              "      <td>199</td>\n",
              "      <td>198</td>\n",
              "      <td>195</td>\n",
              "      <td>194</td>\n",
              "      <td>195</td>\n",
              "    </tr>\n",
              "    <tr>\n",
              "      <th>3</th>\n",
              "      <td>2</td>\n",
              "      <td>211</td>\n",
              "      <td>211</td>\n",
              "      <td>212</td>\n",
              "      <td>212</td>\n",
              "      <td>211</td>\n",
              "      <td>210</td>\n",
              "      <td>211</td>\n",
              "      <td>210</td>\n",
              "      <td>210</td>\n",
              "      <td>...</td>\n",
              "      <td>235</td>\n",
              "      <td>234</td>\n",
              "      <td>233</td>\n",
              "      <td>231</td>\n",
              "      <td>230</td>\n",
              "      <td>226</td>\n",
              "      <td>225</td>\n",
              "      <td>222</td>\n",
              "      <td>229</td>\n",
              "      <td>163</td>\n",
              "    </tr>\n",
              "    <tr>\n",
              "      <th>4</th>\n",
              "      <td>13</td>\n",
              "      <td>164</td>\n",
              "      <td>167</td>\n",
              "      <td>170</td>\n",
              "      <td>172</td>\n",
              "      <td>176</td>\n",
              "      <td>179</td>\n",
              "      <td>180</td>\n",
              "      <td>184</td>\n",
              "      <td>185</td>\n",
              "      <td>...</td>\n",
              "      <td>92</td>\n",
              "      <td>105</td>\n",
              "      <td>105</td>\n",
              "      <td>108</td>\n",
              "      <td>133</td>\n",
              "      <td>163</td>\n",
              "      <td>157</td>\n",
              "      <td>163</td>\n",
              "      <td>164</td>\n",
              "      <td>179</td>\n",
              "    </tr>\n",
              "  </tbody>\n",
              "</table>\n",
              "<p>5 rows × 785 columns</p>\n",
              "</div>\n",
              "      <button class=\"colab-df-convert\" onclick=\"convertToInteractive('df-6dcb6f6b-1160-4ef9-bf25-5325ab4c2f40')\"\n",
              "              title=\"Convert this dataframe to an interactive table.\"\n",
              "              style=\"display:none;\">\n",
              "        \n",
              "  <svg xmlns=\"http://www.w3.org/2000/svg\" height=\"24px\"viewBox=\"0 0 24 24\"\n",
              "       width=\"24px\">\n",
              "    <path d=\"M0 0h24v24H0V0z\" fill=\"none\"/>\n",
              "    <path d=\"M18.56 5.44l.94 2.06.94-2.06 2.06-.94-2.06-.94-.94-2.06-.94 2.06-2.06.94zm-11 1L8.5 8.5l.94-2.06 2.06-.94-2.06-.94L8.5 2.5l-.94 2.06-2.06.94zm10 10l.94 2.06.94-2.06 2.06-.94-2.06-.94-.94-2.06-.94 2.06-2.06.94z\"/><path d=\"M17.41 7.96l-1.37-1.37c-.4-.4-.92-.59-1.43-.59-.52 0-1.04.2-1.43.59L10.3 9.45l-7.72 7.72c-.78.78-.78 2.05 0 2.83L4 21.41c.39.39.9.59 1.41.59.51 0 1.02-.2 1.41-.59l7.78-7.78 2.81-2.81c.8-.78.8-2.07 0-2.86zM5.41 20L4 18.59l7.72-7.72 1.47 1.35L5.41 20z\"/>\n",
              "  </svg>\n",
              "      </button>\n",
              "      \n",
              "  <style>\n",
              "    .colab-df-container {\n",
              "      display:flex;\n",
              "      flex-wrap:wrap;\n",
              "      gap: 12px;\n",
              "    }\n",
              "\n",
              "    .colab-df-convert {\n",
              "      background-color: #E8F0FE;\n",
              "      border: none;\n",
              "      border-radius: 50%;\n",
              "      cursor: pointer;\n",
              "      display: none;\n",
              "      fill: #1967D2;\n",
              "      height: 32px;\n",
              "      padding: 0 0 0 0;\n",
              "      width: 32px;\n",
              "    }\n",
              "\n",
              "    .colab-df-convert:hover {\n",
              "      background-color: #E2EBFA;\n",
              "      box-shadow: 0px 1px 2px rgba(60, 64, 67, 0.3), 0px 1px 3px 1px rgba(60, 64, 67, 0.15);\n",
              "      fill: #174EA6;\n",
              "    }\n",
              "\n",
              "    [theme=dark] .colab-df-convert {\n",
              "      background-color: #3B4455;\n",
              "      fill: #D2E3FC;\n",
              "    }\n",
              "\n",
              "    [theme=dark] .colab-df-convert:hover {\n",
              "      background-color: #434B5C;\n",
              "      box-shadow: 0px 1px 3px 1px rgba(0, 0, 0, 0.15);\n",
              "      filter: drop-shadow(0px 1px 2px rgba(0, 0, 0, 0.3));\n",
              "      fill: #FFFFFF;\n",
              "    }\n",
              "  </style>\n",
              "\n",
              "      <script>\n",
              "        const buttonEl =\n",
              "          document.querySelector('#df-6dcb6f6b-1160-4ef9-bf25-5325ab4c2f40 button.colab-df-convert');\n",
              "        buttonEl.style.display =\n",
              "          google.colab.kernel.accessAllowed ? 'block' : 'none';\n",
              "\n",
              "        async function convertToInteractive(key) {\n",
              "          const element = document.querySelector('#df-6dcb6f6b-1160-4ef9-bf25-5325ab4c2f40');\n",
              "          const dataTable =\n",
              "            await google.colab.kernel.invokeFunction('convertToInteractive',\n",
              "                                                     [key], {});\n",
              "          if (!dataTable) return;\n",
              "\n",
              "          const docLinkHtml = 'Like what you see? Visit the ' +\n",
              "            '<a target=\"_blank\" href=https://colab.research.google.com/notebooks/data_table.ipynb>data table notebook</a>'\n",
              "            + ' to learn more about interactive tables.';\n",
              "          element.innerHTML = '';\n",
              "          dataTable['output_type'] = 'display_data';\n",
              "          await google.colab.output.renderOutput(dataTable, element);\n",
              "          const docLink = document.createElement('div');\n",
              "          docLink.innerHTML = docLinkHtml;\n",
              "          element.appendChild(docLink);\n",
              "        }\n",
              "      </script>\n",
              "    </div>\n",
              "  </div>\n",
              "  "
            ]
          },
          "metadata": {},
          "execution_count": 10
        }
      ]
    },
    {
      "cell_type": "code",
      "source": [
        "for index,row in train_df.iterrows():\n",
        "  pixels = np.array(row[1:])\n",
        "  print(pixels.reshape(28,28).shape)\n",
        "  print(pixels)\n",
        "  break"
      ],
      "metadata": {
        "colab": {
          "base_uri": "https://localhost:8080/"
        },
        "id": "0R5LH_OCYMEL",
        "outputId": "390a7c43-28d3-4ef7-b7c8-8a3f062bd2ad"
      },
      "execution_count": 11,
      "outputs": [
        {
          "output_type": "stream",
          "name": "stdout",
          "text": [
            "(28, 28)\n",
            "[107 118 127 134 139 143 146 150 153 156 158 160 163 165 159 166 168 170\n",
            " 170 171 171 171 172 171 171 170 170 169 111 121 129 135 141 144 148 151\n",
            " 154 157 160 163 164 170 119 152 171 171 170 171 172 172 172 172 172 171\n",
            " 171 170 113 123 131 137 142 145 150 152 155 158 161 163 164 172 105 142\n",
            " 170 171 171 171 172 172 173 173 172 171 171 171 116 125 133 139 143 146\n",
            " 151 153 156 159 162 163 167 167  95 144 171 172 172 172 172 172 173 173\n",
            " 173 172 172 171 117 126 134 140 145 149 153 156 158 161 163 164 175 156\n",
            "  87 154 172 173 173 173 173 173 174 174 174 173 172 172 119 128 136 142\n",
            " 146 150 153 156 159 163 165 164 184 148  89 164 172 174 174 174 174 175\n",
            " 175 174 175 174 173 173 122 130 138 143 147 150 154 158 162 165 166 172\n",
            " 181 128  94 170 173 175 174 175 176 177 177 177 177 175 175 174 122 132\n",
            " 139 145 149 152 156 160 163 165 166 181 172 103 113 175 176 178 178 179\n",
            " 179 179 179 178 179 177 175 174 125 134 141 147 150 153 157 161 164 167\n",
            " 168 184 179 116 126 165 176 179 180 180 181 180 180 180 179 178 177 176\n",
            " 128 135 142 148 152 154 158 162 165 168 170 187 180 156 161 124 143 179\n",
            " 178 178 181 182 181 180 181 180 179 179 129 136 144 150 153 155 159 163\n",
            " 166 169 172 187 184 153 102 117 110 175 169 154 182 183 183 182 182 181\n",
            " 181 179 131 138 145 150 155 157 161 165 168 174 190 189 175 146  94  97\n",
            " 113 151 158 129 184 184 184 184 183 183 182 180 131 139 146 151 155 159\n",
            " 163 167 175 182 179 171 159 114 102  89 121 136 136  96 172 186 186 185\n",
            " 185 184 182 181 131 140 147 154 157 160 164 179 186 191 187 180 157 100\n",
            "  88  84 108 111 126  90 120 186 187 187 186 185 184 182 133 141 149 155\n",
            " 158 160 174 201 189 165 151 143 146 120  87  78  87  76 108  98  96 181\n",
            " 188 187 186 186 185 183 133 141 150 156 160 161 179 197 174 135  99  72\n",
            "  95 134  97  72  74  68 116 105 108 187 189 187 187 186 186 185 134 143\n",
            " 151 156 161 163 179 194 156 110  74  42  52 139  94  67  75  75 118 106\n",
            " 129 189 191 190 188 188 187 186 135 144 152 158 163 163 177 193 161 122\n",
            "  84  43  71 134  81  57  71  88 112  98 157 193 193 192 190 190 189 188\n",
            " 136 144 152 158 162 163 176 192 164 128  98  62  60 100  71  76  96 101\n",
            " 105  95 174 195 194 194 194 193 191 190 137 145 152 159 164 165 178 191\n",
            " 164 135 113  82  59  87  98 111 120 108  97 108 190 196 195 195 194 193\n",
            " 193 192 139 146 154 160 164 165 175 186 163 139 112  85  67 102 126 133\n",
            " 126 105 104 176 197 198 197 196 195 195 194 193 138 147 155 161 165 167\n",
            " 172 186 163 137 107  87  76 106 122 125 117  96 156 199 199 200 198 196\n",
            " 196 195 195 194 139 148 156 163 166 168 172 180 158 131 108  99  86 108\n",
            " 118 116 103 107 191 202 201 200 200 200 199 197 198 196 140 149 157 164\n",
            " 168 167 177 178 155 131 118 105  87 100 106 100  96 164 202 202 202 202\n",
            " 202 201 200 199 199 198 140 150 157 165 167 170 181 175 152 130 115  98\n",
            "  82  85  90  99 165 202 203 204 203 203 202 202 201 201 200 200 142 150\n",
            " 159 165 170 191 173 157 144 119  97  84  79  79  91 172 202 203 203 205\n",
            " 204 204 204 203 202 202 201 200 142 151 160 165 188 190 187 150 119 109\n",
            "  85  79  79  78 137 203 205 206 206 207 207 206 206 204 205 204 203 202\n",
            " 142 151 160 172 196 188 188 190 135  96  86  77  77  79 176 205 207 207\n",
            " 207 207 207 207 206 206 206 204 203 202]\n"
          ]
        }
      ]
    },
    {
      "cell_type": "code",
      "source": [
        "# from PIL import Image\n",
        "# img = Image.open('/content/drive/MyDrive/PyTorch/learning_DL/images/img16_2.png')"
      ],
      "metadata": {
        "id": "th14xiL7XrV-"
      },
      "execution_count": 12,
      "outputs": []
    },
    {
      "cell_type": "code",
      "source": [
        "# img"
      ],
      "metadata": {
        "id": "pgdqsXH3w0Uj"
      },
      "execution_count": 13,
      "outputs": []
    },
    {
      "cell_type": "code",
      "source": [
        "classes = [\"A\", \"B\", \"C\", \"D\", \"E\", \"F\", \"G\", \"H\", \"I\", \"J\", \"K\", \"L\", \"M\", \"N\", \"O\", \"P\", \"Q\", \"R\", \"S\", \"T\", \"U\", \"V\", \"W\", \"X\", \"Y\", \"Z\"]"
      ],
      "metadata": {
        "id": "JVcbeX54Rjem"
      },
      "execution_count": 14,
      "outputs": []
    },
    {
      "cell_type": "code",
      "source": [
        "from PIL import Image\n",
        "from pathlib import Path \n",
        "from torchvision import transforms\n",
        "\n",
        "def csv_to_image_preprocessing(global_path,image_folder,dataframe):\n",
        "  #Setup path to a data folder \n",
        "  data_path = Path(global_path)\n",
        "  image_path = data_path / image_folder\n",
        "\n",
        "  #If the image folder doesn't exist, download it and prepare it \n",
        "  if image_path.is_dir():\n",
        "    print(f\"{image_path} directory already exists\")\n",
        "  else: \n",
        "    print(f\"{image_path} does not exist, creating one\")\n",
        "    image_path.mkdir(parents=True,exist_ok=True)\n",
        "\n",
        "\n",
        "  counter = dict()\n",
        "  dataset = []\n",
        "  is_empty = True \n",
        "  if not os.listdir(image_path):\n",
        "    pass\n",
        "  else:\n",
        "      is_empty = False\n",
        "\n",
        "\n",
        "  for index,row in dataframe.iterrows(): \n",
        "      pixels = np.array(row[1:],dtype=np.uint8)\n",
        "      pixels = np.reshape(pixels,(28,28))\n",
        "      image = Image.fromarray(pixels)\n",
        "      label = row[0]\n",
        "      \n",
        "      image_transform = transforms.Compose([transforms.ToTensor()])\n",
        "      dataset.append((image_transform(image),label))\n",
        "\n",
        "      if label not in counter:\n",
        "          counter[label] = 0\n",
        "      counter[label] += 1\n",
        "      \n",
        "      if is_empty: \n",
        "        filename = 'img{}_{}.png'.format(label, counter[label])\n",
        "        image.save(image_path/filename)\n",
        "        print('saved:', image_path/filename)\n",
        "  \n",
        "  return dataset\n"
      ],
      "metadata": {
        "id": "2gAiQNyVDRj9"
      },
      "execution_count": 15,
      "outputs": []
    },
    {
      "cell_type": "code",
      "source": [
        "train_dataset = csv_to_image_preprocessing(path,\"train_images\",train_df)"
      ],
      "metadata": {
        "id": "Hk8O342ti3Wt",
        "colab": {
          "base_uri": "https://localhost:8080/"
        },
        "outputId": "155c9e0f-92e3-42e7-f1ff-c120a8026020"
      },
      "execution_count": 17,
      "outputs": [
        {
          "output_type": "stream",
          "name": "stdout",
          "text": [
            "/content/drive/MyDrive/PyTorch/learning_DL/train_images directory already exists\n"
          ]
        }
      ]
    },
    {
      "cell_type": "code",
      "source": [
        "test_dataset = csv_to_image_preprocessing(path,\"test_images\",test_df)"
      ],
      "metadata": {
        "id": "n5JFKrjxLI5p",
        "colab": {
          "base_uri": "https://localhost:8080/"
        },
        "outputId": "b6db7abc-5d30-49e4-9acc-612ab2cc2794"
      },
      "execution_count": 18,
      "outputs": [
        {
          "output_type": "stream",
          "name": "stdout",
          "text": [
            "/content/drive/MyDrive/PyTorch/learning_DL/test_images directory already exists\n"
          ]
        }
      ]
    },
    {
      "cell_type": "code",
      "source": [
        "image_test, label_test = test_dataset[100]"
      ],
      "metadata": {
        "id": "7vvsatYNLjDX"
      },
      "execution_count": 19,
      "outputs": []
    },
    {
      "cell_type": "code",
      "source": [
        "image_test.shape"
      ],
      "metadata": {
        "id": "B8zvLGFrQdRx",
        "colab": {
          "base_uri": "https://localhost:8080/"
        },
        "outputId": "25e2c18b-ef2e-4855-cc17-0a72898631ab"
      },
      "execution_count": 20,
      "outputs": [
        {
          "output_type": "execute_result",
          "data": {
            "text/plain": [
              "torch.Size([1, 28, 28])"
            ]
          },
          "metadata": {},
          "execution_count": 20
        }
      ]
    },
    {
      "cell_type": "code",
      "source": [
        "import matplotlib.pyplot as plt\n",
        "\n",
        "plt.imshow(image_test.permute(1,2,0))\n",
        "plt.axis(False)\n",
        "plt.title(classes[label_test])\n"
      ],
      "metadata": {
        "id": "RqG7orc-QjkI",
        "colab": {
          "base_uri": "https://localhost:8080/",
          "height": 281
        },
        "outputId": "5b315d18-85f2-4d35-b64b-1de5188ba792"
      },
      "execution_count": 21,
      "outputs": [
        {
          "output_type": "execute_result",
          "data": {
            "text/plain": [
              "Text(0.5, 1.0, 'I')"
            ]
          },
          "metadata": {},
          "execution_count": 21
        },
        {
          "output_type": "display_data",
          "data": {
            "text/plain": [
              "<Figure size 432x288 with 1 Axes>"
            ],
            "image/png": "[encoded data removed]"
          },
          "metadata": {
            "needs_background": "light"
          }
        }
      ]
    },
    {
      "cell_type": "code",
      "source": [
        "from torch.utils.data import DataLoader \n",
        "BATCH_SIZE = 32 \n",
        "train_dataloader = DataLoader(dataset=train_dataset,\n",
        "                               batch_size=BATCH_SIZE,\n",
        "                               num_workers=1,\n",
        "                              shuffle=True)\n",
        "test_dataloader = DataLoader(dataset=test_dataset,\n",
        "                             batch_size=BATCH_SIZE,\n",
        "                             num_workers=1,\n",
        "                             shuffle=False)\n",
        "\n",
        "train_dataloader, test_dataloader"
      ],
      "metadata": {
        "id": "yMzpNc5PQ6ko",
        "colab": {
          "base_uri": "https://localhost:8080/"
        },
        "outputId": "7152aa4a-3e70-4bc7-845e-5098143aabf0"
      },
      "execution_count": 22,
      "outputs": [
        {
          "output_type": "execute_result",
          "data": {
            "text/plain": [
              "(<torch.utils.data.dataloader.DataLoader at 0x7f9ebc527460>,\n",
              " <torch.utils.data.dataloader.DataLoader at 0x7f9ebc527880>)"
            ]
          },
          "metadata": {},
          "execution_count": 22
        }
      ]
    },
    {
      "cell_type": "code",
      "source": [
        "img, label = next(iter(train_dataloader))\n",
        "\n",
        "print(f'Image Shape: {img.shape} -> [batch_size,color_channels,height,width]')\n",
        "print(f'Label Shape: {label.shape}')"
      ],
      "metadata": {
        "id": "rylQzWSHYxtI",
        "colab": {
          "base_uri": "https://localhost:8080/"
        },
        "outputId": "fdc4d47a-6f6b-4c8b-bc7a-906240529d90"
      },
      "execution_count": 23,
      "outputs": [
        {
          "output_type": "stream",
          "name": "stdout",
          "text": [
            "Image Shape: torch.Size([32, 1, 28, 28]) -> [batch_size,color_channels,height,width]\n",
            "Label Shape: torch.Size([32])\n"
          ]
        }
      ]
    },
    {
      "cell_type": "code",
      "source": [
        "import torch.nn as nn\n",
        "\n",
        "class ResNet18(nn.Module):\n",
        "    def __init__(self, input_shape : int,\n",
        "                hidden_units : int,\n",
        "                output_shape : int):\n",
        "        super(ResNet18,self).__init__()\n",
        "\n",
        "        self.conv1 = nn.Conv2d(input_shape, hidden_units, kernel_size=3, stride=1, padding=1)\n",
        "        self.bn1 = nn.BatchNorm2d(hidden_units)\n",
        "        self.layer1 = nn.Sequential(\n",
        "            nn.Conv2d(hidden_units, hidden_units, kernel_size=3, stride=1, padding=1),\n",
        "            nn.BatchNorm2d(hidden_units),\n",
        "            nn.ReLU(),\n",
        "            nn.Conv2d(hidden_units, hidden_units, kernel_size=3, stride=1, padding=1,),\n",
        "            nn.BatchNorm2d(hidden_units),        \n",
        "            nn.ReLU()\n",
        "        )\n",
        "        self.layer2 = nn.Sequential(\n",
        "            nn.Conv2d(hidden_units, hidden_units*2, kernel_size=3, stride=2, padding=1),\n",
        "            nn.BatchNorm2d(hidden_units*2),\n",
        "            nn.ReLU(),\n",
        "            nn.Conv2d(hidden_units*2, hidden_units*2, kernel_size=3, stride=1, padding=1),\n",
        "            nn.BatchNorm2d(hidden_units*2),\n",
        "            nn.ReLU()\n",
        "        )\n",
        "        self.layer3 = nn.Sequential(\n",
        "            nn.Conv2d(hidden_units*2, hidden_units*4, kernel_size=3, stride=2, padding=1),\n",
        "            nn.BatchNorm2d(hidden_units*4),\n",
        "            nn.ReLU(),\n",
        "            nn.Conv2d(hidden_units*4, hidden_units*4, kernel_size=3, stride=1, padding=1),\n",
        "            nn.BatchNorm2d(hidden_units*4),\n",
        "            nn.ReLU()\n",
        "        )\n",
        "        self.avgpool = nn.AdaptiveAvgPool2d((1, 1))\n",
        "        self.fc = nn.Linear(hidden_units*4, output_shape)\n",
        "        self.dropout = nn.Dropout()\n",
        "\n",
        "    def forward(self, x):\n",
        "        x = self.conv1(x)\n",
        "        x = self.bn1(x)\n",
        "        x = self.layer1(x) \n",
        "        x = self.layer2(x) \n",
        "        x = self.dropout(x)\n",
        "        x = self.layer3(x) \n",
        "        x = self.avgpool(x)\n",
        "        x = x.view(x.size(0), -1)\n",
        "        x = self.fc(x)\n",
        "        return x"
      ],
      "metadata": {
        "id": "qvSLt5zXY0kg"
      },
      "execution_count": 24,
      "outputs": []
    },
    {
      "cell_type": "code",
      "source": [
        "torch.manual_seed(42)\n",
        "model_1 = ResNet18(input_shape=1,\n",
        "                hidden_units=16,\n",
        "                output_shape=len(classes)).to(device)\n",
        "\n",
        "model_1"
      ],
      "metadata": {
        "id": "_OtfaDIvacgA",
        "colab": {
          "base_uri": "https://localhost:8080/"
        },
        "outputId": "26b09d0f-c8f0-43c1-dd6b-293529a7c9a4"
      },
      "execution_count": 25,
      "outputs": [
        {
          "output_type": "execute_result",
          "data": {
            "text/plain": [
              "ResNet18(\n",
              "  (conv1): Conv2d(1, 16, kernel_size=(3, 3), stride=(1, 1), padding=(1, 1))\n",
              "  (bn1): BatchNorm2d(16, eps=1e-05, momentum=0.1, affine=True, track_running_stats=True)\n",
              "  (layer1): Sequential(\n",
              "    (0): Conv2d(16, 16, kernel_size=(3, 3), stride=(1, 1), padding=(1, 1))\n",
              "    (1): BatchNorm2d(16, eps=1e-05, momentum=0.1, affine=True, track_running_stats=True)\n",
              "    (2): ReLU()\n",
              "    (3): Conv2d(16, 16, kernel_size=(3, 3), stride=(1, 1), padding=(1, 1))\n",
              "    (4): BatchNorm2d(16, eps=1e-05, momentum=0.1, affine=True, track_running_stats=True)\n",
              "    (5): ReLU()\n",
              "  )\n",
              "  (layer2): Sequential(\n",
              "    (0): Conv2d(16, 32, kernel_size=(3, 3), stride=(2, 2), padding=(1, 1))\n",
              "    (1): BatchNorm2d(32, eps=1e-05, momentum=0.1, affine=True, track_running_stats=True)\n",
              "    (2): ReLU()\n",
              "    (3): Conv2d(32, 32, kernel_size=(3, 3), stride=(1, 1), padding=(1, 1))\n",
              "    (4): BatchNorm2d(32, eps=1e-05, momentum=0.1, affine=True, track_running_stats=True)\n",
              "    (5): ReLU()\n",
              "  )\n",
              "  (layer3): Sequential(\n",
              "    (0): Conv2d(32, 64, kernel_size=(3, 3), stride=(2, 2), padding=(1, 1))\n",
              "    (1): BatchNorm2d(64, eps=1e-05, momentum=0.1, affine=True, track_running_stats=True)\n",
              "    (2): ReLU()\n",
              "    (3): Conv2d(64, 64, kernel_size=(3, 3), stride=(1, 1), padding=(1, 1))\n",
              "    (4): BatchNorm2d(64, eps=1e-05, momentum=0.1, affine=True, track_running_stats=True)\n",
              "    (5): ReLU()\n",
              "  )\n",
              "  (avgpool): AdaptiveAvgPool2d(output_size=(1, 1))\n",
              "  (fc): Linear(in_features=64, out_features=26, bias=True)\n",
              "  (dropout): Dropout(p=0.5, inplace=False)\n",
              ")"
            ]
          },
          "metadata": {},
          "execution_count": 25
        }
      ]
    },
    {
      "cell_type": "code",
      "source": [
        "import torch.nn as nn\n",
        "\n",
        "class SimpleConv(nn.Module):\n",
        "  def __init__(self,input_shape : int,\n",
        "               hidden_units : int,\n",
        "               output_shape):\n",
        "    super(SimpleConv,self).__init__()\n",
        "\n",
        "    self.layer1 = nn.Sequential(\n",
        "        nn.Conv2d(input_shape, hidden_units, kernel_size=3, stride=1, padding=1),\n",
        "        nn.MaxPool2d(kernel_size=2),\n",
        "        nn.ReLU(),\n",
        "        nn.Dropout(0.2)\n",
        "    )\n",
        "\n",
        "    self.layer2 = nn.Sequential(\n",
        "        nn.Conv2d(hidden_units, hidden_units*2, kernel_size=3, stride=1, padding=1),\n",
        "        nn.MaxPool2d(kernel_size=2),\n",
        "        nn.ReLU(),\n",
        "        nn.Dropout(0.2)\n",
        "    )\n",
        "\n",
        "\n",
        "    self.layer3 = nn.Sequential(\n",
        "        nn.Conv2d(hidden_units*2, hidden_units*4, kernel_size=3, stride=1, padding=1),\n",
        "        nn.MaxPool2d(kernel_size=2),\n",
        "        nn.ReLU(),\n",
        "        nn.Dropout(0.2)\n",
        "    )\n",
        "\n",
        "    self.fc = nn.Linear(1152,output_shape)\n",
        "\n",
        "  def forward(self,x):\n",
        "    x = self.layer1(x)\n",
        "    x = self.layer2(x)\n",
        "    x = self.layer3(x)\n",
        "    x = x.view(x.size(0), -1)\n",
        "    x = self.fc(x)\n",
        "    return x\n",
        "    "
      ],
      "metadata": {
        "id": "1ng2rsUAhzwj"
      },
      "execution_count": 49,
      "outputs": []
    },
    {
      "cell_type": "code",
      "source": [
        "torch.manual_seed(42)\n",
        "model_2 = SimpleConv(input_shape=1,\n",
        "                hidden_units=32,\n",
        "                output_shape=len(classes)).to(device)\n",
        "\n",
        "model_2"
      ],
      "metadata": {
        "colab": {
          "base_uri": "https://localhost:8080/"
        },
        "id": "FqfEc_QRoK3l",
        "outputId": "944b2b7a-e9d1-4806-f05a-124b30b39dbf"
      },
      "execution_count": 43,
      "outputs": [
        {
          "output_type": "execute_result",
          "data": {
            "text/plain": [
              "SimpleConv(\n",
              "  (layer1): Sequential(\n",
              "    (0): Conv2d(1, 32, kernel_size=(3, 3), stride=(1, 1), padding=(1, 1))\n",
              "    (1): MaxPool2d(kernel_size=2, stride=2, padding=0, dilation=1, ceil_mode=False)\n",
              "    (2): ReLU()\n",
              "    (3): Dropout(p=0.2, inplace=False)\n",
              "  )\n",
              "  (layer2): Sequential(\n",
              "    (0): Conv2d(32, 64, kernel_size=(3, 3), stride=(1, 1), padding=(1, 1))\n",
              "    (1): MaxPool2d(kernel_size=2, stride=2, padding=0, dilation=1, ceil_mode=False)\n",
              "    (2): ReLU()\n",
              "    (3): Dropout(p=0.2, inplace=False)\n",
              "  )\n",
              "  (layer3): Sequential(\n",
              "    (0): Conv2d(64, 128, kernel_size=(3, 3), stride=(1, 1), padding=(1, 1))\n",
              "    (1): MaxPool2d(kernel_size=2, stride=2, padding=0, dilation=1, ceil_mode=False)\n",
              "    (2): ReLU()\n",
              "    (3): Dropout(p=0.2, inplace=False)\n",
              "  )\n",
              "  (fc): Linear(in_features=128, out_features=26, bias=True)\n",
              ")"
            ]
          },
          "metadata": {},
          "execution_count": 43
        }
      ]
    },
    {
      "cell_type": "code",
      "source": [
        "# Create train and test loops functions \n",
        "def train_step(model: torch.nn.Module,\n",
        "               dataloader : torch.utils.data.DataLoader,\n",
        "               loss_fn ,\n",
        "               optimizer: torch.optim.Optimizer,\n",
        "               device=device):\n",
        "  #put the model in train mode \n",
        "  model.train()\n",
        "  #setup train loss and train accuracy values \n",
        "  train_loss, train_acc = 0,0 \n",
        "  #Loop through data loader data batchtes \n",
        "  for batch, (X,y) in enumerate(dataloader):\n",
        "    #send data to the target device \n",
        "    X,y = X.to(device), y.to(device)\n",
        "    #1.forward pass\n",
        "    y_pred = model(X) #output model logits\n",
        "    #2.Calculate the loss\n",
        "    loss = loss_fn(y_pred,y)\n",
        "    train_loss += loss.item()\n",
        "    #3.Optimizer zero grad \n",
        "    optimizer.zero_grad()\n",
        "    #4.loss backward\n",
        "    loss.backward()\n",
        "    #5. Optimizer step\n",
        "    optimizer.step()\n",
        "\n",
        "    #calculate accuracy metric \n",
        "    y_pred_class = torch.argmax(torch.softmax(y_pred,dim=1),dim=1)\n",
        "    train_acc += (y_pred_class==y).sum().item()/len(y_pred)\n",
        "  \n",
        "  #Adjust metrics to get average loss and accuracy per batch \n",
        "  train_loss = train_loss /len(dataloader)\n",
        "  train_acc = train_acc / len(dataloader)\n",
        "  return train_loss, train_acc \n"
      ],
      "metadata": {
        "id": "j0Dr2gMCeHNp"
      },
      "execution_count": 32,
      "outputs": []
    },
    {
      "cell_type": "code",
      "source": [
        "#Create a test step function \n",
        "def test_step(model: torch.nn.Module,\n",
        "              dataloader : torch.utils.data.DataLoader,\n",
        "              loss_fn ,\n",
        "              optimizer: torch.optim.Optimizer,\n",
        "              device=device):\n",
        "  #put model in eval model \n",
        "  model.eval()\n",
        "  #setup test loss and test accuracy values \n",
        "  test_loss, test_acc = 0,0\n",
        "  #Turn on inference model \n",
        "  with torch.inference_mode():\n",
        "    #Loop through Dataloader batches \n",
        "    for batch, (X,y) in enumerate(dataloader):\n",
        "      X,y = X.to(device), y.to(device)\n",
        "      #1.forward pass\n",
        "      test_pred_logits = model(X)\n",
        "      #2.Calculate the loss \n",
        "      loss = loss_fn(test_pred_logits,y)\n",
        "      test_loss += loss.item()\n",
        "      #calculate the accuracy \n",
        "      test_pred_labels = test_pred_logits.argmax(dim=1)\n",
        "      test_acc += (test_pred_labels==y).sum().item() / len(test_pred_labels)\n",
        "\n",
        "  #Adujust metrics to get average loss and accuracy per batch \n",
        "  test_loss = test_loss / len(dataloader) \n",
        "  test_acc = test_acc / len(dataloader) \n",
        "  return test_loss , test_acc  "
      ],
      "metadata": {
        "id": "FMryh7tmfRtg"
      },
      "execution_count": 33,
      "outputs": []
    },
    {
      "cell_type": "code",
      "source": [
        "from tqdm.auto import tqdm\n",
        "\n",
        "def train(model : torch.nn.Module,\n",
        "          train_dataloader : torch.utils.data.DataLoader,\n",
        "          test_dataloader : torch.utils.data.DataLoader, \n",
        "          loss_fn ,\n",
        "          optimizer : torch.optim.Optimizer,\n",
        "          epochs : int = 5, \n",
        "          device = device):\n",
        "  #create empty results dict \n",
        "  results = {\"train_loss\": [],\n",
        "             \"train_acc\": [],\n",
        "             \"test_loss\": [],\n",
        "             \"test_acc\": []}\n",
        "\n",
        "  #loop through training and testing steps for a number of epochs \n",
        "  for epoch in tqdm(range(epochs)):\n",
        "    train_loss, train_acc = train_step(model=model,\n",
        "                                       dataloader= train_dataloader,\n",
        "                                       loss_fn=loss_fn.to(device),\n",
        "                                       optimizer=optimizer,\n",
        "                                       device=device)\n",
        "    test_loss, test_acc = test_step(model=model,\n",
        "                                    dataloader= test_dataloader,\n",
        "                                    loss_fn=loss_fn,\n",
        "                                    optimizer= optimizer, \n",
        "                                    device=device) \n",
        "\n",
        "    #print out \n",
        "    print(f'Epoch : {epoch} | train loss: {train_loss: .4f} | Train acc : {train_acc : .4f} | Test loss : {test_loss : .4f} | Test acc : {test_acc :.4f} ')\n",
        "\n",
        "    #Update results dictionary \n",
        "    results['train_loss'].append(train_loss)\n",
        "    results['train_acc'].append(train_acc)\n",
        "    results['test_loss'].append(test_loss) \n",
        "    results['test_acc'].append(test_acc)\n",
        "  \n",
        "  #Return the filled results at the end of the epochs \n",
        "  return results\n",
        "\n",
        "  "
      ],
      "metadata": {
        "id": "vjUGeUTFfVfc"
      },
      "execution_count": 34,
      "outputs": []
    },
    {
      "cell_type": "code",
      "source": [
        "#Credits to \n",
        "#https://github.com/HaotianMXu/Multiclass_LinearSVM_with_SGD/blob/master/linearSVM.py\n",
        "\n",
        "class multiClassHingeLoss(nn.Module):\n",
        "    def __init__(self, p=1, margin=1, weight=None, size_average=True):\n",
        "        super(multiClassHingeLoss, self).__init__()\n",
        "        self.p=p\n",
        "        self.margin=margin\n",
        "        self.weight=weight#weight for each class, size=n_class, variable containing FloatTensor,cuda,reqiures_grad=False\n",
        "        self.size_average=size_average\n",
        "    def forward(self, output, y):#output: batchsize*n_class\n",
        "        #print(output.requires_grad)\n",
        "        #print(y.requires_grad)\n",
        "        output_y=output[torch.arange(0,y.size()[0]).long().cuda(),y.data.cuda()].view(-1,1)#view for transpose\n",
        "        #margin - output[y] + output[i]\n",
        "        loss=output-output_y+self.margin#contains i=y\n",
        "        #remove i=y items\n",
        "        loss[torch.arange(0,y.size()[0]).long().cuda(),y.data.cuda()]=0\n",
        "        #max(0,_)\n",
        "        loss[loss<0]=0\n",
        "        #^p\n",
        "        if(self.p!=1):\n",
        "            loss=torch.pow(loss,self.p)\n",
        "        #add weight\n",
        "        if(self.weight is not None):\n",
        "            loss=loss*self.weight\n",
        "        #sum up\n",
        "        loss=torch.sum(loss)\n",
        "        if(self.size_average):\n",
        "            loss/=output.size()[0]#output.size()[0]\n",
        "        return loss\n"
      ],
      "metadata": {
        "id": "nOkSAcXNgjX9"
      },
      "execution_count": 35,
      "outputs": []
    },
    {
      "cell_type": "code",
      "source": [
        "\n",
        "#Train and evaluate model 1\n",
        "torch.manual_seed(42)\n",
        "torch.cuda.manual_seed(42)\n",
        "\n",
        "#Set number of epochs \n",
        "NUM_EPOCHS = 8\n",
        "\n",
        "#Recreate an instance of ResNet18\n",
        "model_1  = ResNet18(input_shape=1,\n",
        "                   hidden_units=24,\n",
        "                   output_shape=len(classes)).to(device)\n",
        "\n",
        "#Setup loss funcion and optimizer \n",
        "loss_fn = multiClassHingeLoss()\n",
        "\n",
        "optimizer = torch.optim.SGD(params=model_1.parameters(), lr=0.01, momentum=0.9)\n",
        "# Start the timer \n",
        "from timeit import default_timer as timer \n",
        "start_time = timer()\n",
        "\n",
        "#Train model 1 \n",
        "model_1_results = train(model=model_1,\n",
        "                        train_dataloader=train_dataloader,\n",
        "                        test_dataloader=test_dataloader,\n",
        "                        loss_fn=loss_fn,\n",
        "                        optimizer=optimizer,\n",
        "                        epochs=NUM_EPOCHS)\n",
        "\n",
        "#End the timer and print out how long it took \n",
        "end_time = timer()\n",
        "print(f'Total training time : {end_time - start_time:.3f} seconds')"
      ],
      "metadata": {
        "id": "xWaw5pFEfbu4",
        "colab": {
          "base_uri": "https://localhost:8080/",
          "height": 205,
          "referenced_widgets": [
            "38dadf17facf4950986e75596d395f02",
            "90fc39ac33eb4d598d035045c1a9b897",
            "6d8b04488050490993ba7dc7db1d46e8",
            "fb87732010534e0cbb74b40373b7a625",
            "fdc09022a2de4e3aaeebc1688ee172da",
            "6432875b29d445dc844923a646b98d34",
            "3288354c8b42417ab6c721205ff91e86",
            "3369fa8e0cfe41d0ad262cbf4f8d4718",
            "6b47eb85015c413cb9432d521909eefd",
            "63e1e177a15a490a9f4a89798f3ca62c",
            "aed2cd8ff04242bd949173e014a9e867"
          ]
        },
        "outputId": "8c02a57c-c4fd-4524-b24b-f52a59ada195"
      },
      "execution_count": 36,
      "outputs": [
        {
          "output_type": "display_data",
          "data": {
            "text/plain": [
              "  0%|          | 0/8 [00:00<?, ?it/s]"
            ],
            "application/vnd.jupyter.widget-view+json": {
              "version_major": 2,
              "version_minor": 0,
              "model_id": "38dadf17facf4950986e75596d395f02"
            }
          },
          "metadata": {}
        },
        {
          "output_type": "stream",
          "name": "stdout",
          "text": [
            "Epoch : 0 | train loss:  2.5839 | Train acc :  0.7151 | Test loss :  0.3903 | Test acc : 0.8889 \n",
            "Epoch : 1 | train loss:  0.0939 | Train acc :  0.9788 | Test loss :  0.1202 | Test acc : 0.9611 \n",
            "Epoch : 2 | train loss:  0.0321 | Train acc :  0.9934 | Test loss :  0.0544 | Test acc : 0.9860 \n",
            "Epoch : 3 | train loss:  0.0154 | Train acc :  0.9973 | Test loss :  0.0660 | Test acc : 0.9843 \n",
            "Epoch : 4 | train loss:  0.0112 | Train acc :  0.9982 | Test loss :  0.0363 | Test acc : 0.9888 \n",
            "Epoch : 5 | train loss:  0.0103 | Train acc :  0.9983 | Test loss :  0.0289 | Test acc : 0.9908 \n",
            "Epoch : 6 | train loss:  0.0056 | Train acc :  0.9993 | Test loss :  0.0185 | Test acc : 0.9956 \n",
            "Epoch : 7 | train loss:  0.0061 | Train acc :  0.9991 | Test loss :  0.0188 | Test acc : 0.9954 \n",
            "Total training time : 69.879 seconds\n"
          ]
        }
      ]
    },
    {
      "cell_type": "code",
      "source": [
        "#Train and evaluate model 1\n",
        "torch.manual_seed(42)\n",
        "torch.cuda.manual_seed(42)\n",
        "\n",
        "#Set number of epochs \n",
        "NUM_EPOCHS = 8\n",
        "\n",
        "#Recreate an instance of SimpleConv\n",
        "model_2  = SimpleConv(input_shape=1,\n",
        "                   hidden_units=32,\n",
        "                   output_shape=len(classes)).to(device)\n",
        "\n",
        "#Setup loss funcion and optimizer \n",
        "loss_fn = multiClassHingeLoss()\n",
        "\n",
        "optimizer = torch.optim.Adam(params=model_2.parameters(), lr=0.001)\n",
        "# Start the timer \n",
        "from timeit import default_timer as timer \n",
        "start_time = timer()\n",
        "\n",
        "#Train model 2\n",
        "model_2_results = train(model=model_2,\n",
        "                        train_dataloader=train_dataloader,\n",
        "                        test_dataloader=test_dataloader,\n",
        "                        loss_fn=loss_fn,\n",
        "                        optimizer=optimizer,\n",
        "                        epochs=NUM_EPOCHS)\n",
        "\n",
        "#End the timer and print out how long it took \n",
        "end_time = timer()\n",
        "print(f'Total training time : {end_time - start_time:.3f} seconds')"
      ],
      "metadata": {
        "colab": {
          "base_uri": "https://localhost:8080/",
          "height": 205,
          "referenced_widgets": [
            "5a4c468f64a442c0b0ea5c0d804c7e96",
            "a497355a5f0c43dda11744d885f978be",
            "b0c79ca8aeaf49d197e4dacd7fddaa2d",
            "9c1ec8c3e7a6447ebb3b799c97136907",
            "46cb6db4fb5e480e8a66544bf4c2d9c7",
            "e32a7346371c4959967c8a05624bb46a",
            "d16e029929b943f5884d37ca21d211f5",
            "d26abf254ba74d67ae888104150bd826",
            "e4f491e38beb48b289707ad54554a45c",
            "0fbe649ec0f047e5afa1886398dcc68c",
            "616082651f954510ba181d514f287c1f"
          ]
        },
        "id": "yunXSc9poYem",
        "outputId": "eb127121-6a25-439b-da67-d973dc239a01"
      },
      "execution_count": 50,
      "outputs": [
        {
          "output_type": "display_data",
          "data": {
            "text/plain": [
              "  0%|          | 0/8 [00:00<?, ?it/s]"
            ],
            "application/vnd.jupyter.widget-view+json": {
              "version_major": 2,
              "version_minor": 0,
              "model_id": "5a4c468f64a442c0b0ea5c0d804c7e96"
            }
          },
          "metadata": {}
        },
        {
          "output_type": "stream",
          "name": "stdout",
          "text": [
            "Epoch : 0 | train loss:  4.7275 | Train acc :  0.5801 | Test loss :  0.6975 | Test acc : 0.8344 \n",
            "Epoch : 1 | train loss:  0.3792 | Train acc :  0.8933 | Test loss :  0.3587 | Test acc : 0.9144 \n",
            "Epoch : 2 | train loss:  0.1671 | Train acc :  0.9489 | Test loss :  0.2151 | Test acc : 0.9454 \n",
            "Epoch : 3 | train loss:  0.0995 | Train acc :  0.9701 | Test loss :  0.1919 | Test acc : 0.9596 \n",
            "Epoch : 4 | train loss:  0.0616 | Train acc :  0.9805 | Test loss :  0.1816 | Test acc : 0.9610 \n",
            "Epoch : 5 | train loss:  0.0487 | Train acc :  0.9845 | Test loss :  0.1528 | Test acc : 0.9614 \n",
            "Epoch : 6 | train loss:  0.0356 | Train acc :  0.9884 | Test loss :  0.1652 | Test acc : 0.9542 \n",
            "Epoch : 7 | train loss:  0.0297 | Train acc :  0.9905 | Test loss :  0.1151 | Test acc : 0.9762 \n",
            "Total training time : 44.823 seconds\n"
          ]
        }
      ]
    },
    {
      "cell_type": "code",
      "source": [
        "image, label = test_dataset[100]"
      ],
      "metadata": {
        "id": "izpzpwrjqh24"
      },
      "execution_count": 51,
      "outputs": []
    },
    {
      "cell_type": "code",
      "source": [
        "plt.imshow(image.permute(1,2,0))\n",
        "plt.title(classes[label])\n",
        "plt.axis(False)"
      ],
      "metadata": {
        "id": "HpVGF1vtqnG6",
        "colab": {
          "base_uri": "https://localhost:8080/",
          "height": 281
        },
        "outputId": "9fe9b8cc-09ac-4f75-f8b6-beeb8ae03c9d"
      },
      "execution_count": 52,
      "outputs": [
        {
          "output_type": "execute_result",
          "data": {
            "text/plain": [
              "(-0.5, 27.5, 27.5, -0.5)"
            ]
          },
          "metadata": {},
          "execution_count": 52
        },
        {
          "output_type": "display_data",
          "data": {
            "text/plain": [
              "<Figure size 432x288 with 1 Axes>"
            ],
            "image/png": "[encoded data removed]"
          },
          "metadata": {
            "needs_background": "light"
          }
        }
      ]
    },
    {
      "cell_type": "code",
      "source": [
        "logits = model_1(image.to(device).unsqueeze(0))\n",
        "logits"
      ],
      "metadata": {
        "id": "pe0UtZfg5noe",
        "colab": {
          "base_uri": "https://localhost:8080/"
        },
        "outputId": "205d1179-7a55-4f63-f209-c9f32aa63319"
      },
      "execution_count": 53,
      "outputs": [
        {
          "output_type": "execute_result",
          "data": {
            "text/plain": [
              "tensor([[ 3.0172,  2.2292, -3.0863,  4.1051, -0.4894,  5.3478, -3.5129, -2.0413,\n",
              "         10.0931, -7.2404, -2.9003,  4.0227, -0.2801, -1.4280, -3.6200, -3.1903,\n",
              "         -0.5220, -0.9745,  1.3161,  1.2529, -2.4304,  4.3642,  3.7988, -2.2788,\n",
              "          3.7395, -7.9421]], device='cuda:0', grad_fn=<AddmmBackward0>)"
            ]
          },
          "metadata": {},
          "execution_count": 53
        }
      ]
    },
    {
      "cell_type": "code",
      "source": [
        "pred_prob = torch.softmax(logits,dim=1)\n",
        "pred_prob"
      ],
      "metadata": {
        "id": "PV1R6Qwa7kkd",
        "colab": {
          "base_uri": "https://localhost:8080/"
        },
        "outputId": "3b2ef4b9-7cdc-4854-8339-725d44747e6b"
      },
      "execution_count": 54,
      "outputs": [
        {
          "output_type": "execute_result",
          "data": {
            "text/plain": [
              "tensor([[8.2709e-04, 3.7612e-04, 1.8485e-06, 2.4548e-03, 2.4810e-05, 8.5056e-03,\n",
              "         1.2066e-06, 5.2559e-06, 9.7847e-01, 2.9020e-08, 2.2265e-06, 2.2607e-03,\n",
              "         3.0587e-05, 9.7055e-06, 1.0840e-06, 1.6660e-06, 2.4014e-05, 1.5274e-05,\n",
              "         1.5092e-04, 1.4168e-04, 3.5618e-06, 3.1806e-03, 1.8072e-03, 4.1449e-06,\n",
              "         1.7030e-03, 1.4387e-08]], device='cuda:0', grad_fn=<SoftmaxBackward0>)"
            ]
          },
          "metadata": {},
          "execution_count": 54
        }
      ]
    },
    {
      "cell_type": "code",
      "source": [
        "pred = torch.argmax(pred_prob,dim=1)\n",
        "pred"
      ],
      "metadata": {
        "id": "CXN_2_t77syt",
        "colab": {
          "base_uri": "https://localhost:8080/"
        },
        "outputId": "5b84fb1a-746c-4649-94b0-104c681803d8"
      },
      "execution_count": 55,
      "outputs": [
        {
          "output_type": "execute_result",
          "data": {
            "text/plain": [
              "tensor([8], device='cuda:0')"
            ]
          },
          "metadata": {},
          "execution_count": 55
        }
      ]
    },
    {
      "cell_type": "code",
      "source": [
        "classes[pred]"
      ],
      "metadata": {
        "id": "hm8epUkP8DCh",
        "colab": {
          "base_uri": "https://localhost:8080/",
          "height": 35
        },
        "outputId": "fe58c7b0-fcb1-4bfc-f3db-3cc808de3a9e"
      },
      "execution_count": 56,
      "outputs": [
        {
          "output_type": "execute_result",
          "data": {
            "text/plain": [
              "'I'"
            ],
            "application/vnd.google.colaboratory.intrinsic+json": {
              "type": "string"
            }
          },
          "metadata": {},
          "execution_count": 56
        }
      ]
    },
    {
      "cell_type": "code",
      "source": [
        "def make_predictions(model: torch.nn.Module,\n",
        "                     data: list,\n",
        "                     device: torch.device = device):\n",
        "  preds = []\n",
        "  for image in data:\n",
        "    logits = model(image.to(device).unsqueeze(0))\n",
        "    pred_prob = torch.softmax(logits,dim=1)\n",
        "    pred = torch.argmax(pred_prob,dim=1)\n",
        "    preds.append(pred)\n",
        "\n",
        "  return preds\n"
      ],
      "metadata": {
        "id": "tYWC5U5s8w2N"
      },
      "execution_count": 57,
      "outputs": []
    },
    {
      "cell_type": "code",
      "source": [
        "import random \n",
        "\n",
        "test_samples = []\n",
        "test_labels = []\n",
        "\n",
        "for sample, label in random.sample(list(test_dataset),k=20):\n",
        "  test_samples.append(sample)\n",
        "  test_labels.append(label)"
      ],
      "metadata": {
        "id": "WLPNjiRDCuX2"
      },
      "execution_count": 58,
      "outputs": []
    },
    {
      "cell_type": "code",
      "source": [
        "preds = make_predictions(model=model_1,\n",
        "                             data=test_samples)\n",
        "preds"
      ],
      "metadata": {
        "id": "cXkzakx9i-IM",
        "colab": {
          "base_uri": "https://localhost:8080/"
        },
        "outputId": "731555e4-5d99-4115-bd34-efab8e55fe4e"
      },
      "execution_count": 59,
      "outputs": [
        {
          "output_type": "execute_result",
          "data": {
            "text/plain": [
              "[tensor([6], device='cuda:0'),\n",
              " tensor([24], device='cuda:0'),\n",
              " tensor([10], device='cuda:0'),\n",
              " tensor([19], device='cuda:0'),\n",
              " tensor([19], device='cuda:0'),\n",
              " tensor([17], device='cuda:0'),\n",
              " tensor([24], device='cuda:0'),\n",
              " tensor([15], device='cuda:0'),\n",
              " tensor([24], device='cuda:0'),\n",
              " tensor([18], device='cuda:0'),\n",
              " tensor([24], device='cuda:0'),\n",
              " tensor([1], device='cuda:0'),\n",
              " tensor([4], device='cuda:0'),\n",
              " tensor([5], device='cuda:0'),\n",
              " tensor([21], device='cuda:0'),\n",
              " tensor([15], device='cuda:0'),\n",
              " tensor([1], device='cuda:0'),\n",
              " tensor([15], device='cuda:0'),\n",
              " tensor([18], device='cuda:0'),\n",
              " tensor([4], device='cuda:0')]"
            ]
          },
          "metadata": {},
          "execution_count": 59
        }
      ]
    },
    {
      "cell_type": "code",
      "source": [
        "#Plot predictions \n",
        "plt.figure(figsize=(9,9))\n",
        "nrows = 5 \n",
        "ncols = 4 \n",
        "for i, sample in enumerate(test_samples):\n",
        "  #create subplot \n",
        "  plt.subplot(nrows,ncols,i+1)\n",
        "  #plot target image \n",
        "  plt.imshow(sample.permute(1,2,0))\n",
        "  #find the prediction label in text form\n",
        "  pred_label = classes[preds[i]]\n",
        "  # Get the truth label in text form \n",
        "  truth_label = classes[test_labels[i]]\n",
        "  #Create a title for the plot \n",
        "  title_text = f\"Pred : {pred_label} | Truth: {truth_label}\"\n",
        "  #Check for equality between pred and truth and color of title text\n",
        "  if pred_label == truth_label: \n",
        "    plt.title(title_text,fontsize=10,c=\"g\")\n",
        "  else: \n",
        "    plt.title(title_text,fontsize=10,c=\"r\")\n",
        "  plt.axis(False)"
      ],
      "metadata": {
        "id": "e42e0iZkoJL4",
        "colab": {
          "base_uri": "https://localhost:8080/",
          "height": 534
        },
        "outputId": "2c9fd3e8-6fa4-4265-fa8d-8029bf6dbba8"
      },
      "execution_count": 60,
      "outputs": [
        {
          "output_type": "display_data",
          "data": {
            "text/plain": [
              "<Figure size 648x648 with 20 Axes>"
            ],
            "image/png": "[encoded data removed]"
          },
          "metadata": {
            "needs_background": "light"
          }
        }
      ]
    },
    {
      "cell_type": "code",
      "source": [
        "K = 5\n",
        "EPOCHS = 1\n",
        "BATCH_SIZE = 256\n",
        "loss_fn = multiClassHingeLoss()\n",
        "test_loader = torch.utils.data.DataLoader(test_dataset, \n",
        "                                          batch_size=BATCH_SIZE)\n",
        "\n",
        "optimizer = torch.optim.SGD(params=model_1.parameters(), lr=0.01, momentum=0.9)\n",
        "\n",
        "from sklearn.model_selection import KFold\n",
        "kfold = KFold(n_splits=K)\n",
        "\n",
        "for fold_i, (train_ids, val_ids) in enumerate(kfold.split(train_dataset)):\n",
        "    print(f'train size: {len(train_ids)}, val size: {len(val_ids)}')\n",
        "\n",
        "\n",
        "    # Sample elements from selected ids\n",
        "    train_sampler = torch.utils.data.SubsetRandomSampler(train_ids)\n",
        "    val_sampler = torch.utils.data.SubsetRandomSampler(val_ids)\n",
        "    # Use sampler to select data for training and validation\n",
        "    train_dataloader = DataLoader(dataset=train_dataset,\n",
        "                                  batch_size=BATCH_SIZE,\n",
        "                                  num_workers=1,\n",
        "                                  sampler=train_sampler)\n",
        "    val_dataloader = DataLoader(dataset=train_dataset,\n",
        "                                batch_size=BATCH_SIZE,\n",
        "                                num_workers=1,\n",
        "                                sampler=val_sampler)\n",
        "    \n",
        "    model_1_results_val = train(model=model_1,\n",
        "                            train_dataloader=train_dataloader,\n",
        "                            test_dataloader=val_dataloader,\n",
        "                            loss_fn=loss_fn,\n",
        "                            optimizer=optimizer,\n",
        "                            epochs=NUM_EPOCHS)\n"
      ],
      "metadata": {
        "id": "JZHJp5QAscbQ",
        "colab": {
          "base_uri": "https://localhost:8080/",
          "height": 958,
          "referenced_widgets": [
            "11ce155cacdc4922b72efa4c66158a99",
            "0b92f7005aab4db893c0015cfa44bffd",
            "b76c3f5a0e484428851fef7f278dbf86",
            "8813f804109d42c7be23c94904a56115",
            "c3edc86c9b8d4d19a9618e7be0f33c27",
            "6cdb208a14584bb8bcb8e91224d1c03b",
            "7a34ae0cf5aa47c09b9b5e0e1bc18149",
            "f5b5f142159f4b3ea337652a738d4e58",
            "9c45ae857ba34c18868f22c0a0b1b382",
            "e5e1eca858194b35af9646a90dfac9c6",
            "f6783923fd524c92b384909e9c77f118",
            "4b66759171ba45dba64025bf4ac7271b",
            "c62d7ad7cb8644549d6f85daea8f3893",
            "2b7bf18dba564106b155c47067f015e8",
            "37203752d24d4394a9542f61e5c18262",
            "3332e51276d2494781d4b4c47c85c7ac",
            "bff734c760e549aaa735e3a8d757c2d3",
            "31f8750e8a9b4a75b47585fa63489765",
            "ab0ab3f143ee49e4955a04e6b4244765",
            "33da7736a0004342acf497bff20e6aef",
            "5abce3091add4825a57756c0bb1c1537",
            "f12cce4477e840e4940437aa3cf99f0b",
            "c496cf02f2a046edb4ace89f4fad43ad",
            "9f2858dbf9974b3d88cede37be373409",
            "3ff0ae1254764bc7b4b8658d30d2e4cf",
            "42bfd43e5c1b48749db6d01475bbe33c",
            "002f5af815644260aeac4de385c0a0a3",
            "813e33f14db5410f8ced1e84c10a7081",
            "a570c85397204567a394192e8b2aed0e",
            "7760da9a003f43f3ba2c9d6b636077d9",
            "fb60b40b67ea41aab0f9dc77a2cd6fab",
            "634158dcd0fb43078d3144d3d9cb11ef",
            "0f0ba68f77d4412492d732b91086d494",
            "8e29ec40e9e7432ebf80e9aab42b2df9",
            "b4cf69d030f04ab29acb2d36403194db",
            "73d4b8585f2c43adbf1dfea1155ae273",
            "d68a8a622aff4028be89c790c1900880",
            "e6336ef8d972461c91258271f62effbc",
            "64a508d092684c7486dc26bd7c668e69",
            "81bbcf50e1314600b93ebfbd3cdc130d",
            "f26c74c24cef4145b215518cb09ab058",
            "f7a5367b7d5c4f69a8ae0dbfa367e41a",
            "d36be6c9b3f84d12bb2667e4ff1296bf",
            "b01af7014a954309b299462fcc842ff3",
            "d239d8f8bdd44cabaae909a94529cf99",
            "160a38b323d64c3580377d0ff964241d",
            "fcd0e54878d54e19ba80027d588c3784",
            "e9df5b298d6b46e2b2ab23a03a1df025",
            "4ecf08a9b8f8499e8c69056aa0e8e572",
            "595686d1e4ac47248b22cfff259a3c49",
            "70e94599035441b8947bb74c9572d9c5",
            "47cafa9292c14328ad709eda96d48072",
            "4cac9583f6e44e9189dbeb33180e3832",
            "de850b139e1d4dc88e035388e60408e0",
            "c83aad2dedde484fbcdd381670e8c65a"
          ]
        },
        "outputId": "aff83d0a-06ed-4d86-f31e-558b13bf3567"
      },
      "execution_count": 61,
      "outputs": [
        {
          "output_type": "stream",
          "name": "stdout",
          "text": [
            "train size: 21964, val size: 5491\n"
          ]
        },
        {
          "output_type": "display_data",
          "data": {
            "text/plain": [
              "  0%|          | 0/8 [00:00<?, ?it/s]"
            ],
            "application/vnd.jupyter.widget-view+json": {
              "version_major": 2,
              "version_minor": 0,
              "model_id": "11ce155cacdc4922b72efa4c66158a99"
            }
          },
          "metadata": {}
        },
        {
          "output_type": "stream",
          "name": "stdout",
          "text": [
            "Epoch : 0 | train loss:  0.0006 | Train acc :  1.0000 | Test loss :  0.0000 | Test acc : 1.0000 \n",
            "Epoch : 1 | train loss:  0.0003 | Train acc :  1.0000 | Test loss :  0.0000 | Test acc : 1.0000 \n",
            "Epoch : 2 | train loss:  0.0005 | Train acc :  1.0000 | Test loss :  0.0000 | Test acc : 1.0000 \n",
            "Epoch : 3 | train loss:  0.0002 | Train acc :  1.0000 | Test loss :  0.0000 | Test acc : 1.0000 \n",
            "Epoch : 4 | train loss:  0.0002 | Train acc :  1.0000 | Test loss :  0.0000 | Test acc : 1.0000 \n",
            "Epoch : 5 | train loss:  0.0002 | Train acc :  1.0000 | Test loss :  0.0000 | Test acc : 1.0000 \n",
            "Epoch : 6 | train loss:  0.0003 | Train acc :  1.0000 | Test loss :  0.0000 | Test acc : 1.0000 \n",
            "Epoch : 7 | train loss:  0.0003 | Train acc :  1.0000 | Test loss :  0.0000 | Test acc : 1.0000 \n",
            "train size: 21964, val size: 5491\n"
          ]
        },
        {
          "output_type": "display_data",
          "data": {
            "text/plain": [
              "  0%|          | 0/8 [00:00<?, ?it/s]"
            ],
            "application/vnd.jupyter.widget-view+json": {
              "version_major": 2,
              "version_minor": 0,
              "model_id": "4b66759171ba45dba64025bf4ac7271b"
            }
          },
          "metadata": {}
        },
        {
          "output_type": "stream",
          "name": "stdout",
          "text": [
            "Epoch : 0 | train loss:  0.0001 | Train acc :  1.0000 | Test loss :  0.0000 | Test acc : 1.0000 \n",
            "Epoch : 1 | train loss:  0.0001 | Train acc :  1.0000 | Test loss :  0.0000 | Test acc : 1.0000 \n",
            "Epoch : 2 | train loss:  0.0001 | Train acc :  1.0000 | Test loss :  0.0000 | Test acc : 1.0000 \n",
            "Epoch : 3 | train loss:  0.0002 | Train acc :  1.0000 | Test loss :  0.0000 | Test acc : 1.0000 \n",
            "Epoch : 4 | train loss:  0.0002 | Train acc :  1.0000 | Test loss :  0.0000 | Test acc : 1.0000 \n",
            "Epoch : 5 | train loss:  0.0001 | Train acc :  1.0000 | Test loss :  0.0000 | Test acc : 1.0000 \n",
            "Epoch : 6 | train loss:  0.0002 | Train acc :  1.0000 | Test loss :  0.0000 | Test acc : 1.0000 \n",
            "Epoch : 7 | train loss:  0.0001 | Train acc :  1.0000 | Test loss :  0.0000 | Test acc : 1.0000 \n",
            "train size: 21964, val size: 5491\n"
          ]
        },
        {
          "output_type": "display_data",
          "data": {
            "text/plain": [
              "  0%|          | 0/8 [00:00<?, ?it/s]"
            ],
            "application/vnd.jupyter.widget-view+json": {
              "version_major": 2,
              "version_minor": 0,
              "model_id": "c496cf02f2a046edb4ace89f4fad43ad"
            }
          },
          "metadata": {}
        },
        {
          "output_type": "stream",
          "name": "stdout",
          "text": [
            "Epoch : 0 | train loss:  0.0002 | Train acc :  1.0000 | Test loss :  0.0000 | Test acc : 1.0000 \n",
            "Epoch : 1 | train loss:  0.0001 | Train acc :  1.0000 | Test loss :  0.0000 | Test acc : 1.0000 \n",
            "Epoch : 2 | train loss:  0.0001 | Train acc :  1.0000 | Test loss :  0.0000 | Test acc : 1.0000 \n",
            "Epoch : 3 | train loss:  0.0001 | Train acc :  1.0000 | Test loss :  0.0000 | Test acc : 1.0000 \n",
            "Epoch : 4 | train loss:  0.0001 | Train acc :  1.0000 | Test loss :  0.0000 | Test acc : 1.0000 \n",
            "Epoch : 5 | train loss:  0.0002 | Train acc :  1.0000 | Test loss :  0.0000 | Test acc : 1.0000 \n",
            "Epoch : 6 | train loss:  0.0002 | Train acc :  1.0000 | Test loss :  0.0000 | Test acc : 1.0000 \n",
            "Epoch : 7 | train loss:  0.0001 | Train acc :  1.0000 | Test loss :  0.0000 | Test acc : 1.0000 \n",
            "train size: 21964, val size: 5491\n"
          ]
        },
        {
          "output_type": "display_data",
          "data": {
            "text/plain": [
              "  0%|          | 0/8 [00:00<?, ?it/s]"
            ],
            "application/vnd.jupyter.widget-view+json": {
              "version_major": 2,
              "version_minor": 0,
              "model_id": "8e29ec40e9e7432ebf80e9aab42b2df9"
            }
          },
          "metadata": {}
        },
        {
          "output_type": "stream",
          "name": "stdout",
          "text": [
            "Epoch : 0 | train loss:  0.0001 | Train acc :  1.0000 | Test loss :  0.0000 | Test acc : 1.0000 \n",
            "Epoch : 1 | train loss:  0.0001 | Train acc :  1.0000 | Test loss :  0.0000 | Test acc : 1.0000 \n",
            "Epoch : 2 | train loss:  0.0001 | Train acc :  1.0000 | Test loss :  0.0000 | Test acc : 1.0000 \n",
            "Epoch : 3 | train loss:  0.0001 | Train acc :  1.0000 | Test loss :  0.0000 | Test acc : 1.0000 \n",
            "Epoch : 4 | train loss:  0.0002 | Train acc :  1.0000 | Test loss :  0.0000 | Test acc : 1.0000 \n",
            "Epoch : 5 | train loss:  0.0003 | Train acc :  0.9999 | Test loss :  0.0000 | Test acc : 1.0000 \n",
            "Epoch : 6 | train loss:  0.0001 | Train acc :  1.0000 | Test loss :  0.0000 | Test acc : 1.0000 \n",
            "Epoch : 7 | train loss:  0.0001 | Train acc :  1.0000 | Test loss :  0.0000 | Test acc : 1.0000 \n",
            "train size: 21964, val size: 5491\n"
          ]
        },
        {
          "output_type": "display_data",
          "data": {
            "text/plain": [
              "  0%|          | 0/8 [00:00<?, ?it/s]"
            ],
            "application/vnd.jupyter.widget-view+json": {
              "version_major": 2,
              "version_minor": 0,
              "model_id": "d239d8f8bdd44cabaae909a94529cf99"
            }
          },
          "metadata": {}
        },
        {
          "output_type": "stream",
          "name": "stdout",
          "text": [
            "Epoch : 0 | train loss:  0.0000 | Train acc :  1.0000 | Test loss :  0.0000 | Test acc : 1.0000 \n",
            "Epoch : 1 | train loss:  0.0001 | Train acc :  1.0000 | Test loss :  0.0000 | Test acc : 1.0000 \n",
            "Epoch : 2 | train loss:  0.0001 | Train acc :  1.0000 | Test loss :  0.0000 | Test acc : 1.0000 \n",
            "Epoch : 3 | train loss:  0.0001 | Train acc :  1.0000 | Test loss :  0.0000 | Test acc : 1.0000 \n",
            "Epoch : 4 | train loss:  0.0001 | Train acc :  1.0000 | Test loss :  0.0000 | Test acc : 1.0000 \n",
            "Epoch : 5 | train loss:  0.0001 | Train acc :  1.0000 | Test loss :  0.0000 | Test acc : 1.0000 \n",
            "Epoch : 6 | train loss:  0.0001 | Train acc :  1.0000 | Test loss :  0.0000 | Test acc : 1.0000 \n",
            "Epoch : 7 | train loss:  0.0001 | Train acc :  1.0000 | Test loss :  0.0000 | Test acc : 1.0000 \n"
          ]
        }
      ]
    },
    {
      "cell_type": "code",
      "source": [
        "#Saving and loading the best model \n",
        "from pathlib import Path \n",
        "\n",
        "# Create models directory (if it doesn't already exist), see: https://docs.python.org/3/library/pathlib.html#pathlib.Path.mkdir\n",
        "MODEL_PATH = Path(\"models\")\n",
        "MODEL_PATH.mkdir(parents=True, # create parent directories if needed\n",
        "                 exist_ok=True # if models directory already exists, don't error\n",
        ")\n",
        "\n",
        "# Create model save path\n",
        "MODEL_NAME = \"model_hingeLoss_Resnet_SGD.pth\"\n",
        "MODEL_SAVE_PATH = MODEL_PATH / MODEL_NAME\n",
        "\n",
        "# Save the model state dict\n",
        "print(f\"Saving model to: {MODEL_SAVE_PATH}\")\n",
        "torch.save(obj=model_1.state_dict(), # only saving the state_dict() only saves the learned parameters\n",
        "           f=MODEL_SAVE_PATH)\n"
      ],
      "metadata": {
        "id": "jl41hP4WmUvb",
        "colab": {
          "base_uri": "https://localhost:8080/"
        },
        "outputId": "435aa510-7b00-423a-f099-c3fc7bfdbf03"
      },
      "execution_count": 62,
      "outputs": [
        {
          "output_type": "stream",
          "name": "stdout",
          "text": [
            "Saving model to: models/model_hingeLoss_Resnet_SGD.pth\n"
          ]
        }
      ]
    },
    {
      "cell_type": "code",
      "source": [
        "# create a new instance\n",
        "torch.manual_seed(42) \n",
        "loaded_model_1 = ResNet18(input_shape=1,\n",
        "                   hidden_units=24,\n",
        "                   output_shape=len(classes)).to(device)\n",
        "\n",
        "#Load in the save state_dict()\n",
        "loaded_model_1.load_state_dict(torch.load(f=MODEL_SAVE_PATH))\n",
        "\n",
        "#Send the model to target device \n",
        "loaded_model_1.to(device)"
      ],
      "metadata": {
        "colab": {
          "base_uri": "https://localhost:8080/"
        },
        "id": "nQ9_KuwOBXQl",
        "outputId": "76d76ea4-4693-492c-f4e6-ae8a05afb74a"
      },
      "execution_count": 63,
      "outputs": [
        {
          "output_type": "execute_result",
          "data": {
            "text/plain": [
              "ResNet18(\n",
              "  (conv1): Conv2d(1, 24, kernel_size=(3, 3), stride=(1, 1), padding=(1, 1))\n",
              "  (bn1): BatchNorm2d(24, eps=1e-05, momentum=0.1, affine=True, track_running_stats=True)\n",
              "  (layer1): Sequential(\n",
              "    (0): Conv2d(24, 24, kernel_size=(3, 3), stride=(1, 1), padding=(1, 1))\n",
              "    (1): BatchNorm2d(24, eps=1e-05, momentum=0.1, affine=True, track_running_stats=True)\n",
              "    (2): ReLU()\n",
              "    (3): Conv2d(24, 24, kernel_size=(3, 3), stride=(1, 1), padding=(1, 1))\n",
              "    (4): BatchNorm2d(24, eps=1e-05, momentum=0.1, affine=True, track_running_stats=True)\n",
              "    (5): ReLU()\n",
              "  )\n",
              "  (layer2): Sequential(\n",
              "    (0): Conv2d(24, 48, kernel_size=(3, 3), stride=(2, 2), padding=(1, 1))\n",
              "    (1): BatchNorm2d(48, eps=1e-05, momentum=0.1, affine=True, track_running_stats=True)\n",
              "    (2): ReLU()\n",
              "    (3): Conv2d(48, 48, kernel_size=(3, 3), stride=(1, 1), padding=(1, 1))\n",
              "    (4): BatchNorm2d(48, eps=1e-05, momentum=0.1, affine=True, track_running_stats=True)\n",
              "    (5): ReLU()\n",
              "  )\n",
              "  (layer3): Sequential(\n",
              "    (0): Conv2d(48, 96, kernel_size=(3, 3), stride=(2, 2), padding=(1, 1))\n",
              "    (1): BatchNorm2d(96, eps=1e-05, momentum=0.1, affine=True, track_running_stats=True)\n",
              "    (2): ReLU()\n",
              "    (3): Conv2d(96, 96, kernel_size=(3, 3), stride=(1, 1), padding=(1, 1))\n",
              "    (4): BatchNorm2d(96, eps=1e-05, momentum=0.1, affine=True, track_running_stats=True)\n",
              "    (5): ReLU()\n",
              "  )\n",
              "  (avgpool): AdaptiveAvgPool2d(output_size=(1, 1))\n",
              "  (fc): Linear(in_features=96, out_features=26, bias=True)\n",
              "  (dropout): Dropout(p=0.5, inplace=False)\n",
              ")"
            ]
          },
          "metadata": {},
          "execution_count": 63
        }
      ]
    },
    {
      "cell_type": "code",
      "source": [
        "preds2 = make_predictions(model=model_2,\n",
        "                             data=test_samples)\n"
      ],
      "metadata": {
        "id": "WjZJYVS0zXAg"
      },
      "execution_count": 66,
      "outputs": []
    },
    {
      "cell_type": "code",
      "source": [
        "#Plot predictions \n",
        "plt.figure(figsize=(9,9))\n",
        "nrows = 5 \n",
        "ncols = 4 \n",
        "for i, sample in enumerate(test_samples):\n",
        "  #create subplot \n",
        "  plt.subplot(nrows,ncols,i+1)\n",
        "  #plot target image \n",
        "  plt.imshow(sample.permute(1,2,0))\n",
        "  #find the prediction label in text form\n",
        "  pred_label = classes[preds2[i]]\n",
        "  # Get the truth label in text form \n",
        "  truth_label = classes[test_labels[i]]\n",
        "  #Create a title for the plot \n",
        "  title_text = f\"Pred : {pred_label} | Truth: {truth_label}\"\n",
        "  #Check for equality between pred and truth and color of title text\n",
        "  if pred_label == truth_label: \n",
        "    plt.title(title_text,fontsize=10,c=\"g\")\n",
        "  else: \n",
        "    plt.title(title_text,fontsize=10,c=\"r\")\n",
        "  plt.axis(False)"
      ],
      "metadata": {
        "colab": {
          "base_uri": "https://localhost:8080/",
          "height": 534
        },
        "id": "eLwMUu_Czd3k",
        "outputId": "db5ebbce-0ad8-40b8-d6ec-8caa90065a06"
      },
      "execution_count": 67,
      "outputs": [
        {
          "output_type": "display_data",
          "data": {
            "text/plain": [
              "<Figure size 648x648 with 20 Axes>"
            ],
            "image/png": "[encoded data removed]"
          },
          "metadata": {
            "needs_background": "light"
          }
        }
      ]
    },
    {
      "cell_type": "code",
      "source": [
        "preds_ensemble = []\n",
        "for image in test_samples:\n",
        "  logits_m1 = model_1(image.to(device).unsqueeze(0))\n",
        "  logits_m2 = model_2(image.to(device).unsqueeze(0))\n",
        "\n",
        "  pred_prob_1 = torch.softmax(logits_m1,dim=1)\n",
        "  pred_prob_2 = torch.softmax(logits_m2,dim=1)\n",
        "  pred_prob_ensemble = pred_prob_1 + pred_prob_2\n",
        "  pred_sum = torch.sum(pred_prob_ensemble,dim=0)\n",
        "  pred = torch.argmax(pred_sum)\n",
        "  preds_ensemble.append(pred)\n",
        "\n",
        "preds_ensemble"
      ],
      "metadata": {
        "colab": {
          "base_uri": "https://localhost:8080/"
        },
        "id": "Mes5fVaq9t1n",
        "outputId": "205aafc5-62ce-4d0c-f236-2dfd26145451"
      },
      "execution_count": 72,
      "outputs": [
        {
          "output_type": "execute_result",
          "data": {
            "text/plain": [
              "[tensor(6, device='cuda:0'),\n",
              " tensor(24, device='cuda:0'),\n",
              " tensor(10, device='cuda:0'),\n",
              " tensor(19, device='cuda:0'),\n",
              " tensor(19, device='cuda:0'),\n",
              " tensor(17, device='cuda:0'),\n",
              " tensor(24, device='cuda:0'),\n",
              " tensor(15, device='cuda:0'),\n",
              " tensor(24, device='cuda:0'),\n",
              " tensor(18, device='cuda:0'),\n",
              " tensor(24, device='cuda:0'),\n",
              " tensor(1, device='cuda:0'),\n",
              " tensor(4, device='cuda:0'),\n",
              " tensor(5, device='cuda:0'),\n",
              " tensor(21, device='cuda:0'),\n",
              " tensor(15, device='cuda:0'),\n",
              " tensor(1, device='cuda:0'),\n",
              " tensor(15, device='cuda:0'),\n",
              " tensor(18, device='cuda:0'),\n",
              " tensor(4, device='cuda:0')]"
            ]
          },
          "metadata": {},
          "execution_count": 72
        }
      ]
    },
    {
      "cell_type": "code",
      "source": [
        "#Plot predictions \n",
        "plt.figure(figsize=(9,9))\n",
        "nrows = 5 \n",
        "ncols = 4 \n",
        "for i, sample in enumerate(test_samples):\n",
        "  #create subplot \n",
        "  plt.subplot(nrows,ncols,i+1)\n",
        "  #plot target image \n",
        "  plt.imshow(sample.permute(1,2,0))\n",
        "  #find the prediction label in text form\n",
        "  pred_label = classes[preds_ensemble[i]]\n",
        "  # Get the truth label in text form \n",
        "  truth_label = classes[test_labels[i]]\n",
        "  #Create a title for the plot \n",
        "  title_text = f\"Pred : {pred_label} | Truth: {truth_label}\"\n",
        "  #Check for equality between pred and truth and color of title text\n",
        "  if pred_label == truth_label: \n",
        "    plt.title(title_text,fontsize=10,c=\"g\")\n",
        "  else: \n",
        "    plt.title(title_text,fontsize=10,c=\"r\")\n",
        "  plt.axis(False)"
      ],
      "metadata": {
        "colab": {
          "base_uri": "https://localhost:8080/",
          "height": 534
        },
        "id": "p-cqKyMjCpQZ",
        "outputId": "ccc63ae6-565d-41a8-fe37-bb5ed72ed41e"
      },
      "execution_count": 73,
      "outputs": [
        {
          "output_type": "display_data",
          "data": {
            "text/plain": [
              "<Figure size 648x648 with 20 Axes>"
            ],
            "image/png": "[encoded data removed]"
          },
          "metadata": {
            "needs_background": "light"
          }
        }
      ]
    }
  ]
}