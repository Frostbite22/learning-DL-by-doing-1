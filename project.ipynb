{
  "nbformat": 4,
  "nbformat_minor": 0,
  "metadata": {
    "colab": {
      "provenance": [],
      "include_colab_link": true
    },
    "kernelspec": {
      "name": "python3",
      "display_name": "Python 3"
    },
    "language_info": {
      "name": "python"
    },
    "accelerator": "GPU",
    "gpuClass": "standard",
    "widgets": {
      "application/vnd.jupyter.widget-state+json": {
        "458d7166b6804142b5a6d082d9dba70a": {
          "model_module": "@jupyter-widgets/controls",
          "model_name": "HBoxModel",
          "model_module_version": "1.5.0",
          "state": {
            "_dom_classes": [],
            "_model_module": "@jupyter-widgets/controls",
            "_model_module_version": "1.5.0",
            "_model_name": "HBoxModel",
            "_view_count": null,
            "_view_module": "@jupyter-widgets/controls",
            "_view_module_version": "1.5.0",
            "_view_name": "HBoxView",
            "box_style": "",
            "children": [
              "IPY_MODEL_e49bdc1205ee44699ab608143e266839",
              "IPY_MODEL_d2c24d23e6584549840086d0cc3186a8",
              "IPY_MODEL_b3eac8b4998f4eb6a9f4400c2adc7ddb"
            ],
            "layout": "IPY_MODEL_acb3def8842b4a18808c597de20d8a83"
          }
        },
        "e49bdc1205ee44699ab608143e266839": {
          "model_module": "@jupyter-widgets/controls",
          "model_name": "HTMLModel",
          "model_module_version": "1.5.0",
          "state": {
            "_dom_classes": [],
            "_model_module": "@jupyter-widgets/controls",
            "_model_module_version": "1.5.0",
            "_model_name": "HTMLModel",
            "_view_count": null,
            "_view_module": "@jupyter-widgets/controls",
            "_view_module_version": "1.5.0",
            "_view_name": "HTMLView",
            "description": "",
            "description_tooltip": null,
            "layout": "IPY_MODEL_da2185680c2d46b9814aa4011fa27b6f",
            "placeholder": "​",
            "style": "IPY_MODEL_811a6676612b41e489a06358944c3b9e",
            "value": "100%"
          }
        },
        "d2c24d23e6584549840086d0cc3186a8": {
          "model_module": "@jupyter-widgets/controls",
          "model_name": "FloatProgressModel",
          "model_module_version": "1.5.0",
          "state": {
            "_dom_classes": [],
            "_model_module": "@jupyter-widgets/controls",
            "_model_module_version": "1.5.0",
            "_model_name": "FloatProgressModel",
            "_view_count": null,
            "_view_module": "@jupyter-widgets/controls",
            "_view_module_version": "1.5.0",
            "_view_name": "ProgressView",
            "bar_style": "success",
            "description": "",
            "description_tooltip": null,
            "layout": "IPY_MODEL_7d045bce07294fb28c5165a1115f79e5",
            "max": 8,
            "min": 0,
            "orientation": "horizontal",
            "style": "IPY_MODEL_d0384345d3d142d2a51adf6b18f0ff13",
            "value": 8
          }
        },
        "b3eac8b4998f4eb6a9f4400c2adc7ddb": {
          "model_module": "@jupyter-widgets/controls",
          "model_name": "HTMLModel",
          "model_module_version": "1.5.0",
          "state": {
            "_dom_classes": [],
            "_model_module": "@jupyter-widgets/controls",
            "_model_module_version": "1.5.0",
            "_model_name": "HTMLModel",
            "_view_count": null,
            "_view_module": "@jupyter-widgets/controls",
            "_view_module_version": "1.5.0",
            "_view_name": "HTMLView",
            "description": "",
            "description_tooltip": null,
            "layout": "IPY_MODEL_91f53d75e7d54e62b86e79937474ecae",
            "placeholder": "​",
            "style": "IPY_MODEL_7bfb5c4bb62d4c38b1c89f02abc41d77",
            "value": " 8/8 [01:04&lt;00:00,  8.03s/it]"
          }
        },
        "acb3def8842b4a18808c597de20d8a83": {
          "model_module": "@jupyter-widgets/base",
          "model_name": "LayoutModel",
          "model_module_version": "1.2.0",
          "state": {
            "_model_module": "@jupyter-widgets/base",
            "_model_module_version": "1.2.0",
            "_model_name": "LayoutModel",
            "_view_count": null,
            "_view_module": "@jupyter-widgets/base",
            "_view_module_version": "1.2.0",
            "_view_name": "LayoutView",
            "align_content": null,
            "align_items": null,
            "align_self": null,
            "border": null,
            "bottom": null,
            "display": null,
            "flex": null,
            "flex_flow": null,
            "grid_area": null,
            "grid_auto_columns": null,
            "grid_auto_flow": null,
            "grid_auto_rows": null,
            "grid_column": null,
            "grid_gap": null,
            "grid_row": null,
            "grid_template_areas": null,
            "grid_template_columns": null,
            "grid_template_rows": null,
            "height": null,
            "justify_content": null,
            "justify_items": null,
            "left": null,
            "margin": null,
            "max_height": null,
            "max_width": null,
            "min_height": null,
            "min_width": null,
            "object_fit": null,
            "object_position": null,
            "order": null,
            "overflow": null,
            "overflow_x": null,
            "overflow_y": null,
            "padding": null,
            "right": null,
            "top": null,
            "visibility": null,
            "width": null
          }
        },
        "da2185680c2d46b9814aa4011fa27b6f": {
          "model_module": "@jupyter-widgets/base",
          "model_name": "LayoutModel",
          "model_module_version": "1.2.0",
          "state": {
            "_model_module": "@jupyter-widgets/base",
            "_model_module_version": "1.2.0",
            "_model_name": "LayoutModel",
            "_view_count": null,
            "_view_module": "@jupyter-widgets/base",
            "_view_module_version": "1.2.0",
            "_view_name": "LayoutView",
            "align_content": null,
            "align_items": null,
            "align_self": null,
            "border": null,
            "bottom": null,
            "display": null,
            "flex": null,
            "flex_flow": null,
            "grid_area": null,
            "grid_auto_columns": null,
            "grid_auto_flow": null,
            "grid_auto_rows": null,
            "grid_column": null,
            "grid_gap": null,
            "grid_row": null,
            "grid_template_areas": null,
            "grid_template_columns": null,
            "grid_template_rows": null,
            "height": null,
            "justify_content": null,
            "justify_items": null,
            "left": null,
            "margin": null,
            "max_height": null,
            "max_width": null,
            "min_height": null,
            "min_width": null,
            "object_fit": null,
            "object_position": null,
            "order": null,
            "overflow": null,
            "overflow_x": null,
            "overflow_y": null,
            "padding": null,
            "right": null,
            "top": null,
            "visibility": null,
            "width": null
          }
        },
        "811a6676612b41e489a06358944c3b9e": {
          "model_module": "@jupyter-widgets/controls",
          "model_name": "DescriptionStyleModel",
          "model_module_version": "1.5.0",
          "state": {
            "_model_module": "@jupyter-widgets/controls",
            "_model_module_version": "1.5.0",
            "_model_name": "DescriptionStyleModel",
            "_view_count": null,
            "_view_module": "@jupyter-widgets/base",
            "_view_module_version": "1.2.0",
            "_view_name": "StyleView",
            "description_width": ""
          }
        },
        "7d045bce07294fb28c5165a1115f79e5": {
          "model_module": "@jupyter-widgets/base",
          "model_name": "LayoutModel",
          "model_module_version": "1.2.0",
          "state": {
            "_model_module": "@jupyter-widgets/base",
            "_model_module_version": "1.2.0",
            "_model_name": "LayoutModel",
            "_view_count": null,
            "_view_module": "@jupyter-widgets/base",
            "_view_module_version": "1.2.0",
            "_view_name": "LayoutView",
            "align_content": null,
            "align_items": null,
            "align_self": null,
            "border": null,
            "bottom": null,
            "display": null,
            "flex": null,
            "flex_flow": null,
            "grid_area": null,
            "grid_auto_columns": null,
            "grid_auto_flow": null,
            "grid_auto_rows": null,
            "grid_column": null,
            "grid_gap": null,
            "grid_row": null,
            "grid_template_areas": null,
            "grid_template_columns": null,
            "grid_template_rows": null,
            "height": null,
            "justify_content": null,
            "justify_items": null,
            "left": null,
            "margin": null,
            "max_height": null,
            "max_width": null,
            "min_height": null,
            "min_width": null,
            "object_fit": null,
            "object_position": null,
            "order": null,
            "overflow": null,
            "overflow_x": null,
            "overflow_y": null,
            "padding": null,
            "right": null,
            "top": null,
            "visibility": null,
            "width": null
          }
        },
        "d0384345d3d142d2a51adf6b18f0ff13": {
          "model_module": "@jupyter-widgets/controls",
          "model_name": "ProgressStyleModel",
          "model_module_version": "1.5.0",
          "state": {
            "_model_module": "@jupyter-widgets/controls",
            "_model_module_version": "1.5.0",
            "_model_name": "ProgressStyleModel",
            "_view_count": null,
            "_view_module": "@jupyter-widgets/base",
            "_view_module_version": "1.2.0",
            "_view_name": "StyleView",
            "bar_color": null,
            "description_width": ""
          }
        },
        "91f53d75e7d54e62b86e79937474ecae": {
          "model_module": "@jupyter-widgets/base",
          "model_name": "LayoutModel",
          "model_module_version": "1.2.0",
          "state": {
            "_model_module": "@jupyter-widgets/base",
            "_model_module_version": "1.2.0",
            "_model_name": "LayoutModel",
            "_view_count": null,
            "_view_module": "@jupyter-widgets/base",
            "_view_module_version": "1.2.0",
            "_view_name": "LayoutView",
            "align_content": null,
            "align_items": null,
            "align_self": null,
            "border": null,
            "bottom": null,
            "display": null,
            "flex": null,
            "flex_flow": null,
            "grid_area": null,
            "grid_auto_columns": null,
            "grid_auto_flow": null,
            "grid_auto_rows": null,
            "grid_column": null,
            "grid_gap": null,
            "grid_row": null,
            "grid_template_areas": null,
            "grid_template_columns": null,
            "grid_template_rows": null,
            "height": null,
            "justify_content": null,
            "justify_items": null,
            "left": null,
            "margin": null,
            "max_height": null,
            "max_width": null,
            "min_height": null,
            "min_width": null,
            "object_fit": null,
            "object_position": null,
            "order": null,
            "overflow": null,
            "overflow_x": null,
            "overflow_y": null,
            "padding": null,
            "right": null,
            "top": null,
            "visibility": null,
            "width": null
          }
        },
        "7bfb5c4bb62d4c38b1c89f02abc41d77": {
          "model_module": "@jupyter-widgets/controls",
          "model_name": "DescriptionStyleModel",
          "model_module_version": "1.5.0",
          "state": {
            "_model_module": "@jupyter-widgets/controls",
            "_model_module_version": "1.5.0",
            "_model_name": "DescriptionStyleModel",
            "_view_count": null,
            "_view_module": "@jupyter-widgets/base",
            "_view_module_version": "1.2.0",
            "_view_name": "StyleView",
            "description_width": ""
          }
        },
        "4d5c472c90f94627bbfea6e29148966a": {
          "model_module": "@jupyter-widgets/controls",
          "model_name": "HBoxModel",
          "model_module_version": "1.5.0",
          "state": {
            "_dom_classes": [],
            "_model_module": "@jupyter-widgets/controls",
            "_model_module_version": "1.5.0",
            "_model_name": "HBoxModel",
            "_view_count": null,
            "_view_module": "@jupyter-widgets/controls",
            "_view_module_version": "1.5.0",
            "_view_name": "HBoxView",
            "box_style": "",
            "children": [
              "IPY_MODEL_6c881d7cb0cf470dbbdeacd0b0902521",
              "IPY_MODEL_391584eba03f45349b3abe6e648aa36f",
              "IPY_MODEL_69871c11a6394782bff629b6565d6057"
            ],
            "layout": "IPY_MODEL_53e8bbfb71744ff5a6da780b7601b65e"
          }
        },
        "6c881d7cb0cf470dbbdeacd0b0902521": {
          "model_module": "@jupyter-widgets/controls",
          "model_name": "HTMLModel",
          "model_module_version": "1.5.0",
          "state": {
            "_dom_classes": [],
            "_model_module": "@jupyter-widgets/controls",
            "_model_module_version": "1.5.0",
            "_model_name": "HTMLModel",
            "_view_count": null,
            "_view_module": "@jupyter-widgets/controls",
            "_view_module_version": "1.5.0",
            "_view_name": "HTMLView",
            "description": "",
            "description_tooltip": null,
            "layout": "IPY_MODEL_42cb0455e77147a2a0b4afe22bed29ae",
            "placeholder": "​",
            "style": "IPY_MODEL_29264f2bb81b4c1bbf48e172d2d1b887",
            "value": "100%"
          }
        },
        "391584eba03f45349b3abe6e648aa36f": {
          "model_module": "@jupyter-widgets/controls",
          "model_name": "FloatProgressModel",
          "model_module_version": "1.5.0",
          "state": {
            "_dom_classes": [],
            "_model_module": "@jupyter-widgets/controls",
            "_model_module_version": "1.5.0",
            "_model_name": "FloatProgressModel",
            "_view_count": null,
            "_view_module": "@jupyter-widgets/controls",
            "_view_module_version": "1.5.0",
            "_view_name": "ProgressView",
            "bar_style": "success",
            "description": "",
            "description_tooltip": null,
            "layout": "IPY_MODEL_369fcd1eb3ec444cb20c2088cae106e8",
            "max": 8,
            "min": 0,
            "orientation": "horizontal",
            "style": "IPY_MODEL_928390656f4e499d96a4bb224379507e",
            "value": 8
          }
        },
        "69871c11a6394782bff629b6565d6057": {
          "model_module": "@jupyter-widgets/controls",
          "model_name": "HTMLModel",
          "model_module_version": "1.5.0",
          "state": {
            "_dom_classes": [],
            "_model_module": "@jupyter-widgets/controls",
            "_model_module_version": "1.5.0",
            "_model_name": "HTMLModel",
            "_view_count": null,
            "_view_module": "@jupyter-widgets/controls",
            "_view_module_version": "1.5.0",
            "_view_name": "HTMLView",
            "description": "",
            "description_tooltip": null,
            "layout": "IPY_MODEL_eae9c7d7db41467a90e4739ea81578bd",
            "placeholder": "​",
            "style": "IPY_MODEL_f8c5d187d5a94a6988f1e04f46fa55f8",
            "value": " 8/8 [00:59&lt;00:00,  7.54s/it]"
          }
        },
        "53e8bbfb71744ff5a6da780b7601b65e": {
          "model_module": "@jupyter-widgets/base",
          "model_name": "LayoutModel",
          "model_module_version": "1.2.0",
          "state": {
            "_model_module": "@jupyter-widgets/base",
            "_model_module_version": "1.2.0",
            "_model_name": "LayoutModel",
            "_view_count": null,
            "_view_module": "@jupyter-widgets/base",
            "_view_module_version": "1.2.0",
            "_view_name": "LayoutView",
            "align_content": null,
            "align_items": null,
            "align_self": null,
            "border": null,
            "bottom": null,
            "display": null,
            "flex": null,
            "flex_flow": null,
            "grid_area": null,
            "grid_auto_columns": null,
            "grid_auto_flow": null,
            "grid_auto_rows": null,
            "grid_column": null,
            "grid_gap": null,
            "grid_row": null,
            "grid_template_areas": null,
            "grid_template_columns": null,
            "grid_template_rows": null,
            "height": null,
            "justify_content": null,
            "justify_items": null,
            "left": null,
            "margin": null,
            "max_height": null,
            "max_width": null,
            "min_height": null,
            "min_width": null,
            "object_fit": null,
            "object_position": null,
            "order": null,
            "overflow": null,
            "overflow_x": null,
            "overflow_y": null,
            "padding": null,
            "right": null,
            "top": null,
            "visibility": null,
            "width": null
          }
        },
        "42cb0455e77147a2a0b4afe22bed29ae": {
          "model_module": "@jupyter-widgets/base",
          "model_name": "LayoutModel",
          "model_module_version": "1.2.0",
          "state": {
            "_model_module": "@jupyter-widgets/base",
            "_model_module_version": "1.2.0",
            "_model_name": "LayoutModel",
            "_view_count": null,
            "_view_module": "@jupyter-widgets/base",
            "_view_module_version": "1.2.0",
            "_view_name": "LayoutView",
            "align_content": null,
            "align_items": null,
            "align_self": null,
            "border": null,
            "bottom": null,
            "display": null,
            "flex": null,
            "flex_flow": null,
            "grid_area": null,
            "grid_auto_columns": null,
            "grid_auto_flow": null,
            "grid_auto_rows": null,
            "grid_column": null,
            "grid_gap": null,
            "grid_row": null,
            "grid_template_areas": null,
            "grid_template_columns": null,
            "grid_template_rows": null,
            "height": null,
            "justify_content": null,
            "justify_items": null,
            "left": null,
            "margin": null,
            "max_height": null,
            "max_width": null,
            "min_height": null,
            "min_width": null,
            "object_fit": null,
            "object_position": null,
            "order": null,
            "overflow": null,
            "overflow_x": null,
            "overflow_y": null,
            "padding": null,
            "right": null,
            "top": null,
            "visibility": null,
            "width": null
          }
        },
        "29264f2bb81b4c1bbf48e172d2d1b887": {
          "model_module": "@jupyter-widgets/controls",
          "model_name": "DescriptionStyleModel",
          "model_module_version": "1.5.0",
          "state": {
            "_model_module": "@jupyter-widgets/controls",
            "_model_module_version": "1.5.0",
            "_model_name": "DescriptionStyleModel",
            "_view_count": null,
            "_view_module": "@jupyter-widgets/base",
            "_view_module_version": "1.2.0",
            "_view_name": "StyleView",
            "description_width": ""
          }
        },
        "369fcd1eb3ec444cb20c2088cae106e8": {
          "model_module": "@jupyter-widgets/base",
          "model_name": "LayoutModel",
          "model_module_version": "1.2.0",
          "state": {
            "_model_module": "@jupyter-widgets/base",
            "_model_module_version": "1.2.0",
            "_model_name": "LayoutModel",
            "_view_count": null,
            "_view_module": "@jupyter-widgets/base",
            "_view_module_version": "1.2.0",
            "_view_name": "LayoutView",
            "align_content": null,
            "align_items": null,
            "align_self": null,
            "border": null,
            "bottom": null,
            "display": null,
            "flex": null,
            "flex_flow": null,
            "grid_area": null,
            "grid_auto_columns": null,
            "grid_auto_flow": null,
            "grid_auto_rows": null,
            "grid_column": null,
            "grid_gap": null,
            "grid_row": null,
            "grid_template_areas": null,
            "grid_template_columns": null,
            "grid_template_rows": null,
            "height": null,
            "justify_content": null,
            "justify_items": null,
            "left": null,
            "margin": null,
            "max_height": null,
            "max_width": null,
            "min_height": null,
            "min_width": null,
            "object_fit": null,
            "object_position": null,
            "order": null,
            "overflow": null,
            "overflow_x": null,
            "overflow_y": null,
            "padding": null,
            "right": null,
            "top": null,
            "visibility": null,
            "width": null
          }
        },
        "928390656f4e499d96a4bb224379507e": {
          "model_module": "@jupyter-widgets/controls",
          "model_name": "ProgressStyleModel",
          "model_module_version": "1.5.0",
          "state": {
            "_model_module": "@jupyter-widgets/controls",
            "_model_module_version": "1.5.0",
            "_model_name": "ProgressStyleModel",
            "_view_count": null,
            "_view_module": "@jupyter-widgets/base",
            "_view_module_version": "1.2.0",
            "_view_name": "StyleView",
            "bar_color": null,
            "description_width": ""
          }
        },
        "eae9c7d7db41467a90e4739ea81578bd": {
          "model_module": "@jupyter-widgets/base",
          "model_name": "LayoutModel",
          "model_module_version": "1.2.0",
          "state": {
            "_model_module": "@jupyter-widgets/base",
            "_model_module_version": "1.2.0",
            "_model_name": "LayoutModel",
            "_view_count": null,
            "_view_module": "@jupyter-widgets/base",
            "_view_module_version": "1.2.0",
            "_view_name": "LayoutView",
            "align_content": null,
            "align_items": null,
            "align_self": null,
            "border": null,
            "bottom": null,
            "display": null,
            "flex": null,
            "flex_flow": null,
            "grid_area": null,
            "grid_auto_columns": null,
            "grid_auto_flow": null,
            "grid_auto_rows": null,
            "grid_column": null,
            "grid_gap": null,
            "grid_row": null,
            "grid_template_areas": null,
            "grid_template_columns": null,
            "grid_template_rows": null,
            "height": null,
            "justify_content": null,
            "justify_items": null,
            "left": null,
            "margin": null,
            "max_height": null,
            "max_width": null,
            "min_height": null,
            "min_width": null,
            "object_fit": null,
            "object_position": null,
            "order": null,
            "overflow": null,
            "overflow_x": null,
            "overflow_y": null,
            "padding": null,
            "right": null,
            "top": null,
            "visibility": null,
            "width": null
          }
        },
        "f8c5d187d5a94a6988f1e04f46fa55f8": {
          "model_module": "@jupyter-widgets/controls",
          "model_name": "DescriptionStyleModel",
          "model_module_version": "1.5.0",
          "state": {
            "_model_module": "@jupyter-widgets/controls",
            "_model_module_version": "1.5.0",
            "_model_name": "DescriptionStyleModel",
            "_view_count": null,
            "_view_module": "@jupyter-widgets/base",
            "_view_module_version": "1.2.0",
            "_view_name": "StyleView",
            "description_width": ""
          }
        },
        "25c60e053a52408e91563e800070c737": {
          "model_module": "@jupyter-widgets/controls",
          "model_name": "HBoxModel",
          "model_module_version": "1.5.0",
          "state": {
            "_dom_classes": [],
            "_model_module": "@jupyter-widgets/controls",
            "_model_module_version": "1.5.0",
            "_model_name": "HBoxModel",
            "_view_count": null,
            "_view_module": "@jupyter-widgets/controls",
            "_view_module_version": "1.5.0",
            "_view_name": "HBoxView",
            "box_style": "",
            "children": [
              "IPY_MODEL_a37606c79406454685dff263611da293",
              "IPY_MODEL_c32f6a38d3d049c494bd468eadd845ce",
              "IPY_MODEL_0733a399e2e4411ca2f4feab6db4d9a0"
            ],
            "layout": "IPY_MODEL_59275f67ddc94912ba410dba008b7c15"
          }
        },
        "a37606c79406454685dff263611da293": {
          "model_module": "@jupyter-widgets/controls",
          "model_name": "HTMLModel",
          "model_module_version": "1.5.0",
          "state": {
            "_dom_classes": [],
            "_model_module": "@jupyter-widgets/controls",
            "_model_module_version": "1.5.0",
            "_model_name": "HTMLModel",
            "_view_count": null,
            "_view_module": "@jupyter-widgets/controls",
            "_view_module_version": "1.5.0",
            "_view_name": "HTMLView",
            "description": "",
            "description_tooltip": null,
            "layout": "IPY_MODEL_ddea0209b2c147e7bf2d150766ef8c0e",
            "placeholder": "​",
            "style": "IPY_MODEL_19f564004eef4ca58dab91a77b7907ff",
            "value": "100%"
          }
        },
        "c32f6a38d3d049c494bd468eadd845ce": {
          "model_module": "@jupyter-widgets/controls",
          "model_name": "FloatProgressModel",
          "model_module_version": "1.5.0",
          "state": {
            "_dom_classes": [],
            "_model_module": "@jupyter-widgets/controls",
            "_model_module_version": "1.5.0",
            "_model_name": "FloatProgressModel",
            "_view_count": null,
            "_view_module": "@jupyter-widgets/controls",
            "_view_module_version": "1.5.0",
            "_view_name": "ProgressView",
            "bar_style": "success",
            "description": "",
            "description_tooltip": null,
            "layout": "IPY_MODEL_89855153ac7a463c9059c4082343fc49",
            "max": 8,
            "min": 0,
            "orientation": "horizontal",
            "style": "IPY_MODEL_a2c093c63c1c4e9b89ba96bc9b8c0561",
            "value": 8
          }
        },
        "0733a399e2e4411ca2f4feab6db4d9a0": {
          "model_module": "@jupyter-widgets/controls",
          "model_name": "HTMLModel",
          "model_module_version": "1.5.0",
          "state": {
            "_dom_classes": [],
            "_model_module": "@jupyter-widgets/controls",
            "_model_module_version": "1.5.0",
            "_model_name": "HTMLModel",
            "_view_count": null,
            "_view_module": "@jupyter-widgets/controls",
            "_view_module_version": "1.5.0",
            "_view_name": "HTMLView",
            "description": "",
            "description_tooltip": null,
            "layout": "IPY_MODEL_d50cb23080904426b4f39b0be9faf4d8",
            "placeholder": "​",
            "style": "IPY_MODEL_9af19fe57c144ba5bb6240168d2840a8",
            "value": " 8/8 [00:45&lt;00:00,  5.65s/it]"
          }
        },
        "59275f67ddc94912ba410dba008b7c15": {
          "model_module": "@jupyter-widgets/base",
          "model_name": "LayoutModel",
          "model_module_version": "1.2.0",
          "state": {
            "_model_module": "@jupyter-widgets/base",
            "_model_module_version": "1.2.0",
            "_model_name": "LayoutModel",
            "_view_count": null,
            "_view_module": "@jupyter-widgets/base",
            "_view_module_version": "1.2.0",
            "_view_name": "LayoutView",
            "align_content": null,
            "align_items": null,
            "align_self": null,
            "border": null,
            "bottom": null,
            "display": null,
            "flex": null,
            "flex_flow": null,
            "grid_area": null,
            "grid_auto_columns": null,
            "grid_auto_flow": null,
            "grid_auto_rows": null,
            "grid_column": null,
            "grid_gap": null,
            "grid_row": null,
            "grid_template_areas": null,
            "grid_template_columns": null,
            "grid_template_rows": null,
            "height": null,
            "justify_content": null,
            "justify_items": null,
            "left": null,
            "margin": null,
            "max_height": null,
            "max_width": null,
            "min_height": null,
            "min_width": null,
            "object_fit": null,
            "object_position": null,
            "order": null,
            "overflow": null,
            "overflow_x": null,
            "overflow_y": null,
            "padding": null,
            "right": null,
            "top": null,
            "visibility": null,
            "width": null
          }
        },
        "ddea0209b2c147e7bf2d150766ef8c0e": {
          "model_module": "@jupyter-widgets/base",
          "model_name": "LayoutModel",
          "model_module_version": "1.2.0",
          "state": {
            "_model_module": "@jupyter-widgets/base",
            "_model_module_version": "1.2.0",
            "_model_name": "LayoutModel",
            "_view_count": null,
            "_view_module": "@jupyter-widgets/base",
            "_view_module_version": "1.2.0",
            "_view_name": "LayoutView",
            "align_content": null,
            "align_items": null,
            "align_self": null,
            "border": null,
            "bottom": null,
            "display": null,
            "flex": null,
            "flex_flow": null,
            "grid_area": null,
            "grid_auto_columns": null,
            "grid_auto_flow": null,
            "grid_auto_rows": null,
            "grid_column": null,
            "grid_gap": null,
            "grid_row": null,
            "grid_template_areas": null,
            "grid_template_columns": null,
            "grid_template_rows": null,
            "height": null,
            "justify_content": null,
            "justify_items": null,
            "left": null,
            "margin": null,
            "max_height": null,
            "max_width": null,
            "min_height": null,
            "min_width": null,
            "object_fit": null,
            "object_position": null,
            "order": null,
            "overflow": null,
            "overflow_x": null,
            "overflow_y": null,
            "padding": null,
            "right": null,
            "top": null,
            "visibility": null,
            "width": null
          }
        },
        "19f564004eef4ca58dab91a77b7907ff": {
          "model_module": "@jupyter-widgets/controls",
          "model_name": "DescriptionStyleModel",
          "model_module_version": "1.5.0",
          "state": {
            "_model_module": "@jupyter-widgets/controls",
            "_model_module_version": "1.5.0",
            "_model_name": "DescriptionStyleModel",
            "_view_count": null,
            "_view_module": "@jupyter-widgets/base",
            "_view_module_version": "1.2.0",
            "_view_name": "StyleView",
            "description_width": ""
          }
        },
        "89855153ac7a463c9059c4082343fc49": {
          "model_module": "@jupyter-widgets/base",
          "model_name": "LayoutModel",
          "model_module_version": "1.2.0",
          "state": {
            "_model_module": "@jupyter-widgets/base",
            "_model_module_version": "1.2.0",
            "_model_name": "LayoutModel",
            "_view_count": null,
            "_view_module": "@jupyter-widgets/base",
            "_view_module_version": "1.2.0",
            "_view_name": "LayoutView",
            "align_content": null,
            "align_items": null,
            "align_self": null,
            "border": null,
            "bottom": null,
            "display": null,
            "flex": null,
            "flex_flow": null,
            "grid_area": null,
            "grid_auto_columns": null,
            "grid_auto_flow": null,
            "grid_auto_rows": null,
            "grid_column": null,
            "grid_gap": null,
            "grid_row": null,
            "grid_template_areas": null,
            "grid_template_columns": null,
            "grid_template_rows": null,
            "height": null,
            "justify_content": null,
            "justify_items": null,
            "left": null,
            "margin": null,
            "max_height": null,
            "max_width": null,
            "min_height": null,
            "min_width": null,
            "object_fit": null,
            "object_position": null,
            "order": null,
            "overflow": null,
            "overflow_x": null,
            "overflow_y": null,
            "padding": null,
            "right": null,
            "top": null,
            "visibility": null,
            "width": null
          }
        },
        "a2c093c63c1c4e9b89ba96bc9b8c0561": {
          "model_module": "@jupyter-widgets/controls",
          "model_name": "ProgressStyleModel",
          "model_module_version": "1.5.0",
          "state": {
            "_model_module": "@jupyter-widgets/controls",
            "_model_module_version": "1.5.0",
            "_model_name": "ProgressStyleModel",
            "_view_count": null,
            "_view_module": "@jupyter-widgets/base",
            "_view_module_version": "1.2.0",
            "_view_name": "StyleView",
            "bar_color": null,
            "description_width": ""
          }
        },
        "d50cb23080904426b4f39b0be9faf4d8": {
          "model_module": "@jupyter-widgets/base",
          "model_name": "LayoutModel",
          "model_module_version": "1.2.0",
          "state": {
            "_model_module": "@jupyter-widgets/base",
            "_model_module_version": "1.2.0",
            "_model_name": "LayoutModel",
            "_view_count": null,
            "_view_module": "@jupyter-widgets/base",
            "_view_module_version": "1.2.0",
            "_view_name": "LayoutView",
            "align_content": null,
            "align_items": null,
            "align_self": null,
            "border": null,
            "bottom": null,
            "display": null,
            "flex": null,
            "flex_flow": null,
            "grid_area": null,
            "grid_auto_columns": null,
            "grid_auto_flow": null,
            "grid_auto_rows": null,
            "grid_column": null,
            "grid_gap": null,
            "grid_row": null,
            "grid_template_areas": null,
            "grid_template_columns": null,
            "grid_template_rows": null,
            "height": null,
            "justify_content": null,
            "justify_items": null,
            "left": null,
            "margin": null,
            "max_height": null,
            "max_width": null,
            "min_height": null,
            "min_width": null,
            "object_fit": null,
            "object_position": null,
            "order": null,
            "overflow": null,
            "overflow_x": null,
            "overflow_y": null,
            "padding": null,
            "right": null,
            "top": null,
            "visibility": null,
            "width": null
          }
        },
        "9af19fe57c144ba5bb6240168d2840a8": {
          "model_module": "@jupyter-widgets/controls",
          "model_name": "DescriptionStyleModel",
          "model_module_version": "1.5.0",
          "state": {
            "_model_module": "@jupyter-widgets/controls",
            "_model_module_version": "1.5.0",
            "_model_name": "DescriptionStyleModel",
            "_view_count": null,
            "_view_module": "@jupyter-widgets/base",
            "_view_module_version": "1.2.0",
            "_view_name": "StyleView",
            "description_width": ""
          }
        },
        "418f7618ef6b44c5a182d70979744834": {
          "model_module": "@jupyter-widgets/controls",
          "model_name": "HBoxModel",
          "model_module_version": "1.5.0",
          "state": {
            "_dom_classes": [],
            "_model_module": "@jupyter-widgets/controls",
            "_model_module_version": "1.5.0",
            "_model_name": "HBoxModel",
            "_view_count": null,
            "_view_module": "@jupyter-widgets/controls",
            "_view_module_version": "1.5.0",
            "_view_name": "HBoxView",
            "box_style": "",
            "children": [
              "IPY_MODEL_65e3d7be5b364be1b9cf8eef2ecd85a7",
              "IPY_MODEL_b5fb0ce732eb49e1b382c0d85885cc2b",
              "IPY_MODEL_1bccbf39c0454f5f8122a6a3b9f59c44"
            ],
            "layout": "IPY_MODEL_d40aaaf35cf04d7d9766a88de21b6942"
          }
        },
        "65e3d7be5b364be1b9cf8eef2ecd85a7": {
          "model_module": "@jupyter-widgets/controls",
          "model_name": "HTMLModel",
          "model_module_version": "1.5.0",
          "state": {
            "_dom_classes": [],
            "_model_module": "@jupyter-widgets/controls",
            "_model_module_version": "1.5.0",
            "_model_name": "HTMLModel",
            "_view_count": null,
            "_view_module": "@jupyter-widgets/controls",
            "_view_module_version": "1.5.0",
            "_view_name": "HTMLView",
            "description": "",
            "description_tooltip": null,
            "layout": "IPY_MODEL_c0af0ac88c3f47c48b33c715a40e5ed4",
            "placeholder": "​",
            "style": "IPY_MODEL_44d05816698e4a6d8f9298db6dd9b35e",
            "value": "100%"
          }
        },
        "b5fb0ce732eb49e1b382c0d85885cc2b": {
          "model_module": "@jupyter-widgets/controls",
          "model_name": "FloatProgressModel",
          "model_module_version": "1.5.0",
          "state": {
            "_dom_classes": [],
            "_model_module": "@jupyter-widgets/controls",
            "_model_module_version": "1.5.0",
            "_model_name": "FloatProgressModel",
            "_view_count": null,
            "_view_module": "@jupyter-widgets/controls",
            "_view_module_version": "1.5.0",
            "_view_name": "ProgressView",
            "bar_style": "success",
            "description": "",
            "description_tooltip": null,
            "layout": "IPY_MODEL_99aac1541c1f4c289453eff51e399801",
            "max": 8,
            "min": 0,
            "orientation": "horizontal",
            "style": "IPY_MODEL_18cb2acc37f3467ba06ec47621bdbde9",
            "value": 8
          }
        },
        "1bccbf39c0454f5f8122a6a3b9f59c44": {
          "model_module": "@jupyter-widgets/controls",
          "model_name": "HTMLModel",
          "model_module_version": "1.5.0",
          "state": {
            "_dom_classes": [],
            "_model_module": "@jupyter-widgets/controls",
            "_model_module_version": "1.5.0",
            "_model_name": "HTMLModel",
            "_view_count": null,
            "_view_module": "@jupyter-widgets/controls",
            "_view_module_version": "1.5.0",
            "_view_name": "HTMLView",
            "description": "",
            "description_tooltip": null,
            "layout": "IPY_MODEL_1b31a4a56e6241508ed4e156fa4d2c6c",
            "placeholder": "​",
            "style": "IPY_MODEL_295eb6d6060649a8b65c8b24b9605cc9",
            "value": " 8/8 [00:40&lt;00:00,  5.18s/it]"
          }
        },
        "d40aaaf35cf04d7d9766a88de21b6942": {
          "model_module": "@jupyter-widgets/base",
          "model_name": "LayoutModel",
          "model_module_version": "1.2.0",
          "state": {
            "_model_module": "@jupyter-widgets/base",
            "_model_module_version": "1.2.0",
            "_model_name": "LayoutModel",
            "_view_count": null,
            "_view_module": "@jupyter-widgets/base",
            "_view_module_version": "1.2.0",
            "_view_name": "LayoutView",
            "align_content": null,
            "align_items": null,
            "align_self": null,
            "border": null,
            "bottom": null,
            "display": null,
            "flex": null,
            "flex_flow": null,
            "grid_area": null,
            "grid_auto_columns": null,
            "grid_auto_flow": null,
            "grid_auto_rows": null,
            "grid_column": null,
            "grid_gap": null,
            "grid_row": null,
            "grid_template_areas": null,
            "grid_template_columns": null,
            "grid_template_rows": null,
            "height": null,
            "justify_content": null,
            "justify_items": null,
            "left": null,
            "margin": null,
            "max_height": null,
            "max_width": null,
            "min_height": null,
            "min_width": null,
            "object_fit": null,
            "object_position": null,
            "order": null,
            "overflow": null,
            "overflow_x": null,
            "overflow_y": null,
            "padding": null,
            "right": null,
            "top": null,
            "visibility": null,
            "width": null
          }
        },
        "c0af0ac88c3f47c48b33c715a40e5ed4": {
          "model_module": "@jupyter-widgets/base",
          "model_name": "LayoutModel",
          "model_module_version": "1.2.0",
          "state": {
            "_model_module": "@jupyter-widgets/base",
            "_model_module_version": "1.2.0",
            "_model_name": "LayoutModel",
            "_view_count": null,
            "_view_module": "@jupyter-widgets/base",
            "_view_module_version": "1.2.0",
            "_view_name": "LayoutView",
            "align_content": null,
            "align_items": null,
            "align_self": null,
            "border": null,
            "bottom": null,
            "display": null,
            "flex": null,
            "flex_flow": null,
            "grid_area": null,
            "grid_auto_columns": null,
            "grid_auto_flow": null,
            "grid_auto_rows": null,
            "grid_column": null,
            "grid_gap": null,
            "grid_row": null,
            "grid_template_areas": null,
            "grid_template_columns": null,
            "grid_template_rows": null,
            "height": null,
            "justify_content": null,
            "justify_items": null,
            "left": null,
            "margin": null,
            "max_height": null,
            "max_width": null,
            "min_height": null,
            "min_width": null,
            "object_fit": null,
            "object_position": null,
            "order": null,
            "overflow": null,
            "overflow_x": null,
            "overflow_y": null,
            "padding": null,
            "right": null,
            "top": null,
            "visibility": null,
            "width": null
          }
        },
        "44d05816698e4a6d8f9298db6dd9b35e": {
          "model_module": "@jupyter-widgets/controls",
          "model_name": "DescriptionStyleModel",
          "model_module_version": "1.5.0",
          "state": {
            "_model_module": "@jupyter-widgets/controls",
            "_model_module_version": "1.5.0",
            "_model_name": "DescriptionStyleModel",
            "_view_count": null,
            "_view_module": "@jupyter-widgets/base",
            "_view_module_version": "1.2.0",
            "_view_name": "StyleView",
            "description_width": ""
          }
        },
        "99aac1541c1f4c289453eff51e399801": {
          "model_module": "@jupyter-widgets/base",
          "model_name": "LayoutModel",
          "model_module_version": "1.2.0",
          "state": {
            "_model_module": "@jupyter-widgets/base",
            "_model_module_version": "1.2.0",
            "_model_name": "LayoutModel",
            "_view_count": null,
            "_view_module": "@jupyter-widgets/base",
            "_view_module_version": "1.2.0",
            "_view_name": "LayoutView",
            "align_content": null,
            "align_items": null,
            "align_self": null,
            "border": null,
            "bottom": null,
            "display": null,
            "flex": null,
            "flex_flow": null,
            "grid_area": null,
            "grid_auto_columns": null,
            "grid_auto_flow": null,
            "grid_auto_rows": null,
            "grid_column": null,
            "grid_gap": null,
            "grid_row": null,
            "grid_template_areas": null,
            "grid_template_columns": null,
            "grid_template_rows": null,
            "height": null,
            "justify_content": null,
            "justify_items": null,
            "left": null,
            "margin": null,
            "max_height": null,
            "max_width": null,
            "min_height": null,
            "min_width": null,
            "object_fit": null,
            "object_position": null,
            "order": null,
            "overflow": null,
            "overflow_x": null,
            "overflow_y": null,
            "padding": null,
            "right": null,
            "top": null,
            "visibility": null,
            "width": null
          }
        },
        "18cb2acc37f3467ba06ec47621bdbde9": {
          "model_module": "@jupyter-widgets/controls",
          "model_name": "ProgressStyleModel",
          "model_module_version": "1.5.0",
          "state": {
            "_model_module": "@jupyter-widgets/controls",
            "_model_module_version": "1.5.0",
            "_model_name": "ProgressStyleModel",
            "_view_count": null,
            "_view_module": "@jupyter-widgets/base",
            "_view_module_version": "1.2.0",
            "_view_name": "StyleView",
            "bar_color": null,
            "description_width": ""
          }
        },
        "1b31a4a56e6241508ed4e156fa4d2c6c": {
          "model_module": "@jupyter-widgets/base",
          "model_name": "LayoutModel",
          "model_module_version": "1.2.0",
          "state": {
            "_model_module": "@jupyter-widgets/base",
            "_model_module_version": "1.2.0",
            "_model_name": "LayoutModel",
            "_view_count": null,
            "_view_module": "@jupyter-widgets/base",
            "_view_module_version": "1.2.0",
            "_view_name": "LayoutView",
            "align_content": null,
            "align_items": null,
            "align_self": null,
            "border": null,
            "bottom": null,
            "display": null,
            "flex": null,
            "flex_flow": null,
            "grid_area": null,
            "grid_auto_columns": null,
            "grid_auto_flow": null,
            "grid_auto_rows": null,
            "grid_column": null,
            "grid_gap": null,
            "grid_row": null,
            "grid_template_areas": null,
            "grid_template_columns": null,
            "grid_template_rows": null,
            "height": null,
            "justify_content": null,
            "justify_items": null,
            "left": null,
            "margin": null,
            "max_height": null,
            "max_width": null,
            "min_height": null,
            "min_width": null,
            "object_fit": null,
            "object_position": null,
            "order": null,
            "overflow": null,
            "overflow_x": null,
            "overflow_y": null,
            "padding": null,
            "right": null,
            "top": null,
            "visibility": null,
            "width": null
          }
        },
        "295eb6d6060649a8b65c8b24b9605cc9": {
          "model_module": "@jupyter-widgets/controls",
          "model_name": "DescriptionStyleModel",
          "model_module_version": "1.5.0",
          "state": {
            "_model_module": "@jupyter-widgets/controls",
            "_model_module_version": "1.5.0",
            "_model_name": "DescriptionStyleModel",
            "_view_count": null,
            "_view_module": "@jupyter-widgets/base",
            "_view_module_version": "1.2.0",
            "_view_name": "StyleView",
            "description_width": ""
          }
        },
        "0a49ca80685b4492b8424fa9b6f62c4b": {
          "model_module": "@jupyter-widgets/controls",
          "model_name": "HBoxModel",
          "model_module_version": "1.5.0",
          "state": {
            "_dom_classes": [],
            "_model_module": "@jupyter-widgets/controls",
            "_model_module_version": "1.5.0",
            "_model_name": "HBoxModel",
            "_view_count": null,
            "_view_module": "@jupyter-widgets/controls",
            "_view_module_version": "1.5.0",
            "_view_name": "HBoxView",
            "box_style": "",
            "children": [
              "IPY_MODEL_fc620c125ede45f0ba0e0daeda9262a0",
              "IPY_MODEL_639a11a650214086b08a592908a39d7f",
              "IPY_MODEL_f3498d753cd34d13a423831e525f6452"
            ],
            "layout": "IPY_MODEL_8c554e723ac747f6b9220b4a4617b71d"
          }
        },
        "fc620c125ede45f0ba0e0daeda9262a0": {
          "model_module": "@jupyter-widgets/controls",
          "model_name": "HTMLModel",
          "model_module_version": "1.5.0",
          "state": {
            "_dom_classes": [],
            "_model_module": "@jupyter-widgets/controls",
            "_model_module_version": "1.5.0",
            "_model_name": "HTMLModel",
            "_view_count": null,
            "_view_module": "@jupyter-widgets/controls",
            "_view_module_version": "1.5.0",
            "_view_name": "HTMLView",
            "description": "",
            "description_tooltip": null,
            "layout": "IPY_MODEL_906625c70ca4475bbbdb4ec5969abe92",
            "placeholder": "​",
            "style": "IPY_MODEL_700016ad6546446cb6acd2c684be30aa",
            "value": "100%"
          }
        },
        "639a11a650214086b08a592908a39d7f": {
          "model_module": "@jupyter-widgets/controls",
          "model_name": "FloatProgressModel",
          "model_module_version": "1.5.0",
          "state": {
            "_dom_classes": [],
            "_model_module": "@jupyter-widgets/controls",
            "_model_module_version": "1.5.0",
            "_model_name": "FloatProgressModel",
            "_view_count": null,
            "_view_module": "@jupyter-widgets/controls",
            "_view_module_version": "1.5.0",
            "_view_name": "ProgressView",
            "bar_style": "success",
            "description": "",
            "description_tooltip": null,
            "layout": "IPY_MODEL_c107fc9ac92e4ef2aaddefdee969c5f2",
            "max": 8,
            "min": 0,
            "orientation": "horizontal",
            "style": "IPY_MODEL_ef81815e73594def9f93f15b57fa3cb3",
            "value": 8
          }
        },
        "f3498d753cd34d13a423831e525f6452": {
          "model_module": "@jupyter-widgets/controls",
          "model_name": "HTMLModel",
          "model_module_version": "1.5.0",
          "state": {
            "_dom_classes": [],
            "_model_module": "@jupyter-widgets/controls",
            "_model_module_version": "1.5.0",
            "_model_name": "HTMLModel",
            "_view_count": null,
            "_view_module": "@jupyter-widgets/controls",
            "_view_module_version": "1.5.0",
            "_view_name": "HTMLView",
            "description": "",
            "description_tooltip": null,
            "layout": "IPY_MODEL_f43300735fb942db81e67f16456022f3",
            "placeholder": "​",
            "style": "IPY_MODEL_c97eb36a3db6497a9433aa8a7d40bf2e",
            "value": " 8/8 [00:22&lt;00:00,  2.75s/it]"
          }
        },
        "8c554e723ac747f6b9220b4a4617b71d": {
          "model_module": "@jupyter-widgets/base",
          "model_name": "LayoutModel",
          "model_module_version": "1.2.0",
          "state": {
            "_model_module": "@jupyter-widgets/base",
            "_model_module_version": "1.2.0",
            "_model_name": "LayoutModel",
            "_view_count": null,
            "_view_module": "@jupyter-widgets/base",
            "_view_module_version": "1.2.0",
            "_view_name": "LayoutView",
            "align_content": null,
            "align_items": null,
            "align_self": null,
            "border": null,
            "bottom": null,
            "display": null,
            "flex": null,
            "flex_flow": null,
            "grid_area": null,
            "grid_auto_columns": null,
            "grid_auto_flow": null,
            "grid_auto_rows": null,
            "grid_column": null,
            "grid_gap": null,
            "grid_row": null,
            "grid_template_areas": null,
            "grid_template_columns": null,
            "grid_template_rows": null,
            "height": null,
            "justify_content": null,
            "justify_items": null,
            "left": null,
            "margin": null,
            "max_height": null,
            "max_width": null,
            "min_height": null,
            "min_width": null,
            "object_fit": null,
            "object_position": null,
            "order": null,
            "overflow": null,
            "overflow_x": null,
            "overflow_y": null,
            "padding": null,
            "right": null,
            "top": null,
            "visibility": null,
            "width": null
          }
        },
        "906625c70ca4475bbbdb4ec5969abe92": {
          "model_module": "@jupyter-widgets/base",
          "model_name": "LayoutModel",
          "model_module_version": "1.2.0",
          "state": {
            "_model_module": "@jupyter-widgets/base",
            "_model_module_version": "1.2.0",
            "_model_name": "LayoutModel",
            "_view_count": null,
            "_view_module": "@jupyter-widgets/base",
            "_view_module_version": "1.2.0",
            "_view_name": "LayoutView",
            "align_content": null,
            "align_items": null,
            "align_self": null,
            "border": null,
            "bottom": null,
            "display": null,
            "flex": null,
            "flex_flow": null,
            "grid_area": null,
            "grid_auto_columns": null,
            "grid_auto_flow": null,
            "grid_auto_rows": null,
            "grid_column": null,
            "grid_gap": null,
            "grid_row": null,
            "grid_template_areas": null,
            "grid_template_columns": null,
            "grid_template_rows": null,
            "height": null,
            "justify_content": null,
            "justify_items": null,
            "left": null,
            "margin": null,
            "max_height": null,
            "max_width": null,
            "min_height": null,
            "min_width": null,
            "object_fit": null,
            "object_position": null,
            "order": null,
            "overflow": null,
            "overflow_x": null,
            "overflow_y": null,
            "padding": null,
            "right": null,
            "top": null,
            "visibility": null,
            "width": null
          }
        },
        "700016ad6546446cb6acd2c684be30aa": {
          "model_module": "@jupyter-widgets/controls",
          "model_name": "DescriptionStyleModel",
          "model_module_version": "1.5.0",
          "state": {
            "_model_module": "@jupyter-widgets/controls",
            "_model_module_version": "1.5.0",
            "_model_name": "DescriptionStyleModel",
            "_view_count": null,
            "_view_module": "@jupyter-widgets/base",
            "_view_module_version": "1.2.0",
            "_view_name": "StyleView",
            "description_width": ""
          }
        },
        "c107fc9ac92e4ef2aaddefdee969c5f2": {
          "model_module": "@jupyter-widgets/base",
          "model_name": "LayoutModel",
          "model_module_version": "1.2.0",
          "state": {
            "_model_module": "@jupyter-widgets/base",
            "_model_module_version": "1.2.0",
            "_model_name": "LayoutModel",
            "_view_count": null,
            "_view_module": "@jupyter-widgets/base",
            "_view_module_version": "1.2.0",
            "_view_name": "LayoutView",
            "align_content": null,
            "align_items": null,
            "align_self": null,
            "border": null,
            "bottom": null,
            "display": null,
            "flex": null,
            "flex_flow": null,
            "grid_area": null,
            "grid_auto_columns": null,
            "grid_auto_flow": null,
            "grid_auto_rows": null,
            "grid_column": null,
            "grid_gap": null,
            "grid_row": null,
            "grid_template_areas": null,
            "grid_template_columns": null,
            "grid_template_rows": null,
            "height": null,
            "justify_content": null,
            "justify_items": null,
            "left": null,
            "margin": null,
            "max_height": null,
            "max_width": null,
            "min_height": null,
            "min_width": null,
            "object_fit": null,
            "object_position": null,
            "order": null,
            "overflow": null,
            "overflow_x": null,
            "overflow_y": null,
            "padding": null,
            "right": null,
            "top": null,
            "visibility": null,
            "width": null
          }
        },
        "ef81815e73594def9f93f15b57fa3cb3": {
          "model_module": "@jupyter-widgets/controls",
          "model_name": "ProgressStyleModel",
          "model_module_version": "1.5.0",
          "state": {
            "_model_module": "@jupyter-widgets/controls",
            "_model_module_version": "1.5.0",
            "_model_name": "ProgressStyleModel",
            "_view_count": null,
            "_view_module": "@jupyter-widgets/base",
            "_view_module_version": "1.2.0",
            "_view_name": "StyleView",
            "bar_color": null,
            "description_width": ""
          }
        },
        "f43300735fb942db81e67f16456022f3": {
          "model_module": "@jupyter-widgets/base",
          "model_name": "LayoutModel",
          "model_module_version": "1.2.0",
          "state": {
            "_model_module": "@jupyter-widgets/base",
            "_model_module_version": "1.2.0",
            "_model_name": "LayoutModel",
            "_view_count": null,
            "_view_module": "@jupyter-widgets/base",
            "_view_module_version": "1.2.0",
            "_view_name": "LayoutView",
            "align_content": null,
            "align_items": null,
            "align_self": null,
            "border": null,
            "bottom": null,
            "display": null,
            "flex": null,
            "flex_flow": null,
            "grid_area": null,
            "grid_auto_columns": null,
            "grid_auto_flow": null,
            "grid_auto_rows": null,
            "grid_column": null,
            "grid_gap": null,
            "grid_row": null,
            "grid_template_areas": null,
            "grid_template_columns": null,
            "grid_template_rows": null,
            "height": null,
            "justify_content": null,
            "justify_items": null,
            "left": null,
            "margin": null,
            "max_height": null,
            "max_width": null,
            "min_height": null,
            "min_width": null,
            "object_fit": null,
            "object_position": null,
            "order": null,
            "overflow": null,
            "overflow_x": null,
            "overflow_y": null,
            "padding": null,
            "right": null,
            "top": null,
            "visibility": null,
            "width": null
          }
        },
        "c97eb36a3db6497a9433aa8a7d40bf2e": {
          "model_module": "@jupyter-widgets/controls",
          "model_name": "DescriptionStyleModel",
          "model_module_version": "1.5.0",
          "state": {
            "_model_module": "@jupyter-widgets/controls",
            "_model_module_version": "1.5.0",
            "_model_name": "DescriptionStyleModel",
            "_view_count": null,
            "_view_module": "@jupyter-widgets/base",
            "_view_module_version": "1.2.0",
            "_view_name": "StyleView",
            "description_width": ""
          }
        },
        "c1a9901679a348e9a5733f38fe9942dc": {
          "model_module": "@jupyter-widgets/controls",
          "model_name": "HBoxModel",
          "model_module_version": "1.5.0",
          "state": {
            "_dom_classes": [],
            "_model_module": "@jupyter-widgets/controls",
            "_model_module_version": "1.5.0",
            "_model_name": "HBoxModel",
            "_view_count": null,
            "_view_module": "@jupyter-widgets/controls",
            "_view_module_version": "1.5.0",
            "_view_name": "HBoxView",
            "box_style": "",
            "children": [
              "IPY_MODEL_72429c67035840bca4f490156b96da4d",
              "IPY_MODEL_093d65ea7790430db571a68ff9a81a9c",
              "IPY_MODEL_7889ba923c3445cc8cfccdcd85b8e691"
            ],
            "layout": "IPY_MODEL_b7526dae1360415d945d5f3ba8069f3a"
          }
        },
        "72429c67035840bca4f490156b96da4d": {
          "model_module": "@jupyter-widgets/controls",
          "model_name": "HTMLModel",
          "model_module_version": "1.5.0",
          "state": {
            "_dom_classes": [],
            "_model_module": "@jupyter-widgets/controls",
            "_model_module_version": "1.5.0",
            "_model_name": "HTMLModel",
            "_view_count": null,
            "_view_module": "@jupyter-widgets/controls",
            "_view_module_version": "1.5.0",
            "_view_name": "HTMLView",
            "description": "",
            "description_tooltip": null,
            "layout": "IPY_MODEL_06d7ba35665643b2bc84f44524076998",
            "placeholder": "​",
            "style": "IPY_MODEL_37d35d4b81f54f11b1965de13cf519d6",
            "value": "100%"
          }
        },
        "093d65ea7790430db571a68ff9a81a9c": {
          "model_module": "@jupyter-widgets/controls",
          "model_name": "FloatProgressModel",
          "model_module_version": "1.5.0",
          "state": {
            "_dom_classes": [],
            "_model_module": "@jupyter-widgets/controls",
            "_model_module_version": "1.5.0",
            "_model_name": "FloatProgressModel",
            "_view_count": null,
            "_view_module": "@jupyter-widgets/controls",
            "_view_module_version": "1.5.0",
            "_view_name": "ProgressView",
            "bar_style": "success",
            "description": "",
            "description_tooltip": null,
            "layout": "IPY_MODEL_5c149ff11d4243bcaaf63e3c943c85e8",
            "max": 8,
            "min": 0,
            "orientation": "horizontal",
            "style": "IPY_MODEL_d3e94503358e4ae0b7a37b9e13b42ae9",
            "value": 8
          }
        },
        "7889ba923c3445cc8cfccdcd85b8e691": {
          "model_module": "@jupyter-widgets/controls",
          "model_name": "HTMLModel",
          "model_module_version": "1.5.0",
          "state": {
            "_dom_classes": [],
            "_model_module": "@jupyter-widgets/controls",
            "_model_module_version": "1.5.0",
            "_model_name": "HTMLModel",
            "_view_count": null,
            "_view_module": "@jupyter-widgets/controls",
            "_view_module_version": "1.5.0",
            "_view_name": "HTMLView",
            "description": "",
            "description_tooltip": null,
            "layout": "IPY_MODEL_3c0ce4dced574400acae65c48c1e6ee4",
            "placeholder": "​",
            "style": "IPY_MODEL_b2ae5181f40b48ffa2c5f7cc3c356b65",
            "value": " 8/8 [00:21&lt;00:00,  2.64s/it]"
          }
        },
        "b7526dae1360415d945d5f3ba8069f3a": {
          "model_module": "@jupyter-widgets/base",
          "model_name": "LayoutModel",
          "model_module_version": "1.2.0",
          "state": {
            "_model_module": "@jupyter-widgets/base",
            "_model_module_version": "1.2.0",
            "_model_name": "LayoutModel",
            "_view_count": null,
            "_view_module": "@jupyter-widgets/base",
            "_view_module_version": "1.2.0",
            "_view_name": "LayoutView",
            "align_content": null,
            "align_items": null,
            "align_self": null,
            "border": null,
            "bottom": null,
            "display": null,
            "flex": null,
            "flex_flow": null,
            "grid_area": null,
            "grid_auto_columns": null,
            "grid_auto_flow": null,
            "grid_auto_rows": null,
            "grid_column": null,
            "grid_gap": null,
            "grid_row": null,
            "grid_template_areas": null,
            "grid_template_columns": null,
            "grid_template_rows": null,
            "height": null,
            "justify_content": null,
            "justify_items": null,
            "left": null,
            "margin": null,
            "max_height": null,
            "max_width": null,
            "min_height": null,
            "min_width": null,
            "object_fit": null,
            "object_position": null,
            "order": null,
            "overflow": null,
            "overflow_x": null,
            "overflow_y": null,
            "padding": null,
            "right": null,
            "top": null,
            "visibility": null,
            "width": null
          }
        },
        "06d7ba35665643b2bc84f44524076998": {
          "model_module": "@jupyter-widgets/base",
          "model_name": "LayoutModel",
          "model_module_version": "1.2.0",
          "state": {
            "_model_module": "@jupyter-widgets/base",
            "_model_module_version": "1.2.0",
            "_model_name": "LayoutModel",
            "_view_count": null,
            "_view_module": "@jupyter-widgets/base",
            "_view_module_version": "1.2.0",
            "_view_name": "LayoutView",
            "align_content": null,
            "align_items": null,
            "align_self": null,
            "border": null,
            "bottom": null,
            "display": null,
            "flex": null,
            "flex_flow": null,
            "grid_area": null,
            "grid_auto_columns": null,
            "grid_auto_flow": null,
            "grid_auto_rows": null,
            "grid_column": null,
            "grid_gap": null,
            "grid_row": null,
            "grid_template_areas": null,
            "grid_template_columns": null,
            "grid_template_rows": null,
            "height": null,
            "justify_content": null,
            "justify_items": null,
            "left": null,
            "margin": null,
            "max_height": null,
            "max_width": null,
            "min_height": null,
            "min_width": null,
            "object_fit": null,
            "object_position": null,
            "order": null,
            "overflow": null,
            "overflow_x": null,
            "overflow_y": null,
            "padding": null,
            "right": null,
            "top": null,
            "visibility": null,
            "width": null
          }
        },
        "37d35d4b81f54f11b1965de13cf519d6": {
          "model_module": "@jupyter-widgets/controls",
          "model_name": "DescriptionStyleModel",
          "model_module_version": "1.5.0",
          "state": {
            "_model_module": "@jupyter-widgets/controls",
            "_model_module_version": "1.5.0",
            "_model_name": "DescriptionStyleModel",
            "_view_count": null,
            "_view_module": "@jupyter-widgets/base",
            "_view_module_version": "1.2.0",
            "_view_name": "StyleView",
            "description_width": ""
          }
        },
        "5c149ff11d4243bcaaf63e3c943c85e8": {
          "model_module": "@jupyter-widgets/base",
          "model_name": "LayoutModel",
          "model_module_version": "1.2.0",
          "state": {
            "_model_module": "@jupyter-widgets/base",
            "_model_module_version": "1.2.0",
            "_model_name": "LayoutModel",
            "_view_count": null,
            "_view_module": "@jupyter-widgets/base",
            "_view_module_version": "1.2.0",
            "_view_name": "LayoutView",
            "align_content": null,
            "align_items": null,
            "align_self": null,
            "border": null,
            "bottom": null,
            "display": null,
            "flex": null,
            "flex_flow": null,
            "grid_area": null,
            "grid_auto_columns": null,
            "grid_auto_flow": null,
            "grid_auto_rows": null,
            "grid_column": null,
            "grid_gap": null,
            "grid_row": null,
            "grid_template_areas": null,
            "grid_template_columns": null,
            "grid_template_rows": null,
            "height": null,
            "justify_content": null,
            "justify_items": null,
            "left": null,
            "margin": null,
            "max_height": null,
            "max_width": null,
            "min_height": null,
            "min_width": null,
            "object_fit": null,
            "object_position": null,
            "order": null,
            "overflow": null,
            "overflow_x": null,
            "overflow_y": null,
            "padding": null,
            "right": null,
            "top": null,
            "visibility": null,
            "width": null
          }
        },
        "d3e94503358e4ae0b7a37b9e13b42ae9": {
          "model_module": "@jupyter-widgets/controls",
          "model_name": "ProgressStyleModel",
          "model_module_version": "1.5.0",
          "state": {
            "_model_module": "@jupyter-widgets/controls",
            "_model_module_version": "1.5.0",
            "_model_name": "ProgressStyleModel",
            "_view_count": null,
            "_view_module": "@jupyter-widgets/base",
            "_view_module_version": "1.2.0",
            "_view_name": "StyleView",
            "bar_color": null,
            "description_width": ""
          }
        },
        "3c0ce4dced574400acae65c48c1e6ee4": {
          "model_module": "@jupyter-widgets/base",
          "model_name": "LayoutModel",
          "model_module_version": "1.2.0",
          "state": {
            "_model_module": "@jupyter-widgets/base",
            "_model_module_version": "1.2.0",
            "_model_name": "LayoutModel",
            "_view_count": null,
            "_view_module": "@jupyter-widgets/base",
            "_view_module_version": "1.2.0",
            "_view_name": "LayoutView",
            "align_content": null,
            "align_items": null,
            "align_self": null,
            "border": null,
            "bottom": null,
            "display": null,
            "flex": null,
            "flex_flow": null,
            "grid_area": null,
            "grid_auto_columns": null,
            "grid_auto_flow": null,
            "grid_auto_rows": null,
            "grid_column": null,
            "grid_gap": null,
            "grid_row": null,
            "grid_template_areas": null,
            "grid_template_columns": null,
            "grid_template_rows": null,
            "height": null,
            "justify_content": null,
            "justify_items": null,
            "left": null,
            "margin": null,
            "max_height": null,
            "max_width": null,
            "min_height": null,
            "min_width": null,
            "object_fit": null,
            "object_position": null,
            "order": null,
            "overflow": null,
            "overflow_x": null,
            "overflow_y": null,
            "padding": null,
            "right": null,
            "top": null,
            "visibility": null,
            "width": null
          }
        },
        "b2ae5181f40b48ffa2c5f7cc3c356b65": {
          "model_module": "@jupyter-widgets/controls",
          "model_name": "DescriptionStyleModel",
          "model_module_version": "1.5.0",
          "state": {
            "_model_module": "@jupyter-widgets/controls",
            "_model_module_version": "1.5.0",
            "_model_name": "DescriptionStyleModel",
            "_view_count": null,
            "_view_module": "@jupyter-widgets/base",
            "_view_module_version": "1.2.0",
            "_view_name": "StyleView",
            "description_width": ""
          }
        },
        "857c872472dc450ead6843fc8b1a4ff3": {
          "model_module": "@jupyter-widgets/controls",
          "model_name": "HBoxModel",
          "model_module_version": "1.5.0",
          "state": {
            "_dom_classes": [],
            "_model_module": "@jupyter-widgets/controls",
            "_model_module_version": "1.5.0",
            "_model_name": "HBoxModel",
            "_view_count": null,
            "_view_module": "@jupyter-widgets/controls",
            "_view_module_version": "1.5.0",
            "_view_name": "HBoxView",
            "box_style": "",
            "children": [
              "IPY_MODEL_119818e127214850b60e0f63df55b7b2",
              "IPY_MODEL_94732495572a48da919d6d5edcb147c1",
              "IPY_MODEL_15842dcf992a4c768984b0e2a2ea3d53"
            ],
            "layout": "IPY_MODEL_3bb73eed88434fe28bc10e9ff2dba71f"
          }
        },
        "119818e127214850b60e0f63df55b7b2": {
          "model_module": "@jupyter-widgets/controls",
          "model_name": "HTMLModel",
          "model_module_version": "1.5.0",
          "state": {
            "_dom_classes": [],
            "_model_module": "@jupyter-widgets/controls",
            "_model_module_version": "1.5.0",
            "_model_name": "HTMLModel",
            "_view_count": null,
            "_view_module": "@jupyter-widgets/controls",
            "_view_module_version": "1.5.0",
            "_view_name": "HTMLView",
            "description": "",
            "description_tooltip": null,
            "layout": "IPY_MODEL_b93a6317330d498f8e036bac4ce5d0a0",
            "placeholder": "​",
            "style": "IPY_MODEL_a527ee21a8784c48b6acfb7c92295dfd",
            "value": "100%"
          }
        },
        "94732495572a48da919d6d5edcb147c1": {
          "model_module": "@jupyter-widgets/controls",
          "model_name": "FloatProgressModel",
          "model_module_version": "1.5.0",
          "state": {
            "_dom_classes": [],
            "_model_module": "@jupyter-widgets/controls",
            "_model_module_version": "1.5.0",
            "_model_name": "FloatProgressModel",
            "_view_count": null,
            "_view_module": "@jupyter-widgets/controls",
            "_view_module_version": "1.5.0",
            "_view_name": "ProgressView",
            "bar_style": "success",
            "description": "",
            "description_tooltip": null,
            "layout": "IPY_MODEL_98cfbcf3f0114b33b761f82eeb69d8b8",
            "max": 8,
            "min": 0,
            "orientation": "horizontal",
            "style": "IPY_MODEL_5940678667c04fa59c75bfdf553f66db",
            "value": 8
          }
        },
        "15842dcf992a4c768984b0e2a2ea3d53": {
          "model_module": "@jupyter-widgets/controls",
          "model_name": "HTMLModel",
          "model_module_version": "1.5.0",
          "state": {
            "_dom_classes": [],
            "_model_module": "@jupyter-widgets/controls",
            "_model_module_version": "1.5.0",
            "_model_name": "HTMLModel",
            "_view_count": null,
            "_view_module": "@jupyter-widgets/controls",
            "_view_module_version": "1.5.0",
            "_view_name": "HTMLView",
            "description": "",
            "description_tooltip": null,
            "layout": "IPY_MODEL_4df2a9f01e4148a7a32922c3bf26f58f",
            "placeholder": "​",
            "style": "IPY_MODEL_799e4fb78fd7484ebc2a5659513908f7",
            "value": " 8/8 [00:21&lt;00:00,  2.70s/it]"
          }
        },
        "3bb73eed88434fe28bc10e9ff2dba71f": {
          "model_module": "@jupyter-widgets/base",
          "model_name": "LayoutModel",
          "model_module_version": "1.2.0",
          "state": {
            "_model_module": "@jupyter-widgets/base",
            "_model_module_version": "1.2.0",
            "_model_name": "LayoutModel",
            "_view_count": null,
            "_view_module": "@jupyter-widgets/base",
            "_view_module_version": "1.2.0",
            "_view_name": "LayoutView",
            "align_content": null,
            "align_items": null,
            "align_self": null,
            "border": null,
            "bottom": null,
            "display": null,
            "flex": null,
            "flex_flow": null,
            "grid_area": null,
            "grid_auto_columns": null,
            "grid_auto_flow": null,
            "grid_auto_rows": null,
            "grid_column": null,
            "grid_gap": null,
            "grid_row": null,
            "grid_template_areas": null,
            "grid_template_columns": null,
            "grid_template_rows": null,
            "height": null,
            "justify_content": null,
            "justify_items": null,
            "left": null,
            "margin": null,
            "max_height": null,
            "max_width": null,
            "min_height": null,
            "min_width": null,
            "object_fit": null,
            "object_position": null,
            "order": null,
            "overflow": null,
            "overflow_x": null,
            "overflow_y": null,
            "padding": null,
            "right": null,
            "top": null,
            "visibility": null,
            "width": null
          }
        },
        "b93a6317330d498f8e036bac4ce5d0a0": {
          "model_module": "@jupyter-widgets/base",
          "model_name": "LayoutModel",
          "model_module_version": "1.2.0",
          "state": {
            "_model_module": "@jupyter-widgets/base",
            "_model_module_version": "1.2.0",
            "_model_name": "LayoutModel",
            "_view_count": null,
            "_view_module": "@jupyter-widgets/base",
            "_view_module_version": "1.2.0",
            "_view_name": "LayoutView",
            "align_content": null,
            "align_items": null,
            "align_self": null,
            "border": null,
            "bottom": null,
            "display": null,
            "flex": null,
            "flex_flow": null,
            "grid_area": null,
            "grid_auto_columns": null,
            "grid_auto_flow": null,
            "grid_auto_rows": null,
            "grid_column": null,
            "grid_gap": null,
            "grid_row": null,
            "grid_template_areas": null,
            "grid_template_columns": null,
            "grid_template_rows": null,
            "height": null,
            "justify_content": null,
            "justify_items": null,
            "left": null,
            "margin": null,
            "max_height": null,
            "max_width": null,
            "min_height": null,
            "min_width": null,
            "object_fit": null,
            "object_position": null,
            "order": null,
            "overflow": null,
            "overflow_x": null,
            "overflow_y": null,
            "padding": null,
            "right": null,
            "top": null,
            "visibility": null,
            "width": null
          }
        },
        "a527ee21a8784c48b6acfb7c92295dfd": {
          "model_module": "@jupyter-widgets/controls",
          "model_name": "DescriptionStyleModel",
          "model_module_version": "1.5.0",
          "state": {
            "_model_module": "@jupyter-widgets/controls",
            "_model_module_version": "1.5.0",
            "_model_name": "DescriptionStyleModel",
            "_view_count": null,
            "_view_module": "@jupyter-widgets/base",
            "_view_module_version": "1.2.0",
            "_view_name": "StyleView",
            "description_width": ""
          }
        },
        "98cfbcf3f0114b33b761f82eeb69d8b8": {
          "model_module": "@jupyter-widgets/base",
          "model_name": "LayoutModel",
          "model_module_version": "1.2.0",
          "state": {
            "_model_module": "@jupyter-widgets/base",
            "_model_module_version": "1.2.0",
            "_model_name": "LayoutModel",
            "_view_count": null,
            "_view_module": "@jupyter-widgets/base",
            "_view_module_version": "1.2.0",
            "_view_name": "LayoutView",
            "align_content": null,
            "align_items": null,
            "align_self": null,
            "border": null,
            "bottom": null,
            "display": null,
            "flex": null,
            "flex_flow": null,
            "grid_area": null,
            "grid_auto_columns": null,
            "grid_auto_flow": null,
            "grid_auto_rows": null,
            "grid_column": null,
            "grid_gap": null,
            "grid_row": null,
            "grid_template_areas": null,
            "grid_template_columns": null,
            "grid_template_rows": null,
            "height": null,
            "justify_content": null,
            "justify_items": null,
            "left": null,
            "margin": null,
            "max_height": null,
            "max_width": null,
            "min_height": null,
            "min_width": null,
            "object_fit": null,
            "object_position": null,
            "order": null,
            "overflow": null,
            "overflow_x": null,
            "overflow_y": null,
            "padding": null,
            "right": null,
            "top": null,
            "visibility": null,
            "width": null
          }
        },
        "5940678667c04fa59c75bfdf553f66db": {
          "model_module": "@jupyter-widgets/controls",
          "model_name": "ProgressStyleModel",
          "model_module_version": "1.5.0",
          "state": {
            "_model_module": "@jupyter-widgets/controls",
            "_model_module_version": "1.5.0",
            "_model_name": "ProgressStyleModel",
            "_view_count": null,
            "_view_module": "@jupyter-widgets/base",
            "_view_module_version": "1.2.0",
            "_view_name": "StyleView",
            "bar_color": null,
            "description_width": ""
          }
        },
        "4df2a9f01e4148a7a32922c3bf26f58f": {
          "model_module": "@jupyter-widgets/base",
          "model_name": "LayoutModel",
          "model_module_version": "1.2.0",
          "state": {
            "_model_module": "@jupyter-widgets/base",
            "_model_module_version": "1.2.0",
            "_model_name": "LayoutModel",
            "_view_count": null,
            "_view_module": "@jupyter-widgets/base",
            "_view_module_version": "1.2.0",
            "_view_name": "LayoutView",
            "align_content": null,
            "align_items": null,
            "align_self": null,
            "border": null,
            "bottom": null,
            "display": null,
            "flex": null,
            "flex_flow": null,
            "grid_area": null,
            "grid_auto_columns": null,
            "grid_auto_flow": null,
            "grid_auto_rows": null,
            "grid_column": null,
            "grid_gap": null,
            "grid_row": null,
            "grid_template_areas": null,
            "grid_template_columns": null,
            "grid_template_rows": null,
            "height": null,
            "justify_content": null,
            "justify_items": null,
            "left": null,
            "margin": null,
            "max_height": null,
            "max_width": null,
            "min_height": null,
            "min_width": null,
            "object_fit": null,
            "object_position": null,
            "order": null,
            "overflow": null,
            "overflow_x": null,
            "overflow_y": null,
            "padding": null,
            "right": null,
            "top": null,
            "visibility": null,
            "width": null
          }
        },
        "799e4fb78fd7484ebc2a5659513908f7": {
          "model_module": "@jupyter-widgets/controls",
          "model_name": "DescriptionStyleModel",
          "model_module_version": "1.5.0",
          "state": {
            "_model_module": "@jupyter-widgets/controls",
            "_model_module_version": "1.5.0",
            "_model_name": "DescriptionStyleModel",
            "_view_count": null,
            "_view_module": "@jupyter-widgets/base",
            "_view_module_version": "1.2.0",
            "_view_name": "StyleView",
            "description_width": ""
          }
        },
        "6ede69e1fc924a7dac9db38c5dce3747": {
          "model_module": "@jupyter-widgets/controls",
          "model_name": "HBoxModel",
          "model_module_version": "1.5.0",
          "state": {
            "_dom_classes": [],
            "_model_module": "@jupyter-widgets/controls",
            "_model_module_version": "1.5.0",
            "_model_name": "HBoxModel",
            "_view_count": null,
            "_view_module": "@jupyter-widgets/controls",
            "_view_module_version": "1.5.0",
            "_view_name": "HBoxView",
            "box_style": "",
            "children": [
              "IPY_MODEL_13b8aadeed7d48f79d1df7c3fff65b56",
              "IPY_MODEL_49a9a11ee90945faa983ac3801b34b53",
              "IPY_MODEL_2a1fca7c2d5b4841adaf330db888b4b5"
            ],
            "layout": "IPY_MODEL_17327196affa47cb9a0b43092d6ea1b4"
          }
        },
        "13b8aadeed7d48f79d1df7c3fff65b56": {
          "model_module": "@jupyter-widgets/controls",
          "model_name": "HTMLModel",
          "model_module_version": "1.5.0",
          "state": {
            "_dom_classes": [],
            "_model_module": "@jupyter-widgets/controls",
            "_model_module_version": "1.5.0",
            "_model_name": "HTMLModel",
            "_view_count": null,
            "_view_module": "@jupyter-widgets/controls",
            "_view_module_version": "1.5.0",
            "_view_name": "HTMLView",
            "description": "",
            "description_tooltip": null,
            "layout": "IPY_MODEL_c452443dc4d84992af3c5c632d079a0a",
            "placeholder": "​",
            "style": "IPY_MODEL_cbf4c81cb60445eca36e9c71805c5c51",
            "value": "100%"
          }
        },
        "49a9a11ee90945faa983ac3801b34b53": {
          "model_module": "@jupyter-widgets/controls",
          "model_name": "FloatProgressModel",
          "model_module_version": "1.5.0",
          "state": {
            "_dom_classes": [],
            "_model_module": "@jupyter-widgets/controls",
            "_model_module_version": "1.5.0",
            "_model_name": "FloatProgressModel",
            "_view_count": null,
            "_view_module": "@jupyter-widgets/controls",
            "_view_module_version": "1.5.0",
            "_view_name": "ProgressView",
            "bar_style": "success",
            "description": "",
            "description_tooltip": null,
            "layout": "IPY_MODEL_6125394098ea4c91b514e4fe281f9a48",
            "max": 8,
            "min": 0,
            "orientation": "horizontal",
            "style": "IPY_MODEL_5ef8445b8db04a0884891b6c74b344cc",
            "value": 8
          }
        },
        "2a1fca7c2d5b4841adaf330db888b4b5": {
          "model_module": "@jupyter-widgets/controls",
          "model_name": "HTMLModel",
          "model_module_version": "1.5.0",
          "state": {
            "_dom_classes": [],
            "_model_module": "@jupyter-widgets/controls",
            "_model_module_version": "1.5.0",
            "_model_name": "HTMLModel",
            "_view_count": null,
            "_view_module": "@jupyter-widgets/controls",
            "_view_module_version": "1.5.0",
            "_view_name": "HTMLView",
            "description": "",
            "description_tooltip": null,
            "layout": "IPY_MODEL_5ef8872799824baf88168145b52a69dd",
            "placeholder": "​",
            "style": "IPY_MODEL_267f448e01ae46709c21ceac58c8580c",
            "value": " 8/8 [00:21&lt;00:00,  2.64s/it]"
          }
        },
        "17327196affa47cb9a0b43092d6ea1b4": {
          "model_module": "@jupyter-widgets/base",
          "model_name": "LayoutModel",
          "model_module_version": "1.2.0",
          "state": {
            "_model_module": "@jupyter-widgets/base",
            "_model_module_version": "1.2.0",
            "_model_name": "LayoutModel",
            "_view_count": null,
            "_view_module": "@jupyter-widgets/base",
            "_view_module_version": "1.2.0",
            "_view_name": "LayoutView",
            "align_content": null,
            "align_items": null,
            "align_self": null,
            "border": null,
            "bottom": null,
            "display": null,
            "flex": null,
            "flex_flow": null,
            "grid_area": null,
            "grid_auto_columns": null,
            "grid_auto_flow": null,
            "grid_auto_rows": null,
            "grid_column": null,
            "grid_gap": null,
            "grid_row": null,
            "grid_template_areas": null,
            "grid_template_columns": null,
            "grid_template_rows": null,
            "height": null,
            "justify_content": null,
            "justify_items": null,
            "left": null,
            "margin": null,
            "max_height": null,
            "max_width": null,
            "min_height": null,
            "min_width": null,
            "object_fit": null,
            "object_position": null,
            "order": null,
            "overflow": null,
            "overflow_x": null,
            "overflow_y": null,
            "padding": null,
            "right": null,
            "top": null,
            "visibility": null,
            "width": null
          }
        },
        "c452443dc4d84992af3c5c632d079a0a": {
          "model_module": "@jupyter-widgets/base",
          "model_name": "LayoutModel",
          "model_module_version": "1.2.0",
          "state": {
            "_model_module": "@jupyter-widgets/base",
            "_model_module_version": "1.2.0",
            "_model_name": "LayoutModel",
            "_view_count": null,
            "_view_module": "@jupyter-widgets/base",
            "_view_module_version": "1.2.0",
            "_view_name": "LayoutView",
            "align_content": null,
            "align_items": null,
            "align_self": null,
            "border": null,
            "bottom": null,
            "display": null,
            "flex": null,
            "flex_flow": null,
            "grid_area": null,
            "grid_auto_columns": null,
            "grid_auto_flow": null,
            "grid_auto_rows": null,
            "grid_column": null,
            "grid_gap": null,
            "grid_row": null,
            "grid_template_areas": null,
            "grid_template_columns": null,
            "grid_template_rows": null,
            "height": null,
            "justify_content": null,
            "justify_items": null,
            "left": null,
            "margin": null,
            "max_height": null,
            "max_width": null,
            "min_height": null,
            "min_width": null,
            "object_fit": null,
            "object_position": null,
            "order": null,
            "overflow": null,
            "overflow_x": null,
            "overflow_y": null,
            "padding": null,
            "right": null,
            "top": null,
            "visibility": null,
            "width": null
          }
        },
        "cbf4c81cb60445eca36e9c71805c5c51": {
          "model_module": "@jupyter-widgets/controls",
          "model_name": "DescriptionStyleModel",
          "model_module_version": "1.5.0",
          "state": {
            "_model_module": "@jupyter-widgets/controls",
            "_model_module_version": "1.5.0",
            "_model_name": "DescriptionStyleModel",
            "_view_count": null,
            "_view_module": "@jupyter-widgets/base",
            "_view_module_version": "1.2.0",
            "_view_name": "StyleView",
            "description_width": ""
          }
        },
        "6125394098ea4c91b514e4fe281f9a48": {
          "model_module": "@jupyter-widgets/base",
          "model_name": "LayoutModel",
          "model_module_version": "1.2.0",
          "state": {
            "_model_module": "@jupyter-widgets/base",
            "_model_module_version": "1.2.0",
            "_model_name": "LayoutModel",
            "_view_count": null,
            "_view_module": "@jupyter-widgets/base",
            "_view_module_version": "1.2.0",
            "_view_name": "LayoutView",
            "align_content": null,
            "align_items": null,
            "align_self": null,
            "border": null,
            "bottom": null,
            "display": null,
            "flex": null,
            "flex_flow": null,
            "grid_area": null,
            "grid_auto_columns": null,
            "grid_auto_flow": null,
            "grid_auto_rows": null,
            "grid_column": null,
            "grid_gap": null,
            "grid_row": null,
            "grid_template_areas": null,
            "grid_template_columns": null,
            "grid_template_rows": null,
            "height": null,
            "justify_content": null,
            "justify_items": null,
            "left": null,
            "margin": null,
            "max_height": null,
            "max_width": null,
            "min_height": null,
            "min_width": null,
            "object_fit": null,
            "object_position": null,
            "order": null,
            "overflow": null,
            "overflow_x": null,
            "overflow_y": null,
            "padding": null,
            "right": null,
            "top": null,
            "visibility": null,
            "width": null
          }
        },
        "5ef8445b8db04a0884891b6c74b344cc": {
          "model_module": "@jupyter-widgets/controls",
          "model_name": "ProgressStyleModel",
          "model_module_version": "1.5.0",
          "state": {
            "_model_module": "@jupyter-widgets/controls",
            "_model_module_version": "1.5.0",
            "_model_name": "ProgressStyleModel",
            "_view_count": null,
            "_view_module": "@jupyter-widgets/base",
            "_view_module_version": "1.2.0",
            "_view_name": "StyleView",
            "bar_color": null,
            "description_width": ""
          }
        },
        "5ef8872799824baf88168145b52a69dd": {
          "model_module": "@jupyter-widgets/base",
          "model_name": "LayoutModel",
          "model_module_version": "1.2.0",
          "state": {
            "_model_module": "@jupyter-widgets/base",
            "_model_module_version": "1.2.0",
            "_model_name": "LayoutModel",
            "_view_count": null,
            "_view_module": "@jupyter-widgets/base",
            "_view_module_version": "1.2.0",
            "_view_name": "LayoutView",
            "align_content": null,
            "align_items": null,
            "align_self": null,
            "border": null,
            "bottom": null,
            "display": null,
            "flex": null,
            "flex_flow": null,
            "grid_area": null,
            "grid_auto_columns": null,
            "grid_auto_flow": null,
            "grid_auto_rows": null,
            "grid_column": null,
            "grid_gap": null,
            "grid_row": null,
            "grid_template_areas": null,
            "grid_template_columns": null,
            "grid_template_rows": null,
            "height": null,
            "justify_content": null,
            "justify_items": null,
            "left": null,
            "margin": null,
            "max_height": null,
            "max_width": null,
            "min_height": null,
            "min_width": null,
            "object_fit": null,
            "object_position": null,
            "order": null,
            "overflow": null,
            "overflow_x": null,
            "overflow_y": null,
            "padding": null,
            "right": null,
            "top": null,
            "visibility": null,
            "width": null
          }
        },
        "267f448e01ae46709c21ceac58c8580c": {
          "model_module": "@jupyter-widgets/controls",
          "model_name": "DescriptionStyleModel",
          "model_module_version": "1.5.0",
          "state": {
            "_model_module": "@jupyter-widgets/controls",
            "_model_module_version": "1.5.0",
            "_model_name": "DescriptionStyleModel",
            "_view_count": null,
            "_view_module": "@jupyter-widgets/base",
            "_view_module_version": "1.2.0",
            "_view_name": "StyleView",
            "description_width": ""
          }
        },
        "d0a84fa6e11f4001acd2585563379b3b": {
          "model_module": "@jupyter-widgets/controls",
          "model_name": "HBoxModel",
          "model_module_version": "1.5.0",
          "state": {
            "_dom_classes": [],
            "_model_module": "@jupyter-widgets/controls",
            "_model_module_version": "1.5.0",
            "_model_name": "HBoxModel",
            "_view_count": null,
            "_view_module": "@jupyter-widgets/controls",
            "_view_module_version": "1.5.0",
            "_view_name": "HBoxView",
            "box_style": "",
            "children": [
              "IPY_MODEL_9cef63d25f47475293971e91ef6e091a",
              "IPY_MODEL_49eaf836d6804e62a065b09c91df1c22",
              "IPY_MODEL_c254eefc13dd4b989e645e7782a5f79d"
            ],
            "layout": "IPY_MODEL_37f7fd368f7c403ca33f3a6530c8f3db"
          }
        },
        "9cef63d25f47475293971e91ef6e091a": {
          "model_module": "@jupyter-widgets/controls",
          "model_name": "HTMLModel",
          "model_module_version": "1.5.0",
          "state": {
            "_dom_classes": [],
            "_model_module": "@jupyter-widgets/controls",
            "_model_module_version": "1.5.0",
            "_model_name": "HTMLModel",
            "_view_count": null,
            "_view_module": "@jupyter-widgets/controls",
            "_view_module_version": "1.5.0",
            "_view_name": "HTMLView",
            "description": "",
            "description_tooltip": null,
            "layout": "IPY_MODEL_667f4417da424039ad726138fdcc179f",
            "placeholder": "​",
            "style": "IPY_MODEL_4a1ae0c8096f4dfc9f658a710698416b",
            "value": "100%"
          }
        },
        "49eaf836d6804e62a065b09c91df1c22": {
          "model_module": "@jupyter-widgets/controls",
          "model_name": "FloatProgressModel",
          "model_module_version": "1.5.0",
          "state": {
            "_dom_classes": [],
            "_model_module": "@jupyter-widgets/controls",
            "_model_module_version": "1.5.0",
            "_model_name": "FloatProgressModel",
            "_view_count": null,
            "_view_module": "@jupyter-widgets/controls",
            "_view_module_version": "1.5.0",
            "_view_name": "ProgressView",
            "bar_style": "success",
            "description": "",
            "description_tooltip": null,
            "layout": "IPY_MODEL_84198fa77b1e46c996a71c4baab94927",
            "max": 8,
            "min": 0,
            "orientation": "horizontal",
            "style": "IPY_MODEL_2c8231e13e8f4c55ab052cf619205186",
            "value": 8
          }
        },
        "c254eefc13dd4b989e645e7782a5f79d": {
          "model_module": "@jupyter-widgets/controls",
          "model_name": "HTMLModel",
          "model_module_version": "1.5.0",
          "state": {
            "_dom_classes": [],
            "_model_module": "@jupyter-widgets/controls",
            "_model_module_version": "1.5.0",
            "_model_name": "HTMLModel",
            "_view_count": null,
            "_view_module": "@jupyter-widgets/controls",
            "_view_module_version": "1.5.0",
            "_view_name": "HTMLView",
            "description": "",
            "description_tooltip": null,
            "layout": "IPY_MODEL_c5dd9c968a664e69a75f9b5ee659d98c",
            "placeholder": "​",
            "style": "IPY_MODEL_5424f5454e5a4437a130ecff89010a8a",
            "value": " 8/8 [00:22&lt;00:00,  2.73s/it]"
          }
        },
        "37f7fd368f7c403ca33f3a6530c8f3db": {
          "model_module": "@jupyter-widgets/base",
          "model_name": "LayoutModel",
          "model_module_version": "1.2.0",
          "state": {
            "_model_module": "@jupyter-widgets/base",
            "_model_module_version": "1.2.0",
            "_model_name": "LayoutModel",
            "_view_count": null,
            "_view_module": "@jupyter-widgets/base",
            "_view_module_version": "1.2.0",
            "_view_name": "LayoutView",
            "align_content": null,
            "align_items": null,
            "align_self": null,
            "border": null,
            "bottom": null,
            "display": null,
            "flex": null,
            "flex_flow": null,
            "grid_area": null,
            "grid_auto_columns": null,
            "grid_auto_flow": null,
            "grid_auto_rows": null,
            "grid_column": null,
            "grid_gap": null,
            "grid_row": null,
            "grid_template_areas": null,
            "grid_template_columns": null,
            "grid_template_rows": null,
            "height": null,
            "justify_content": null,
            "justify_items": null,
            "left": null,
            "margin": null,
            "max_height": null,
            "max_width": null,
            "min_height": null,
            "min_width": null,
            "object_fit": null,
            "object_position": null,
            "order": null,
            "overflow": null,
            "overflow_x": null,
            "overflow_y": null,
            "padding": null,
            "right": null,
            "top": null,
            "visibility": null,
            "width": null
          }
        },
        "667f4417da424039ad726138fdcc179f": {
          "model_module": "@jupyter-widgets/base",
          "model_name": "LayoutModel",
          "model_module_version": "1.2.0",
          "state": {
            "_model_module": "@jupyter-widgets/base",
            "_model_module_version": "1.2.0",
            "_model_name": "LayoutModel",
            "_view_count": null,
            "_view_module": "@jupyter-widgets/base",
            "_view_module_version": "1.2.0",
            "_view_name": "LayoutView",
            "align_content": null,
            "align_items": null,
            "align_self": null,
            "border": null,
            "bottom": null,
            "display": null,
            "flex": null,
            "flex_flow": null,
            "grid_area": null,
            "grid_auto_columns": null,
            "grid_auto_flow": null,
            "grid_auto_rows": null,
            "grid_column": null,
            "grid_gap": null,
            "grid_row": null,
            "grid_template_areas": null,
            "grid_template_columns": null,
            "grid_template_rows": null,
            "height": null,
            "justify_content": null,
            "justify_items": null,
            "left": null,
            "margin": null,
            "max_height": null,
            "max_width": null,
            "min_height": null,
            "min_width": null,
            "object_fit": null,
            "object_position": null,
            "order": null,
            "overflow": null,
            "overflow_x": null,
            "overflow_y": null,
            "padding": null,
            "right": null,
            "top": null,
            "visibility": null,
            "width": null
          }
        },
        "4a1ae0c8096f4dfc9f658a710698416b": {
          "model_module": "@jupyter-widgets/controls",
          "model_name": "DescriptionStyleModel",
          "model_module_version": "1.5.0",
          "state": {
            "_model_module": "@jupyter-widgets/controls",
            "_model_module_version": "1.5.0",
            "_model_name": "DescriptionStyleModel",
            "_view_count": null,
            "_view_module": "@jupyter-widgets/base",
            "_view_module_version": "1.2.0",
            "_view_name": "StyleView",
            "description_width": ""
          }
        },
        "84198fa77b1e46c996a71c4baab94927": {
          "model_module": "@jupyter-widgets/base",
          "model_name": "LayoutModel",
          "model_module_version": "1.2.0",
          "state": {
            "_model_module": "@jupyter-widgets/base",
            "_model_module_version": "1.2.0",
            "_model_name": "LayoutModel",
            "_view_count": null,
            "_view_module": "@jupyter-widgets/base",
            "_view_module_version": "1.2.0",
            "_view_name": "LayoutView",
            "align_content": null,
            "align_items": null,
            "align_self": null,
            "border": null,
            "bottom": null,
            "display": null,
            "flex": null,
            "flex_flow": null,
            "grid_area": null,
            "grid_auto_columns": null,
            "grid_auto_flow": null,
            "grid_auto_rows": null,
            "grid_column": null,
            "grid_gap": null,
            "grid_row": null,
            "grid_template_areas": null,
            "grid_template_columns": null,
            "grid_template_rows": null,
            "height": null,
            "justify_content": null,
            "justify_items": null,
            "left": null,
            "margin": null,
            "max_height": null,
            "max_width": null,
            "min_height": null,
            "min_width": null,
            "object_fit": null,
            "object_position": null,
            "order": null,
            "overflow": null,
            "overflow_x": null,
            "overflow_y": null,
            "padding": null,
            "right": null,
            "top": null,
            "visibility": null,
            "width": null
          }
        },
        "2c8231e13e8f4c55ab052cf619205186": {
          "model_module": "@jupyter-widgets/controls",
          "model_name": "ProgressStyleModel",
          "model_module_version": "1.5.0",
          "state": {
            "_model_module": "@jupyter-widgets/controls",
            "_model_module_version": "1.5.0",
            "_model_name": "ProgressStyleModel",
            "_view_count": null,
            "_view_module": "@jupyter-widgets/base",
            "_view_module_version": "1.2.0",
            "_view_name": "StyleView",
            "bar_color": null,
            "description_width": ""
          }
        },
        "c5dd9c968a664e69a75f9b5ee659d98c": {
          "model_module": "@jupyter-widgets/base",
          "model_name": "LayoutModel",
          "model_module_version": "1.2.0",
          "state": {
            "_model_module": "@jupyter-widgets/base",
            "_model_module_version": "1.2.0",
            "_model_name": "LayoutModel",
            "_view_count": null,
            "_view_module": "@jupyter-widgets/base",
            "_view_module_version": "1.2.0",
            "_view_name": "LayoutView",
            "align_content": null,
            "align_items": null,
            "align_self": null,
            "border": null,
            "bottom": null,
            "display": null,
            "flex": null,
            "flex_flow": null,
            "grid_area": null,
            "grid_auto_columns": null,
            "grid_auto_flow": null,
            "grid_auto_rows": null,
            "grid_column": null,
            "grid_gap": null,
            "grid_row": null,
            "grid_template_areas": null,
            "grid_template_columns": null,
            "grid_template_rows": null,
            "height": null,
            "justify_content": null,
            "justify_items": null,
            "left": null,
            "margin": null,
            "max_height": null,
            "max_width": null,
            "min_height": null,
            "min_width": null,
            "object_fit": null,
            "object_position": null,
            "order": null,
            "overflow": null,
            "overflow_x": null,
            "overflow_y": null,
            "padding": null,
            "right": null,
            "top": null,
            "visibility": null,
            "width": null
          }
        },
        "5424f5454e5a4437a130ecff89010a8a": {
          "model_module": "@jupyter-widgets/controls",
          "model_name": "DescriptionStyleModel",
          "model_module_version": "1.5.0",
          "state": {
            "_model_module": "@jupyter-widgets/controls",
            "_model_module_version": "1.5.0",
            "_model_name": "DescriptionStyleModel",
            "_view_count": null,
            "_view_module": "@jupyter-widgets/base",
            "_view_module_version": "1.2.0",
            "_view_name": "StyleView",
            "description_width": ""
          }
        }
      }
    }
  },
  "cells": [
    {
      "cell_type": "markdown",
      "metadata": {
        "id": "view-in-github",
        "colab_type": "text"
      },
      "source": [
        "<a href=\"https://colab.research.google.com/github/Frostbite22/learning-DL-by-doing-1/blob/main/project.ipynb\" target=\"_parent\"><img src=\"https://colab.research.google.com/assets/colab-badge.svg\" alt=\"Open In Colab\"/></a>"
      ]
    },
    {
      "cell_type": "code",
      "execution_count": 37,
      "metadata": {
        "id": "LuYZFU2gHm3k"
      },
      "outputs": [],
      "source": [
        "import torch \n",
        "from torch import nn"
      ]
    },
    {
      "cell_type": "code",
      "source": [
        "device = 'cuda' if torch.cuda.is_available() else 'cpu'"
      ],
      "metadata": {
        "id": "tBQrFN4kRSZS"
      },
      "execution_count": 38,
      "outputs": []
    },
    {
      "cell_type": "code",
      "source": [
        "from google.colab import drive\n",
        "  \n",
        "drive.mount('/content/drive')\n",
        "import os\n",
        "os.chdir(\"/content/drive/MyDrive/PyTorch/learning_DL/\")"
      ],
      "metadata": {
        "colab": {
          "base_uri": "https://localhost:8080/"
        },
        "id": "w22rRQDJUWrX",
        "outputId": "850b2785-03f4-4bdb-e93a-7016a0d267d8"
      },
      "execution_count": 39,
      "outputs": [
        {
          "output_type": "stream",
          "name": "stdout",
          "text": [
            "Drive already mounted at /content/drive; to attempt to forcibly remount, call drive.mount(\"/content/drive\", force_remount=True).\n"
          ]
        }
      ]
    },
    {
      "cell_type": "code",
      "source": [
        "import zipfile \n",
        "\n",
        "with zipfile.ZipFile('archive.zip','r') as zip_ref:\n",
        "  zip_ref.extractall()"
      ],
      "metadata": {
        "id": "wGMu7Q0mSSNY"
      },
      "execution_count": 40,
      "outputs": []
    },
    {
      "cell_type": "code",
      "source": [
        "path = os.getcwd()\n",
        "path"
      ],
      "metadata": {
        "colab": {
          "base_uri": "https://localhost:8080/",
          "height": 35
        },
        "id": "suDcbrtiU0Ez",
        "outputId": "cbe7e4df-f1ea-424a-edfd-c3f1eb26a847"
      },
      "execution_count": 41,
      "outputs": [
        {
          "output_type": "execute_result",
          "data": {
            "text/plain": [
              "'/content/drive/MyDrive/PyTorch/learning_DL'"
            ],
            "application/vnd.google.colaboratory.intrinsic+json": {
              "type": "string"
            }
          },
          "metadata": {},
          "execution_count": 41
        }
      ]
    },
    {
      "cell_type": "code",
      "source": [
        "import numpy as np\n",
        "import pandas as pd\n",
        "\n",
        "train_df = pd.read_csv('sign_mnist_train.csv')\n",
        "test_df = pd.read_csv(\"sign_mnist_test.csv\")\n"
      ],
      "metadata": {
        "id": "TUSCYhsZOpOY"
      },
      "execution_count": 42,
      "outputs": []
    },
    {
      "cell_type": "code",
      "source": [
        "train_df.head()"
      ],
      "metadata": {
        "colab": {
          "base_uri": "https://localhost:8080/",
          "height": 300
        },
        "id": "YgK0WZdOonWB",
        "outputId": "332d0f4a-a757-4bd6-cb1f-011cc9d9a649"
      },
      "execution_count": 43,
      "outputs": [
        {
          "output_type": "execute_result",
          "data": {
            "text/plain": [
              "   label  pixel1  pixel2  pixel3  pixel4  pixel5  pixel6  pixel7  pixel8  \\\n",
              "0      3     107     118     127     134     139     143     146     150   \n",
              "1      6     155     157     156     156     156     157     156     158   \n",
              "2      2     187     188     188     187     187     186     187     188   \n",
              "3      2     211     211     212     212     211     210     211     210   \n",
              "4     13     164     167     170     172     176     179     180     184   \n",
              "\n",
              "   pixel9  ...  pixel775  pixel776  pixel777  pixel778  pixel779  pixel780  \\\n",
              "0     153  ...       207       207       207       207       206       206   \n",
              "1     158  ...        69       149       128        87        94       163   \n",
              "2     187  ...       202       201       200       199       198       199   \n",
              "3     210  ...       235       234       233       231       230       226   \n",
              "4     185  ...        92       105       105       108       133       163   \n",
              "\n",
              "   pixel781  pixel782  pixel783  pixel784  \n",
              "0       206       204       203       202  \n",
              "1       175       103       135       149  \n",
              "2       198       195       194       195  \n",
              "3       225       222       229       163  \n",
              "4       157       163       164       179  \n",
              "\n",
              "[5 rows x 785 columns]"
            ],
            "text/html": [
              "\n",
              "  <div id=\"df-36d0526b-2cec-4efd-b8f3-337d03dd2256\">\n",
              "    <div class=\"colab-df-container\">\n",
              "      <div>\n",
              "<style scoped>\n",
              "    .dataframe tbody tr th:only-of-type {\n",
              "        vertical-align: middle;\n",
              "    }\n",
              "\n",
              "    .dataframe tbody tr th {\n",
              "        vertical-align: top;\n",
              "    }\n",
              "\n",
              "    .dataframe thead th {\n",
              "        text-align: right;\n",
              "    }\n",
              "</style>\n",
              "<table border=\"1\" class=\"dataframe\">\n",
              "  <thead>\n",
              "    <tr style=\"text-align: right;\">\n",
              "      <th></th>\n",
              "      <th>label</th>\n",
              "      <th>pixel1</th>\n",
              "      <th>pixel2</th>\n",
              "      <th>pixel3</th>\n",
              "      <th>pixel4</th>\n",
              "      <th>pixel5</th>\n",
              "      <th>pixel6</th>\n",
              "      <th>pixel7</th>\n",
              "      <th>pixel8</th>\n",
              "      <th>pixel9</th>\n",
              "      <th>...</th>\n",
              "      <th>pixel775</th>\n",
              "      <th>pixel776</th>\n",
              "      <th>pixel777</th>\n",
              "      <th>pixel778</th>\n",
              "      <th>pixel779</th>\n",
              "      <th>pixel780</th>\n",
              "      <th>pixel781</th>\n",
              "      <th>pixel782</th>\n",
              "      <th>pixel783</th>\n",
              "      <th>pixel784</th>\n",
              "    </tr>\n",
              "  </thead>\n",
              "  <tbody>\n",
              "    <tr>\n",
              "      <th>0</th>\n",
              "      <td>3</td>\n",
              "      <td>107</td>\n",
              "      <td>118</td>\n",
              "      <td>127</td>\n",
              "      <td>134</td>\n",
              "      <td>139</td>\n",
              "      <td>143</td>\n",
              "      <td>146</td>\n",
              "      <td>150</td>\n",
              "      <td>153</td>\n",
              "      <td>...</td>\n",
              "      <td>207</td>\n",
              "      <td>207</td>\n",
              "      <td>207</td>\n",
              "      <td>207</td>\n",
              "      <td>206</td>\n",
              "      <td>206</td>\n",
              "      <td>206</td>\n",
              "      <td>204</td>\n",
              "      <td>203</td>\n",
              "      <td>202</td>\n",
              "    </tr>\n",
              "    <tr>\n",
              "      <th>1</th>\n",
              "      <td>6</td>\n",
              "      <td>155</td>\n",
              "      <td>157</td>\n",
              "      <td>156</td>\n",
              "      <td>156</td>\n",
              "      <td>156</td>\n",
              "      <td>157</td>\n",
              "      <td>156</td>\n",
              "      <td>158</td>\n",
              "      <td>158</td>\n",
              "      <td>...</td>\n",
              "      <td>69</td>\n",
              "      <td>149</td>\n",
              "      <td>128</td>\n",
              "      <td>87</td>\n",
              "      <td>94</td>\n",
              "      <td>163</td>\n",
              "      <td>175</td>\n",
              "      <td>103</td>\n",
              "      <td>135</td>\n",
              "      <td>149</td>\n",
              "    </tr>\n",
              "    <tr>\n",
              "      <th>2</th>\n",
              "      <td>2</td>\n",
              "      <td>187</td>\n",
              "      <td>188</td>\n",
              "      <td>188</td>\n",
              "      <td>187</td>\n",
              "      <td>187</td>\n",
              "      <td>186</td>\n",
              "      <td>187</td>\n",
              "      <td>188</td>\n",
              "      <td>187</td>\n",
              "      <td>...</td>\n",
              "      <td>202</td>\n",
              "      <td>201</td>\n",
              "      <td>200</td>\n",
              "      <td>199</td>\n",
              "      <td>198</td>\n",
              "      <td>199</td>\n",
              "      <td>198</td>\n",
              "      <td>195</td>\n",
              "      <td>194</td>\n",
              "      <td>195</td>\n",
              "    </tr>\n",
              "    <tr>\n",
              "      <th>3</th>\n",
              "      <td>2</td>\n",
              "      <td>211</td>\n",
              "      <td>211</td>\n",
              "      <td>212</td>\n",
              "      <td>212</td>\n",
              "      <td>211</td>\n",
              "      <td>210</td>\n",
              "      <td>211</td>\n",
              "      <td>210</td>\n",
              "      <td>210</td>\n",
              "      <td>...</td>\n",
              "      <td>235</td>\n",
              "      <td>234</td>\n",
              "      <td>233</td>\n",
              "      <td>231</td>\n",
              "      <td>230</td>\n",
              "      <td>226</td>\n",
              "      <td>225</td>\n",
              "      <td>222</td>\n",
              "      <td>229</td>\n",
              "      <td>163</td>\n",
              "    </tr>\n",
              "    <tr>\n",
              "      <th>4</th>\n",
              "      <td>13</td>\n",
              "      <td>164</td>\n",
              "      <td>167</td>\n",
              "      <td>170</td>\n",
              "      <td>172</td>\n",
              "      <td>176</td>\n",
              "      <td>179</td>\n",
              "      <td>180</td>\n",
              "      <td>184</td>\n",
              "      <td>185</td>\n",
              "      <td>...</td>\n",
              "      <td>92</td>\n",
              "      <td>105</td>\n",
              "      <td>105</td>\n",
              "      <td>108</td>\n",
              "      <td>133</td>\n",
              "      <td>163</td>\n",
              "      <td>157</td>\n",
              "      <td>163</td>\n",
              "      <td>164</td>\n",
              "      <td>179</td>\n",
              "    </tr>\n",
              "  </tbody>\n",
              "</table>\n",
              "<p>5 rows × 785 columns</p>\n",
              "</div>\n",
              "      <button class=\"colab-df-convert\" onclick=\"convertToInteractive('df-36d0526b-2cec-4efd-b8f3-337d03dd2256')\"\n",
              "              title=\"Convert this dataframe to an interactive table.\"\n",
              "              style=\"display:none;\">\n",
              "        \n",
              "  <svg xmlns=\"http://www.w3.org/2000/svg\" height=\"24px\"viewBox=\"0 0 24 24\"\n",
              "       width=\"24px\">\n",
              "    <path d=\"M0 0h24v24H0V0z\" fill=\"none\"/>\n",
              "    <path d=\"M18.56 5.44l.94 2.06.94-2.06 2.06-.94-2.06-.94-.94-2.06-.94 2.06-2.06.94zm-11 1L8.5 8.5l.94-2.06 2.06-.94-2.06-.94L8.5 2.5l-.94 2.06-2.06.94zm10 10l.94 2.06.94-2.06 2.06-.94-2.06-.94-.94-2.06-.94 2.06-2.06.94z\"/><path d=\"M17.41 7.96l-1.37-1.37c-.4-.4-.92-.59-1.43-.59-.52 0-1.04.2-1.43.59L10.3 9.45l-7.72 7.72c-.78.78-.78 2.05 0 2.83L4 21.41c.39.39.9.59 1.41.59.51 0 1.02-.2 1.41-.59l7.78-7.78 2.81-2.81c.8-.78.8-2.07 0-2.86zM5.41 20L4 18.59l7.72-7.72 1.47 1.35L5.41 20z\"/>\n",
              "  </svg>\n",
              "      </button>\n",
              "      \n",
              "  <style>\n",
              "    .colab-df-container {\n",
              "      display:flex;\n",
              "      flex-wrap:wrap;\n",
              "      gap: 12px;\n",
              "    }\n",
              "\n",
              "    .colab-df-convert {\n",
              "      background-color: #E8F0FE;\n",
              "      border: none;\n",
              "      border-radius: 50%;\n",
              "      cursor: pointer;\n",
              "      display: none;\n",
              "      fill: #1967D2;\n",
              "      height: 32px;\n",
              "      padding: 0 0 0 0;\n",
              "      width: 32px;\n",
              "    }\n",
              "\n",
              "    .colab-df-convert:hover {\n",
              "      background-color: #E2EBFA;\n",
              "      box-shadow: 0px 1px 2px rgba(60, 64, 67, 0.3), 0px 1px 3px 1px rgba(60, 64, 67, 0.15);\n",
              "      fill: #174EA6;\n",
              "    }\n",
              "\n",
              "    [theme=dark] .colab-df-convert {\n",
              "      background-color: #3B4455;\n",
              "      fill: #D2E3FC;\n",
              "    }\n",
              "\n",
              "    [theme=dark] .colab-df-convert:hover {\n",
              "      background-color: #434B5C;\n",
              "      box-shadow: 0px 1px 3px 1px rgba(0, 0, 0, 0.15);\n",
              "      filter: drop-shadow(0px 1px 2px rgba(0, 0, 0, 0.3));\n",
              "      fill: #FFFFFF;\n",
              "    }\n",
              "  </style>\n",
              "\n",
              "      <script>\n",
              "        const buttonEl =\n",
              "          document.querySelector('#df-36d0526b-2cec-4efd-b8f3-337d03dd2256 button.colab-df-convert');\n",
              "        buttonEl.style.display =\n",
              "          google.colab.kernel.accessAllowed ? 'block' : 'none';\n",
              "\n",
              "        async function convertToInteractive(key) {\n",
              "          const element = document.querySelector('#df-36d0526b-2cec-4efd-b8f3-337d03dd2256');\n",
              "          const dataTable =\n",
              "            await google.colab.kernel.invokeFunction('convertToInteractive',\n",
              "                                                     [key], {});\n",
              "          if (!dataTable) return;\n",
              "\n",
              "          const docLinkHtml = 'Like what you see? Visit the ' +\n",
              "            '<a target=\"_blank\" href=https://colab.research.google.com/notebooks/data_table.ipynb>data table notebook</a>'\n",
              "            + ' to learn more about interactive tables.';\n",
              "          element.innerHTML = '';\n",
              "          dataTable['output_type'] = 'display_data';\n",
              "          await google.colab.output.renderOutput(dataTable, element);\n",
              "          const docLink = document.createElement('div');\n",
              "          docLink.innerHTML = docLinkHtml;\n",
              "          element.appendChild(docLink);\n",
              "        }\n",
              "      </script>\n",
              "    </div>\n",
              "  </div>\n",
              "  "
            ]
          },
          "metadata": {},
          "execution_count": 43
        }
      ]
    },
    {
      "cell_type": "code",
      "source": [
        "for index,row in train_df.iterrows():\n",
        "  pixels = np.array(row[1:])\n",
        "  print(pixels.reshape(28,28).shape)\n",
        "  print(pixels)\n",
        "  break"
      ],
      "metadata": {
        "colab": {
          "base_uri": "https://localhost:8080/"
        },
        "id": "0R5LH_OCYMEL",
        "outputId": "bf41031d-9c34-4000-85cd-a3e6176838aa"
      },
      "execution_count": 44,
      "outputs": [
        {
          "output_type": "stream",
          "name": "stdout",
          "text": [
            "(28, 28)\n",
            "[107 118 127 134 139 143 146 150 153 156 158 160 163 165 159 166 168 170\n",
            " 170 171 171 171 172 171 171 170 170 169 111 121 129 135 141 144 148 151\n",
            " 154 157 160 163 164 170 119 152 171 171 170 171 172 172 172 172 172 171\n",
            " 171 170 113 123 131 137 142 145 150 152 155 158 161 163 164 172 105 142\n",
            " 170 171 171 171 172 172 173 173 172 171 171 171 116 125 133 139 143 146\n",
            " 151 153 156 159 162 163 167 167  95 144 171 172 172 172 172 172 173 173\n",
            " 173 172 172 171 117 126 134 140 145 149 153 156 158 161 163 164 175 156\n",
            "  87 154 172 173 173 173 173 173 174 174 174 173 172 172 119 128 136 142\n",
            " 146 150 153 156 159 163 165 164 184 148  89 164 172 174 174 174 174 175\n",
            " 175 174 175 174 173 173 122 130 138 143 147 150 154 158 162 165 166 172\n",
            " 181 128  94 170 173 175 174 175 176 177 177 177 177 175 175 174 122 132\n",
            " 139 145 149 152 156 160 163 165 166 181 172 103 113 175 176 178 178 179\n",
            " 179 179 179 178 179 177 175 174 125 134 141 147 150 153 157 161 164 167\n",
            " 168 184 179 116 126 165 176 179 180 180 181 180 180 180 179 178 177 176\n",
            " 128 135 142 148 152 154 158 162 165 168 170 187 180 156 161 124 143 179\n",
            " 178 178 181 182 181 180 181 180 179 179 129 136 144 150 153 155 159 163\n",
            " 166 169 172 187 184 153 102 117 110 175 169 154 182 183 183 182 182 181\n",
            " 181 179 131 138 145 150 155 157 161 165 168 174 190 189 175 146  94  97\n",
            " 113 151 158 129 184 184 184 184 183 183 182 180 131 139 146 151 155 159\n",
            " 163 167 175 182 179 171 159 114 102  89 121 136 136  96 172 186 186 185\n",
            " 185 184 182 181 131 140 147 154 157 160 164 179 186 191 187 180 157 100\n",
            "  88  84 108 111 126  90 120 186 187 187 186 185 184 182 133 141 149 155\n",
            " 158 160 174 201 189 165 151 143 146 120  87  78  87  76 108  98  96 181\n",
            " 188 187 186 186 185 183 133 141 150 156 160 161 179 197 174 135  99  72\n",
            "  95 134  97  72  74  68 116 105 108 187 189 187 187 186 186 185 134 143\n",
            " 151 156 161 163 179 194 156 110  74  42  52 139  94  67  75  75 118 106\n",
            " 129 189 191 190 188 188 187 186 135 144 152 158 163 163 177 193 161 122\n",
            "  84  43  71 134  81  57  71  88 112  98 157 193 193 192 190 190 189 188\n",
            " 136 144 152 158 162 163 176 192 164 128  98  62  60 100  71  76  96 101\n",
            " 105  95 174 195 194 194 194 193 191 190 137 145 152 159 164 165 178 191\n",
            " 164 135 113  82  59  87  98 111 120 108  97 108 190 196 195 195 194 193\n",
            " 193 192 139 146 154 160 164 165 175 186 163 139 112  85  67 102 126 133\n",
            " 126 105 104 176 197 198 197 196 195 195 194 193 138 147 155 161 165 167\n",
            " 172 186 163 137 107  87  76 106 122 125 117  96 156 199 199 200 198 196\n",
            " 196 195 195 194 139 148 156 163 166 168 172 180 158 131 108  99  86 108\n",
            " 118 116 103 107 191 202 201 200 200 200 199 197 198 196 140 149 157 164\n",
            " 168 167 177 178 155 131 118 105  87 100 106 100  96 164 202 202 202 202\n",
            " 202 201 200 199 199 198 140 150 157 165 167 170 181 175 152 130 115  98\n",
            "  82  85  90  99 165 202 203 204 203 203 202 202 201 201 200 200 142 150\n",
            " 159 165 170 191 173 157 144 119  97  84  79  79  91 172 202 203 203 205\n",
            " 204 204 204 203 202 202 201 200 142 151 160 165 188 190 187 150 119 109\n",
            "  85  79  79  78 137 203 205 206 206 207 207 206 206 204 205 204 203 202\n",
            " 142 151 160 172 196 188 188 190 135  96  86  77  77  79 176 205 207 207\n",
            " 207 207 207 207 206 206 206 204 203 202]\n"
          ]
        }
      ]
    },
    {
      "cell_type": "code",
      "source": [
        "# from PIL import Image\n",
        "# img = Image.open('/content/drive/MyDrive/PyTorch/learning_DL/images/img16_2.png')"
      ],
      "metadata": {
        "id": "th14xiL7XrV-"
      },
      "execution_count": 45,
      "outputs": []
    },
    {
      "cell_type": "code",
      "source": [
        "# img"
      ],
      "metadata": {
        "id": "pgdqsXH3w0Uj"
      },
      "execution_count": 46,
      "outputs": []
    },
    {
      "cell_type": "code",
      "source": [
        "classes = [\"A\", \"B\", \"C\", \"D\", \"E\", \"F\", \"G\", \"H\", \"I\", \"J\", \"K\", \"L\", \"M\", \"N\", \"O\", \"P\", \"Q\", \"R\", \"S\", \"T\", \"U\", \"V\", \"W\", \"X\", \"Y\", \"Z\"]"
      ],
      "metadata": {
        "id": "JVcbeX54Rjem"
      },
      "execution_count": 47,
      "outputs": []
    },
    {
      "cell_type": "code",
      "source": [
        "from PIL import Image\n",
        "from pathlib import Path \n",
        "from torchvision import transforms\n",
        "\n",
        "def csv_to_image_preprocessing(global_path,image_folder,dataframe):\n",
        "  #Setup path to a data folder \n",
        "  data_path = Path(global_path)\n",
        "  image_path = data_path / image_folder\n",
        "\n",
        "  #If the image folder doesn't exist, download it and prepare it \n",
        "  if image_path.is_dir():\n",
        "    print(f\"{image_path} directory already exists\")\n",
        "  else: \n",
        "    print(f\"{image_path} does not exist, creating one\")\n",
        "    image_path.mkdir(parents=True,exist_ok=True)\n",
        "\n",
        "\n",
        "  counter = dict()\n",
        "  dataset = []\n",
        "  is_empty = True \n",
        "  if not os.listdir(image_path):\n",
        "    pass\n",
        "  else:\n",
        "      is_empty = False\n",
        "\n",
        "\n",
        "  for index,row in dataframe.iterrows(): \n",
        "      pixels = np.array(row[1:],dtype=np.uint8)\n",
        "      pixels = np.reshape(pixels,(28,28))\n",
        "      image = Image.fromarray(pixels)\n",
        "      label = row[0]\n",
        "      \n",
        "      image_transform = transforms.Compose([transforms.ToTensor()])\n",
        "      dataset.append((image_transform(image),label))\n",
        "\n",
        "      if label not in counter:\n",
        "          counter[label] = 0\n",
        "      counter[label] += 1\n",
        "      \n",
        "      if is_empty: \n",
        "        filename = 'img{}_{}.png'.format(label, counter[label])\n",
        "        image.save(image_path/filename)\n",
        "        print('saved:', image_path/filename)\n",
        "  \n",
        "  return dataset\n"
      ],
      "metadata": {
        "id": "2gAiQNyVDRj9"
      },
      "execution_count": 48,
      "outputs": []
    },
    {
      "cell_type": "code",
      "source": [
        "train_dataset = csv_to_image_preprocessing(path,\"train_images\",train_df)"
      ],
      "metadata": {
        "id": "Hk8O342ti3Wt",
        "colab": {
          "base_uri": "https://localhost:8080/"
        },
        "outputId": "40bd4e42-dbb1-4a24-fb77-d0f871c20bec"
      },
      "execution_count": 49,
      "outputs": [
        {
          "output_type": "stream",
          "name": "stdout",
          "text": [
            "/content/drive/MyDrive/PyTorch/learning_DL/train_images directory already exists\n"
          ]
        }
      ]
    },
    {
      "cell_type": "code",
      "source": [
        "test_dataset = csv_to_image_preprocessing(path,\"test_images\",test_df)"
      ],
      "metadata": {
        "id": "n5JFKrjxLI5p",
        "colab": {
          "base_uri": "https://localhost:8080/"
        },
        "outputId": "71021cad-bd96-4792-fdab-3f054861fe86"
      },
      "execution_count": 50,
      "outputs": [
        {
          "output_type": "stream",
          "name": "stdout",
          "text": [
            "/content/drive/MyDrive/PyTorch/learning_DL/test_images directory already exists\n"
          ]
        }
      ]
    },
    {
      "cell_type": "code",
      "source": [
        "image_test, label_test = test_dataset[100]"
      ],
      "metadata": {
        "id": "7vvsatYNLjDX"
      },
      "execution_count": 51,
      "outputs": []
    },
    {
      "cell_type": "code",
      "source": [
        "image_test.shape"
      ],
      "metadata": {
        "id": "B8zvLGFrQdRx",
        "colab": {
          "base_uri": "https://localhost:8080/"
        },
        "outputId": "cd8a7d82-21a1-48c1-a072-4739e446f797"
      },
      "execution_count": 52,
      "outputs": [
        {
          "output_type": "execute_result",
          "data": {
            "text/plain": [
              "torch.Size([1, 28, 28])"
            ]
          },
          "metadata": {},
          "execution_count": 52
        }
      ]
    },
    {
      "cell_type": "code",
      "source": [
        "import matplotlib.pyplot as plt\n",
        "\n",
        "plt.imshow(image_test.permute(1,2,0))\n",
        "plt.axis(False)\n",
        "plt.title(classes[label_test])\n"
      ],
      "metadata": {
        "id": "RqG7orc-QjkI",
        "colab": {
          "base_uri": "https://localhost:8080/",
          "height": 281
        },
        "outputId": "b6639113-87c6-408a-dfe3-ada23e393dda"
      },
      "execution_count": 53,
      "outputs": [
        {
          "output_type": "execute_result",
          "data": {
            "text/plain": [
              "Text(0.5, 1.0, 'I')"
            ]
          },
          "metadata": {},
          "execution_count": 53
        },
        {
          "output_type": "display_data",
          "data": {
            "text/plain": [
              "<Figure size 432x288 with 1 Axes>"
            ],
            "image/png": "[encoded data removed]"
          },
          "metadata": {
            "needs_background": "light"
          }
        }
      ]
    },
    {
      "cell_type": "code",
      "source": [
        "from torch.utils.data import DataLoader \n",
        "BATCH_SIZE = 32 \n",
        "train_dataloader = DataLoader(dataset=train_dataset,\n",
        "                               batch_size=BATCH_SIZE,\n",
        "                               num_workers=1,\n",
        "                              shuffle=True)\n",
        "test_dataloader = DataLoader(dataset=test_dataset,\n",
        "                             batch_size=BATCH_SIZE,\n",
        "                             num_workers=1,\n",
        "                             shuffle=False)\n",
        "\n",
        "train_dataloader, test_dataloader"
      ],
      "metadata": {
        "id": "yMzpNc5PQ6ko",
        "colab": {
          "base_uri": "https://localhost:8080/"
        },
        "outputId": "1d692301-10b4-4824-eeb6-83ecc5de5576"
      },
      "execution_count": 54,
      "outputs": [
        {
          "output_type": "execute_result",
          "data": {
            "text/plain": [
              "(<torch.utils.data.dataloader.DataLoader at 0x7f3c4b2f0a30>,\n",
              " <torch.utils.data.dataloader.DataLoader at 0x7f3c4b2f0910>)"
            ]
          },
          "metadata": {},
          "execution_count": 54
        }
      ]
    },
    {
      "cell_type": "code",
      "source": [
        "img, label = next(iter(train_dataloader))\n",
        "\n",
        "print(f'Image Shape: {img.shape} -> [batch_size,color_channels,height,width]')\n",
        "print(f'Label Shape: {label.shape}')"
      ],
      "metadata": {
        "id": "rylQzWSHYxtI",
        "colab": {
          "base_uri": "https://localhost:8080/"
        },
        "outputId": "2832ecb6-10a6-48ba-ebd0-55f0fb5cdad4"
      },
      "execution_count": 55,
      "outputs": [
        {
          "output_type": "stream",
          "name": "stdout",
          "text": [
            "Image Shape: torch.Size([32, 1, 28, 28]) -> [batch_size,color_channels,height,width]\n",
            "Label Shape: torch.Size([32])\n"
          ]
        }
      ]
    },
    {
      "cell_type": "code",
      "source": [
        "import torch.nn as nn\n",
        "\n",
        "class ResNet18(nn.Module):\n",
        "    def __init__(self, input_shape : int,\n",
        "                hidden_units : int,\n",
        "                output_shape : int):\n",
        "        super(ResNet18,self).__init__()\n",
        "\n",
        "        self.conv1 = nn.Conv2d(input_shape, hidden_units, kernel_size=3, stride=1, padding=1)\n",
        "        self.bn1 = nn.BatchNorm2d(hidden_units)\n",
        "        self.layer1 = nn.Sequential(\n",
        "            nn.Conv2d(hidden_units, hidden_units, kernel_size=3, stride=1, padding=1),\n",
        "            nn.BatchNorm2d(hidden_units),\n",
        "            nn.ReLU(),\n",
        "            nn.Conv2d(hidden_units, hidden_units, kernel_size=3, stride=1, padding=1,),\n",
        "            nn.BatchNorm2d(hidden_units),        \n",
        "            nn.ReLU()\n",
        "        )\n",
        "        self.layer2 = nn.Sequential(\n",
        "            nn.Conv2d(hidden_units, hidden_units*2, kernel_size=3, stride=2, padding=1),\n",
        "            nn.BatchNorm2d(hidden_units*2),\n",
        "            nn.ReLU(),\n",
        "            nn.Conv2d(hidden_units*2, hidden_units*2, kernel_size=3, stride=1, padding=1),\n",
        "            nn.BatchNorm2d(hidden_units*2),\n",
        "            nn.ReLU()\n",
        "        )\n",
        "        self.layer3 = nn.Sequential(\n",
        "            nn.Conv2d(hidden_units*2, hidden_units*4, kernel_size=3, stride=2, padding=1),\n",
        "            nn.BatchNorm2d(hidden_units*4),\n",
        "            nn.ReLU(),\n",
        "            nn.Conv2d(hidden_units*4, hidden_units*4, kernel_size=3, stride=1, padding=1),\n",
        "            nn.BatchNorm2d(hidden_units*4),\n",
        "            nn.ReLU()\n",
        "        )\n",
        "        self.avgpool = nn.AdaptiveAvgPool2d((1, 1))\n",
        "        self.fc = nn.Linear(hidden_units*4, output_shape)\n",
        "        self.dropout = nn.Dropout()\n",
        "\n",
        "    def forward(self, x):\n",
        "        x = self.conv1(x)\n",
        "        x = self.bn1(x)\n",
        "        x = self.layer1(x) \n",
        "        x = self.layer2(x) \n",
        "        x = self.dropout(x)\n",
        "        x = self.layer3(x) \n",
        "        x = self.avgpool(x)\n",
        "        x = x.view(x.size(0), -1)\n",
        "        x = self.fc(x)\n",
        "        return x"
      ],
      "metadata": {
        "id": "qvSLt5zXY0kg"
      },
      "execution_count": 56,
      "outputs": []
    },
    {
      "cell_type": "code",
      "source": [
        "torch.manual_seed(42)\n",
        "model_1 = ResNet18(input_shape=1,\n",
        "                hidden_units=16,\n",
        "                output_shape=len(classes)).to(device)\n",
        "\n",
        "model_1"
      ],
      "metadata": {
        "id": "_OtfaDIvacgA",
        "colab": {
          "base_uri": "https://localhost:8080/"
        },
        "outputId": "7135cf02-567a-4bc5-aa46-fa230bea2c7f"
      },
      "execution_count": 57,
      "outputs": [
        {
          "output_type": "execute_result",
          "data": {
            "text/plain": [
              "ResNet18(\n",
              "  (conv1): Conv2d(1, 16, kernel_size=(3, 3), stride=(1, 1), padding=(1, 1))\n",
              "  (bn1): BatchNorm2d(16, eps=1e-05, momentum=0.1, affine=True, track_running_stats=True)\n",
              "  (layer1): Sequential(\n",
              "    (0): Conv2d(16, 16, kernel_size=(3, 3), stride=(1, 1), padding=(1, 1))\n",
              "    (1): BatchNorm2d(16, eps=1e-05, momentum=0.1, affine=True, track_running_stats=True)\n",
              "    (2): ReLU()\n",
              "    (3): Conv2d(16, 16, kernel_size=(3, 3), stride=(1, 1), padding=(1, 1))\n",
              "    (4): BatchNorm2d(16, eps=1e-05, momentum=0.1, affine=True, track_running_stats=True)\n",
              "    (5): ReLU()\n",
              "  )\n",
              "  (layer2): Sequential(\n",
              "    (0): Conv2d(16, 32, kernel_size=(3, 3), stride=(2, 2), padding=(1, 1))\n",
              "    (1): BatchNorm2d(32, eps=1e-05, momentum=0.1, affine=True, track_running_stats=True)\n",
              "    (2): ReLU()\n",
              "    (3): Conv2d(32, 32, kernel_size=(3, 3), stride=(1, 1), padding=(1, 1))\n",
              "    (4): BatchNorm2d(32, eps=1e-05, momentum=0.1, affine=True, track_running_stats=True)\n",
              "    (5): ReLU()\n",
              "  )\n",
              "  (layer3): Sequential(\n",
              "    (0): Conv2d(32, 64, kernel_size=(3, 3), stride=(2, 2), padding=(1, 1))\n",
              "    (1): BatchNorm2d(64, eps=1e-05, momentum=0.1, affine=True, track_running_stats=True)\n",
              "    (2): ReLU()\n",
              "    (3): Conv2d(64, 64, kernel_size=(3, 3), stride=(1, 1), padding=(1, 1))\n",
              "    (4): BatchNorm2d(64, eps=1e-05, momentum=0.1, affine=True, track_running_stats=True)\n",
              "    (5): ReLU()\n",
              "  )\n",
              "  (avgpool): AdaptiveAvgPool2d(output_size=(1, 1))\n",
              "  (fc): Linear(in_features=64, out_features=26, bias=True)\n",
              "  (dropout): Dropout(p=0.5, inplace=False)\n",
              ")"
            ]
          },
          "metadata": {},
          "execution_count": 57
        }
      ]
    },
    {
      "cell_type": "code",
      "source": [
        "import torch.nn as nn\n",
        "\n",
        "class SimpleConv(nn.Module):\n",
        "  def __init__(self,input_shape : int,\n",
        "               hidden_units : int,\n",
        "               output_shape):\n",
        "    super(SimpleConv,self).__init__()\n",
        "\n",
        "    self.layer1 = nn.Sequential(\n",
        "        nn.Conv2d(input_shape, hidden_units, kernel_size=3, stride=1, padding=1),\n",
        "        nn.MaxPool2d(kernel_size=2),\n",
        "        nn.ReLU(),\n",
        "        nn.Dropout(0.2)\n",
        "    )\n",
        "\n",
        "    self.layer2 = nn.Sequential(\n",
        "        nn.Conv2d(hidden_units, hidden_units*2, kernel_size=3, stride=1, padding=1),\n",
        "        nn.MaxPool2d(kernel_size=2),\n",
        "        nn.ReLU(),\n",
        "        nn.Dropout(0.2)\n",
        "    )\n",
        "\n",
        "\n",
        "    self.layer3 = nn.Sequential(\n",
        "        nn.Conv2d(hidden_units*2, hidden_units*4, kernel_size=3, stride=1, padding=1),\n",
        "        nn.MaxPool2d(kernel_size=2),\n",
        "        nn.ReLU(),\n",
        "        nn.Dropout(0.2)\n",
        "    )\n",
        "\n",
        "    self.fc = nn.Linear(1152,output_shape)\n",
        "\n",
        "  def forward(self,x):\n",
        "    x = self.layer1(x)\n",
        "    x = self.layer2(x)\n",
        "    x = self.layer3(x)\n",
        "    x = x.view(x.size(0), -1)\n",
        "    x = self.fc(x)\n",
        "    return x\n",
        "    "
      ],
      "metadata": {
        "id": "1ng2rsUAhzwj"
      },
      "execution_count": 58,
      "outputs": []
    },
    {
      "cell_type": "code",
      "source": [
        "torch.manual_seed(42)\n",
        "model_2 = SimpleConv(input_shape=1,\n",
        "                hidden_units=32,\n",
        "                output_shape=len(classes)).to(device)\n",
        "\n",
        "model_2"
      ],
      "metadata": {
        "colab": {
          "base_uri": "https://localhost:8080/"
        },
        "id": "FqfEc_QRoK3l",
        "outputId": "8f941cc5-36d3-4913-80a4-dffd3c9c7396"
      },
      "execution_count": 59,
      "outputs": [
        {
          "output_type": "execute_result",
          "data": {
            "text/plain": [
              "SimpleConv(\n",
              "  (layer1): Sequential(\n",
              "    (0): Conv2d(1, 32, kernel_size=(3, 3), stride=(1, 1), padding=(1, 1))\n",
              "    (1): MaxPool2d(kernel_size=2, stride=2, padding=0, dilation=1, ceil_mode=False)\n",
              "    (2): ReLU()\n",
              "    (3): Dropout(p=0.2, inplace=False)\n",
              "  )\n",
              "  (layer2): Sequential(\n",
              "    (0): Conv2d(32, 64, kernel_size=(3, 3), stride=(1, 1), padding=(1, 1))\n",
              "    (1): MaxPool2d(kernel_size=2, stride=2, padding=0, dilation=1, ceil_mode=False)\n",
              "    (2): ReLU()\n",
              "    (3): Dropout(p=0.2, inplace=False)\n",
              "  )\n",
              "  (layer3): Sequential(\n",
              "    (0): Conv2d(64, 128, kernel_size=(3, 3), stride=(1, 1), padding=(1, 1))\n",
              "    (1): MaxPool2d(kernel_size=2, stride=2, padding=0, dilation=1, ceil_mode=False)\n",
              "    (2): ReLU()\n",
              "    (3): Dropout(p=0.2, inplace=False)\n",
              "  )\n",
              "  (fc): Linear(in_features=1152, out_features=26, bias=True)\n",
              ")"
            ]
          },
          "metadata": {},
          "execution_count": 59
        }
      ]
    },
    {
      "cell_type": "code",
      "source": [
        "# Create train and test loops functions \n",
        "def train_step(model: torch.nn.Module,\n",
        "               dataloader : torch.utils.data.DataLoader,\n",
        "               loss_fn ,\n",
        "               optimizer: torch.optim.Optimizer,\n",
        "               device=device):\n",
        "  #put the model in train mode \n",
        "  model.train()\n",
        "  #setup train loss and train accuracy values \n",
        "  train_loss, train_acc = 0,0 \n",
        "  #Loop through data loader data batchtes \n",
        "  for batch, (X,y) in enumerate(dataloader):\n",
        "    #send data to the target device \n",
        "    X,y = X.to(device), y.to(device)\n",
        "    #1.forward pass\n",
        "    y_pred = model(X) #output model logits\n",
        "    #2.Calculate the loss\n",
        "    loss = loss_fn(y_pred,y)\n",
        "    train_loss += loss.item()\n",
        "    #3.Optimizer zero grad \n",
        "    optimizer.zero_grad()\n",
        "    #4.loss backward\n",
        "    loss.backward()\n",
        "    #5. Optimizer step\n",
        "    optimizer.step()\n",
        "\n",
        "    #calculate accuracy metric \n",
        "    y_pred_class = torch.argmax(torch.softmax(y_pred,dim=1),dim=1)\n",
        "    train_acc += (y_pred_class==y).sum().item()/len(y_pred)\n",
        "  \n",
        "  #Adjust metrics to get average loss and accuracy per batch \n",
        "  train_loss = train_loss /len(dataloader)\n",
        "  train_acc = train_acc / len(dataloader)\n",
        "  return train_loss, train_acc \n"
      ],
      "metadata": {
        "id": "j0Dr2gMCeHNp"
      },
      "execution_count": 60,
      "outputs": []
    },
    {
      "cell_type": "code",
      "source": [
        "#Create a test step function \n",
        "def test_step(model: torch.nn.Module,\n",
        "              dataloader : torch.utils.data.DataLoader,\n",
        "              loss_fn ,\n",
        "              optimizer: torch.optim.Optimizer,\n",
        "              device=device):\n",
        "  #put model in eval model \n",
        "  model.eval()\n",
        "  #setup test loss and test accuracy values \n",
        "  test_loss, test_acc = 0,0\n",
        "  #Turn on inference model \n",
        "  with torch.inference_mode():\n",
        "    #Loop through Dataloader batches \n",
        "    for batch, (X,y) in enumerate(dataloader):\n",
        "      X,y = X.to(device), y.to(device)\n",
        "      #1.forward pass\n",
        "      test_pred_logits = model(X)\n",
        "      #2.Calculate the loss \n",
        "      loss = loss_fn(test_pred_logits,y)\n",
        "      test_loss += loss.item()\n",
        "      #calculate the accuracy \n",
        "      test_pred_labels = test_pred_logits.argmax(dim=1)\n",
        "      test_acc += (test_pred_labels==y).sum().item() / len(test_pred_labels)\n",
        "\n",
        "  #Adujust metrics to get average loss and accuracy per batch \n",
        "  test_loss = test_loss / len(dataloader) \n",
        "  test_acc = test_acc / len(dataloader) \n",
        "  return test_loss , test_acc  "
      ],
      "metadata": {
        "id": "FMryh7tmfRtg"
      },
      "execution_count": 61,
      "outputs": []
    },
    {
      "cell_type": "code",
      "source": [
        "from tqdm.auto import tqdm\n",
        "\n",
        "def train(model : torch.nn.Module,\n",
        "          train_dataloader : torch.utils.data.DataLoader,\n",
        "          test_dataloader : torch.utils.data.DataLoader, \n",
        "          loss_fn ,\n",
        "          optimizer : torch.optim.Optimizer,\n",
        "          epochs : int = 5, \n",
        "          device = device):\n",
        "  #create empty results dict \n",
        "  results = {\"train_loss\": [],\n",
        "             \"train_acc\": [],\n",
        "             \"test_loss\": [],\n",
        "             \"test_acc\": []}\n",
        "\n",
        "  #loop through training and testing steps for a number of epochs \n",
        "  for epoch in tqdm(range(epochs)):\n",
        "    train_loss, train_acc = train_step(model=model,\n",
        "                                       dataloader= train_dataloader,\n",
        "                                       loss_fn=loss_fn.to(device),\n",
        "                                       optimizer=optimizer,\n",
        "                                       device=device)\n",
        "    test_loss, test_acc = test_step(model=model,\n",
        "                                    dataloader= test_dataloader,\n",
        "                                    loss_fn=loss_fn,\n",
        "                                    optimizer= optimizer, \n",
        "                                    device=device) \n",
        "\n",
        "    #print out \n",
        "    print(f'Epoch : {epoch} | train loss: {train_loss: .4f} | Train acc : {train_acc : .4f} | Test loss : {test_loss : .4f} | Test acc : {test_acc :.4f} ')\n",
        "\n",
        "    #Update results dictionary \n",
        "    results['train_loss'].append(train_loss)\n",
        "    results['train_acc'].append(train_acc)\n",
        "    results['test_loss'].append(test_loss) \n",
        "    results['test_acc'].append(test_acc)\n",
        "  \n",
        "  #Return the filled results at the end of the epochs \n",
        "  return results\n",
        "\n",
        "  "
      ],
      "metadata": {
        "id": "vjUGeUTFfVfc"
      },
      "execution_count": 62,
      "outputs": []
    },
    {
      "cell_type": "code",
      "source": [
        "#Credits to \n",
        "#https://github.com/HaotianMXu/Multiclass_LinearSVM_with_SGD/blob/master/linearSVM.py\n",
        "\n",
        "class multiClassHingeLoss(nn.Module):\n",
        "    def __init__(self, p=1, margin=1, weight=None, size_average=True):\n",
        "        super(multiClassHingeLoss, self).__init__()\n",
        "        self.p=p\n",
        "        self.margin=margin\n",
        "        self.weight=weight#weight for each class, size=n_class, variable containing FloatTensor,cuda,reqiures_grad=False\n",
        "        self.size_average=size_average\n",
        "    def forward(self, output, y):#output: batchsize*n_class\n",
        "        #print(output.requires_grad)\n",
        "        #print(y.requires_grad)\n",
        "        output_y=output[torch.arange(0,y.size()[0]).long().cuda(),y.data.cuda()].view(-1,1)#view for transpose\n",
        "        #margin - output[y] + output[i]\n",
        "        loss=output-output_y+self.margin#contains i=y\n",
        "        #remove i=y items\n",
        "        loss[torch.arange(0,y.size()[0]).long().cuda(),y.data.cuda()]=0\n",
        "        #max(0,_)\n",
        "        loss[loss<0]=0\n",
        "        #^p\n",
        "        if(self.p!=1):\n",
        "            loss=torch.pow(loss,self.p)\n",
        "        #add weight\n",
        "        if(self.weight is not None):\n",
        "            loss=loss*self.weight\n",
        "        #sum up\n",
        "        loss=torch.sum(loss)\n",
        "        if(self.size_average):\n",
        "            loss/=output.size()[0]#output.size()[0]\n",
        "        return loss\n"
      ],
      "metadata": {
        "id": "nOkSAcXNgjX9"
      },
      "execution_count": 63,
      "outputs": []
    },
    {
      "cell_type": "code",
      "source": [
        "\n",
        "#Train and evaluate model 1\n",
        "torch.manual_seed(42)\n",
        "torch.cuda.manual_seed(42)\n",
        "\n",
        "#Set number of epochs \n",
        "NUM_EPOCHS = 8\n",
        "\n",
        "#Recreate an instance of ResNet18\n",
        "model_1  = ResNet18(input_shape=1,\n",
        "                   hidden_units=24,\n",
        "                   output_shape=len(classes)).to(device)\n",
        "\n",
        "#Setup loss funcion and optimizer \n",
        "loss_fn = multiClassHingeLoss()\n",
        "\n",
        "optimizer = torch.optim.SGD(params=model_1.parameters(), lr=0.01, momentum=0.9)\n",
        "# Start the timer \n",
        "from timeit import default_timer as timer \n",
        "start_time = timer()\n",
        "\n",
        "#Train model 1 \n",
        "model_1_results = train(model=model_1,\n",
        "                        train_dataloader=train_dataloader,\n",
        "                        test_dataloader=test_dataloader,\n",
        "                        loss_fn=loss_fn,\n",
        "                        optimizer=optimizer,\n",
        "                        epochs=NUM_EPOCHS)\n",
        "\n",
        "#End the timer and print out how long it took \n",
        "end_time = timer()\n",
        "print(f'Total training time : {end_time - start_time:.3f} seconds')"
      ],
      "metadata": {
        "id": "xWaw5pFEfbu4",
        "colab": {
          "base_uri": "https://localhost:8080/",
          "height": 205,
          "referenced_widgets": [
            "458d7166b6804142b5a6d082d9dba70a",
            "e49bdc1205ee44699ab608143e266839",
            "d2c24d23e6584549840086d0cc3186a8",
            "b3eac8b4998f4eb6a9f4400c2adc7ddb",
            "acb3def8842b4a18808c597de20d8a83",
            "da2185680c2d46b9814aa4011fa27b6f",
            "811a6676612b41e489a06358944c3b9e",
            "7d045bce07294fb28c5165a1115f79e5",
            "d0384345d3d142d2a51adf6b18f0ff13",
            "91f53d75e7d54e62b86e79937474ecae",
            "7bfb5c4bb62d4c38b1c89f02abc41d77"
          ]
        },
        "outputId": "b5917fba-899b-4096-a071-3b4406d64b47"
      },
      "execution_count": 64,
      "outputs": [
        {
          "output_type": "display_data",
          "data": {
            "text/plain": [
              "  0%|          | 0/8 [00:00<?, ?it/s]"
            ],
            "application/vnd.jupyter.widget-view+json": {
              "version_major": 2,
              "version_minor": 0,
              "model_id": "458d7166b6804142b5a6d082d9dba70a"
            }
          },
          "metadata": {}
        },
        {
          "output_type": "stream",
          "name": "stdout",
          "text": [
            "Epoch : 0 | train loss:  2.5670 | Train acc :  0.7249 | Test loss :  0.3087 | Test acc : 0.9207 \n",
            "Epoch : 1 | train loss:  0.0909 | Train acc :  0.9804 | Test loss :  0.0734 | Test acc : 0.9829 \n",
            "Epoch : 2 | train loss:  0.0342 | Train acc :  0.9936 | Test loss :  0.0547 | Test acc : 0.9854 \n",
            "Epoch : 3 | train loss:  0.0191 | Train acc :  0.9966 | Test loss :  0.0503 | Test acc : 0.9904 \n",
            "Epoch : 4 | train loss:  0.0133 | Train acc :  0.9979 | Test loss :  0.0320 | Test acc : 0.9900 \n",
            "Epoch : 5 | train loss:  0.0092 | Train acc :  0.9984 | Test loss :  0.0236 | Test acc : 0.9929 \n",
            "Epoch : 6 | train loss:  0.0149 | Train acc :  0.9970 | Test loss :  0.0234 | Test acc : 0.9974 \n",
            "Epoch : 7 | train loss:  0.0071 | Train acc :  0.9987 | Test loss :  0.0278 | Test acc : 0.9932 \n",
            "Total training time : 64.488 seconds\n"
          ]
        }
      ]
    },
    {
      "cell_type": "code",
      "source": [
        "from torch import nn\n",
        "#Train and evaluate model 1\n",
        "torch.manual_seed(42)\n",
        "torch.cuda.manual_seed(42)\n",
        "\n",
        "#Set number of epochs \n",
        "NUM_EPOCHS = 8\n",
        "\n",
        "#Recreate an instance of ResNet18\n",
        "model_1  = ResNet18(input_shape=1,\n",
        "                   hidden_units=24,\n",
        "                   output_shape=len(classes)).to(device)\n",
        "\n",
        "#Setup loss funcion and optimizer \n",
        "loss_fn = nn.CrossEntropyLoss()\n",
        "\n",
        "optimizer = torch.optim.SGD(params=model_1.parameters(), lr=0.01, momentum=0.9)\n",
        "# Start the timer \n",
        "from timeit import default_timer as timer \n",
        "start_time = timer()\n",
        "\n",
        "#Train model 1 \n",
        "model_1_results = train(model=model_1,\n",
        "                        train_dataloader=train_dataloader,\n",
        "                        test_dataloader=test_dataloader,\n",
        "                        loss_fn=loss_fn,\n",
        "                        optimizer=optimizer,\n",
        "                        epochs=NUM_EPOCHS)\n",
        "\n",
        "#End the timer and print out how long it took \n",
        "end_time = timer()\n",
        "print(f'Total training time : {end_time - start_time:.3f} seconds')"
      ],
      "metadata": {
        "colab": {
          "base_uri": "https://localhost:8080/",
          "height": 205,
          "referenced_widgets": [
            "4d5c472c90f94627bbfea6e29148966a",
            "6c881d7cb0cf470dbbdeacd0b0902521",
            "391584eba03f45349b3abe6e648aa36f",
            "69871c11a6394782bff629b6565d6057",
            "53e8bbfb71744ff5a6da780b7601b65e",
            "42cb0455e77147a2a0b4afe22bed29ae",
            "29264f2bb81b4c1bbf48e172d2d1b887",
            "369fcd1eb3ec444cb20c2088cae106e8",
            "928390656f4e499d96a4bb224379507e",
            "eae9c7d7db41467a90e4739ea81578bd",
            "f8c5d187d5a94a6988f1e04f46fa55f8"
          ]
        },
        "outputId": "09c169da-a9d6-4165-e9b6-2ac2b76fc60b",
        "id": "39_0Im6aKjRu"
      },
      "execution_count": 65,
      "outputs": [
        {
          "output_type": "display_data",
          "data": {
            "text/plain": [
              "  0%|          | 0/8 [00:00<?, ?it/s]"
            ],
            "application/vnd.jupyter.widget-view+json": {
              "version_major": 2,
              "version_minor": 0,
              "model_id": "4d5c472c90f94627bbfea6e29148966a"
            }
          },
          "metadata": {}
        },
        {
          "output_type": "stream",
          "name": "stdout",
          "text": [
            "Epoch : 0 | train loss:  1.1804 | Train acc :  0.6558 | Test loss :  0.3802 | Test acc : 0.8915 \n",
            "Epoch : 1 | train loss:  0.1100 | Train acc :  0.9798 | Test loss :  0.6759 | Test acc : 0.7749 \n",
            "Epoch : 2 | train loss:  0.0313 | Train acc :  0.9960 | Test loss :  0.0324 | Test acc : 0.9964 \n",
            "Epoch : 3 | train loss:  0.0143 | Train acc :  0.9989 | Test loss :  0.0240 | Test acc : 0.9956 \n",
            "Epoch : 4 | train loss:  0.0087 | Train acc :  0.9993 | Test loss :  0.0109 | Test acc : 0.9994 \n",
            "Epoch : 5 | train loss:  0.0058 | Train acc :  0.9997 | Test loss :  0.0131 | Test acc : 0.9972 \n",
            "Epoch : 6 | train loss:  0.0046 | Train acc :  0.9998 | Test loss :  0.3207 | Test acc : 0.9072 \n",
            "Epoch : 7 | train loss:  0.0059 | Train acc :  0.9995 | Test loss :  0.0424 | Test acc : 0.9919 \n",
            "Total training time : 59.329 seconds\n"
          ]
        }
      ]
    },
    {
      "cell_type": "code",
      "source": [
        "#Train and evaluate model 1\n",
        "torch.manual_seed(42)\n",
        "torch.cuda.manual_seed(42)\n",
        "\n",
        "#Set number of epochs \n",
        "NUM_EPOCHS = 8\n",
        "\n",
        "#Recreate an instance of SimpleConv\n",
        "model_2  = SimpleConv(input_shape=1,\n",
        "                   hidden_units=32,\n",
        "                   output_shape=len(classes)).to(device)\n",
        "\n",
        "#Setup loss funcion and optimizer \n",
        "loss_fn = multiClassHingeLoss()\n",
        "\n",
        "optimizer = torch.optim.Adam(params=model_2.parameters(), lr=0.001)\n",
        "# Start the timer \n",
        "from timeit import default_timer as timer \n",
        "start_time = timer()\n",
        "\n",
        "#Train model 2\n",
        "model_2_results = train(model=model_2,\n",
        "                        train_dataloader=train_dataloader,\n",
        "                        test_dataloader=test_dataloader,\n",
        "                        loss_fn=loss_fn,\n",
        "                        optimizer=optimizer,\n",
        "                        epochs=NUM_EPOCHS)\n",
        "\n",
        "#End the timer and print out how long it took \n",
        "end_time = timer()\n",
        "print(f'Total training time : {end_time - start_time:.3f} seconds')"
      ],
      "metadata": {
        "colab": {
          "base_uri": "https://localhost:8080/",
          "height": 205,
          "referenced_widgets": [
            "25c60e053a52408e91563e800070c737",
            "a37606c79406454685dff263611da293",
            "c32f6a38d3d049c494bd468eadd845ce",
            "0733a399e2e4411ca2f4feab6db4d9a0",
            "59275f67ddc94912ba410dba008b7c15",
            "ddea0209b2c147e7bf2d150766ef8c0e",
            "19f564004eef4ca58dab91a77b7907ff",
            "89855153ac7a463c9059c4082343fc49",
            "a2c093c63c1c4e9b89ba96bc9b8c0561",
            "d50cb23080904426b4f39b0be9faf4d8",
            "9af19fe57c144ba5bb6240168d2840a8"
          ]
        },
        "id": "yunXSc9poYem",
        "outputId": "52937aa2-81d6-4896-e904-e4d16d5e295f"
      },
      "execution_count": 66,
      "outputs": [
        {
          "output_type": "display_data",
          "data": {
            "text/plain": [
              "  0%|          | 0/8 [00:00<?, ?it/s]"
            ],
            "application/vnd.jupyter.widget-view+json": {
              "version_major": 2,
              "version_minor": 0,
              "model_id": "25c60e053a52408e91563e800070c737"
            }
          },
          "metadata": {}
        },
        {
          "output_type": "stream",
          "name": "stdout",
          "text": [
            "Epoch : 0 | train loss:  4.6700 | Train acc :  0.5897 | Test loss :  0.6614 | Test acc : 0.8344 \n",
            "Epoch : 1 | train loss:  0.3586 | Train acc :  0.8978 | Test loss :  0.3094 | Test acc : 0.9176 \n",
            "Epoch : 2 | train loss:  0.1462 | Train acc :  0.9551 | Test loss :  0.2188 | Test acc : 0.9471 \n",
            "Epoch : 3 | train loss:  0.0853 | Train acc :  0.9729 | Test loss :  0.1522 | Test acc : 0.9567 \n",
            "Epoch : 4 | train loss:  0.0523 | Train acc :  0.9835 | Test loss :  0.1177 | Test acc : 0.9646 \n",
            "Epoch : 5 | train loss:  0.0387 | Train acc :  0.9875 | Test loss :  0.1320 | Test acc : 0.9646 \n",
            "Epoch : 6 | train loss:  0.0312 | Train acc :  0.9901 | Test loss :  0.1612 | Test acc : 0.9610 \n",
            "Epoch : 7 | train loss:  0.0261 | Train acc :  0.9916 | Test loss :  0.1134 | Test acc : 0.9785 \n",
            "Total training time : 45.279 seconds\n"
          ]
        }
      ]
    },
    {
      "cell_type": "code",
      "source": [
        "from torch import nn\n",
        "\n",
        "#Train and evaluate model 1\n",
        "torch.manual_seed(42)\n",
        "torch.cuda.manual_seed(42)\n",
        "\n",
        "#Set number of epochs \n",
        "NUM_EPOCHS = 8\n",
        "\n",
        "#Recreate an instance of SimpleConv\n",
        "model_2  = SimpleConv(input_shape=1,\n",
        "                   hidden_units=32,\n",
        "                   output_shape=len(classes)).to(device)\n",
        "\n",
        "#Setup loss funcion and optimizer \n",
        "loss_fn = nn.CrossEntropyLoss()\n",
        "\n",
        "optimizer = torch.optim.Adam(params=model_2.parameters(), lr=0.001)\n",
        "# Start the timer \n",
        "from timeit import default_timer as timer \n",
        "start_time = timer()\n",
        "\n",
        "#Train model 2\n",
        "model_2_results = train(model=model_2,\n",
        "                        train_dataloader=train_dataloader,\n",
        "                        test_dataloader=test_dataloader,\n",
        "                        loss_fn=loss_fn,\n",
        "                        optimizer=optimizer,\n",
        "                        epochs=NUM_EPOCHS)\n",
        "\n",
        "#End the timer and print out how long it took \n",
        "end_time = timer()\n",
        "print(f'Total training time : {end_time - start_time:.3f} seconds')"
      ],
      "metadata": {
        "colab": {
          "base_uri": "https://localhost:8080/",
          "height": 205,
          "referenced_widgets": [
            "418f7618ef6b44c5a182d70979744834",
            "65e3d7be5b364be1b9cf8eef2ecd85a7",
            "b5fb0ce732eb49e1b382c0d85885cc2b",
            "1bccbf39c0454f5f8122a6a3b9f59c44",
            "d40aaaf35cf04d7d9766a88de21b6942",
            "c0af0ac88c3f47c48b33c715a40e5ed4",
            "44d05816698e4a6d8f9298db6dd9b35e",
            "99aac1541c1f4c289453eff51e399801",
            "18cb2acc37f3467ba06ec47621bdbde9",
            "1b31a4a56e6241508ed4e156fa4d2c6c",
            "295eb6d6060649a8b65c8b24b9605cc9"
          ]
        },
        "outputId": "e9408e62-f27a-40b7-ebe2-6c3b81d1faa5",
        "id": "XerPH9_4LBmh"
      },
      "execution_count": 67,
      "outputs": [
        {
          "output_type": "display_data",
          "data": {
            "text/plain": [
              "  0%|          | 0/8 [00:00<?, ?it/s]"
            ],
            "application/vnd.jupyter.widget-view+json": {
              "version_major": 2,
              "version_minor": 0,
              "model_id": "418f7618ef6b44c5a182d70979744834"
            }
          },
          "metadata": {}
        },
        {
          "output_type": "stream",
          "name": "stdout",
          "text": [
            "Epoch : 0 | train loss:  1.0767 | Train acc :  0.6649 | Test loss :  0.2786 | Test acc : 0.9062 \n",
            "Epoch : 1 | train loss:  0.1527 | Train acc :  0.9481 | Test loss :  0.1848 | Test acc : 0.9360 \n",
            "Epoch : 2 | train loss:  0.0684 | Train acc :  0.9780 | Test loss :  0.1054 | Test acc : 0.9650 \n",
            "Epoch : 3 | train loss:  0.0411 | Train acc :  0.9877 | Test loss :  0.1419 | Test acc : 0.9589 \n",
            "Epoch : 4 | train loss:  0.0286 | Train acc :  0.9907 | Test loss :  0.1108 | Test acc : 0.9669 \n",
            "Epoch : 5 | train loss:  0.0224 | Train acc :  0.9931 | Test loss :  0.0859 | Test acc : 0.9711 \n",
            "Epoch : 6 | train loss:  0.0189 | Train acc :  0.9937 | Test loss :  0.1508 | Test acc : 0.9611 \n",
            "Epoch : 7 | train loss:  0.0179 | Train acc :  0.9943 | Test loss :  0.1354 | Test acc : 0.9613 \n",
            "Total training time : 40.896 seconds\n"
          ]
        }
      ]
    },
    {
      "cell_type": "code",
      "source": [
        "image, label = test_dataset[100]"
      ],
      "metadata": {
        "id": "izpzpwrjqh24"
      },
      "execution_count": 68,
      "outputs": []
    },
    {
      "cell_type": "code",
      "source": [
        "plt.imshow(image.permute(1,2,0))\n",
        "plt.title(classes[label])\n",
        "plt.axis(False)"
      ],
      "metadata": {
        "id": "HpVGF1vtqnG6",
        "colab": {
          "base_uri": "https://localhost:8080/",
          "height": 281
        },
        "outputId": "aecfb3ba-1301-47a9-8e1c-60feeadcb3a8"
      },
      "execution_count": 69,
      "outputs": [
        {
          "output_type": "execute_result",
          "data": {
            "text/plain": [
              "(-0.5, 27.5, 27.5, -0.5)"
            ]
          },
          "metadata": {},
          "execution_count": 69
        },
        {
          "output_type": "display_data",
          "data": {
            "text/plain": [
              "<Figure size 432x288 with 1 Axes>"
            ],
            "image/png": "[encoded data removed]"
          },
          "metadata": {
            "needs_background": "light"
          }
        }
      ]
    },
    {
      "cell_type": "code",
      "source": [
        "logits = model_1(image.to(device).unsqueeze(0))\n",
        "logits"
      ],
      "metadata": {
        "id": "pe0UtZfg5noe",
        "colab": {
          "base_uri": "https://localhost:8080/"
        },
        "outputId": "cb4fc8b9-9c9c-432d-e53a-e8539a84a97e"
      },
      "execution_count": 70,
      "outputs": [
        {
          "output_type": "execute_result",
          "data": {
            "text/plain": [
              "tensor([[  7.4180,   6.0525,  -5.7115,  -1.2588,   0.4701,   7.9096,  -3.9206,\n",
              "          -3.7975,  18.1753,  -4.7548,  -5.3048,   2.6355,   1.3066,   0.8414,\n",
              "          -9.1870,  -2.3792,  -3.0651,  -8.0837,  -1.4583,   0.8868,  -3.1159,\n",
              "           6.8984,   8.0748, -11.3860,   8.5445,  -4.1336]], device='cuda:0',\n",
              "       grad_fn=<AddmmBackward0>)"
            ]
          },
          "metadata": {},
          "execution_count": 70
        }
      ]
    },
    {
      "cell_type": "code",
      "source": [
        "pred_prob = torch.softmax(logits,dim=1)\n",
        "pred_prob"
      ],
      "metadata": {
        "id": "PV1R6Qwa7kkd",
        "colab": {
          "base_uri": "https://localhost:8080/"
        },
        "outputId": "5ceea4e5-d1ae-4d18-ff99-c38ead3dcec7"
      },
      "execution_count": 71,
      "outputs": [
        {
          "output_type": "execute_result",
          "data": {
            "text/plain": [
              "tensor([[2.1285e-05, 5.4329e-06, 4.2268e-11, 3.6289e-09, 2.0449e-08, 3.4798e-05,\n",
              "         2.5338e-10, 2.8657e-10, 9.9982e-01, 1.1002e-10, 6.3477e-11, 1.7827e-07,\n",
              "         4.7200e-08, 2.9641e-08, 1.3081e-12, 1.1836e-09, 5.9613e-10, 3.9423e-12,\n",
              "         2.9728e-09, 3.1018e-08, 5.6656e-10, 1.2659e-05, 4.1051e-05, 1.4508e-13,\n",
              "         6.5662e-05, 2.0478e-10]], device='cuda:0', grad_fn=<SoftmaxBackward0>)"
            ]
          },
          "metadata": {},
          "execution_count": 71
        }
      ]
    },
    {
      "cell_type": "code",
      "source": [
        "pred = torch.argmax(pred_prob,dim=1)\n",
        "pred"
      ],
      "metadata": {
        "id": "CXN_2_t77syt",
        "colab": {
          "base_uri": "https://localhost:8080/"
        },
        "outputId": "edcfa122-32ad-409f-a614-f512261d751d"
      },
      "execution_count": 72,
      "outputs": [
        {
          "output_type": "execute_result",
          "data": {
            "text/plain": [
              "tensor([8], device='cuda:0')"
            ]
          },
          "metadata": {},
          "execution_count": 72
        }
      ]
    },
    {
      "cell_type": "code",
      "source": [
        "classes[pred]"
      ],
      "metadata": {
        "id": "hm8epUkP8DCh",
        "colab": {
          "base_uri": "https://localhost:8080/",
          "height": 35
        },
        "outputId": "64971fdd-13ad-4804-b802-ea3e6409e326"
      },
      "execution_count": 73,
      "outputs": [
        {
          "output_type": "execute_result",
          "data": {
            "text/plain": [
              "'I'"
            ],
            "application/vnd.google.colaboratory.intrinsic+json": {
              "type": "string"
            }
          },
          "metadata": {},
          "execution_count": 73
        }
      ]
    },
    {
      "cell_type": "code",
      "source": [
        "def make_predictions(model: torch.nn.Module,\n",
        "                     data: list,\n",
        "                     device: torch.device = device):\n",
        "  preds = []\n",
        "  for image in data:\n",
        "    logits = model(image.to(device).unsqueeze(0))\n",
        "    pred_prob = torch.softmax(logits,dim=1)\n",
        "    pred = torch.argmax(pred_prob,dim=1)\n",
        "    preds.append(pred)\n",
        "\n",
        "  return preds\n"
      ],
      "metadata": {
        "id": "tYWC5U5s8w2N"
      },
      "execution_count": 74,
      "outputs": []
    },
    {
      "cell_type": "code",
      "source": [
        "import random \n",
        "\n",
        "test_samples = []\n",
        "test_labels = []\n",
        "\n",
        "for sample, label in random.sample(list(test_dataset),k=20):\n",
        "  test_samples.append(sample)\n",
        "  test_labels.append(label)"
      ],
      "metadata": {
        "id": "WLPNjiRDCuX2"
      },
      "execution_count": 75,
      "outputs": []
    },
    {
      "cell_type": "code",
      "source": [
        "preds = make_predictions(model=model_1,\n",
        "                             data=test_samples)\n",
        "preds"
      ],
      "metadata": {
        "id": "cXkzakx9i-IM",
        "colab": {
          "base_uri": "https://localhost:8080/"
        },
        "outputId": "23cf6ae0-c739-40e8-f7b1-31a8080450f0"
      },
      "execution_count": 76,
      "outputs": [
        {
          "output_type": "execute_result",
          "data": {
            "text/plain": [
              "[tensor([1], device='cuda:0'),\n",
              " tensor([20], device='cuda:0'),\n",
              " tensor([10], device='cuda:0'),\n",
              " tensor([15], device='cuda:0'),\n",
              " tensor([21], device='cuda:0'),\n",
              " tensor([15], device='cuda:0'),\n",
              " tensor([20], device='cuda:0'),\n",
              " tensor([20], device='cuda:0'),\n",
              " tensor([1], device='cuda:0'),\n",
              " tensor([4], device='cuda:0'),\n",
              " tensor([7], device='cuda:0'),\n",
              " tensor([7], device='cuda:0'),\n",
              " tensor([16], device='cuda:0'),\n",
              " tensor([8], device='cuda:0'),\n",
              " tensor([17], device='cuda:0'),\n",
              " tensor([2], device='cuda:0'),\n",
              " tensor([12], device='cuda:0'),\n",
              " tensor([6], device='cuda:0'),\n",
              " tensor([11], device='cuda:0'),\n",
              " tensor([8], device='cuda:0')]"
            ]
          },
          "metadata": {},
          "execution_count": 76
        }
      ]
    },
    {
      "cell_type": "code",
      "source": [
        "#Plot predictions \n",
        "plt.figure(figsize=(9,9))\n",
        "nrows = 5 \n",
        "ncols = 4 \n",
        "for i, sample in enumerate(test_samples):\n",
        "  #create subplot \n",
        "  plt.subplot(nrows,ncols,i+1)\n",
        "  #plot target image \n",
        "  plt.imshow(sample.permute(1,2,0))\n",
        "  #find the prediction label in text form\n",
        "  pred_label = classes[preds[i]]\n",
        "  # Get the truth label in text form \n",
        "  truth_label = classes[test_labels[i]]\n",
        "  #Create a title for the plot \n",
        "  title_text = f\"Pred : {pred_label} | Truth: {truth_label}\"\n",
        "  #Check for equality between pred and truth and color of title text\n",
        "  if pred_label == truth_label: \n",
        "    plt.title(title_text,fontsize=10,c=\"g\")\n",
        "  else: \n",
        "    plt.title(title_text,fontsize=10,c=\"r\")\n",
        "  plt.axis(False)"
      ],
      "metadata": {
        "id": "e42e0iZkoJL4",
        "colab": {
          "base_uri": "https://localhost:8080/",
          "height": 534
        },
        "outputId": "0fbec981-7ebf-4cfb-f127-f7cd1218c343"
      },
      "execution_count": 77,
      "outputs": [
        {
          "output_type": "display_data",
          "data": {
            "text/plain": [
              "<Figure size 648x648 with 20 Axes>"
            ],
            "image/png": "[encoded data removed]"
          },
          "metadata": {
            "needs_background": "light"
          }
        }
      ]
    },
    {
      "cell_type": "code",
      "source": [
        "K = 5\n",
        "EPOCHS = 1\n",
        "BATCH_SIZE = 256\n",
        "loss_fn = multiClassHingeLoss()\n",
        "test_loader = torch.utils.data.DataLoader(test_dataset, \n",
        "                                          batch_size=BATCH_SIZE)\n",
        "\n",
        "optimizer = torch.optim.SGD(params=model_1.parameters(), lr=0.01, momentum=0.9)\n",
        "\n",
        "from sklearn.model_selection import KFold\n",
        "kfold = KFold(n_splits=K)\n",
        "\n",
        "for fold_i, (train_ids, val_ids) in enumerate(kfold.split(train_dataset)):\n",
        "    print(f'train size: {len(train_ids)}, val size: {len(val_ids)}')\n",
        "\n",
        "\n",
        "    # Sample elements from selected ids\n",
        "    train_sampler = torch.utils.data.SubsetRandomSampler(train_ids)\n",
        "    val_sampler = torch.utils.data.SubsetRandomSampler(val_ids)\n",
        "    # Use sampler to select data for training and validation\n",
        "    train_dataloader = DataLoader(dataset=train_dataset,\n",
        "                                  batch_size=BATCH_SIZE,\n",
        "                                  num_workers=1,\n",
        "                                  sampler=train_sampler)\n",
        "    val_dataloader = DataLoader(dataset=train_dataset,\n",
        "                                batch_size=BATCH_SIZE,\n",
        "                                num_workers=1,\n",
        "                                sampler=val_sampler)\n",
        "    \n",
        "    model_1_results_val = train(model=model_1,\n",
        "                            train_dataloader=train_dataloader,\n",
        "                            test_dataloader=val_dataloader,\n",
        "                            loss_fn=loss_fn,\n",
        "                            optimizer=optimizer,\n",
        "                            epochs=NUM_EPOCHS)\n"
      ],
      "metadata": {
        "id": "JZHJp5QAscbQ",
        "colab": {
          "base_uri": "https://localhost:8080/",
          "height": 958,
          "referenced_widgets": [
            "0a49ca80685b4492b8424fa9b6f62c4b",
            "fc620c125ede45f0ba0e0daeda9262a0",
            "639a11a650214086b08a592908a39d7f",
            "f3498d753cd34d13a423831e525f6452",
            "8c554e723ac747f6b9220b4a4617b71d",
            "906625c70ca4475bbbdb4ec5969abe92",
            "700016ad6546446cb6acd2c684be30aa",
            "c107fc9ac92e4ef2aaddefdee969c5f2",
            "ef81815e73594def9f93f15b57fa3cb3",
            "f43300735fb942db81e67f16456022f3",
            "c97eb36a3db6497a9433aa8a7d40bf2e",
            "c1a9901679a348e9a5733f38fe9942dc",
            "72429c67035840bca4f490156b96da4d",
            "093d65ea7790430db571a68ff9a81a9c",
            "7889ba923c3445cc8cfccdcd85b8e691",
            "b7526dae1360415d945d5f3ba8069f3a",
            "06d7ba35665643b2bc84f44524076998",
            "37d35d4b81f54f11b1965de13cf519d6",
            "5c149ff11d4243bcaaf63e3c943c85e8",
            "d3e94503358e4ae0b7a37b9e13b42ae9",
            "3c0ce4dced574400acae65c48c1e6ee4",
            "b2ae5181f40b48ffa2c5f7cc3c356b65",
            "857c872472dc450ead6843fc8b1a4ff3",
            "119818e127214850b60e0f63df55b7b2",
            "94732495572a48da919d6d5edcb147c1",
            "15842dcf992a4c768984b0e2a2ea3d53",
            "3bb73eed88434fe28bc10e9ff2dba71f",
            "b93a6317330d498f8e036bac4ce5d0a0",
            "a527ee21a8784c48b6acfb7c92295dfd",
            "98cfbcf3f0114b33b761f82eeb69d8b8",
            "5940678667c04fa59c75bfdf553f66db",
            "4df2a9f01e4148a7a32922c3bf26f58f",
            "799e4fb78fd7484ebc2a5659513908f7",
            "6ede69e1fc924a7dac9db38c5dce3747",
            "13b8aadeed7d48f79d1df7c3fff65b56",
            "49a9a11ee90945faa983ac3801b34b53",
            "2a1fca7c2d5b4841adaf330db888b4b5",
            "17327196affa47cb9a0b43092d6ea1b4",
            "c452443dc4d84992af3c5c632d079a0a",
            "cbf4c81cb60445eca36e9c71805c5c51",
            "6125394098ea4c91b514e4fe281f9a48",
            "5ef8445b8db04a0884891b6c74b344cc",
            "5ef8872799824baf88168145b52a69dd",
            "267f448e01ae46709c21ceac58c8580c",
            "d0a84fa6e11f4001acd2585563379b3b",
            "9cef63d25f47475293971e91ef6e091a",
            "49eaf836d6804e62a065b09c91df1c22",
            "c254eefc13dd4b989e645e7782a5f79d",
            "37f7fd368f7c403ca33f3a6530c8f3db",
            "667f4417da424039ad726138fdcc179f",
            "4a1ae0c8096f4dfc9f658a710698416b",
            "84198fa77b1e46c996a71c4baab94927",
            "2c8231e13e8f4c55ab052cf619205186",
            "c5dd9c968a664e69a75f9b5ee659d98c",
            "5424f5454e5a4437a130ecff89010a8a"
          ]
        },
        "outputId": "e323913b-75c4-4e50-ab95-8208df1c7704"
      },
      "execution_count": 78,
      "outputs": [
        {
          "output_type": "stream",
          "name": "stdout",
          "text": [
            "train size: 21964, val size: 5491\n"
          ]
        },
        {
          "output_type": "display_data",
          "data": {
            "text/plain": [
              "  0%|          | 0/8 [00:00<?, ?it/s]"
            ],
            "application/vnd.jupyter.widget-view+json": {
              "version_major": 2,
              "version_minor": 0,
              "model_id": "0a49ca80685b4492b8424fa9b6f62c4b"
            }
          },
          "metadata": {}
        },
        {
          "output_type": "stream",
          "name": "stdout",
          "text": [
            "Epoch : 0 | train loss:  0.0001 | Train acc :  1.0000 | Test loss :  0.0000 | Test acc : 1.0000 \n",
            "Epoch : 1 | train loss:  0.0000 | Train acc :  1.0000 | Test loss :  0.0000 | Test acc : 1.0000 \n",
            "Epoch : 2 | train loss:  0.0001 | Train acc :  1.0000 | Test loss :  0.0000 | Test acc : 1.0000 \n",
            "Epoch : 3 | train loss:  0.0001 | Train acc :  1.0000 | Test loss :  0.0000 | Test acc : 1.0000 \n",
            "Epoch : 4 | train loss:  0.0001 | Train acc :  1.0000 | Test loss :  0.0000 | Test acc : 1.0000 \n",
            "Epoch : 5 | train loss:  0.0001 | Train acc :  1.0000 | Test loss :  0.0000 | Test acc : 1.0000 \n",
            "Epoch : 6 | train loss:  0.0000 | Train acc :  1.0000 | Test loss :  0.0000 | Test acc : 1.0000 \n",
            "Epoch : 7 | train loss:  0.0000 | Train acc :  1.0000 | Test loss :  0.0000 | Test acc : 1.0000 \n",
            "train size: 21964, val size: 5491\n"
          ]
        },
        {
          "output_type": "display_data",
          "data": {
            "text/plain": [
              "  0%|          | 0/8 [00:00<?, ?it/s]"
            ],
            "application/vnd.jupyter.widget-view+json": {
              "version_major": 2,
              "version_minor": 0,
              "model_id": "c1a9901679a348e9a5733f38fe9942dc"
            }
          },
          "metadata": {}
        },
        {
          "output_type": "stream",
          "name": "stdout",
          "text": [
            "Epoch : 0 | train loss:  0.0000 | Train acc :  1.0000 | Test loss :  0.0000 | Test acc : 1.0000 \n",
            "Epoch : 1 | train loss:  0.0000 | Train acc :  1.0000 | Test loss :  0.0000 | Test acc : 1.0000 \n",
            "Epoch : 2 | train loss:  0.0000 | Train acc :  1.0000 | Test loss :  0.0000 | Test acc : 1.0000 \n",
            "Epoch : 3 | train loss:  0.0000 | Train acc :  1.0000 | Test loss :  0.0000 | Test acc : 1.0000 \n",
            "Epoch : 4 | train loss:  0.0000 | Train acc :  1.0000 | Test loss :  0.0000 | Test acc : 1.0000 \n",
            "Epoch : 5 | train loss:  0.0000 | Train acc :  1.0000 | Test loss :  0.0000 | Test acc : 1.0000 \n",
            "Epoch : 6 | train loss:  0.0000 | Train acc :  1.0000 | Test loss :  0.0000 | Test acc : 1.0000 \n",
            "Epoch : 7 | train loss:  0.0000 | Train acc :  1.0000 | Test loss :  0.0000 | Test acc : 1.0000 \n",
            "train size: 21964, val size: 5491\n"
          ]
        },
        {
          "output_type": "display_data",
          "data": {
            "text/plain": [
              "  0%|          | 0/8 [00:00<?, ?it/s]"
            ],
            "application/vnd.jupyter.widget-view+json": {
              "version_major": 2,
              "version_minor": 0,
              "model_id": "857c872472dc450ead6843fc8b1a4ff3"
            }
          },
          "metadata": {}
        },
        {
          "output_type": "stream",
          "name": "stdout",
          "text": [
            "Epoch : 0 | train loss:  0.0000 | Train acc :  1.0000 | Test loss :  0.0000 | Test acc : 1.0000 \n",
            "Epoch : 1 | train loss:  0.0000 | Train acc :  1.0000 | Test loss :  0.0000 | Test acc : 1.0000 \n",
            "Epoch : 2 | train loss:  0.0001 | Train acc :  1.0000 | Test loss :  0.0000 | Test acc : 1.0000 \n",
            "Epoch : 3 | train loss:  0.0000 | Train acc :  1.0000 | Test loss :  0.0000 | Test acc : 1.0000 \n",
            "Epoch : 4 | train loss:  0.0001 | Train acc :  0.9999 | Test loss :  0.0000 | Test acc : 1.0000 \n",
            "Epoch : 5 | train loss:  0.0000 | Train acc :  1.0000 | Test loss :  0.0000 | Test acc : 1.0000 \n",
            "Epoch : 6 | train loss:  0.0000 | Train acc :  1.0000 | Test loss :  0.0000 | Test acc : 1.0000 \n",
            "Epoch : 7 | train loss:  0.0000 | Train acc :  1.0000 | Test loss :  0.0000 | Test acc : 1.0000 \n",
            "train size: 21964, val size: 5491\n"
          ]
        },
        {
          "output_type": "display_data",
          "data": {
            "text/plain": [
              "  0%|          | 0/8 [00:00<?, ?it/s]"
            ],
            "application/vnd.jupyter.widget-view+json": {
              "version_major": 2,
              "version_minor": 0,
              "model_id": "6ede69e1fc924a7dac9db38c5dce3747"
            }
          },
          "metadata": {}
        },
        {
          "output_type": "stream",
          "name": "stdout",
          "text": [
            "Epoch : 0 | train loss:  0.0000 | Train acc :  1.0000 | Test loss :  0.0000 | Test acc : 1.0000 \n",
            "Epoch : 1 | train loss:  0.0000 | Train acc :  1.0000 | Test loss :  0.0000 | Test acc : 1.0000 \n",
            "Epoch : 2 | train loss:  0.0000 | Train acc :  1.0000 | Test loss :  0.0000 | Test acc : 1.0000 \n",
            "Epoch : 3 | train loss:  0.0000 | Train acc :  1.0000 | Test loss :  0.0000 | Test acc : 1.0000 \n",
            "Epoch : 4 | train loss:  0.0000 | Train acc :  1.0000 | Test loss :  0.0000 | Test acc : 1.0000 \n",
            "Epoch : 5 | train loss:  0.0000 | Train acc :  1.0000 | Test loss :  0.0000 | Test acc : 1.0000 \n",
            "Epoch : 6 | train loss:  0.0000 | Train acc :  1.0000 | Test loss :  0.0000 | Test acc : 1.0000 \n",
            "Epoch : 7 | train loss:  0.0000 | Train acc :  1.0000 | Test loss :  0.0000 | Test acc : 1.0000 \n",
            "train size: 21964, val size: 5491\n"
          ]
        },
        {
          "output_type": "display_data",
          "data": {
            "text/plain": [
              "  0%|          | 0/8 [00:00<?, ?it/s]"
            ],
            "application/vnd.jupyter.widget-view+json": {
              "version_major": 2,
              "version_minor": 0,
              "model_id": "d0a84fa6e11f4001acd2585563379b3b"
            }
          },
          "metadata": {}
        },
        {
          "output_type": "stream",
          "name": "stdout",
          "text": [
            "Epoch : 0 | train loss:  0.0001 | Train acc :  1.0000 | Test loss :  0.0000 | Test acc : 1.0000 \n",
            "Epoch : 1 | train loss:  0.0000 | Train acc :  1.0000 | Test loss :  0.0000 | Test acc : 1.0000 \n",
            "Epoch : 2 | train loss:  0.0000 | Train acc :  1.0000 | Test loss :  0.0000 | Test acc : 1.0000 \n",
            "Epoch : 3 | train loss:  0.0000 | Train acc :  1.0000 | Test loss :  0.0000 | Test acc : 1.0000 \n",
            "Epoch : 4 | train loss:  0.0000 | Train acc :  1.0000 | Test loss :  0.0000 | Test acc : 1.0000 \n",
            "Epoch : 5 | train loss:  0.0000 | Train acc :  1.0000 | Test loss :  0.0000 | Test acc : 1.0000 \n",
            "Epoch : 6 | train loss:  0.0001 | Train acc :  1.0000 | Test loss :  0.0000 | Test acc : 1.0000 \n",
            "Epoch : 7 | train loss:  0.0000 | Train acc :  1.0000 | Test loss :  0.0000 | Test acc : 1.0000 \n"
          ]
        }
      ]
    },
    {
      "cell_type": "code",
      "source": [
        "#Saving and loading the best model \n",
        "from pathlib import Path \n",
        "\n",
        "# Create models directory (if it doesn't already exist), see: https://docs.python.org/3/library/pathlib.html#pathlib.Path.mkdir\n",
        "MODEL_PATH = Path(\"models\")\n",
        "MODEL_PATH.mkdir(parents=True, # create parent directories if needed\n",
        "                 exist_ok=True # if models directory already exists, don't error\n",
        ")\n",
        "\n",
        "# Create model save path\n",
        "MODEL_NAME = \"model_hingeLoss_Resnet_SGD.pth\"\n",
        "MODEL_SAVE_PATH = MODEL_PATH / MODEL_NAME\n",
        "\n",
        "# Save the model state dict\n",
        "print(f\"Saving model to: {MODEL_SAVE_PATH}\")\n",
        "torch.save(obj=model_1.state_dict(), # only saving the state_dict() only saves the learned parameters\n",
        "           f=MODEL_SAVE_PATH)\n"
      ],
      "metadata": {
        "id": "jl41hP4WmUvb",
        "colab": {
          "base_uri": "https://localhost:8080/"
        },
        "outputId": "f8fbfe80-a6c2-41f8-dea7-db0f9275a12c"
      },
      "execution_count": 79,
      "outputs": [
        {
          "output_type": "stream",
          "name": "stdout",
          "text": [
            "Saving model to: models/model_hingeLoss_Resnet_SGD.pth\n"
          ]
        }
      ]
    },
    {
      "cell_type": "code",
      "source": [
        "# create a new instance\n",
        "torch.manual_seed(42) \n",
        "loaded_model_1 = ResNet18(input_shape=1,\n",
        "                   hidden_units=24,\n",
        "                   output_shape=len(classes)).to(device)\n",
        "\n",
        "#Load in the save state_dict()\n",
        "loaded_model_1.load_state_dict(torch.load(f=MODEL_SAVE_PATH))\n",
        "\n",
        "#Send the model to target device \n",
        "loaded_model_1.to(device)"
      ],
      "metadata": {
        "colab": {
          "base_uri": "https://localhost:8080/"
        },
        "id": "nQ9_KuwOBXQl",
        "outputId": "ff57d5ab-9226-4a8c-c4b9-436f572ea48d"
      },
      "execution_count": 80,
      "outputs": [
        {
          "output_type": "execute_result",
          "data": {
            "text/plain": [
              "ResNet18(\n",
              "  (conv1): Conv2d(1, 24, kernel_size=(3, 3), stride=(1, 1), padding=(1, 1))\n",
              "  (bn1): BatchNorm2d(24, eps=1e-05, momentum=0.1, affine=True, track_running_stats=True)\n",
              "  (layer1): Sequential(\n",
              "    (0): Conv2d(24, 24, kernel_size=(3, 3), stride=(1, 1), padding=(1, 1))\n",
              "    (1): BatchNorm2d(24, eps=1e-05, momentum=0.1, affine=True, track_running_stats=True)\n",
              "    (2): ReLU()\n",
              "    (3): Conv2d(24, 24, kernel_size=(3, 3), stride=(1, 1), padding=(1, 1))\n",
              "    (4): BatchNorm2d(24, eps=1e-05, momentum=0.1, affine=True, track_running_stats=True)\n",
              "    (5): ReLU()\n",
              "  )\n",
              "  (layer2): Sequential(\n",
              "    (0): Conv2d(24, 48, kernel_size=(3, 3), stride=(2, 2), padding=(1, 1))\n",
              "    (1): BatchNorm2d(48, eps=1e-05, momentum=0.1, affine=True, track_running_stats=True)\n",
              "    (2): ReLU()\n",
              "    (3): Conv2d(48, 48, kernel_size=(3, 3), stride=(1, 1), padding=(1, 1))\n",
              "    (4): BatchNorm2d(48, eps=1e-05, momentum=0.1, affine=True, track_running_stats=True)\n",
              "    (5): ReLU()\n",
              "  )\n",
              "  (layer3): Sequential(\n",
              "    (0): Conv2d(48, 96, kernel_size=(3, 3), stride=(2, 2), padding=(1, 1))\n",
              "    (1): BatchNorm2d(96, eps=1e-05, momentum=0.1, affine=True, track_running_stats=True)\n",
              "    (2): ReLU()\n",
              "    (3): Conv2d(96, 96, kernel_size=(3, 3), stride=(1, 1), padding=(1, 1))\n",
              "    (4): BatchNorm2d(96, eps=1e-05, momentum=0.1, affine=True, track_running_stats=True)\n",
              "    (5): ReLU()\n",
              "  )\n",
              "  (avgpool): AdaptiveAvgPool2d(output_size=(1, 1))\n",
              "  (fc): Linear(in_features=96, out_features=26, bias=True)\n",
              "  (dropout): Dropout(p=0.5, inplace=False)\n",
              ")"
            ]
          },
          "metadata": {},
          "execution_count": 80
        }
      ]
    },
    {
      "cell_type": "code",
      "source": [
        "preds2 = make_predictions(model=model_2,\n",
        "                             data=test_samples)\n"
      ],
      "metadata": {
        "id": "WjZJYVS0zXAg"
      },
      "execution_count": 81,
      "outputs": []
    },
    {
      "cell_type": "code",
      "source": [
        "#Plot predictions \n",
        "plt.figure(figsize=(9,9))\n",
        "nrows = 5 \n",
        "ncols = 4 \n",
        "for i, sample in enumerate(test_samples):\n",
        "  #create subplot \n",
        "  plt.subplot(nrows,ncols,i+1)\n",
        "  #plot target image \n",
        "  plt.imshow(sample.permute(1,2,0))\n",
        "  #find the prediction label in text form\n",
        "  pred_label = classes[preds2[i]]\n",
        "  # Get the truth label in text form \n",
        "  truth_label = classes[test_labels[i]]\n",
        "  #Create a title for the plot \n",
        "  title_text = f\"Pred : {pred_label} | Truth: {truth_label}\"\n",
        "  #Check for equality between pred and truth and color of title text\n",
        "  if pred_label == truth_label: \n",
        "    plt.title(title_text,fontsize=10,c=\"g\")\n",
        "  else: \n",
        "    plt.title(title_text,fontsize=10,c=\"r\")\n",
        "  plt.axis(False)"
      ],
      "metadata": {
        "colab": {
          "base_uri": "https://localhost:8080/",
          "height": 534
        },
        "id": "eLwMUu_Czd3k",
        "outputId": "613b38a0-2ffa-44db-b45a-b699d96f8540"
      },
      "execution_count": 82,
      "outputs": [
        {
          "output_type": "display_data",
          "data": {
            "text/plain": [
              "<Figure size 648x648 with 20 Axes>"
            ],
            "image/png": "[encoded data removed]"
          },
          "metadata": {
            "needs_background": "light"
          }
        }
      ]
    },
    {
      "cell_type": "code",
      "source": [
        "preds_ensemble = []\n",
        "for image in test_samples:\n",
        "  logits_m1 = model_1(image.to(device).unsqueeze(0))\n",
        "  logits_m2 = model_2(image.to(device).unsqueeze(0))\n",
        "\n",
        "  pred_prob_1 = torch.softmax(logits_m1,dim=1)\n",
        "  pred_prob_2 = torch.softmax(logits_m2,dim=1)\n",
        "  pred_prob_ensemble = pred_prob_1 + pred_prob_2\n",
        "  pred_sum = torch.sum(pred_prob_ensemble,dim=0)\n",
        "  pred = torch.argmax(pred_sum)\n",
        "  preds_ensemble.append(pred)\n",
        "\n",
        "preds_ensemble"
      ],
      "metadata": {
        "colab": {
          "base_uri": "https://localhost:8080/"
        },
        "id": "Mes5fVaq9t1n",
        "outputId": "70535ea3-e06d-4c1b-ad57-11cdbadd6e69"
      },
      "execution_count": 83,
      "outputs": [
        {
          "output_type": "execute_result",
          "data": {
            "text/plain": [
              "[tensor(1, device='cuda:0'),\n",
              " tensor(20, device='cuda:0'),\n",
              " tensor(10, device='cuda:0'),\n",
              " tensor(15, device='cuda:0'),\n",
              " tensor(21, device='cuda:0'),\n",
              " tensor(15, device='cuda:0'),\n",
              " tensor(20, device='cuda:0'),\n",
              " tensor(20, device='cuda:0'),\n",
              " tensor(1, device='cuda:0'),\n",
              " tensor(4, device='cuda:0'),\n",
              " tensor(7, device='cuda:0'),\n",
              " tensor(7, device='cuda:0'),\n",
              " tensor(16, device='cuda:0'),\n",
              " tensor(8, device='cuda:0'),\n",
              " tensor(17, device='cuda:0'),\n",
              " tensor(2, device='cuda:0'),\n",
              " tensor(12, device='cuda:0'),\n",
              " tensor(6, device='cuda:0'),\n",
              " tensor(11, device='cuda:0'),\n",
              " tensor(8, device='cuda:0')]"
            ]
          },
          "metadata": {},
          "execution_count": 83
        }
      ]
    },
    {
      "cell_type": "code",
      "source": [
        "#Plot predictions \n",
        "plt.figure(figsize=(9,9))\n",
        "nrows = 5 \n",
        "ncols = 4 \n",
        "for i, sample in enumerate(test_samples):\n",
        "  #create subplot \n",
        "  plt.subplot(nrows,ncols,i+1)\n",
        "  #plot target image \n",
        "  plt.imshow(sample.permute(1,2,0))\n",
        "  #find the prediction label in text form\n",
        "  pred_label = classes[preds_ensemble[i]]\n",
        "  # Get the truth label in text form \n",
        "  truth_label = classes[test_labels[i]]\n",
        "  #Create a title for the plot \n",
        "  title_text = f\"Pred : {pred_label} | Truth: {truth_label}\"\n",
        "  #Check for equality between pred and truth and color of title text\n",
        "  if pred_label == truth_label: \n",
        "    plt.title(title_text,fontsize=10,c=\"g\")\n",
        "  else: \n",
        "    plt.title(title_text,fontsize=10,c=\"r\")\n",
        "  plt.axis(False)"
      ],
      "metadata": {
        "colab": {
          "base_uri": "https://localhost:8080/",
          "height": 534
        },
        "id": "p-cqKyMjCpQZ",
        "outputId": "04057af9-d91e-48e2-ece5-8439a1098a17"
      },
      "execution_count": 84,
      "outputs": [
        {
          "output_type": "display_data",
          "data": {
            "text/plain": [
              "<Figure size 648x648 with 20 Axes>"
            ],
            "image/png": "[encoded data removed]"
          },
          "metadata": {
            "needs_background": "light"
          }
        }
      ]
    }
  ]
}