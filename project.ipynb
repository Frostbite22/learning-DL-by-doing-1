{
  "nbformat": 4,
  "nbformat_minor": 0,
  "metadata": {
    "colab": {
      "provenance": [],
      "include_colab_link": true
    },
    "kernelspec": {
      "name": "python3",
      "display_name": "Python 3"
    },
    "language_info": {
      "name": "python"
    },
    "accelerator": "GPU",
    "gpuClass": "standard",
    "widgets": {
      "application/vnd.jupyter.widget-state+json": {
        "3d9d5bb2cd28434ea88832363e947878": {
          "model_module": "@jupyter-widgets/controls",
          "model_name": "HBoxModel",
          "model_module_version": "1.5.0",
          "state": {
            "_dom_classes": [],
            "_model_module": "@jupyter-widgets/controls",
            "_model_module_version": "1.5.0",
            "_model_name": "HBoxModel",
            "_view_count": null,
            "_view_module": "@jupyter-widgets/controls",
            "_view_module_version": "1.5.0",
            "_view_name": "HBoxView",
            "box_style": "",
            "children": [
              "IPY_MODEL_32737a517f1c4525b82851dee8f35b37",
              "IPY_MODEL_1442fccb318c46b69b7f99697ed80b08",
              "IPY_MODEL_df18617111854d32b461dfefa5676c38"
            ],
            "layout": "IPY_MODEL_8606487490534ea3b9213c7559f0c58f"
          }
        },
        "32737a517f1c4525b82851dee8f35b37": {
          "model_module": "@jupyter-widgets/controls",
          "model_name": "HTMLModel",
          "model_module_version": "1.5.0",
          "state": {
            "_dom_classes": [],
            "_model_module": "@jupyter-widgets/controls",
            "_model_module_version": "1.5.0",
            "_model_name": "HTMLModel",
            "_view_count": null,
            "_view_module": "@jupyter-widgets/controls",
            "_view_module_version": "1.5.0",
            "_view_name": "HTMLView",
            "description": "",
            "description_tooltip": null,
            "layout": "IPY_MODEL_68276d975fad4760a6d6848c4024ec63",
            "placeholder": "​",
            "style": "IPY_MODEL_9632c493b5954ebe9f6ef302136b56df",
            "value": "100%"
          }
        },
        "1442fccb318c46b69b7f99697ed80b08": {
          "model_module": "@jupyter-widgets/controls",
          "model_name": "FloatProgressModel",
          "model_module_version": "1.5.0",
          "state": {
            "_dom_classes": [],
            "_model_module": "@jupyter-widgets/controls",
            "_model_module_version": "1.5.0",
            "_model_name": "FloatProgressModel",
            "_view_count": null,
            "_view_module": "@jupyter-widgets/controls",
            "_view_module_version": "1.5.0",
            "_view_name": "ProgressView",
            "bar_style": "success",
            "description": "",
            "description_tooltip": null,
            "layout": "IPY_MODEL_bac66925fb2f4922b24992a6f4c2524a",
            "max": 8,
            "min": 0,
            "orientation": "horizontal",
            "style": "IPY_MODEL_d0bb4e554b7e453db39bc73b85fd8e30",
            "value": 8
          }
        },
        "df18617111854d32b461dfefa5676c38": {
          "model_module": "@jupyter-widgets/controls",
          "model_name": "HTMLModel",
          "model_module_version": "1.5.0",
          "state": {
            "_dom_classes": [],
            "_model_module": "@jupyter-widgets/controls",
            "_model_module_version": "1.5.0",
            "_model_name": "HTMLModel",
            "_view_count": null,
            "_view_module": "@jupyter-widgets/controls",
            "_view_module_version": "1.5.0",
            "_view_name": "HTMLView",
            "description": "",
            "description_tooltip": null,
            "layout": "IPY_MODEL_d9d75c1290864f1eaea7c35def78d58a",
            "placeholder": "​",
            "style": "IPY_MODEL_1bafa1830e8e4c208021ff5a2c227a1b",
            "value": " 8/8 [01:08&lt;00:00,  8.60s/it]"
          }
        },
        "8606487490534ea3b9213c7559f0c58f": {
          "model_module": "@jupyter-widgets/base",
          "model_name": "LayoutModel",
          "model_module_version": "1.2.0",
          "state": {
            "_model_module": "@jupyter-widgets/base",
            "_model_module_version": "1.2.0",
            "_model_name": "LayoutModel",
            "_view_count": null,
            "_view_module": "@jupyter-widgets/base",
            "_view_module_version": "1.2.0",
            "_view_name": "LayoutView",
            "align_content": null,
            "align_items": null,
            "align_self": null,
            "border": null,
            "bottom": null,
            "display": null,
            "flex": null,
            "flex_flow": null,
            "grid_area": null,
            "grid_auto_columns": null,
            "grid_auto_flow": null,
            "grid_auto_rows": null,
            "grid_column": null,
            "grid_gap": null,
            "grid_row": null,
            "grid_template_areas": null,
            "grid_template_columns": null,
            "grid_template_rows": null,
            "height": null,
            "justify_content": null,
            "justify_items": null,
            "left": null,
            "margin": null,
            "max_height": null,
            "max_width": null,
            "min_height": null,
            "min_width": null,
            "object_fit": null,
            "object_position": null,
            "order": null,
            "overflow": null,
            "overflow_x": null,
            "overflow_y": null,
            "padding": null,
            "right": null,
            "top": null,
            "visibility": null,
            "width": null
          }
        },
        "68276d975fad4760a6d6848c4024ec63": {
          "model_module": "@jupyter-widgets/base",
          "model_name": "LayoutModel",
          "model_module_version": "1.2.0",
          "state": {
            "_model_module": "@jupyter-widgets/base",
            "_model_module_version": "1.2.0",
            "_model_name": "LayoutModel",
            "_view_count": null,
            "_view_module": "@jupyter-widgets/base",
            "_view_module_version": "1.2.0",
            "_view_name": "LayoutView",
            "align_content": null,
            "align_items": null,
            "align_self": null,
            "border": null,
            "bottom": null,
            "display": null,
            "flex": null,
            "flex_flow": null,
            "grid_area": null,
            "grid_auto_columns": null,
            "grid_auto_flow": null,
            "grid_auto_rows": null,
            "grid_column": null,
            "grid_gap": null,
            "grid_row": null,
            "grid_template_areas": null,
            "grid_template_columns": null,
            "grid_template_rows": null,
            "height": null,
            "justify_content": null,
            "justify_items": null,
            "left": null,
            "margin": null,
            "max_height": null,
            "max_width": null,
            "min_height": null,
            "min_width": null,
            "object_fit": null,
            "object_position": null,
            "order": null,
            "overflow": null,
            "overflow_x": null,
            "overflow_y": null,
            "padding": null,
            "right": null,
            "top": null,
            "visibility": null,
            "width": null
          }
        },
        "9632c493b5954ebe9f6ef302136b56df": {
          "model_module": "@jupyter-widgets/controls",
          "model_name": "DescriptionStyleModel",
          "model_module_version": "1.5.0",
          "state": {
            "_model_module": "@jupyter-widgets/controls",
            "_model_module_version": "1.5.0",
            "_model_name": "DescriptionStyleModel",
            "_view_count": null,
            "_view_module": "@jupyter-widgets/base",
            "_view_module_version": "1.2.0",
            "_view_name": "StyleView",
            "description_width": ""
          }
        },
        "bac66925fb2f4922b24992a6f4c2524a": {
          "model_module": "@jupyter-widgets/base",
          "model_name": "LayoutModel",
          "model_module_version": "1.2.0",
          "state": {
            "_model_module": "@jupyter-widgets/base",
            "_model_module_version": "1.2.0",
            "_model_name": "LayoutModel",
            "_view_count": null,
            "_view_module": "@jupyter-widgets/base",
            "_view_module_version": "1.2.0",
            "_view_name": "LayoutView",
            "align_content": null,
            "align_items": null,
            "align_self": null,
            "border": null,
            "bottom": null,
            "display": null,
            "flex": null,
            "flex_flow": null,
            "grid_area": null,
            "grid_auto_columns": null,
            "grid_auto_flow": null,
            "grid_auto_rows": null,
            "grid_column": null,
            "grid_gap": null,
            "grid_row": null,
            "grid_template_areas": null,
            "grid_template_columns": null,
            "grid_template_rows": null,
            "height": null,
            "justify_content": null,
            "justify_items": null,
            "left": null,
            "margin": null,
            "max_height": null,
            "max_width": null,
            "min_height": null,
            "min_width": null,
            "object_fit": null,
            "object_position": null,
            "order": null,
            "overflow": null,
            "overflow_x": null,
            "overflow_y": null,
            "padding": null,
            "right": null,
            "top": null,
            "visibility": null,
            "width": null
          }
        },
        "d0bb4e554b7e453db39bc73b85fd8e30": {
          "model_module": "@jupyter-widgets/controls",
          "model_name": "ProgressStyleModel",
          "model_module_version": "1.5.0",
          "state": {
            "_model_module": "@jupyter-widgets/controls",
            "_model_module_version": "1.5.0",
            "_model_name": "ProgressStyleModel",
            "_view_count": null,
            "_view_module": "@jupyter-widgets/base",
            "_view_module_version": "1.2.0",
            "_view_name": "StyleView",
            "bar_color": null,
            "description_width": ""
          }
        },
        "d9d75c1290864f1eaea7c35def78d58a": {
          "model_module": "@jupyter-widgets/base",
          "model_name": "LayoutModel",
          "model_module_version": "1.2.0",
          "state": {
            "_model_module": "@jupyter-widgets/base",
            "_model_module_version": "1.2.0",
            "_model_name": "LayoutModel",
            "_view_count": null,
            "_view_module": "@jupyter-widgets/base",
            "_view_module_version": "1.2.0",
            "_view_name": "LayoutView",
            "align_content": null,
            "align_items": null,
            "align_self": null,
            "border": null,
            "bottom": null,
            "display": null,
            "flex": null,
            "flex_flow": null,
            "grid_area": null,
            "grid_auto_columns": null,
            "grid_auto_flow": null,
            "grid_auto_rows": null,
            "grid_column": null,
            "grid_gap": null,
            "grid_row": null,
            "grid_template_areas": null,
            "grid_template_columns": null,
            "grid_template_rows": null,
            "height": null,
            "justify_content": null,
            "justify_items": null,
            "left": null,
            "margin": null,
            "max_height": null,
            "max_width": null,
            "min_height": null,
            "min_width": null,
            "object_fit": null,
            "object_position": null,
            "order": null,
            "overflow": null,
            "overflow_x": null,
            "overflow_y": null,
            "padding": null,
            "right": null,
            "top": null,
            "visibility": null,
            "width": null
          }
        },
        "1bafa1830e8e4c208021ff5a2c227a1b": {
          "model_module": "@jupyter-widgets/controls",
          "model_name": "DescriptionStyleModel",
          "model_module_version": "1.5.0",
          "state": {
            "_model_module": "@jupyter-widgets/controls",
            "_model_module_version": "1.5.0",
            "_model_name": "DescriptionStyleModel",
            "_view_count": null,
            "_view_module": "@jupyter-widgets/base",
            "_view_module_version": "1.2.0",
            "_view_name": "StyleView",
            "description_width": ""
          }
        }
      }
    }
  },
  "cells": [
    {
      "cell_type": "markdown",
      "metadata": {
        "id": "view-in-github",
        "colab_type": "text"
      },
      "source": [
        "<a href=\"https://colab.research.google.com/github/Frostbite22/learning-DL-by-doing-1/blob/main/project.ipynb\" target=\"_parent\"><img src=\"https://colab.research.google.com/assets/colab-badge.svg\" alt=\"Open In Colab\"/></a>"
      ]
    },
    {
      "cell_type": "code",
      "execution_count": 10,
      "metadata": {
        "id": "LuYZFU2gHm3k"
      },
      "outputs": [],
      "source": [
        "import torch \n",
        "from torch import nn"
      ]
    },
    {
      "cell_type": "code",
      "source": [
        "device = 'cuda' if torch.cuda.is_available() else 'cpu'"
      ],
      "metadata": {
        "id": "tBQrFN4kRSZS"
      },
      "execution_count": 11,
      "outputs": []
    },
    {
      "cell_type": "code",
      "source": [
        "from google.colab import drive\n",
        "  \n",
        "drive.mount('/content/drive')\n",
        "import os\n",
        "os.chdir(\"/content/drive/MyDrive/PyTorch/learning_DL/\")"
      ],
      "metadata": {
        "colab": {
          "base_uri": "https://localhost:8080/"
        },
        "id": "w22rRQDJUWrX",
        "outputId": "1d627bb5-c45e-4f22-e933-98792deb1a77"
      },
      "execution_count": 12,
      "outputs": [
        {
          "output_type": "stream",
          "name": "stdout",
          "text": [
            "Drive already mounted at /content/drive; to attempt to forcibly remount, call drive.mount(\"/content/drive\", force_remount=True).\n"
          ]
        }
      ]
    },
    {
      "cell_type": "code",
      "source": [
        "import zipfile \n",
        "\n",
        "with zipfile.ZipFile('archive.zip','r') as zip_ref:\n",
        "  zip_ref.extractall()"
      ],
      "metadata": {
        "id": "wGMu7Q0mSSNY"
      },
      "execution_count": 13,
      "outputs": []
    },
    {
      "cell_type": "code",
      "source": [
        "path = os.getcwd()\n",
        "path"
      ],
      "metadata": {
        "colab": {
          "base_uri": "https://localhost:8080/",
          "height": 35
        },
        "id": "suDcbrtiU0Ez",
        "outputId": "5e077769-e39a-45fd-8e1d-e8600fa201b8"
      },
      "execution_count": 33,
      "outputs": [
        {
          "output_type": "execute_result",
          "data": {
            "text/plain": [
              "'/content/drive/MyDrive/PyTorch/learning_DL'"
            ],
            "application/vnd.google.colaboratory.intrinsic+json": {
              "type": "string"
            }
          },
          "metadata": {},
          "execution_count": 33
        }
      ]
    },
    {
      "cell_type": "code",
      "source": [
        "import numpy as np\n",
        "import pandas as pd\n",
        "\n",
        "train_df = pd.read_csv('sign_mnist_train.csv')\n"
      ],
      "metadata": {
        "id": "TUSCYhsZOpOY"
      },
      "execution_count": 34,
      "outputs": []
    },
    {
      "cell_type": "code",
      "source": [
        "train_df.head()"
      ],
      "metadata": {
        "colab": {
          "base_uri": "https://localhost:8080/",
          "height": 300
        },
        "id": "YgK0WZdOonWB",
        "outputId": "20fbc920-f844-43db-d0ae-3f995da1eb0a"
      },
      "execution_count": 35,
      "outputs": [
        {
          "output_type": "execute_result",
          "data": {
            "text/plain": [
              "   label  pixel1  pixel2  pixel3  pixel4  pixel5  pixel6  pixel7  pixel8  \\\n",
              "0      3     107     118     127     134     139     143     146     150   \n",
              "1      6     155     157     156     156     156     157     156     158   \n",
              "2      2     187     188     188     187     187     186     187     188   \n",
              "3      2     211     211     212     212     211     210     211     210   \n",
              "4     13     164     167     170     172     176     179     180     184   \n",
              "\n",
              "   pixel9  ...  pixel775  pixel776  pixel777  pixel778  pixel779  pixel780  \\\n",
              "0     153  ...       207       207       207       207       206       206   \n",
              "1     158  ...        69       149       128        87        94       163   \n",
              "2     187  ...       202       201       200       199       198       199   \n",
              "3     210  ...       235       234       233       231       230       226   \n",
              "4     185  ...        92       105       105       108       133       163   \n",
              "\n",
              "   pixel781  pixel782  pixel783  pixel784  \n",
              "0       206       204       203       202  \n",
              "1       175       103       135       149  \n",
              "2       198       195       194       195  \n",
              "3       225       222       229       163  \n",
              "4       157       163       164       179  \n",
              "\n",
              "[5 rows x 785 columns]"
            ],
            "text/html": [
              "\n",
              "  <div id=\"df-7b638888-18b1-4dc1-8e3b-c409cafcb752\">\n",
              "    <div class=\"colab-df-container\">\n",
              "      <div>\n",
              "<style scoped>\n",
              "    .dataframe tbody tr th:only-of-type {\n",
              "        vertical-align: middle;\n",
              "    }\n",
              "\n",
              "    .dataframe tbody tr th {\n",
              "        vertical-align: top;\n",
              "    }\n",
              "\n",
              "    .dataframe thead th {\n",
              "        text-align: right;\n",
              "    }\n",
              "</style>\n",
              "<table border=\"1\" class=\"dataframe\">\n",
              "  <thead>\n",
              "    <tr style=\"text-align: right;\">\n",
              "      <th></th>\n",
              "      <th>label</th>\n",
              "      <th>pixel1</th>\n",
              "      <th>pixel2</th>\n",
              "      <th>pixel3</th>\n",
              "      <th>pixel4</th>\n",
              "      <th>pixel5</th>\n",
              "      <th>pixel6</th>\n",
              "      <th>pixel7</th>\n",
              "      <th>pixel8</th>\n",
              "      <th>pixel9</th>\n",
              "      <th>...</th>\n",
              "      <th>pixel775</th>\n",
              "      <th>pixel776</th>\n",
              "      <th>pixel777</th>\n",
              "      <th>pixel778</th>\n",
              "      <th>pixel779</th>\n",
              "      <th>pixel780</th>\n",
              "      <th>pixel781</th>\n",
              "      <th>pixel782</th>\n",
              "      <th>pixel783</th>\n",
              "      <th>pixel784</th>\n",
              "    </tr>\n",
              "  </thead>\n",
              "  <tbody>\n",
              "    <tr>\n",
              "      <th>0</th>\n",
              "      <td>3</td>\n",
              "      <td>107</td>\n",
              "      <td>118</td>\n",
              "      <td>127</td>\n",
              "      <td>134</td>\n",
              "      <td>139</td>\n",
              "      <td>143</td>\n",
              "      <td>146</td>\n",
              "      <td>150</td>\n",
              "      <td>153</td>\n",
              "      <td>...</td>\n",
              "      <td>207</td>\n",
              "      <td>207</td>\n",
              "      <td>207</td>\n",
              "      <td>207</td>\n",
              "      <td>206</td>\n",
              "      <td>206</td>\n",
              "      <td>206</td>\n",
              "      <td>204</td>\n",
              "      <td>203</td>\n",
              "      <td>202</td>\n",
              "    </tr>\n",
              "    <tr>\n",
              "      <th>1</th>\n",
              "      <td>6</td>\n",
              "      <td>155</td>\n",
              "      <td>157</td>\n",
              "      <td>156</td>\n",
              "      <td>156</td>\n",
              "      <td>156</td>\n",
              "      <td>157</td>\n",
              "      <td>156</td>\n",
              "      <td>158</td>\n",
              "      <td>158</td>\n",
              "      <td>...</td>\n",
              "      <td>69</td>\n",
              "      <td>149</td>\n",
              "      <td>128</td>\n",
              "      <td>87</td>\n",
              "      <td>94</td>\n",
              "      <td>163</td>\n",
              "      <td>175</td>\n",
              "      <td>103</td>\n",
              "      <td>135</td>\n",
              "      <td>149</td>\n",
              "    </tr>\n",
              "    <tr>\n",
              "      <th>2</th>\n",
              "      <td>2</td>\n",
              "      <td>187</td>\n",
              "      <td>188</td>\n",
              "      <td>188</td>\n",
              "      <td>187</td>\n",
              "      <td>187</td>\n",
              "      <td>186</td>\n",
              "      <td>187</td>\n",
              "      <td>188</td>\n",
              "      <td>187</td>\n",
              "      <td>...</td>\n",
              "      <td>202</td>\n",
              "      <td>201</td>\n",
              "      <td>200</td>\n",
              "      <td>199</td>\n",
              "      <td>198</td>\n",
              "      <td>199</td>\n",
              "      <td>198</td>\n",
              "      <td>195</td>\n",
              "      <td>194</td>\n",
              "      <td>195</td>\n",
              "    </tr>\n",
              "    <tr>\n",
              "      <th>3</th>\n",
              "      <td>2</td>\n",
              "      <td>211</td>\n",
              "      <td>211</td>\n",
              "      <td>212</td>\n",
              "      <td>212</td>\n",
              "      <td>211</td>\n",
              "      <td>210</td>\n",
              "      <td>211</td>\n",
              "      <td>210</td>\n",
              "      <td>210</td>\n",
              "      <td>...</td>\n",
              "      <td>235</td>\n",
              "      <td>234</td>\n",
              "      <td>233</td>\n",
              "      <td>231</td>\n",
              "      <td>230</td>\n",
              "      <td>226</td>\n",
              "      <td>225</td>\n",
              "      <td>222</td>\n",
              "      <td>229</td>\n",
              "      <td>163</td>\n",
              "    </tr>\n",
              "    <tr>\n",
              "      <th>4</th>\n",
              "      <td>13</td>\n",
              "      <td>164</td>\n",
              "      <td>167</td>\n",
              "      <td>170</td>\n",
              "      <td>172</td>\n",
              "      <td>176</td>\n",
              "      <td>179</td>\n",
              "      <td>180</td>\n",
              "      <td>184</td>\n",
              "      <td>185</td>\n",
              "      <td>...</td>\n",
              "      <td>92</td>\n",
              "      <td>105</td>\n",
              "      <td>105</td>\n",
              "      <td>108</td>\n",
              "      <td>133</td>\n",
              "      <td>163</td>\n",
              "      <td>157</td>\n",
              "      <td>163</td>\n",
              "      <td>164</td>\n",
              "      <td>179</td>\n",
              "    </tr>\n",
              "  </tbody>\n",
              "</table>\n",
              "<p>5 rows × 785 columns</p>\n",
              "</div>\n",
              "      <button class=\"colab-df-convert\" onclick=\"convertToInteractive('df-7b638888-18b1-4dc1-8e3b-c409cafcb752')\"\n",
              "              title=\"Convert this dataframe to an interactive table.\"\n",
              "              style=\"display:none;\">\n",
              "        \n",
              "  <svg xmlns=\"http://www.w3.org/2000/svg\" height=\"24px\"viewBox=\"0 0 24 24\"\n",
              "       width=\"24px\">\n",
              "    <path d=\"M0 0h24v24H0V0z\" fill=\"none\"/>\n",
              "    <path d=\"M18.56 5.44l.94 2.06.94-2.06 2.06-.94-2.06-.94-.94-2.06-.94 2.06-2.06.94zm-11 1L8.5 8.5l.94-2.06 2.06-.94-2.06-.94L8.5 2.5l-.94 2.06-2.06.94zm10 10l.94 2.06.94-2.06 2.06-.94-2.06-.94-.94-2.06-.94 2.06-2.06.94z\"/><path d=\"M17.41 7.96l-1.37-1.37c-.4-.4-.92-.59-1.43-.59-.52 0-1.04.2-1.43.59L10.3 9.45l-7.72 7.72c-.78.78-.78 2.05 0 2.83L4 21.41c.39.39.9.59 1.41.59.51 0 1.02-.2 1.41-.59l7.78-7.78 2.81-2.81c.8-.78.8-2.07 0-2.86zM5.41 20L4 18.59l7.72-7.72 1.47 1.35L5.41 20z\"/>\n",
              "  </svg>\n",
              "      </button>\n",
              "      \n",
              "  <style>\n",
              "    .colab-df-container {\n",
              "      display:flex;\n",
              "      flex-wrap:wrap;\n",
              "      gap: 12px;\n",
              "    }\n",
              "\n",
              "    .colab-df-convert {\n",
              "      background-color: #E8F0FE;\n",
              "      border: none;\n",
              "      border-radius: 50%;\n",
              "      cursor: pointer;\n",
              "      display: none;\n",
              "      fill: #1967D2;\n",
              "      height: 32px;\n",
              "      padding: 0 0 0 0;\n",
              "      width: 32px;\n",
              "    }\n",
              "\n",
              "    .colab-df-convert:hover {\n",
              "      background-color: #E2EBFA;\n",
              "      box-shadow: 0px 1px 2px rgba(60, 64, 67, 0.3), 0px 1px 3px 1px rgba(60, 64, 67, 0.15);\n",
              "      fill: #174EA6;\n",
              "    }\n",
              "\n",
              "    [theme=dark] .colab-df-convert {\n",
              "      background-color: #3B4455;\n",
              "      fill: #D2E3FC;\n",
              "    }\n",
              "\n",
              "    [theme=dark] .colab-df-convert:hover {\n",
              "      background-color: #434B5C;\n",
              "      box-shadow: 0px 1px 3px 1px rgba(0, 0, 0, 0.15);\n",
              "      filter: drop-shadow(0px 1px 2px rgba(0, 0, 0, 0.3));\n",
              "      fill: #FFFFFF;\n",
              "    }\n",
              "  </style>\n",
              "\n",
              "      <script>\n",
              "        const buttonEl =\n",
              "          document.querySelector('#df-7b638888-18b1-4dc1-8e3b-c409cafcb752 button.colab-df-convert');\n",
              "        buttonEl.style.display =\n",
              "          google.colab.kernel.accessAllowed ? 'block' : 'none';\n",
              "\n",
              "        async function convertToInteractive(key) {\n",
              "          const element = document.querySelector('#df-7b638888-18b1-4dc1-8e3b-c409cafcb752');\n",
              "          const dataTable =\n",
              "            await google.colab.kernel.invokeFunction('convertToInteractive',\n",
              "                                                     [key], {});\n",
              "          if (!dataTable) return;\n",
              "\n",
              "          const docLinkHtml = 'Like what you see? Visit the ' +\n",
              "            '<a target=\"_blank\" href=https://colab.research.google.com/notebooks/data_table.ipynb>data table notebook</a>'\n",
              "            + ' to learn more about interactive tables.';\n",
              "          element.innerHTML = '';\n",
              "          dataTable['output_type'] = 'display_data';\n",
              "          await google.colab.output.renderOutput(dataTable, element);\n",
              "          const docLink = document.createElement('div');\n",
              "          docLink.innerHTML = docLinkHtml;\n",
              "          element.appendChild(docLink);\n",
              "        }\n",
              "      </script>\n",
              "    </div>\n",
              "  </div>\n",
              "  "
            ]
          },
          "metadata": {},
          "execution_count": 35
        }
      ]
    },
    {
      "cell_type": "code",
      "source": [
        "for index,row in train_df.iterrows():\n",
        "  pixels = np.array(row[1:])\n",
        "  print(pixels.reshape(28,28).shape)\n",
        "  print(pixels)\n",
        "  break"
      ],
      "metadata": {
        "colab": {
          "base_uri": "https://localhost:8080/"
        },
        "id": "0R5LH_OCYMEL",
        "outputId": "be4dbfd7-50a8-4430-97c5-b7f7d69fbe04"
      },
      "execution_count": 36,
      "outputs": [
        {
          "output_type": "stream",
          "name": "stdout",
          "text": [
            "(28, 28)\n",
            "[107 118 127 134 139 143 146 150 153 156 158 160 163 165 159 166 168 170\n",
            " 170 171 171 171 172 171 171 170 170 169 111 121 129 135 141 144 148 151\n",
            " 154 157 160 163 164 170 119 152 171 171 170 171 172 172 172 172 172 171\n",
            " 171 170 113 123 131 137 142 145 150 152 155 158 161 163 164 172 105 142\n",
            " 170 171 171 171 172 172 173 173 172 171 171 171 116 125 133 139 143 146\n",
            " 151 153 156 159 162 163 167 167  95 144 171 172 172 172 172 172 173 173\n",
            " 173 172 172 171 117 126 134 140 145 149 153 156 158 161 163 164 175 156\n",
            "  87 154 172 173 173 173 173 173 174 174 174 173 172 172 119 128 136 142\n",
            " 146 150 153 156 159 163 165 164 184 148  89 164 172 174 174 174 174 175\n",
            " 175 174 175 174 173 173 122 130 138 143 147 150 154 158 162 165 166 172\n",
            " 181 128  94 170 173 175 174 175 176 177 177 177 177 175 175 174 122 132\n",
            " 139 145 149 152 156 160 163 165 166 181 172 103 113 175 176 178 178 179\n",
            " 179 179 179 178 179 177 175 174 125 134 141 147 150 153 157 161 164 167\n",
            " 168 184 179 116 126 165 176 179 180 180 181 180 180 180 179 178 177 176\n",
            " 128 135 142 148 152 154 158 162 165 168 170 187 180 156 161 124 143 179\n",
            " 178 178 181 182 181 180 181 180 179 179 129 136 144 150 153 155 159 163\n",
            " 166 169 172 187 184 153 102 117 110 175 169 154 182 183 183 182 182 181\n",
            " 181 179 131 138 145 150 155 157 161 165 168 174 190 189 175 146  94  97\n",
            " 113 151 158 129 184 184 184 184 183 183 182 180 131 139 146 151 155 159\n",
            " 163 167 175 182 179 171 159 114 102  89 121 136 136  96 172 186 186 185\n",
            " 185 184 182 181 131 140 147 154 157 160 164 179 186 191 187 180 157 100\n",
            "  88  84 108 111 126  90 120 186 187 187 186 185 184 182 133 141 149 155\n",
            " 158 160 174 201 189 165 151 143 146 120  87  78  87  76 108  98  96 181\n",
            " 188 187 186 186 185 183 133 141 150 156 160 161 179 197 174 135  99  72\n",
            "  95 134  97  72  74  68 116 105 108 187 189 187 187 186 186 185 134 143\n",
            " 151 156 161 163 179 194 156 110  74  42  52 139  94  67  75  75 118 106\n",
            " 129 189 191 190 188 188 187 186 135 144 152 158 163 163 177 193 161 122\n",
            "  84  43  71 134  81  57  71  88 112  98 157 193 193 192 190 190 189 188\n",
            " 136 144 152 158 162 163 176 192 164 128  98  62  60 100  71  76  96 101\n",
            " 105  95 174 195 194 194 194 193 191 190 137 145 152 159 164 165 178 191\n",
            " 164 135 113  82  59  87  98 111 120 108  97 108 190 196 195 195 194 193\n",
            " 193 192 139 146 154 160 164 165 175 186 163 139 112  85  67 102 126 133\n",
            " 126 105 104 176 197 198 197 196 195 195 194 193 138 147 155 161 165 167\n",
            " 172 186 163 137 107  87  76 106 122 125 117  96 156 199 199 200 198 196\n",
            " 196 195 195 194 139 148 156 163 166 168 172 180 158 131 108  99  86 108\n",
            " 118 116 103 107 191 202 201 200 200 200 199 197 198 196 140 149 157 164\n",
            " 168 167 177 178 155 131 118 105  87 100 106 100  96 164 202 202 202 202\n",
            " 202 201 200 199 199 198 140 150 157 165 167 170 181 175 152 130 115  98\n",
            "  82  85  90  99 165 202 203 204 203 203 202 202 201 201 200 200 142 150\n",
            " 159 165 170 191 173 157 144 119  97  84  79  79  91 172 202 203 203 205\n",
            " 204 204 204 203 202 202 201 200 142 151 160 165 188 190 187 150 119 109\n",
            "  85  79  79  78 137 203 205 206 206 207 207 206 206 204 205 204 203 202\n",
            " 142 151 160 172 196 188 188 190 135  96  86  77  77  79 176 205 207 207\n",
            " 207 207 207 207 206 206 206 204 203 202]\n"
          ]
        }
      ]
    },
    {
      "cell_type": "code",
      "source": [
        "img = Image.open('/content/drive/MyDrive/PyTorch/learning_DL/images/img16_28.png')"
      ],
      "metadata": {
        "id": "th14xiL7XrV-"
      },
      "execution_count": 37,
      "outputs": []
    },
    {
      "cell_type": "code",
      "source": [
        "img"
      ],
      "metadata": {
        "colab": {
          "base_uri": "https://localhost:8080/",
          "height": 45
        },
        "id": "pgdqsXH3w0Uj",
        "outputId": "245f918f-84f6-4051-a9f5-579edb75d8dd"
      },
      "execution_count": 38,
      "outputs": [
        {
          "output_type": "execute_result",
          "data": {
            "text/plain": [
              "<PIL.PngImagePlugin.PngImageFile image mode=L size=28x28 at 0x7F259882EA30>"
            ],
            "image/png": "[encoded data removed]"
          },
          "metadata": {},
          "execution_count": 38
        }
      ]
    },
    {
      "cell_type": "code",
      "source": [
        "classes = [\"A\", \"B\", \"C\", \"D\", \"E\", \"F\", \"G\", \"H\", \"I\", \"J\", \"K\", \"L\", \"M\", \"N\", \"O\", \"P\", \"Q\", \"R\", \"S\", \"T\", \"U\", \"V\", \"W\", \"X\", \"Y\", \"Z\"]"
      ],
      "metadata": {
        "id": "JVcbeX54Rjem"
      },
      "execution_count": 39,
      "outputs": []
    },
    {
      "cell_type": "code",
      "source": [
        "image_as_array = np.asarray(img)\n",
        "t = torch.from_numpy(image_as_array)\n",
        "t = t.unsqueeze(0)\n",
        "t.shape"
      ],
      "metadata": {
        "id": "22nemjMKw1MU",
        "colab": {
          "base_uri": "https://localhost:8080/"
        },
        "outputId": "4d4a1bdc-24e0-462d-835d-e735128caf23"
      },
      "execution_count": 40,
      "outputs": [
        {
          "output_type": "execute_result",
          "data": {
            "text/plain": [
              "torch.Size([1, 28, 28])"
            ]
          },
          "metadata": {},
          "execution_count": 40
        }
      ]
    },
    {
      "cell_type": "code",
      "source": [
        "from PIL import Image\n",
        "from pathlib import Path \n",
        "from torchvision import transforms\n",
        "\n",
        "\n",
        "def images_preprocessing(global_path,image_folder,dataframe):\n",
        "  #Setup path to a data folder \n",
        "  data_path = Path(global_path)\n",
        "  image_path = data_path / image_folder\n",
        "\n",
        "  #If the image folder doesn't exist, download it and prepare it \n",
        "  if image_path.is_dir():\n",
        "    print(f\"{image_path} directory already exists\")\n",
        "  else: \n",
        "    print(f\"{image_path} does not exist, creating one\")\n",
        "    image_path.mkdir(parents=True,exist_ok=True)\n",
        "\n",
        "\n",
        "  counter = dict()\n",
        "  dataset = []\n",
        "\n",
        "\n",
        "  for index,row in dataframe.iterrows(): \n",
        "      pixels = np.array(row[1:],dtype=np.uint8)\n",
        "      pixels = np.reshape(pixels,(28,28))\n",
        "      image = Image.fromarray(pixels)\n",
        "      label = row[0]\n",
        "      \n",
        "      image_transform = transforms.Compose([transforms.ToTensor()])\n",
        "      dataset.append((image_transform(image),label))\n",
        "\n",
        "      if label not in counter:\n",
        "          counter[label] = 0\n",
        "      counter[label] += 1\n",
        "\n",
        "      filename = 'img{}_{}.png'.format(label, counter[label])\n",
        "      image.save(image_path/filename)\n",
        "\n",
        "      print('saved:', image_path/filename)\n",
        "  return dataset\n"
      ],
      "metadata": {
        "id": "2gAiQNyVDRj9"
      },
      "execution_count": 45,
      "outputs": []
    },
    {
      "cell_type": "code",
      "source": [
        "train_df = pd.read_csv(\"sign_mnist_train.csv\")\n",
        "train_dataset = images_preprocessing(path,\"train_images\",train_df)"
      ],
      "metadata": {
        "id": "Hk8O342ti3Wt"
      },
      "execution_count": null,
      "outputs": []
    },
    {
      "cell_type": "code",
      "source": [
        "test_df = pd.read_csv(\"sign_mnist_test.csv\")\n",
        "test_dataset = images_preprocessing(path,\"test_images\",test_df)"
      ],
      "metadata": {
        "id": "n5JFKrjxLI5p"
      },
      "execution_count": null,
      "outputs": []
    },
    {
      "cell_type": "code",
      "source": [
        "image_test, label_test = test_dataset[0]"
      ],
      "metadata": {
        "id": "7vvsatYNLjDX"
      },
      "execution_count": 48,
      "outputs": []
    },
    {
      "cell_type": "code",
      "source": [
        "image_test.shape"
      ],
      "metadata": {
        "colab": {
          "base_uri": "https://localhost:8080/"
        },
        "id": "B8zvLGFrQdRx",
        "outputId": "5e0d02cc-e2c1-46fa-a37c-d1acedf1d768"
      },
      "execution_count": 49,
      "outputs": [
        {
          "output_type": "execute_result",
          "data": {
            "text/plain": [
              "torch.Size([1, 28, 28])"
            ]
          },
          "metadata": {},
          "execution_count": 49
        }
      ]
    },
    {
      "cell_type": "code",
      "source": [
        "import matplotlib.pyplot as plt\n",
        "\n",
        "plt.imshow(image_test.permute(1,2,0))\n",
        "plt.axis(False)\n",
        "plt.title(classes[label_test])\n"
      ],
      "metadata": {
        "colab": {
          "base_uri": "https://localhost:8080/",
          "height": 281
        },
        "id": "RqG7orc-QjkI",
        "outputId": "3ca886a4-9a1e-4b1e-e30d-047ebab49d64"
      },
      "execution_count": 50,
      "outputs": [
        {
          "output_type": "execute_result",
          "data": {
            "text/plain": [
              "Text(0.5, 1.0, 'G')"
            ]
          },
          "metadata": {},
          "execution_count": 50
        },
        {
          "output_type": "display_data",
          "data": {
            "text/plain": [
              "<Figure size 432x288 with 1 Axes>"
            ],
            "image/png": "[encoded data removed]"
          },
          "metadata": {
            "needs_background": "light"
          }
        }
      ]
    },
    {
      "cell_type": "code",
      "source": [
        "from torch.utils.data import DataLoader \n",
        "BATCH_SIZE = 32 \n",
        "train_dataloader = DataLoader(dataset=train_dataset,\n",
        "                               batch_size=BATCH_SIZE,\n",
        "                               num_workers=1,\n",
        "                              shuffle=True)\n",
        "test_dataloader = DataLoader(dataset=test_dataset,\n",
        "                             batch_size=BATCH_SIZE,\n",
        "                             num_workers=1,\n",
        "                             shuffle=False)\n",
        "\n",
        "train_dataloader, test_dataloader"
      ],
      "metadata": {
        "colab": {
          "base_uri": "https://localhost:8080/"
        },
        "id": "yMzpNc5PQ6ko",
        "outputId": "704baad1-dca9-42df-bc77-c13eb5da65c2"
      },
      "execution_count": 51,
      "outputs": [
        {
          "output_type": "execute_result",
          "data": {
            "text/plain": [
              "(<torch.utils.data.dataloader.DataLoader at 0x7f257da18ca0>,\n",
              " <torch.utils.data.dataloader.DataLoader at 0x7f257da18730>)"
            ]
          },
          "metadata": {},
          "execution_count": 51
        }
      ]
    },
    {
      "cell_type": "code",
      "source": [
        "img, label = next(iter(train_dataloader))\n",
        "\n",
        "print(f'Image Shape: {img.shape} -> [batch_size,color_channels,height,width]')\n",
        "print(f'Label Shape: {label.shape}')"
      ],
      "metadata": {
        "colab": {
          "base_uri": "https://localhost:8080/"
        },
        "id": "rylQzWSHYxtI",
        "outputId": "e7a9e071-e954-4061-e45f-e05a84cda65f"
      },
      "execution_count": 52,
      "outputs": [
        {
          "output_type": "stream",
          "name": "stdout",
          "text": [
            "Image Shape: torch.Size([32, 1, 28, 28]) -> [batch_size,color_channels,height,width]\n",
            "Label Shape: torch.Size([32])\n"
          ]
        }
      ]
    },
    {
      "cell_type": "code",
      "source": [
        "import torch.nn as nn\n",
        "\n",
        "class ResNet18(nn.Module):\n",
        "    def __init__(self, input_shape : int,\n",
        "                hidden_units : int,\n",
        "                output_shape : int):\n",
        "        super(ResNet18,self).__init__()\n",
        "\n",
        "        self.conv1 = nn.Conv2d(input_shape, hidden_units, kernel_size=3, stride=1, padding=1)\n",
        "        self.bn1 = nn.BatchNorm2d(hidden_units)\n",
        "        self.layer1 = nn.Sequential(\n",
        "            nn.Conv2d(hidden_units, hidden_units, kernel_size=3, stride=1, padding=1),\n",
        "            nn.BatchNorm2d(hidden_units),\n",
        "            nn.ReLU(),\n",
        "            nn.Conv2d(hidden_units, hidden_units, kernel_size=3, stride=1, padding=1,),\n",
        "            nn.BatchNorm2d(hidden_units),        \n",
        "            nn.ReLU()\n",
        "        )\n",
        "        self.layer2 = nn.Sequential(\n",
        "            nn.Conv2d(hidden_units, hidden_units*2, kernel_size=3, stride=2, padding=1),\n",
        "            nn.BatchNorm2d(hidden_units*2),\n",
        "            nn.ReLU(),\n",
        "            nn.Conv2d(hidden_units*2, hidden_units*2, kernel_size=3, stride=1, padding=1),\n",
        "            nn.BatchNorm2d(hidden_units*2),\n",
        "            nn.ReLU()\n",
        "        )\n",
        "        self.layer3 = nn.Sequential(\n",
        "            nn.Conv2d(hidden_units*2, hidden_units*4, kernel_size=3, stride=2, padding=1),\n",
        "            nn.BatchNorm2d(hidden_units*4),\n",
        "            nn.ReLU(),\n",
        "            nn.Conv2d(hidden_units*4, hidden_units*4, kernel_size=3, stride=1, padding=1),\n",
        "            nn.BatchNorm2d(hidden_units*4),\n",
        "            nn.ReLU()\n",
        "        )\n",
        "        self.avgpool = nn.AdaptiveAvgPool2d((1, 1))\n",
        "        self.fc = nn.Linear(hidden_units*4, output_shape)\n",
        "        self.dropout = nn.Dropout()\n",
        "\n",
        "    def forward(self, x):\n",
        "        x = self.conv1(x)\n",
        "        x = self.bn1(x)\n",
        "        x = self.layer1(x) \n",
        "        x = self.layer2(x) \n",
        "        x = self.dropout(x)\n",
        "        x = self.layer3(x) \n",
        "        x = self.avgpool(x)\n",
        "        x = x.view(x.size(0), -1)\n",
        "        x = self.fc(x)\n",
        "        return x"
      ],
      "metadata": {
        "id": "qvSLt5zXY0kg"
      },
      "execution_count": 53,
      "outputs": []
    },
    {
      "cell_type": "code",
      "source": [
        "torch.manual_seed(42)\n",
        "model_1 = ResNet18(input_shape=1,\n",
        "                hidden_units=16,\n",
        "                output_shape=len(classes)).to(device)\n",
        "\n",
        "model_1"
      ],
      "metadata": {
        "colab": {
          "base_uri": "https://localhost:8080/"
        },
        "id": "_OtfaDIvacgA",
        "outputId": "57b85e2c-44ba-4249-bca2-66318b84dca0"
      },
      "execution_count": 54,
      "outputs": [
        {
          "output_type": "execute_result",
          "data": {
            "text/plain": [
              "ResNet18(\n",
              "  (conv1): Conv2d(1, 16, kernel_size=(3, 3), stride=(1, 1), padding=(1, 1))\n",
              "  (bn1): BatchNorm2d(16, eps=1e-05, momentum=0.1, affine=True, track_running_stats=True)\n",
              "  (layer1): Sequential(\n",
              "    (0): Conv2d(16, 16, kernel_size=(3, 3), stride=(1, 1), padding=(1, 1))\n",
              "    (1): BatchNorm2d(16, eps=1e-05, momentum=0.1, affine=True, track_running_stats=True)\n",
              "    (2): ReLU()\n",
              "    (3): Conv2d(16, 16, kernel_size=(3, 3), stride=(1, 1), padding=(1, 1))\n",
              "    (4): BatchNorm2d(16, eps=1e-05, momentum=0.1, affine=True, track_running_stats=True)\n",
              "    (5): ReLU()\n",
              "  )\n",
              "  (layer2): Sequential(\n",
              "    (0): Conv2d(16, 32, kernel_size=(3, 3), stride=(2, 2), padding=(1, 1))\n",
              "    (1): BatchNorm2d(32, eps=1e-05, momentum=0.1, affine=True, track_running_stats=True)\n",
              "    (2): ReLU()\n",
              "    (3): Conv2d(32, 32, kernel_size=(3, 3), stride=(1, 1), padding=(1, 1))\n",
              "    (4): BatchNorm2d(32, eps=1e-05, momentum=0.1, affine=True, track_running_stats=True)\n",
              "    (5): ReLU()\n",
              "  )\n",
              "  (layer3): Sequential(\n",
              "    (0): Conv2d(32, 64, kernel_size=(3, 3), stride=(2, 2), padding=(1, 1))\n",
              "    (1): BatchNorm2d(64, eps=1e-05, momentum=0.1, affine=True, track_running_stats=True)\n",
              "    (2): ReLU()\n",
              "    (3): Conv2d(64, 64, kernel_size=(3, 3), stride=(1, 1), padding=(1, 1))\n",
              "    (4): BatchNorm2d(64, eps=1e-05, momentum=0.1, affine=True, track_running_stats=True)\n",
              "    (5): ReLU()\n",
              "  )\n",
              "  (avgpool): AdaptiveAvgPool2d(output_size=(1, 1))\n",
              "  (fc): Linear(in_features=64, out_features=26, bias=True)\n",
              "  (dropout): Dropout(p=0.5, inplace=False)\n",
              ")"
            ]
          },
          "metadata": {},
          "execution_count": 54
        }
      ]
    },
    {
      "cell_type": "code",
      "source": [
        "# Create train and test loops functions \n",
        "def train_step(model: torch.nn.Module,\n",
        "               dataloader : torch.utils.data.DataLoader,\n",
        "               loss_fn ,\n",
        "               optimizer: torch.optim.Optimizer,\n",
        "               device=device):\n",
        "  #put the model in train mode \n",
        "  model.train()\n",
        "  #setup train loss and train accuracy values \n",
        "  train_loss, train_acc = 0,0 \n",
        "  #Loop through data loader data batchtes \n",
        "  for batch, (X,y) in enumerate(dataloader):\n",
        "    #send data to the target device \n",
        "    X,y = X.to(device), y.to(device)\n",
        "    #1.forward pass\n",
        "    y_pred = model(X) #output model logits\n",
        "    #2.Calculate the loss\n",
        "    loss = loss_fn(y_pred,y)\n",
        "    train_loss += loss.item()\n",
        "    #3.Optimizer zero grad \n",
        "    optimizer.zero_grad()\n",
        "    #4.loss backward\n",
        "    loss.backward()\n",
        "    #5. Optimizer step\n",
        "    optimizer.step()\n",
        "\n",
        "    #calculate accuracy metric \n",
        "    y_pred_class = torch.argmax(torch.softmax(y_pred,dim=1),dim=1)\n",
        "    train_acc += (y_pred_class==y).sum().item()/len(y_pred)\n",
        "  \n",
        "  #Adjust metrics to get average loss and accuracy per batch \n",
        "  train_loss = train_loss /len(dataloader)\n",
        "  train_acc = train_acc / len(dataloader)\n",
        "  return train_loss, train_acc \n"
      ],
      "metadata": {
        "id": "j0Dr2gMCeHNp"
      },
      "execution_count": 73,
      "outputs": []
    },
    {
      "cell_type": "code",
      "source": [
        "#Create a test step function \n",
        "def test_step(model: torch.nn.Module,\n",
        "              dataloader : torch.utils.data.DataLoader,\n",
        "              loss_fn ,\n",
        "              optimizer: torch.optim.Optimizer,\n",
        "              device=device):\n",
        "  #put model in eval model \n",
        "  model.eval()\n",
        "  #setup test loss and test accuracy values \n",
        "  test_loss, test_acc = 0,0\n",
        "  #Turn on inference model \n",
        "  with torch.inference_mode():\n",
        "    #Loop through Dataloader batches \n",
        "    for batch, (X,y) in enumerate(dataloader):\n",
        "      X,y = X.to(device), y.to(device)\n",
        "      #1.forward pass\n",
        "      test_pred_logits = model(X)\n",
        "      #2.Calculate the loss \n",
        "      loss = loss_fn(test_pred_logits,y)\n",
        "      test_loss += loss.item()\n",
        "      #calculate the accuracy \n",
        "      test_pred_labels = test_pred_logits.argmax(dim=1)\n",
        "      test_acc += (test_pred_labels==y).sum().item() / len(test_pred_labels)\n",
        "\n",
        "  #Adujust metrics to get average loss and accuracy per batch \n",
        "  test_loss = test_loss / len(dataloader) \n",
        "  test_acc = test_acc / len(dataloader) \n",
        "  return test_loss , test_acc  "
      ],
      "metadata": {
        "id": "FMryh7tmfRtg"
      },
      "execution_count": 74,
      "outputs": []
    },
    {
      "cell_type": "code",
      "source": [
        "from tqdm.auto import tqdm\n",
        "\n",
        "def train(model : torch.nn.Module,\n",
        "          train_dataloader : torch.utils.data.DataLoader,\n",
        "          test_dataloader : torch.utils.data.DataLoader, \n",
        "          loss_fn ,\n",
        "          optimizer : torch.optim.Optimizer,\n",
        "          epochs : int = 5, \n",
        "          device = device):\n",
        "  #create empty results dict \n",
        "  results = {\"train_loss\": [],\n",
        "             \"train_acc\": [],\n",
        "             \"test_loss\": [],\n",
        "             \"test_acc\": []}\n",
        "\n",
        "  #loop through training and testing steps for a number of epochs \n",
        "  for epoch in tqdm(range(epochs)):\n",
        "    train_loss, train_acc = train_step(model=model,\n",
        "                                       dataloader= train_dataloader,\n",
        "                                       loss_fn=loss_fn.to(device),\n",
        "                                       optimizer=optimizer,\n",
        "                                       device=device)\n",
        "    test_loss, test_acc = test_step(model=model,\n",
        "                                    dataloader= test_dataloader,\n",
        "                                    loss_fn=loss_fn,\n",
        "                                    optimizer= optimizer, \n",
        "                                    device=device) \n",
        "\n",
        "    #print out \n",
        "    print(f'Epoch : {epoch} | train loss: {train_loss: .4f} | Train acc : {train_acc : .4f} | Test loss : {test_loss : .4f} | Test acc : {test_acc :.4f} ')\n",
        "\n",
        "    #Update results dictionary \n",
        "    results['train_loss'].append(train_loss)\n",
        "    results['train_acc'].append(train_acc)\n",
        "    results['test_loss'].append(test_loss) \n",
        "    results['test_acc'].append(test_acc)\n",
        "  \n",
        "  #Return the filled results at the end of the epochs \n",
        "  return results\n",
        "\n",
        "  "
      ],
      "metadata": {
        "id": "vjUGeUTFfVfc"
      },
      "execution_count": 75,
      "outputs": []
    },
    {
      "cell_type": "code",
      "source": [
        "#Credits to \n",
        "#https://github.com/HaotianMXu/Multiclass_LinearSVM_with_SGD/blob/master/linearSVM.py\n",
        "\n",
        "class multiClassHingeLoss(nn.Module):\n",
        "    def __init__(self, p=1, margin=1, weight=None, size_average=True):\n",
        "        super(multiClassHingeLoss, self).__init__()\n",
        "        self.p=p\n",
        "        self.margin=margin\n",
        "        self.weight=weight#weight for each class, size=n_class, variable containing FloatTensor,cuda,reqiures_grad=False\n",
        "        self.size_average=size_average\n",
        "    def forward(self, output, y):#output: batchsize*n_class\n",
        "        #print(output.requires_grad)\n",
        "        #print(y.requires_grad)\n",
        "        output_y=output[torch.arange(0,y.size()[0]).long().cuda(),y.data.cuda()].view(-1,1)#view for transpose\n",
        "        #margin - output[y] + output[i]\n",
        "        loss=output-output_y+self.margin#contains i=y\n",
        "        #remove i=y items\n",
        "        loss[torch.arange(0,y.size()[0]).long().cuda(),y.data.cuda()]=0\n",
        "        #max(0,_)\n",
        "        loss[loss<0]=0\n",
        "        #^p\n",
        "        if(self.p!=1):\n",
        "            loss=torch.pow(loss,self.p)\n",
        "        #add weight\n",
        "        if(self.weight is not None):\n",
        "            loss=loss*self.weight\n",
        "        #sum up\n",
        "        loss=torch.sum(loss)\n",
        "        if(self.size_average):\n",
        "            loss/=output.size()[0]#output.size()[0]\n",
        "        return loss\n"
      ],
      "metadata": {
        "id": "nOkSAcXNgjX9"
      },
      "execution_count": 78,
      "outputs": []
    },
    {
      "cell_type": "code",
      "source": [
        "import torchmetrics\n",
        "\n",
        "#Train and evaluate model 1\n",
        "torch.manual_seed(42)\n",
        "torch.cuda.manual_seed(42)\n",
        "\n",
        "#Set number of epochs \n",
        "NUM_EPOCHS = 8\n",
        "\n",
        "#Recreate an instance of ResNet18\n",
        "model_1  = ResNet18(input_shape=1,\n",
        "                   hidden_units=24,\n",
        "                   output_shape=len(classes)).to(device)\n",
        "\n",
        "#Setup loss funcion and optimizer \n",
        "loss_fn = multiClassHingeLoss()\n",
        "\n",
        "optimizer = torch.optim.SGD(params=model_1.parameters(), lr=0.01, momentum=0.9)\n",
        "# Start the timer \n",
        "from timeit import default_timer as timer \n",
        "start_time = timer()\n",
        "\n",
        "#Train model 1 \n",
        "model_1_results = train(model=model_1,\n",
        "                        train_dataloader=train_dataloader,\n",
        "                        test_dataloader=test_dataloader,\n",
        "                        loss_fn=loss_fn,\n",
        "                        optimizer=optimizer,\n",
        "                        epochs=NUM_EPOCHS)\n",
        "\n",
        "#End the timer and print out how long it took \n",
        "end_time = timer()\n",
        "print(f'Total training time : {end_time - start_time:.3f} seconds')"
      ],
      "metadata": {
        "colab": {
          "base_uri": "https://localhost:8080/",
          "height": 205,
          "referenced_widgets": [
            "3d9d5bb2cd28434ea88832363e947878",
            "32737a517f1c4525b82851dee8f35b37",
            "1442fccb318c46b69b7f99697ed80b08",
            "df18617111854d32b461dfefa5676c38",
            "8606487490534ea3b9213c7559f0c58f",
            "68276d975fad4760a6d6848c4024ec63",
            "9632c493b5954ebe9f6ef302136b56df",
            "bac66925fb2f4922b24992a6f4c2524a",
            "d0bb4e554b7e453db39bc73b85fd8e30",
            "d9d75c1290864f1eaea7c35def78d58a",
            "1bafa1830e8e4c208021ff5a2c227a1b"
          ]
        },
        "id": "xWaw5pFEfbu4",
        "outputId": "f7e84ad6-b3b6-4468-dcc9-af9f5722af88"
      },
      "execution_count": 80,
      "outputs": [
        {
          "output_type": "display_data",
          "data": {
            "text/plain": [
              "  0%|          | 0/8 [00:00<?, ?it/s]"
            ],
            "application/vnd.jupyter.widget-view+json": {
              "version_major": 2,
              "version_minor": 0,
              "model_id": "3d9d5bb2cd28434ea88832363e947878"
            }
          },
          "metadata": {}
        },
        {
          "output_type": "stream",
          "name": "stdout",
          "text": [
            "Epoch : 0 | train loss:  2.6188 | Train acc :  0.7348 | Test loss :  0.2767 | Test acc : 0.9357 \n",
            "Epoch : 1 | train loss:  0.0909 | Train acc :  0.9787 | Test loss :  0.1042 | Test acc : 0.9708 \n",
            "Epoch : 2 | train loss:  0.0271 | Train acc :  0.9951 | Test loss :  0.0680 | Test acc : 0.9781 \n",
            "Epoch : 3 | train loss:  0.0161 | Train acc :  0.9975 | Test loss :  0.0562 | Test acc : 0.9804 \n",
            "Epoch : 4 | train loss:  0.0102 | Train acc :  0.9984 | Test loss :  0.0210 | Test acc : 0.9944 \n",
            "Epoch : 5 | train loss:  0.0084 | Train acc :  0.9985 | Test loss :  0.0219 | Test acc : 0.9940 \n",
            "Epoch : 6 | train loss:  0.0059 | Train acc :  0.9991 | Test loss :  0.0170 | Test acc : 0.9956 \n",
            "Epoch : 7 | train loss:  0.0052 | Train acc :  0.9994 | Test loss :  0.0095 | Test acc : 0.9996 \n",
            "Total training time : 68.760 seconds\n"
          ]
        }
      ]
    },
    {
      "cell_type": "code",
      "source": [
        "image, label = test_dataset[100]"
      ],
      "metadata": {
        "id": "izpzpwrjqh24"
      },
      "execution_count": 88,
      "outputs": []
    },
    {
      "cell_type": "code",
      "source": [
        "plt.imshow(image.permute(1,2,0))\n",
        "plt.title(classes[label])\n",
        "plt.axis(False)"
      ],
      "metadata": {
        "id": "HpVGF1vtqnG6",
        "colab": {
          "base_uri": "https://localhost:8080/",
          "height": 281
        },
        "outputId": "42c88850-e295-4685-f92b-770853d0fe4e"
      },
      "execution_count": 89,
      "outputs": [
        {
          "output_type": "execute_result",
          "data": {
            "text/plain": [
              "(-0.5, 27.5, 27.5, -0.5)"
            ]
          },
          "metadata": {},
          "execution_count": 89
        },
        {
          "output_type": "display_data",
          "data": {
            "text/plain": [
              "<Figure size 432x288 with 1 Axes>"
            ],
            "image/png": "[encoded data removed]"
          },
          "metadata": {
            "needs_background": "light"
          }
        }
      ]
    },
    {
      "cell_type": "code",
      "source": [
        "logits = model_1(image.to(device).unsqueeze(0))\n",
        "logits"
      ],
      "metadata": {
        "id": "pe0UtZfg5noe",
        "colab": {
          "base_uri": "https://localhost:8080/"
        },
        "outputId": "049dd55f-ce7d-4744-801d-4c69ede2661c"
      },
      "execution_count": 90,
      "outputs": [
        {
          "output_type": "execute_result",
          "data": {
            "text/plain": [
              "tensor([[ 1.9898,  1.1996, -2.5047,  5.6780, -0.5675,  5.8624, -2.0583, -1.6163,\n",
              "          9.7372, -6.7800, -1.8443,  4.9011, -3.4241, -3.4828, -2.5395, -2.3343,\n",
              "         -0.3610, -1.9007,  0.0497,  4.4653, -2.4775,  3.7025,  1.6677, -3.0425,\n",
              "          4.5955, -7.8072]], device='cuda:0', grad_fn=<AddmmBackward0>)"
            ]
          },
          "metadata": {},
          "execution_count": 90
        }
      ]
    },
    {
      "cell_type": "code",
      "source": [
        "pred_prob = torch.softmax(logits,dim=1)\n",
        "pred_prob"
      ],
      "metadata": {
        "id": "PV1R6Qwa7kkd",
        "colab": {
          "base_uri": "https://localhost:8080/"
        },
        "outputId": "eb613e2e-8f54-4969-9b92-a95c1cec404c"
      },
      "execution_count": 91,
      "outputs": [
        {
          "output_type": "execute_result",
          "data": {
            "text/plain": [
              "tensor([[4.0724e-04, 1.8478e-04, 4.5488e-06, 1.6278e-02, 3.1566e-05, 1.9575e-02,\n",
              "         7.1084e-06, 1.1060e-05, 9.4297e-01, 6.3265e-08, 8.8048e-06, 7.4853e-03,\n",
              "         1.8140e-06, 1.7105e-06, 4.3934e-06, 5.3941e-06, 3.8808e-05, 8.3218e-06,\n",
              "         5.8517e-05, 4.8409e-03, 4.6742e-06, 2.2576e-03, 2.9511e-04, 2.6566e-06,\n",
              "         5.5142e-03, 2.2649e-08]], device='cuda:0', grad_fn=<SoftmaxBackward0>)"
            ]
          },
          "metadata": {},
          "execution_count": 91
        }
      ]
    },
    {
      "cell_type": "code",
      "source": [
        "pred = torch.argmax(pred_prob,dim=1)\n",
        "pred"
      ],
      "metadata": {
        "id": "CXN_2_t77syt",
        "colab": {
          "base_uri": "https://localhost:8080/"
        },
        "outputId": "41aa0673-d2f9-4ae3-d15e-496b94cb2ef8"
      },
      "execution_count": 92,
      "outputs": [
        {
          "output_type": "execute_result",
          "data": {
            "text/plain": [
              "tensor([8], device='cuda:0')"
            ]
          },
          "metadata": {},
          "execution_count": 92
        }
      ]
    },
    {
      "cell_type": "code",
      "source": [
        "classes[pred]"
      ],
      "metadata": {
        "id": "hm8epUkP8DCh",
        "colab": {
          "base_uri": "https://localhost:8080/",
          "height": 35
        },
        "outputId": "cc9a6055-e227-4c43-c081-2fc0e5973c3a"
      },
      "execution_count": 93,
      "outputs": [
        {
          "output_type": "execute_result",
          "data": {
            "text/plain": [
              "'I'"
            ],
            "application/vnd.google.colaboratory.intrinsic+json": {
              "type": "string"
            }
          },
          "metadata": {},
          "execution_count": 93
        }
      ]
    },
    {
      "cell_type": "code",
      "source": [
        "def make_predictions(model: torch.nn.Module,\n",
        "                     data: list,\n",
        "                     device: torch.device = device):\n",
        "  preds = []\n",
        "  for image in data:\n",
        "    logits = model(image.to(device).unsqueeze(0))\n",
        "    pred_prob = torch.softmax(logits,dim=1)\n",
        "    pred = torch.argmax(pred_prob,dim=1)\n",
        "    preds.append(pred)\n",
        "\n",
        "  return preds\n"
      ],
      "metadata": {
        "id": "tYWC5U5s8w2N"
      },
      "execution_count": 94,
      "outputs": []
    },
    {
      "cell_type": "code",
      "source": [
        "import random \n",
        "\n",
        "test_samples = []\n",
        "test_labels = []\n",
        "\n",
        "for sample, label in random.sample(list(test_dataset),k=20):\n",
        "  test_samples.append(sample)\n",
        "  test_labels.append(label)"
      ],
      "metadata": {
        "id": "WLPNjiRDCuX2"
      },
      "execution_count": 98,
      "outputs": []
    },
    {
      "cell_type": "code",
      "source": [
        "preds = make_predictions(model=model_1,\n",
        "                             data=test_samples)\n",
        "preds"
      ],
      "metadata": {
        "id": "cXkzakx9i-IM",
        "colab": {
          "base_uri": "https://localhost:8080/"
        },
        "outputId": "b4d99af9-c60e-4307-e676-315b32089c91"
      },
      "execution_count": 99,
      "outputs": [
        {
          "output_type": "execute_result",
          "data": {
            "text/plain": [
              "[tensor([21], device='cuda:0'),\n",
              " tensor([15], device='cuda:0'),\n",
              " tensor([24], device='cuda:0'),\n",
              " tensor([16], device='cuda:0'),\n",
              " tensor([6], device='cuda:0'),\n",
              " tensor([11], device='cuda:0'),\n",
              " tensor([13], device='cuda:0'),\n",
              " tensor([1], device='cuda:0'),\n",
              " tensor([20], device='cuda:0'),\n",
              " tensor([4], device='cuda:0'),\n",
              " tensor([19], device='cuda:0'),\n",
              " tensor([24], device='cuda:0'),\n",
              " tensor([0], device='cuda:0'),\n",
              " tensor([24], device='cuda:0'),\n",
              " tensor([21], device='cuda:0'),\n",
              " tensor([23], device='cuda:0'),\n",
              " tensor([15], device='cuda:0'),\n",
              " tensor([15], device='cuda:0'),\n",
              " tensor([11], device='cuda:0'),\n",
              " tensor([23], device='cuda:0')]"
            ]
          },
          "metadata": {},
          "execution_count": 99
        }
      ]
    },
    {
      "cell_type": "code",
      "source": [
        "#Plot predictions \n",
        "plt.figure(figsize=(9,9))\n",
        "nrows = 5 \n",
        "ncols = 4 \n",
        "for i, sample in enumerate(test_samples):\n",
        "  #create subplot \n",
        "  plt.subplot(nrows,ncols,i+1)\n",
        "  #plot target image \n",
        "  plt.imshow(sample.permute(1,2,0))\n",
        "  #find the prediction label in text form\n",
        "  pred_label = classes[preds[i]]\n",
        "  # Get the truth label in text form \n",
        "  truth_label = classes[test_labels[i]]\n",
        "  #Create a title for the plot \n",
        "  title_text = f\"Pred : {pred_label} | Truth: {truth_label}\"\n",
        "  #Check for equality between pred and truth and color of title text\n",
        "  if pred_label == truth_label: \n",
        "    plt.title(title_text,fontsize=10,c=\"g\")\n",
        "  else: \n",
        "    plt.title(title_text,fontsize=10,c=\"r\")\n",
        "  plt.axis(False)"
      ],
      "metadata": {
        "id": "e42e0iZkoJL4",
        "colab": {
          "base_uri": "https://localhost:8080/",
          "height": 534
        },
        "outputId": "00283eb9-f0e3-47f5-e74a-eee1f9e36091"
      },
      "execution_count": 102,
      "outputs": [
        {
          "output_type": "display_data",
          "data": {
            "text/plain": [
              "<Figure size 648x648 with 20 Axes>"
            ],
            "image/png": "[encoded data removed]"
          },
          "metadata": {
            "needs_background": "light"
          }
        }
      ]
    },
    {
      "cell_type": "code",
      "source": [],
      "metadata": {
        "id": "JZHJp5QAscbQ"
      },
      "execution_count": null,
      "outputs": []
    }
  ]
}