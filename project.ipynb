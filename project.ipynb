{
  "nbformat": 4,
  "nbformat_minor": 0,
  "metadata": {
    "colab": {
      "provenance": [],
      "include_colab_link": true
    },
    "kernelspec": {
      "name": "python3",
      "display_name": "Python 3"
    },
    "language_info": {
      "name": "python"
    },
    "accelerator": "GPU",
    "gpuClass": "standard",
    "widgets": {
      "application/vnd.jupyter.widget-state+json": {
        "8fb4268eaf5f47f2b1b60e6c99e73e79": {
          "model_module": "@jupyter-widgets/controls",
          "model_name": "HBoxModel",
          "model_module_version": "1.5.0",
          "state": {
            "_dom_classes": [],
            "_model_module": "@jupyter-widgets/controls",
            "_model_module_version": "1.5.0",
            "_model_name": "HBoxModel",
            "_view_count": null,
            "_view_module": "@jupyter-widgets/controls",
            "_view_module_version": "1.5.0",
            "_view_name": "HBoxView",
            "box_style": "",
            "children": [
              "IPY_MODEL_8ba735f60ec948c58600dbb4b0e4bc45",
              "IPY_MODEL_15e53712f2c644b09aabb8eca22e7dfc",
              "IPY_MODEL_aade0c0fca8743639596a395c67b7716"
            ],
            "layout": "IPY_MODEL_336f4e89cc7142e585e8c5c0963fed4a"
          }
        },
        "8ba735f60ec948c58600dbb4b0e4bc45": {
          "model_module": "@jupyter-widgets/controls",
          "model_name": "HTMLModel",
          "model_module_version": "1.5.0",
          "state": {
            "_dom_classes": [],
            "_model_module": "@jupyter-widgets/controls",
            "_model_module_version": "1.5.0",
            "_model_name": "HTMLModel",
            "_view_count": null,
            "_view_module": "@jupyter-widgets/controls",
            "_view_module_version": "1.5.0",
            "_view_name": "HTMLView",
            "description": "",
            "description_tooltip": null,
            "layout": "IPY_MODEL_600bedde4ada4504895cc84734dcc956",
            "placeholder": "​",
            "style": "IPY_MODEL_e034ea57fcbd407eb01fe550288768e8",
            "value": "100%"
          }
        },
        "15e53712f2c644b09aabb8eca22e7dfc": {
          "model_module": "@jupyter-widgets/controls",
          "model_name": "FloatProgressModel",
          "model_module_version": "1.5.0",
          "state": {
            "_dom_classes": [],
            "_model_module": "@jupyter-widgets/controls",
            "_model_module_version": "1.5.0",
            "_model_name": "FloatProgressModel",
            "_view_count": null,
            "_view_module": "@jupyter-widgets/controls",
            "_view_module_version": "1.5.0",
            "_view_name": "ProgressView",
            "bar_style": "success",
            "description": "",
            "description_tooltip": null,
            "layout": "IPY_MODEL_c3b677ce23f548d09fdd4eea35667022",
            "max": 8,
            "min": 0,
            "orientation": "horizontal",
            "style": "IPY_MODEL_e1709950f05f494f8f6dec205757082e",
            "value": 8
          }
        },
        "aade0c0fca8743639596a395c67b7716": {
          "model_module": "@jupyter-widgets/controls",
          "model_name": "HTMLModel",
          "model_module_version": "1.5.0",
          "state": {
            "_dom_classes": [],
            "_model_module": "@jupyter-widgets/controls",
            "_model_module_version": "1.5.0",
            "_model_name": "HTMLModel",
            "_view_count": null,
            "_view_module": "@jupyter-widgets/controls",
            "_view_module_version": "1.5.0",
            "_view_name": "HTMLView",
            "description": "",
            "description_tooltip": null,
            "layout": "IPY_MODEL_157f4bc27f8044df9ab7ac55c449399f",
            "placeholder": "​",
            "style": "IPY_MODEL_3cdbbeefb9784f4b9eae25a044de75f7",
            "value": " 8/8 [01:11&lt;00:00,  8.20s/it]"
          }
        },
        "336f4e89cc7142e585e8c5c0963fed4a": {
          "model_module": "@jupyter-widgets/base",
          "model_name": "LayoutModel",
          "model_module_version": "1.2.0",
          "state": {
            "_model_module": "@jupyter-widgets/base",
            "_model_module_version": "1.2.0",
            "_model_name": "LayoutModel",
            "_view_count": null,
            "_view_module": "@jupyter-widgets/base",
            "_view_module_version": "1.2.0",
            "_view_name": "LayoutView",
            "align_content": null,
            "align_items": null,
            "align_self": null,
            "border": null,
            "bottom": null,
            "display": null,
            "flex": null,
            "flex_flow": null,
            "grid_area": null,
            "grid_auto_columns": null,
            "grid_auto_flow": null,
            "grid_auto_rows": null,
            "grid_column": null,
            "grid_gap": null,
            "grid_row": null,
            "grid_template_areas": null,
            "grid_template_columns": null,
            "grid_template_rows": null,
            "height": null,
            "justify_content": null,
            "justify_items": null,
            "left": null,
            "margin": null,
            "max_height": null,
            "max_width": null,
            "min_height": null,
            "min_width": null,
            "object_fit": null,
            "object_position": null,
            "order": null,
            "overflow": null,
            "overflow_x": null,
            "overflow_y": null,
            "padding": null,
            "right": null,
            "top": null,
            "visibility": null,
            "width": null
          }
        },
        "600bedde4ada4504895cc84734dcc956": {
          "model_module": "@jupyter-widgets/base",
          "model_name": "LayoutModel",
          "model_module_version": "1.2.0",
          "state": {
            "_model_module": "@jupyter-widgets/base",
            "_model_module_version": "1.2.0",
            "_model_name": "LayoutModel",
            "_view_count": null,
            "_view_module": "@jupyter-widgets/base",
            "_view_module_version": "1.2.0",
            "_view_name": "LayoutView",
            "align_content": null,
            "align_items": null,
            "align_self": null,
            "border": null,
            "bottom": null,
            "display": null,
            "flex": null,
            "flex_flow": null,
            "grid_area": null,
            "grid_auto_columns": null,
            "grid_auto_flow": null,
            "grid_auto_rows": null,
            "grid_column": null,
            "grid_gap": null,
            "grid_row": null,
            "grid_template_areas": null,
            "grid_template_columns": null,
            "grid_template_rows": null,
            "height": null,
            "justify_content": null,
            "justify_items": null,
            "left": null,
            "margin": null,
            "max_height": null,
            "max_width": null,
            "min_height": null,
            "min_width": null,
            "object_fit": null,
            "object_position": null,
            "order": null,
            "overflow": null,
            "overflow_x": null,
            "overflow_y": null,
            "padding": null,
            "right": null,
            "top": null,
            "visibility": null,
            "width": null
          }
        },
        "e034ea57fcbd407eb01fe550288768e8": {
          "model_module": "@jupyter-widgets/controls",
          "model_name": "DescriptionStyleModel",
          "model_module_version": "1.5.0",
          "state": {
            "_model_module": "@jupyter-widgets/controls",
            "_model_module_version": "1.5.0",
            "_model_name": "DescriptionStyleModel",
            "_view_count": null,
            "_view_module": "@jupyter-widgets/base",
            "_view_module_version": "1.2.0",
            "_view_name": "StyleView",
            "description_width": ""
          }
        },
        "c3b677ce23f548d09fdd4eea35667022": {
          "model_module": "@jupyter-widgets/base",
          "model_name": "LayoutModel",
          "model_module_version": "1.2.0",
          "state": {
            "_model_module": "@jupyter-widgets/base",
            "_model_module_version": "1.2.0",
            "_model_name": "LayoutModel",
            "_view_count": null,
            "_view_module": "@jupyter-widgets/base",
            "_view_module_version": "1.2.0",
            "_view_name": "LayoutView",
            "align_content": null,
            "align_items": null,
            "align_self": null,
            "border": null,
            "bottom": null,
            "display": null,
            "flex": null,
            "flex_flow": null,
            "grid_area": null,
            "grid_auto_columns": null,
            "grid_auto_flow": null,
            "grid_auto_rows": null,
            "grid_column": null,
            "grid_gap": null,
            "grid_row": null,
            "grid_template_areas": null,
            "grid_template_columns": null,
            "grid_template_rows": null,
            "height": null,
            "justify_content": null,
            "justify_items": null,
            "left": null,
            "margin": null,
            "max_height": null,
            "max_width": null,
            "min_height": null,
            "min_width": null,
            "object_fit": null,
            "object_position": null,
            "order": null,
            "overflow": null,
            "overflow_x": null,
            "overflow_y": null,
            "padding": null,
            "right": null,
            "top": null,
            "visibility": null,
            "width": null
          }
        },
        "e1709950f05f494f8f6dec205757082e": {
          "model_module": "@jupyter-widgets/controls",
          "model_name": "ProgressStyleModel",
          "model_module_version": "1.5.0",
          "state": {
            "_model_module": "@jupyter-widgets/controls",
            "_model_module_version": "1.5.0",
            "_model_name": "ProgressStyleModel",
            "_view_count": null,
            "_view_module": "@jupyter-widgets/base",
            "_view_module_version": "1.2.0",
            "_view_name": "StyleView",
            "bar_color": null,
            "description_width": ""
          }
        },
        "157f4bc27f8044df9ab7ac55c449399f": {
          "model_module": "@jupyter-widgets/base",
          "model_name": "LayoutModel",
          "model_module_version": "1.2.0",
          "state": {
            "_model_module": "@jupyter-widgets/base",
            "_model_module_version": "1.2.0",
            "_model_name": "LayoutModel",
            "_view_count": null,
            "_view_module": "@jupyter-widgets/base",
            "_view_module_version": "1.2.0",
            "_view_name": "LayoutView",
            "align_content": null,
            "align_items": null,
            "align_self": null,
            "border": null,
            "bottom": null,
            "display": null,
            "flex": null,
            "flex_flow": null,
            "grid_area": null,
            "grid_auto_columns": null,
            "grid_auto_flow": null,
            "grid_auto_rows": null,
            "grid_column": null,
            "grid_gap": null,
            "grid_row": null,
            "grid_template_areas": null,
            "grid_template_columns": null,
            "grid_template_rows": null,
            "height": null,
            "justify_content": null,
            "justify_items": null,
            "left": null,
            "margin": null,
            "max_height": null,
            "max_width": null,
            "min_height": null,
            "min_width": null,
            "object_fit": null,
            "object_position": null,
            "order": null,
            "overflow": null,
            "overflow_x": null,
            "overflow_y": null,
            "padding": null,
            "right": null,
            "top": null,
            "visibility": null,
            "width": null
          }
        },
        "3cdbbeefb9784f4b9eae25a044de75f7": {
          "model_module": "@jupyter-widgets/controls",
          "model_name": "DescriptionStyleModel",
          "model_module_version": "1.5.0",
          "state": {
            "_model_module": "@jupyter-widgets/controls",
            "_model_module_version": "1.5.0",
            "_model_name": "DescriptionStyleModel",
            "_view_count": null,
            "_view_module": "@jupyter-widgets/base",
            "_view_module_version": "1.2.0",
            "_view_name": "StyleView",
            "description_width": ""
          }
        },
        "692d8f22de17480d92f3aac2466b2894": {
          "model_module": "@jupyter-widgets/controls",
          "model_name": "HBoxModel",
          "model_module_version": "1.5.0",
          "state": {
            "_dom_classes": [],
            "_model_module": "@jupyter-widgets/controls",
            "_model_module_version": "1.5.0",
            "_model_name": "HBoxModel",
            "_view_count": null,
            "_view_module": "@jupyter-widgets/controls",
            "_view_module_version": "1.5.0",
            "_view_name": "HBoxView",
            "box_style": "",
            "children": [
              "IPY_MODEL_c12019d64e6447f980f7eada46d3134b",
              "IPY_MODEL_69851e3e3c7a4dd88818d0f2345304f0",
              "IPY_MODEL_00c3d0d74ff340d18a4f270830c31f2b"
            ],
            "layout": "IPY_MODEL_31b11aacbb0b4962a0b06e942f5563bf"
          }
        },
        "c12019d64e6447f980f7eada46d3134b": {
          "model_module": "@jupyter-widgets/controls",
          "model_name": "HTMLModel",
          "model_module_version": "1.5.0",
          "state": {
            "_dom_classes": [],
            "_model_module": "@jupyter-widgets/controls",
            "_model_module_version": "1.5.0",
            "_model_name": "HTMLModel",
            "_view_count": null,
            "_view_module": "@jupyter-widgets/controls",
            "_view_module_version": "1.5.0",
            "_view_name": "HTMLView",
            "description": "",
            "description_tooltip": null,
            "layout": "IPY_MODEL_931d2d42f78d428db1018d19a738fa49",
            "placeholder": "​",
            "style": "IPY_MODEL_adfc45bbf98d47208ed23b1aa18149c8",
            "value": "100%"
          }
        },
        "69851e3e3c7a4dd88818d0f2345304f0": {
          "model_module": "@jupyter-widgets/controls",
          "model_name": "FloatProgressModel",
          "model_module_version": "1.5.0",
          "state": {
            "_dom_classes": [],
            "_model_module": "@jupyter-widgets/controls",
            "_model_module_version": "1.5.0",
            "_model_name": "FloatProgressModel",
            "_view_count": null,
            "_view_module": "@jupyter-widgets/controls",
            "_view_module_version": "1.5.0",
            "_view_name": "ProgressView",
            "bar_style": "success",
            "description": "",
            "description_tooltip": null,
            "layout": "IPY_MODEL_d7dc355f333f4ed4943af0df25a2500b",
            "max": 8,
            "min": 0,
            "orientation": "horizontal",
            "style": "IPY_MODEL_712a19c36928468bb61260e22a45c444",
            "value": 8
          }
        },
        "00c3d0d74ff340d18a4f270830c31f2b": {
          "model_module": "@jupyter-widgets/controls",
          "model_name": "HTMLModel",
          "model_module_version": "1.5.0",
          "state": {
            "_dom_classes": [],
            "_model_module": "@jupyter-widgets/controls",
            "_model_module_version": "1.5.0",
            "_model_name": "HTMLModel",
            "_view_count": null,
            "_view_module": "@jupyter-widgets/controls",
            "_view_module_version": "1.5.0",
            "_view_name": "HTMLView",
            "description": "",
            "description_tooltip": null,
            "layout": "IPY_MODEL_8ca6c714226445f1a5ad5d712363ec2f",
            "placeholder": "​",
            "style": "IPY_MODEL_a30afb00e2784dae9966783cbd59e828",
            "value": " 8/8 [00:20&lt;00:00,  2.58s/it]"
          }
        },
        "31b11aacbb0b4962a0b06e942f5563bf": {
          "model_module": "@jupyter-widgets/base",
          "model_name": "LayoutModel",
          "model_module_version": "1.2.0",
          "state": {
            "_model_module": "@jupyter-widgets/base",
            "_model_module_version": "1.2.0",
            "_model_name": "LayoutModel",
            "_view_count": null,
            "_view_module": "@jupyter-widgets/base",
            "_view_module_version": "1.2.0",
            "_view_name": "LayoutView",
            "align_content": null,
            "align_items": null,
            "align_self": null,
            "border": null,
            "bottom": null,
            "display": null,
            "flex": null,
            "flex_flow": null,
            "grid_area": null,
            "grid_auto_columns": null,
            "grid_auto_flow": null,
            "grid_auto_rows": null,
            "grid_column": null,
            "grid_gap": null,
            "grid_row": null,
            "grid_template_areas": null,
            "grid_template_columns": null,
            "grid_template_rows": null,
            "height": null,
            "justify_content": null,
            "justify_items": null,
            "left": null,
            "margin": null,
            "max_height": null,
            "max_width": null,
            "min_height": null,
            "min_width": null,
            "object_fit": null,
            "object_position": null,
            "order": null,
            "overflow": null,
            "overflow_x": null,
            "overflow_y": null,
            "padding": null,
            "right": null,
            "top": null,
            "visibility": null,
            "width": null
          }
        },
        "931d2d42f78d428db1018d19a738fa49": {
          "model_module": "@jupyter-widgets/base",
          "model_name": "LayoutModel",
          "model_module_version": "1.2.0",
          "state": {
            "_model_module": "@jupyter-widgets/base",
            "_model_module_version": "1.2.0",
            "_model_name": "LayoutModel",
            "_view_count": null,
            "_view_module": "@jupyter-widgets/base",
            "_view_module_version": "1.2.0",
            "_view_name": "LayoutView",
            "align_content": null,
            "align_items": null,
            "align_self": null,
            "border": null,
            "bottom": null,
            "display": null,
            "flex": null,
            "flex_flow": null,
            "grid_area": null,
            "grid_auto_columns": null,
            "grid_auto_flow": null,
            "grid_auto_rows": null,
            "grid_column": null,
            "grid_gap": null,
            "grid_row": null,
            "grid_template_areas": null,
            "grid_template_columns": null,
            "grid_template_rows": null,
            "height": null,
            "justify_content": null,
            "justify_items": null,
            "left": null,
            "margin": null,
            "max_height": null,
            "max_width": null,
            "min_height": null,
            "min_width": null,
            "object_fit": null,
            "object_position": null,
            "order": null,
            "overflow": null,
            "overflow_x": null,
            "overflow_y": null,
            "padding": null,
            "right": null,
            "top": null,
            "visibility": null,
            "width": null
          }
        },
        "adfc45bbf98d47208ed23b1aa18149c8": {
          "model_module": "@jupyter-widgets/controls",
          "model_name": "DescriptionStyleModel",
          "model_module_version": "1.5.0",
          "state": {
            "_model_module": "@jupyter-widgets/controls",
            "_model_module_version": "1.5.0",
            "_model_name": "DescriptionStyleModel",
            "_view_count": null,
            "_view_module": "@jupyter-widgets/base",
            "_view_module_version": "1.2.0",
            "_view_name": "StyleView",
            "description_width": ""
          }
        },
        "d7dc355f333f4ed4943af0df25a2500b": {
          "model_module": "@jupyter-widgets/base",
          "model_name": "LayoutModel",
          "model_module_version": "1.2.0",
          "state": {
            "_model_module": "@jupyter-widgets/base",
            "_model_module_version": "1.2.0",
            "_model_name": "LayoutModel",
            "_view_count": null,
            "_view_module": "@jupyter-widgets/base",
            "_view_module_version": "1.2.0",
            "_view_name": "LayoutView",
            "align_content": null,
            "align_items": null,
            "align_self": null,
            "border": null,
            "bottom": null,
            "display": null,
            "flex": null,
            "flex_flow": null,
            "grid_area": null,
            "grid_auto_columns": null,
            "grid_auto_flow": null,
            "grid_auto_rows": null,
            "grid_column": null,
            "grid_gap": null,
            "grid_row": null,
            "grid_template_areas": null,
            "grid_template_columns": null,
            "grid_template_rows": null,
            "height": null,
            "justify_content": null,
            "justify_items": null,
            "left": null,
            "margin": null,
            "max_height": null,
            "max_width": null,
            "min_height": null,
            "min_width": null,
            "object_fit": null,
            "object_position": null,
            "order": null,
            "overflow": null,
            "overflow_x": null,
            "overflow_y": null,
            "padding": null,
            "right": null,
            "top": null,
            "visibility": null,
            "width": null
          }
        },
        "712a19c36928468bb61260e22a45c444": {
          "model_module": "@jupyter-widgets/controls",
          "model_name": "ProgressStyleModel",
          "model_module_version": "1.5.0",
          "state": {
            "_model_module": "@jupyter-widgets/controls",
            "_model_module_version": "1.5.0",
            "_model_name": "ProgressStyleModel",
            "_view_count": null,
            "_view_module": "@jupyter-widgets/base",
            "_view_module_version": "1.2.0",
            "_view_name": "StyleView",
            "bar_color": null,
            "description_width": ""
          }
        },
        "8ca6c714226445f1a5ad5d712363ec2f": {
          "model_module": "@jupyter-widgets/base",
          "model_name": "LayoutModel",
          "model_module_version": "1.2.0",
          "state": {
            "_model_module": "@jupyter-widgets/base",
            "_model_module_version": "1.2.0",
            "_model_name": "LayoutModel",
            "_view_count": null,
            "_view_module": "@jupyter-widgets/base",
            "_view_module_version": "1.2.0",
            "_view_name": "LayoutView",
            "align_content": null,
            "align_items": null,
            "align_self": null,
            "border": null,
            "bottom": null,
            "display": null,
            "flex": null,
            "flex_flow": null,
            "grid_area": null,
            "grid_auto_columns": null,
            "grid_auto_flow": null,
            "grid_auto_rows": null,
            "grid_column": null,
            "grid_gap": null,
            "grid_row": null,
            "grid_template_areas": null,
            "grid_template_columns": null,
            "grid_template_rows": null,
            "height": null,
            "justify_content": null,
            "justify_items": null,
            "left": null,
            "margin": null,
            "max_height": null,
            "max_width": null,
            "min_height": null,
            "min_width": null,
            "object_fit": null,
            "object_position": null,
            "order": null,
            "overflow": null,
            "overflow_x": null,
            "overflow_y": null,
            "padding": null,
            "right": null,
            "top": null,
            "visibility": null,
            "width": null
          }
        },
        "a30afb00e2784dae9966783cbd59e828": {
          "model_module": "@jupyter-widgets/controls",
          "model_name": "DescriptionStyleModel",
          "model_module_version": "1.5.0",
          "state": {
            "_model_module": "@jupyter-widgets/controls",
            "_model_module_version": "1.5.0",
            "_model_name": "DescriptionStyleModel",
            "_view_count": null,
            "_view_module": "@jupyter-widgets/base",
            "_view_module_version": "1.2.0",
            "_view_name": "StyleView",
            "description_width": ""
          }
        },
        "fcb47226d1e54ce882cbc765cf614380": {
          "model_module": "@jupyter-widgets/controls",
          "model_name": "HBoxModel",
          "model_module_version": "1.5.0",
          "state": {
            "_dom_classes": [],
            "_model_module": "@jupyter-widgets/controls",
            "_model_module_version": "1.5.0",
            "_model_name": "HBoxModel",
            "_view_count": null,
            "_view_module": "@jupyter-widgets/controls",
            "_view_module_version": "1.5.0",
            "_view_name": "HBoxView",
            "box_style": "",
            "children": [
              "IPY_MODEL_5492862b227e4ec1b93d709fd6f26a2c",
              "IPY_MODEL_dff704cd12204e08adf133fef3f48e48",
              "IPY_MODEL_9aa02bc988904bdd9403f768c90be123"
            ],
            "layout": "IPY_MODEL_65a846af72c2446d9b708cd2dc44d16f"
          }
        },
        "5492862b227e4ec1b93d709fd6f26a2c": {
          "model_module": "@jupyter-widgets/controls",
          "model_name": "HTMLModel",
          "model_module_version": "1.5.0",
          "state": {
            "_dom_classes": [],
            "_model_module": "@jupyter-widgets/controls",
            "_model_module_version": "1.5.0",
            "_model_name": "HTMLModel",
            "_view_count": null,
            "_view_module": "@jupyter-widgets/controls",
            "_view_module_version": "1.5.0",
            "_view_name": "HTMLView",
            "description": "",
            "description_tooltip": null,
            "layout": "IPY_MODEL_7b6c2eae365042a9b562e963c23e3c4a",
            "placeholder": "​",
            "style": "IPY_MODEL_a8cba1c433e24e999a46a0fb2fae2371",
            "value": "100%"
          }
        },
        "dff704cd12204e08adf133fef3f48e48": {
          "model_module": "@jupyter-widgets/controls",
          "model_name": "FloatProgressModel",
          "model_module_version": "1.5.0",
          "state": {
            "_dom_classes": [],
            "_model_module": "@jupyter-widgets/controls",
            "_model_module_version": "1.5.0",
            "_model_name": "FloatProgressModel",
            "_view_count": null,
            "_view_module": "@jupyter-widgets/controls",
            "_view_module_version": "1.5.0",
            "_view_name": "ProgressView",
            "bar_style": "success",
            "description": "",
            "description_tooltip": null,
            "layout": "IPY_MODEL_5c7c1979264646e995c1a46cab42290a",
            "max": 8,
            "min": 0,
            "orientation": "horizontal",
            "style": "IPY_MODEL_2dfc2f01490845fab807641688aae17b",
            "value": 8
          }
        },
        "9aa02bc988904bdd9403f768c90be123": {
          "model_module": "@jupyter-widgets/controls",
          "model_name": "HTMLModel",
          "model_module_version": "1.5.0",
          "state": {
            "_dom_classes": [],
            "_model_module": "@jupyter-widgets/controls",
            "_model_module_version": "1.5.0",
            "_model_name": "HTMLModel",
            "_view_count": null,
            "_view_module": "@jupyter-widgets/controls",
            "_view_module_version": "1.5.0",
            "_view_name": "HTMLView",
            "description": "",
            "description_tooltip": null,
            "layout": "IPY_MODEL_e791a59095cf4958a93710c1c3aa52ad",
            "placeholder": "​",
            "style": "IPY_MODEL_cdfef5ecd5d4415094f24e00e61cdb89",
            "value": " 8/8 [00:20&lt;00:00,  2.54s/it]"
          }
        },
        "65a846af72c2446d9b708cd2dc44d16f": {
          "model_module": "@jupyter-widgets/base",
          "model_name": "LayoutModel",
          "model_module_version": "1.2.0",
          "state": {
            "_model_module": "@jupyter-widgets/base",
            "_model_module_version": "1.2.0",
            "_model_name": "LayoutModel",
            "_view_count": null,
            "_view_module": "@jupyter-widgets/base",
            "_view_module_version": "1.2.0",
            "_view_name": "LayoutView",
            "align_content": null,
            "align_items": null,
            "align_self": null,
            "border": null,
            "bottom": null,
            "display": null,
            "flex": null,
            "flex_flow": null,
            "grid_area": null,
            "grid_auto_columns": null,
            "grid_auto_flow": null,
            "grid_auto_rows": null,
            "grid_column": null,
            "grid_gap": null,
            "grid_row": null,
            "grid_template_areas": null,
            "grid_template_columns": null,
            "grid_template_rows": null,
            "height": null,
            "justify_content": null,
            "justify_items": null,
            "left": null,
            "margin": null,
            "max_height": null,
            "max_width": null,
            "min_height": null,
            "min_width": null,
            "object_fit": null,
            "object_position": null,
            "order": null,
            "overflow": null,
            "overflow_x": null,
            "overflow_y": null,
            "padding": null,
            "right": null,
            "top": null,
            "visibility": null,
            "width": null
          }
        },
        "7b6c2eae365042a9b562e963c23e3c4a": {
          "model_module": "@jupyter-widgets/base",
          "model_name": "LayoutModel",
          "model_module_version": "1.2.0",
          "state": {
            "_model_module": "@jupyter-widgets/base",
            "_model_module_version": "1.2.0",
            "_model_name": "LayoutModel",
            "_view_count": null,
            "_view_module": "@jupyter-widgets/base",
            "_view_module_version": "1.2.0",
            "_view_name": "LayoutView",
            "align_content": null,
            "align_items": null,
            "align_self": null,
            "border": null,
            "bottom": null,
            "display": null,
            "flex": null,
            "flex_flow": null,
            "grid_area": null,
            "grid_auto_columns": null,
            "grid_auto_flow": null,
            "grid_auto_rows": null,
            "grid_column": null,
            "grid_gap": null,
            "grid_row": null,
            "grid_template_areas": null,
            "grid_template_columns": null,
            "grid_template_rows": null,
            "height": null,
            "justify_content": null,
            "justify_items": null,
            "left": null,
            "margin": null,
            "max_height": null,
            "max_width": null,
            "min_height": null,
            "min_width": null,
            "object_fit": null,
            "object_position": null,
            "order": null,
            "overflow": null,
            "overflow_x": null,
            "overflow_y": null,
            "padding": null,
            "right": null,
            "top": null,
            "visibility": null,
            "width": null
          }
        },
        "a8cba1c433e24e999a46a0fb2fae2371": {
          "model_module": "@jupyter-widgets/controls",
          "model_name": "DescriptionStyleModel",
          "model_module_version": "1.5.0",
          "state": {
            "_model_module": "@jupyter-widgets/controls",
            "_model_module_version": "1.5.0",
            "_model_name": "DescriptionStyleModel",
            "_view_count": null,
            "_view_module": "@jupyter-widgets/base",
            "_view_module_version": "1.2.0",
            "_view_name": "StyleView",
            "description_width": ""
          }
        },
        "5c7c1979264646e995c1a46cab42290a": {
          "model_module": "@jupyter-widgets/base",
          "model_name": "LayoutModel",
          "model_module_version": "1.2.0",
          "state": {
            "_model_module": "@jupyter-widgets/base",
            "_model_module_version": "1.2.0",
            "_model_name": "LayoutModel",
            "_view_count": null,
            "_view_module": "@jupyter-widgets/base",
            "_view_module_version": "1.2.0",
            "_view_name": "LayoutView",
            "align_content": null,
            "align_items": null,
            "align_self": null,
            "border": null,
            "bottom": null,
            "display": null,
            "flex": null,
            "flex_flow": null,
            "grid_area": null,
            "grid_auto_columns": null,
            "grid_auto_flow": null,
            "grid_auto_rows": null,
            "grid_column": null,
            "grid_gap": null,
            "grid_row": null,
            "grid_template_areas": null,
            "grid_template_columns": null,
            "grid_template_rows": null,
            "height": null,
            "justify_content": null,
            "justify_items": null,
            "left": null,
            "margin": null,
            "max_height": null,
            "max_width": null,
            "min_height": null,
            "min_width": null,
            "object_fit": null,
            "object_position": null,
            "order": null,
            "overflow": null,
            "overflow_x": null,
            "overflow_y": null,
            "padding": null,
            "right": null,
            "top": null,
            "visibility": null,
            "width": null
          }
        },
        "2dfc2f01490845fab807641688aae17b": {
          "model_module": "@jupyter-widgets/controls",
          "model_name": "ProgressStyleModel",
          "model_module_version": "1.5.0",
          "state": {
            "_model_module": "@jupyter-widgets/controls",
            "_model_module_version": "1.5.0",
            "_model_name": "ProgressStyleModel",
            "_view_count": null,
            "_view_module": "@jupyter-widgets/base",
            "_view_module_version": "1.2.0",
            "_view_name": "StyleView",
            "bar_color": null,
            "description_width": ""
          }
        },
        "e791a59095cf4958a93710c1c3aa52ad": {
          "model_module": "@jupyter-widgets/base",
          "model_name": "LayoutModel",
          "model_module_version": "1.2.0",
          "state": {
            "_model_module": "@jupyter-widgets/base",
            "_model_module_version": "1.2.0",
            "_model_name": "LayoutModel",
            "_view_count": null,
            "_view_module": "@jupyter-widgets/base",
            "_view_module_version": "1.2.0",
            "_view_name": "LayoutView",
            "align_content": null,
            "align_items": null,
            "align_self": null,
            "border": null,
            "bottom": null,
            "display": null,
            "flex": null,
            "flex_flow": null,
            "grid_area": null,
            "grid_auto_columns": null,
            "grid_auto_flow": null,
            "grid_auto_rows": null,
            "grid_column": null,
            "grid_gap": null,
            "grid_row": null,
            "grid_template_areas": null,
            "grid_template_columns": null,
            "grid_template_rows": null,
            "height": null,
            "justify_content": null,
            "justify_items": null,
            "left": null,
            "margin": null,
            "max_height": null,
            "max_width": null,
            "min_height": null,
            "min_width": null,
            "object_fit": null,
            "object_position": null,
            "order": null,
            "overflow": null,
            "overflow_x": null,
            "overflow_y": null,
            "padding": null,
            "right": null,
            "top": null,
            "visibility": null,
            "width": null
          }
        },
        "cdfef5ecd5d4415094f24e00e61cdb89": {
          "model_module": "@jupyter-widgets/controls",
          "model_name": "DescriptionStyleModel",
          "model_module_version": "1.5.0",
          "state": {
            "_model_module": "@jupyter-widgets/controls",
            "_model_module_version": "1.5.0",
            "_model_name": "DescriptionStyleModel",
            "_view_count": null,
            "_view_module": "@jupyter-widgets/base",
            "_view_module_version": "1.2.0",
            "_view_name": "StyleView",
            "description_width": ""
          }
        },
        "6bd2591337fa4ff4b6b4cc66e1e320cd": {
          "model_module": "@jupyter-widgets/controls",
          "model_name": "HBoxModel",
          "model_module_version": "1.5.0",
          "state": {
            "_dom_classes": [],
            "_model_module": "@jupyter-widgets/controls",
            "_model_module_version": "1.5.0",
            "_model_name": "HBoxModel",
            "_view_count": null,
            "_view_module": "@jupyter-widgets/controls",
            "_view_module_version": "1.5.0",
            "_view_name": "HBoxView",
            "box_style": "",
            "children": [
              "IPY_MODEL_11a42cf212e2460e9b120634c6bbf8e5",
              "IPY_MODEL_6ea8cc4158784f0381beae71bb4351df",
              "IPY_MODEL_8a47c80e83894f5fa98e5248e0d94ed3"
            ],
            "layout": "IPY_MODEL_576b7c7e86914f0bbef139f4fae3143f"
          }
        },
        "11a42cf212e2460e9b120634c6bbf8e5": {
          "model_module": "@jupyter-widgets/controls",
          "model_name": "HTMLModel",
          "model_module_version": "1.5.0",
          "state": {
            "_dom_classes": [],
            "_model_module": "@jupyter-widgets/controls",
            "_model_module_version": "1.5.0",
            "_model_name": "HTMLModel",
            "_view_count": null,
            "_view_module": "@jupyter-widgets/controls",
            "_view_module_version": "1.5.0",
            "_view_name": "HTMLView",
            "description": "",
            "description_tooltip": null,
            "layout": "IPY_MODEL_a329ad6c32bd440b9ea409d5e2a0bd80",
            "placeholder": "​",
            "style": "IPY_MODEL_bcb42ea186654310bf10f0d79a483208",
            "value": "100%"
          }
        },
        "6ea8cc4158784f0381beae71bb4351df": {
          "model_module": "@jupyter-widgets/controls",
          "model_name": "FloatProgressModel",
          "model_module_version": "1.5.0",
          "state": {
            "_dom_classes": [],
            "_model_module": "@jupyter-widgets/controls",
            "_model_module_version": "1.5.0",
            "_model_name": "FloatProgressModel",
            "_view_count": null,
            "_view_module": "@jupyter-widgets/controls",
            "_view_module_version": "1.5.0",
            "_view_name": "ProgressView",
            "bar_style": "success",
            "description": "",
            "description_tooltip": null,
            "layout": "IPY_MODEL_71fe5611434b4330bcdd1370589fbb51",
            "max": 8,
            "min": 0,
            "orientation": "horizontal",
            "style": "IPY_MODEL_a943c59fb67b4ee096fa8c6f48464d54",
            "value": 8
          }
        },
        "8a47c80e83894f5fa98e5248e0d94ed3": {
          "model_module": "@jupyter-widgets/controls",
          "model_name": "HTMLModel",
          "model_module_version": "1.5.0",
          "state": {
            "_dom_classes": [],
            "_model_module": "@jupyter-widgets/controls",
            "_model_module_version": "1.5.0",
            "_model_name": "HTMLModel",
            "_view_count": null,
            "_view_module": "@jupyter-widgets/controls",
            "_view_module_version": "1.5.0",
            "_view_name": "HTMLView",
            "description": "",
            "description_tooltip": null,
            "layout": "IPY_MODEL_98b4928d2c494f029b4a21e721327af5",
            "placeholder": "​",
            "style": "IPY_MODEL_ee028f877a3a4672aca5980949649de5",
            "value": " 8/8 [00:20&lt;00:00,  2.57s/it]"
          }
        },
        "576b7c7e86914f0bbef139f4fae3143f": {
          "model_module": "@jupyter-widgets/base",
          "model_name": "LayoutModel",
          "model_module_version": "1.2.0",
          "state": {
            "_model_module": "@jupyter-widgets/base",
            "_model_module_version": "1.2.0",
            "_model_name": "LayoutModel",
            "_view_count": null,
            "_view_module": "@jupyter-widgets/base",
            "_view_module_version": "1.2.0",
            "_view_name": "LayoutView",
            "align_content": null,
            "align_items": null,
            "align_self": null,
            "border": null,
            "bottom": null,
            "display": null,
            "flex": null,
            "flex_flow": null,
            "grid_area": null,
            "grid_auto_columns": null,
            "grid_auto_flow": null,
            "grid_auto_rows": null,
            "grid_column": null,
            "grid_gap": null,
            "grid_row": null,
            "grid_template_areas": null,
            "grid_template_columns": null,
            "grid_template_rows": null,
            "height": null,
            "justify_content": null,
            "justify_items": null,
            "left": null,
            "margin": null,
            "max_height": null,
            "max_width": null,
            "min_height": null,
            "min_width": null,
            "object_fit": null,
            "object_position": null,
            "order": null,
            "overflow": null,
            "overflow_x": null,
            "overflow_y": null,
            "padding": null,
            "right": null,
            "top": null,
            "visibility": null,
            "width": null
          }
        },
        "a329ad6c32bd440b9ea409d5e2a0bd80": {
          "model_module": "@jupyter-widgets/base",
          "model_name": "LayoutModel",
          "model_module_version": "1.2.0",
          "state": {
            "_model_module": "@jupyter-widgets/base",
            "_model_module_version": "1.2.0",
            "_model_name": "LayoutModel",
            "_view_count": null,
            "_view_module": "@jupyter-widgets/base",
            "_view_module_version": "1.2.0",
            "_view_name": "LayoutView",
            "align_content": null,
            "align_items": null,
            "align_self": null,
            "border": null,
            "bottom": null,
            "display": null,
            "flex": null,
            "flex_flow": null,
            "grid_area": null,
            "grid_auto_columns": null,
            "grid_auto_flow": null,
            "grid_auto_rows": null,
            "grid_column": null,
            "grid_gap": null,
            "grid_row": null,
            "grid_template_areas": null,
            "grid_template_columns": null,
            "grid_template_rows": null,
            "height": null,
            "justify_content": null,
            "justify_items": null,
            "left": null,
            "margin": null,
            "max_height": null,
            "max_width": null,
            "min_height": null,
            "min_width": null,
            "object_fit": null,
            "object_position": null,
            "order": null,
            "overflow": null,
            "overflow_x": null,
            "overflow_y": null,
            "padding": null,
            "right": null,
            "top": null,
            "visibility": null,
            "width": null
          }
        },
        "bcb42ea186654310bf10f0d79a483208": {
          "model_module": "@jupyter-widgets/controls",
          "model_name": "DescriptionStyleModel",
          "model_module_version": "1.5.0",
          "state": {
            "_model_module": "@jupyter-widgets/controls",
            "_model_module_version": "1.5.0",
            "_model_name": "DescriptionStyleModel",
            "_view_count": null,
            "_view_module": "@jupyter-widgets/base",
            "_view_module_version": "1.2.0",
            "_view_name": "StyleView",
            "description_width": ""
          }
        },
        "71fe5611434b4330bcdd1370589fbb51": {
          "model_module": "@jupyter-widgets/base",
          "model_name": "LayoutModel",
          "model_module_version": "1.2.0",
          "state": {
            "_model_module": "@jupyter-widgets/base",
            "_model_module_version": "1.2.0",
            "_model_name": "LayoutModel",
            "_view_count": null,
            "_view_module": "@jupyter-widgets/base",
            "_view_module_version": "1.2.0",
            "_view_name": "LayoutView",
            "align_content": null,
            "align_items": null,
            "align_self": null,
            "border": null,
            "bottom": null,
            "display": null,
            "flex": null,
            "flex_flow": null,
            "grid_area": null,
            "grid_auto_columns": null,
            "grid_auto_flow": null,
            "grid_auto_rows": null,
            "grid_column": null,
            "grid_gap": null,
            "grid_row": null,
            "grid_template_areas": null,
            "grid_template_columns": null,
            "grid_template_rows": null,
            "height": null,
            "justify_content": null,
            "justify_items": null,
            "left": null,
            "margin": null,
            "max_height": null,
            "max_width": null,
            "min_height": null,
            "min_width": null,
            "object_fit": null,
            "object_position": null,
            "order": null,
            "overflow": null,
            "overflow_x": null,
            "overflow_y": null,
            "padding": null,
            "right": null,
            "top": null,
            "visibility": null,
            "width": null
          }
        },
        "a943c59fb67b4ee096fa8c6f48464d54": {
          "model_module": "@jupyter-widgets/controls",
          "model_name": "ProgressStyleModel",
          "model_module_version": "1.5.0",
          "state": {
            "_model_module": "@jupyter-widgets/controls",
            "_model_module_version": "1.5.0",
            "_model_name": "ProgressStyleModel",
            "_view_count": null,
            "_view_module": "@jupyter-widgets/base",
            "_view_module_version": "1.2.0",
            "_view_name": "StyleView",
            "bar_color": null,
            "description_width": ""
          }
        },
        "98b4928d2c494f029b4a21e721327af5": {
          "model_module": "@jupyter-widgets/base",
          "model_name": "LayoutModel",
          "model_module_version": "1.2.0",
          "state": {
            "_model_module": "@jupyter-widgets/base",
            "_model_module_version": "1.2.0",
            "_model_name": "LayoutModel",
            "_view_count": null,
            "_view_module": "@jupyter-widgets/base",
            "_view_module_version": "1.2.0",
            "_view_name": "LayoutView",
            "align_content": null,
            "align_items": null,
            "align_self": null,
            "border": null,
            "bottom": null,
            "display": null,
            "flex": null,
            "flex_flow": null,
            "grid_area": null,
            "grid_auto_columns": null,
            "grid_auto_flow": null,
            "grid_auto_rows": null,
            "grid_column": null,
            "grid_gap": null,
            "grid_row": null,
            "grid_template_areas": null,
            "grid_template_columns": null,
            "grid_template_rows": null,
            "height": null,
            "justify_content": null,
            "justify_items": null,
            "left": null,
            "margin": null,
            "max_height": null,
            "max_width": null,
            "min_height": null,
            "min_width": null,
            "object_fit": null,
            "object_position": null,
            "order": null,
            "overflow": null,
            "overflow_x": null,
            "overflow_y": null,
            "padding": null,
            "right": null,
            "top": null,
            "visibility": null,
            "width": null
          }
        },
        "ee028f877a3a4672aca5980949649de5": {
          "model_module": "@jupyter-widgets/controls",
          "model_name": "DescriptionStyleModel",
          "model_module_version": "1.5.0",
          "state": {
            "_model_module": "@jupyter-widgets/controls",
            "_model_module_version": "1.5.0",
            "_model_name": "DescriptionStyleModel",
            "_view_count": null,
            "_view_module": "@jupyter-widgets/base",
            "_view_module_version": "1.2.0",
            "_view_name": "StyleView",
            "description_width": ""
          }
        },
        "1e5c47e43a9049fcb511aae078facf9e": {
          "model_module": "@jupyter-widgets/controls",
          "model_name": "HBoxModel",
          "model_module_version": "1.5.0",
          "state": {
            "_dom_classes": [],
            "_model_module": "@jupyter-widgets/controls",
            "_model_module_version": "1.5.0",
            "_model_name": "HBoxModel",
            "_view_count": null,
            "_view_module": "@jupyter-widgets/controls",
            "_view_module_version": "1.5.0",
            "_view_name": "HBoxView",
            "box_style": "",
            "children": [
              "IPY_MODEL_9d05e9090fae44e1a802718fe5a2bf2b",
              "IPY_MODEL_6fcde62253f648ea98c0c886abcb3f4a",
              "IPY_MODEL_985fdd8397324d93b888b2bd52eba744"
            ],
            "layout": "IPY_MODEL_44503e8c55fb4122994a7efd60c2274f"
          }
        },
        "9d05e9090fae44e1a802718fe5a2bf2b": {
          "model_module": "@jupyter-widgets/controls",
          "model_name": "HTMLModel",
          "model_module_version": "1.5.0",
          "state": {
            "_dom_classes": [],
            "_model_module": "@jupyter-widgets/controls",
            "_model_module_version": "1.5.0",
            "_model_name": "HTMLModel",
            "_view_count": null,
            "_view_module": "@jupyter-widgets/controls",
            "_view_module_version": "1.5.0",
            "_view_name": "HTMLView",
            "description": "",
            "description_tooltip": null,
            "layout": "IPY_MODEL_454913ac581046748e780be41183c688",
            "placeholder": "​",
            "style": "IPY_MODEL_adf0cc17de904d7594223837fc15550f",
            "value": "100%"
          }
        },
        "6fcde62253f648ea98c0c886abcb3f4a": {
          "model_module": "@jupyter-widgets/controls",
          "model_name": "FloatProgressModel",
          "model_module_version": "1.5.0",
          "state": {
            "_dom_classes": [],
            "_model_module": "@jupyter-widgets/controls",
            "_model_module_version": "1.5.0",
            "_model_name": "FloatProgressModel",
            "_view_count": null,
            "_view_module": "@jupyter-widgets/controls",
            "_view_module_version": "1.5.0",
            "_view_name": "ProgressView",
            "bar_style": "success",
            "description": "",
            "description_tooltip": null,
            "layout": "IPY_MODEL_376166d13b4740e69e9d32a9295a3f2b",
            "max": 8,
            "min": 0,
            "orientation": "horizontal",
            "style": "IPY_MODEL_1826e78ec5bb41018e851c1a95e1efc9",
            "value": 8
          }
        },
        "985fdd8397324d93b888b2bd52eba744": {
          "model_module": "@jupyter-widgets/controls",
          "model_name": "HTMLModel",
          "model_module_version": "1.5.0",
          "state": {
            "_dom_classes": [],
            "_model_module": "@jupyter-widgets/controls",
            "_model_module_version": "1.5.0",
            "_model_name": "HTMLModel",
            "_view_count": null,
            "_view_module": "@jupyter-widgets/controls",
            "_view_module_version": "1.5.0",
            "_view_name": "HTMLView",
            "description": "",
            "description_tooltip": null,
            "layout": "IPY_MODEL_1b1d660463c945c180b2a1f5b77bc020",
            "placeholder": "​",
            "style": "IPY_MODEL_124d299fbf2340b09cffd22cf22d25e5",
            "value": " 8/8 [00:21&lt;00:00,  2.75s/it]"
          }
        },
        "44503e8c55fb4122994a7efd60c2274f": {
          "model_module": "@jupyter-widgets/base",
          "model_name": "LayoutModel",
          "model_module_version": "1.2.0",
          "state": {
            "_model_module": "@jupyter-widgets/base",
            "_model_module_version": "1.2.0",
            "_model_name": "LayoutModel",
            "_view_count": null,
            "_view_module": "@jupyter-widgets/base",
            "_view_module_version": "1.2.0",
            "_view_name": "LayoutView",
            "align_content": null,
            "align_items": null,
            "align_self": null,
            "border": null,
            "bottom": null,
            "display": null,
            "flex": null,
            "flex_flow": null,
            "grid_area": null,
            "grid_auto_columns": null,
            "grid_auto_flow": null,
            "grid_auto_rows": null,
            "grid_column": null,
            "grid_gap": null,
            "grid_row": null,
            "grid_template_areas": null,
            "grid_template_columns": null,
            "grid_template_rows": null,
            "height": null,
            "justify_content": null,
            "justify_items": null,
            "left": null,
            "margin": null,
            "max_height": null,
            "max_width": null,
            "min_height": null,
            "min_width": null,
            "object_fit": null,
            "object_position": null,
            "order": null,
            "overflow": null,
            "overflow_x": null,
            "overflow_y": null,
            "padding": null,
            "right": null,
            "top": null,
            "visibility": null,
            "width": null
          }
        },
        "454913ac581046748e780be41183c688": {
          "model_module": "@jupyter-widgets/base",
          "model_name": "LayoutModel",
          "model_module_version": "1.2.0",
          "state": {
            "_model_module": "@jupyter-widgets/base",
            "_model_module_version": "1.2.0",
            "_model_name": "LayoutModel",
            "_view_count": null,
            "_view_module": "@jupyter-widgets/base",
            "_view_module_version": "1.2.0",
            "_view_name": "LayoutView",
            "align_content": null,
            "align_items": null,
            "align_self": null,
            "border": null,
            "bottom": null,
            "display": null,
            "flex": null,
            "flex_flow": null,
            "grid_area": null,
            "grid_auto_columns": null,
            "grid_auto_flow": null,
            "grid_auto_rows": null,
            "grid_column": null,
            "grid_gap": null,
            "grid_row": null,
            "grid_template_areas": null,
            "grid_template_columns": null,
            "grid_template_rows": null,
            "height": null,
            "justify_content": null,
            "justify_items": null,
            "left": null,
            "margin": null,
            "max_height": null,
            "max_width": null,
            "min_height": null,
            "min_width": null,
            "object_fit": null,
            "object_position": null,
            "order": null,
            "overflow": null,
            "overflow_x": null,
            "overflow_y": null,
            "padding": null,
            "right": null,
            "top": null,
            "visibility": null,
            "width": null
          }
        },
        "adf0cc17de904d7594223837fc15550f": {
          "model_module": "@jupyter-widgets/controls",
          "model_name": "DescriptionStyleModel",
          "model_module_version": "1.5.0",
          "state": {
            "_model_module": "@jupyter-widgets/controls",
            "_model_module_version": "1.5.0",
            "_model_name": "DescriptionStyleModel",
            "_view_count": null,
            "_view_module": "@jupyter-widgets/base",
            "_view_module_version": "1.2.0",
            "_view_name": "StyleView",
            "description_width": ""
          }
        },
        "376166d13b4740e69e9d32a9295a3f2b": {
          "model_module": "@jupyter-widgets/base",
          "model_name": "LayoutModel",
          "model_module_version": "1.2.0",
          "state": {
            "_model_module": "@jupyter-widgets/base",
            "_model_module_version": "1.2.0",
            "_model_name": "LayoutModel",
            "_view_count": null,
            "_view_module": "@jupyter-widgets/base",
            "_view_module_version": "1.2.0",
            "_view_name": "LayoutView",
            "align_content": null,
            "align_items": null,
            "align_self": null,
            "border": null,
            "bottom": null,
            "display": null,
            "flex": null,
            "flex_flow": null,
            "grid_area": null,
            "grid_auto_columns": null,
            "grid_auto_flow": null,
            "grid_auto_rows": null,
            "grid_column": null,
            "grid_gap": null,
            "grid_row": null,
            "grid_template_areas": null,
            "grid_template_columns": null,
            "grid_template_rows": null,
            "height": null,
            "justify_content": null,
            "justify_items": null,
            "left": null,
            "margin": null,
            "max_height": null,
            "max_width": null,
            "min_height": null,
            "min_width": null,
            "object_fit": null,
            "object_position": null,
            "order": null,
            "overflow": null,
            "overflow_x": null,
            "overflow_y": null,
            "padding": null,
            "right": null,
            "top": null,
            "visibility": null,
            "width": null
          }
        },
        "1826e78ec5bb41018e851c1a95e1efc9": {
          "model_module": "@jupyter-widgets/controls",
          "model_name": "ProgressStyleModel",
          "model_module_version": "1.5.0",
          "state": {
            "_model_module": "@jupyter-widgets/controls",
            "_model_module_version": "1.5.0",
            "_model_name": "ProgressStyleModel",
            "_view_count": null,
            "_view_module": "@jupyter-widgets/base",
            "_view_module_version": "1.2.0",
            "_view_name": "StyleView",
            "bar_color": null,
            "description_width": ""
          }
        },
        "1b1d660463c945c180b2a1f5b77bc020": {
          "model_module": "@jupyter-widgets/base",
          "model_name": "LayoutModel",
          "model_module_version": "1.2.0",
          "state": {
            "_model_module": "@jupyter-widgets/base",
            "_model_module_version": "1.2.0",
            "_model_name": "LayoutModel",
            "_view_count": null,
            "_view_module": "@jupyter-widgets/base",
            "_view_module_version": "1.2.0",
            "_view_name": "LayoutView",
            "align_content": null,
            "align_items": null,
            "align_self": null,
            "border": null,
            "bottom": null,
            "display": null,
            "flex": null,
            "flex_flow": null,
            "grid_area": null,
            "grid_auto_columns": null,
            "grid_auto_flow": null,
            "grid_auto_rows": null,
            "grid_column": null,
            "grid_gap": null,
            "grid_row": null,
            "grid_template_areas": null,
            "grid_template_columns": null,
            "grid_template_rows": null,
            "height": null,
            "justify_content": null,
            "justify_items": null,
            "left": null,
            "margin": null,
            "max_height": null,
            "max_width": null,
            "min_height": null,
            "min_width": null,
            "object_fit": null,
            "object_position": null,
            "order": null,
            "overflow": null,
            "overflow_x": null,
            "overflow_y": null,
            "padding": null,
            "right": null,
            "top": null,
            "visibility": null,
            "width": null
          }
        },
        "124d299fbf2340b09cffd22cf22d25e5": {
          "model_module": "@jupyter-widgets/controls",
          "model_name": "DescriptionStyleModel",
          "model_module_version": "1.5.0",
          "state": {
            "_model_module": "@jupyter-widgets/controls",
            "_model_module_version": "1.5.0",
            "_model_name": "DescriptionStyleModel",
            "_view_count": null,
            "_view_module": "@jupyter-widgets/base",
            "_view_module_version": "1.2.0",
            "_view_name": "StyleView",
            "description_width": ""
          }
        },
        "19dde340e57e4d4ba3746a0a26c8f40e": {
          "model_module": "@jupyter-widgets/controls",
          "model_name": "HBoxModel",
          "model_module_version": "1.5.0",
          "state": {
            "_dom_classes": [],
            "_model_module": "@jupyter-widgets/controls",
            "_model_module_version": "1.5.0",
            "_model_name": "HBoxModel",
            "_view_count": null,
            "_view_module": "@jupyter-widgets/controls",
            "_view_module_version": "1.5.0",
            "_view_name": "HBoxView",
            "box_style": "",
            "children": [
              "IPY_MODEL_991f6e18c29e4fd596a50f10c92ad5d6",
              "IPY_MODEL_63d2177150964ea5bd3cb54bd52d57b9",
              "IPY_MODEL_810c51ef4ab5496998956cc857f5a007"
            ],
            "layout": "IPY_MODEL_6fc583556fb14bb2851d8d638698e15e"
          }
        },
        "991f6e18c29e4fd596a50f10c92ad5d6": {
          "model_module": "@jupyter-widgets/controls",
          "model_name": "HTMLModel",
          "model_module_version": "1.5.0",
          "state": {
            "_dom_classes": [],
            "_model_module": "@jupyter-widgets/controls",
            "_model_module_version": "1.5.0",
            "_model_name": "HTMLModel",
            "_view_count": null,
            "_view_module": "@jupyter-widgets/controls",
            "_view_module_version": "1.5.0",
            "_view_name": "HTMLView",
            "description": "",
            "description_tooltip": null,
            "layout": "IPY_MODEL_39b766ae0eb048a49f66d1ab29edc81a",
            "placeholder": "​",
            "style": "IPY_MODEL_95177ee68b584bbf9fb4ad5ad7df079b",
            "value": "100%"
          }
        },
        "63d2177150964ea5bd3cb54bd52d57b9": {
          "model_module": "@jupyter-widgets/controls",
          "model_name": "FloatProgressModel",
          "model_module_version": "1.5.0",
          "state": {
            "_dom_classes": [],
            "_model_module": "@jupyter-widgets/controls",
            "_model_module_version": "1.5.0",
            "_model_name": "FloatProgressModel",
            "_view_count": null,
            "_view_module": "@jupyter-widgets/controls",
            "_view_module_version": "1.5.0",
            "_view_name": "ProgressView",
            "bar_style": "success",
            "description": "",
            "description_tooltip": null,
            "layout": "IPY_MODEL_495ebcd61eb2432fa2c46590db0c17fa",
            "max": 8,
            "min": 0,
            "orientation": "horizontal",
            "style": "IPY_MODEL_cfbfd69d9daf415e956e6e17b624288b",
            "value": 8
          }
        },
        "810c51ef4ab5496998956cc857f5a007": {
          "model_module": "@jupyter-widgets/controls",
          "model_name": "HTMLModel",
          "model_module_version": "1.5.0",
          "state": {
            "_dom_classes": [],
            "_model_module": "@jupyter-widgets/controls",
            "_model_module_version": "1.5.0",
            "_model_name": "HTMLModel",
            "_view_count": null,
            "_view_module": "@jupyter-widgets/controls",
            "_view_module_version": "1.5.0",
            "_view_name": "HTMLView",
            "description": "",
            "description_tooltip": null,
            "layout": "IPY_MODEL_12d0e856cbde4aa7813d9039dbf8ff92",
            "placeholder": "​",
            "style": "IPY_MODEL_b940d987cfef4eb0924f9e7bb3ba65b6",
            "value": " 8/8 [00:20&lt;00:00,  2.55s/it]"
          }
        },
        "6fc583556fb14bb2851d8d638698e15e": {
          "model_module": "@jupyter-widgets/base",
          "model_name": "LayoutModel",
          "model_module_version": "1.2.0",
          "state": {
            "_model_module": "@jupyter-widgets/base",
            "_model_module_version": "1.2.0",
            "_model_name": "LayoutModel",
            "_view_count": null,
            "_view_module": "@jupyter-widgets/base",
            "_view_module_version": "1.2.0",
            "_view_name": "LayoutView",
            "align_content": null,
            "align_items": null,
            "align_self": null,
            "border": null,
            "bottom": null,
            "display": null,
            "flex": null,
            "flex_flow": null,
            "grid_area": null,
            "grid_auto_columns": null,
            "grid_auto_flow": null,
            "grid_auto_rows": null,
            "grid_column": null,
            "grid_gap": null,
            "grid_row": null,
            "grid_template_areas": null,
            "grid_template_columns": null,
            "grid_template_rows": null,
            "height": null,
            "justify_content": null,
            "justify_items": null,
            "left": null,
            "margin": null,
            "max_height": null,
            "max_width": null,
            "min_height": null,
            "min_width": null,
            "object_fit": null,
            "object_position": null,
            "order": null,
            "overflow": null,
            "overflow_x": null,
            "overflow_y": null,
            "padding": null,
            "right": null,
            "top": null,
            "visibility": null,
            "width": null
          }
        },
        "39b766ae0eb048a49f66d1ab29edc81a": {
          "model_module": "@jupyter-widgets/base",
          "model_name": "LayoutModel",
          "model_module_version": "1.2.0",
          "state": {
            "_model_module": "@jupyter-widgets/base",
            "_model_module_version": "1.2.0",
            "_model_name": "LayoutModel",
            "_view_count": null,
            "_view_module": "@jupyter-widgets/base",
            "_view_module_version": "1.2.0",
            "_view_name": "LayoutView",
            "align_content": null,
            "align_items": null,
            "align_self": null,
            "border": null,
            "bottom": null,
            "display": null,
            "flex": null,
            "flex_flow": null,
            "grid_area": null,
            "grid_auto_columns": null,
            "grid_auto_flow": null,
            "grid_auto_rows": null,
            "grid_column": null,
            "grid_gap": null,
            "grid_row": null,
            "grid_template_areas": null,
            "grid_template_columns": null,
            "grid_template_rows": null,
            "height": null,
            "justify_content": null,
            "justify_items": null,
            "left": null,
            "margin": null,
            "max_height": null,
            "max_width": null,
            "min_height": null,
            "min_width": null,
            "object_fit": null,
            "object_position": null,
            "order": null,
            "overflow": null,
            "overflow_x": null,
            "overflow_y": null,
            "padding": null,
            "right": null,
            "top": null,
            "visibility": null,
            "width": null
          }
        },
        "95177ee68b584bbf9fb4ad5ad7df079b": {
          "model_module": "@jupyter-widgets/controls",
          "model_name": "DescriptionStyleModel",
          "model_module_version": "1.5.0",
          "state": {
            "_model_module": "@jupyter-widgets/controls",
            "_model_module_version": "1.5.0",
            "_model_name": "DescriptionStyleModel",
            "_view_count": null,
            "_view_module": "@jupyter-widgets/base",
            "_view_module_version": "1.2.0",
            "_view_name": "StyleView",
            "description_width": ""
          }
        },
        "495ebcd61eb2432fa2c46590db0c17fa": {
          "model_module": "@jupyter-widgets/base",
          "model_name": "LayoutModel",
          "model_module_version": "1.2.0",
          "state": {
            "_model_module": "@jupyter-widgets/base",
            "_model_module_version": "1.2.0",
            "_model_name": "LayoutModel",
            "_view_count": null,
            "_view_module": "@jupyter-widgets/base",
            "_view_module_version": "1.2.0",
            "_view_name": "LayoutView",
            "align_content": null,
            "align_items": null,
            "align_self": null,
            "border": null,
            "bottom": null,
            "display": null,
            "flex": null,
            "flex_flow": null,
            "grid_area": null,
            "grid_auto_columns": null,
            "grid_auto_flow": null,
            "grid_auto_rows": null,
            "grid_column": null,
            "grid_gap": null,
            "grid_row": null,
            "grid_template_areas": null,
            "grid_template_columns": null,
            "grid_template_rows": null,
            "height": null,
            "justify_content": null,
            "justify_items": null,
            "left": null,
            "margin": null,
            "max_height": null,
            "max_width": null,
            "min_height": null,
            "min_width": null,
            "object_fit": null,
            "object_position": null,
            "order": null,
            "overflow": null,
            "overflow_x": null,
            "overflow_y": null,
            "padding": null,
            "right": null,
            "top": null,
            "visibility": null,
            "width": null
          }
        },
        "cfbfd69d9daf415e956e6e17b624288b": {
          "model_module": "@jupyter-widgets/controls",
          "model_name": "ProgressStyleModel",
          "model_module_version": "1.5.0",
          "state": {
            "_model_module": "@jupyter-widgets/controls",
            "_model_module_version": "1.5.0",
            "_model_name": "ProgressStyleModel",
            "_view_count": null,
            "_view_module": "@jupyter-widgets/base",
            "_view_module_version": "1.2.0",
            "_view_name": "StyleView",
            "bar_color": null,
            "description_width": ""
          }
        },
        "12d0e856cbde4aa7813d9039dbf8ff92": {
          "model_module": "@jupyter-widgets/base",
          "model_name": "LayoutModel",
          "model_module_version": "1.2.0",
          "state": {
            "_model_module": "@jupyter-widgets/base",
            "_model_module_version": "1.2.0",
            "_model_name": "LayoutModel",
            "_view_count": null,
            "_view_module": "@jupyter-widgets/base",
            "_view_module_version": "1.2.0",
            "_view_name": "LayoutView",
            "align_content": null,
            "align_items": null,
            "align_self": null,
            "border": null,
            "bottom": null,
            "display": null,
            "flex": null,
            "flex_flow": null,
            "grid_area": null,
            "grid_auto_columns": null,
            "grid_auto_flow": null,
            "grid_auto_rows": null,
            "grid_column": null,
            "grid_gap": null,
            "grid_row": null,
            "grid_template_areas": null,
            "grid_template_columns": null,
            "grid_template_rows": null,
            "height": null,
            "justify_content": null,
            "justify_items": null,
            "left": null,
            "margin": null,
            "max_height": null,
            "max_width": null,
            "min_height": null,
            "min_width": null,
            "object_fit": null,
            "object_position": null,
            "order": null,
            "overflow": null,
            "overflow_x": null,
            "overflow_y": null,
            "padding": null,
            "right": null,
            "top": null,
            "visibility": null,
            "width": null
          }
        },
        "b940d987cfef4eb0924f9e7bb3ba65b6": {
          "model_module": "@jupyter-widgets/controls",
          "model_name": "DescriptionStyleModel",
          "model_module_version": "1.5.0",
          "state": {
            "_model_module": "@jupyter-widgets/controls",
            "_model_module_version": "1.5.0",
            "_model_name": "DescriptionStyleModel",
            "_view_count": null,
            "_view_module": "@jupyter-widgets/base",
            "_view_module_version": "1.2.0",
            "_view_name": "StyleView",
            "description_width": ""
          }
        }
      }
    }
  },
  "cells": [
    {
      "cell_type": "markdown",
      "metadata": {
        "id": "view-in-github",
        "colab_type": "text"
      },
      "source": [
        "<a href=\"https://colab.research.google.com/github/Frostbite22/learning-DL-by-doing-1/blob/main/project.ipynb\" target=\"_parent\"><img src=\"https://colab.research.google.com/assets/colab-badge.svg\" alt=\"Open In Colab\"/></a>"
      ]
    },
    {
      "cell_type": "code",
      "execution_count": 26,
      "metadata": {
        "id": "LuYZFU2gHm3k"
      },
      "outputs": [],
      "source": [
        "import torch \n",
        "from torch import nn"
      ]
    },
    {
      "cell_type": "code",
      "source": [
        "device = 'cuda' if torch.cuda.is_available() else 'cpu'"
      ],
      "metadata": {
        "id": "tBQrFN4kRSZS"
      },
      "execution_count": 27,
      "outputs": []
    },
    {
      "cell_type": "code",
      "source": [
        "from google.colab import drive\n",
        "  \n",
        "drive.mount('/content/drive')\n",
        "import os\n",
        "os.chdir(\"/content/drive/MyDrive/PyTorch/learning_DL/\")"
      ],
      "metadata": {
        "colab": {
          "base_uri": "https://localhost:8080/"
        },
        "id": "w22rRQDJUWrX",
        "outputId": "20b24926-534b-440b-e0dc-36509a37df45"
      },
      "execution_count": 28,
      "outputs": [
        {
          "output_type": "stream",
          "name": "stdout",
          "text": [
            "Drive already mounted at /content/drive; to attempt to forcibly remount, call drive.mount(\"/content/drive\", force_remount=True).\n"
          ]
        }
      ]
    },
    {
      "cell_type": "code",
      "source": [
        "import zipfile \n",
        "\n",
        "with zipfile.ZipFile('archive.zip','r') as zip_ref:\n",
        "  zip_ref.extractall()"
      ],
      "metadata": {
        "id": "wGMu7Q0mSSNY"
      },
      "execution_count": 29,
      "outputs": []
    },
    {
      "cell_type": "code",
      "source": [
        "path = os.getcwd()\n",
        "path"
      ],
      "metadata": {
        "colab": {
          "base_uri": "https://localhost:8080/",
          "height": 35
        },
        "id": "suDcbrtiU0Ez",
        "outputId": "34d1ceb3-4c75-4d88-bd7c-4d30b96591d1"
      },
      "execution_count": 30,
      "outputs": [
        {
          "output_type": "execute_result",
          "data": {
            "text/plain": [
              "'/content/drive/MyDrive/PyTorch/learning_DL'"
            ],
            "application/vnd.google.colaboratory.intrinsic+json": {
              "type": "string"
            }
          },
          "metadata": {},
          "execution_count": 30
        }
      ]
    },
    {
      "cell_type": "code",
      "source": [
        "import numpy as np\n",
        "import pandas as pd\n",
        "\n",
        "train_df = pd.read_csv('sign_mnist_train.csv')\n",
        "test_df = pd.read_csv(\"sign_mnist_test.csv\")\n"
      ],
      "metadata": {
        "id": "TUSCYhsZOpOY"
      },
      "execution_count": 31,
      "outputs": []
    },
    {
      "cell_type": "code",
      "source": [
        "train_df.head()"
      ],
      "metadata": {
        "colab": {
          "base_uri": "https://localhost:8080/",
          "height": 300
        },
        "id": "YgK0WZdOonWB",
        "outputId": "59de662c-1593-4ac6-a77d-0cf407565437"
      },
      "execution_count": 32,
      "outputs": [
        {
          "output_type": "execute_result",
          "data": {
            "text/plain": [
              "   label  pixel1  pixel2  pixel3  pixel4  pixel5  pixel6  pixel7  pixel8  \\\n",
              "0      3     107     118     127     134     139     143     146     150   \n",
              "1      6     155     157     156     156     156     157     156     158   \n",
              "2      2     187     188     188     187     187     186     187     188   \n",
              "3      2     211     211     212     212     211     210     211     210   \n",
              "4     13     164     167     170     172     176     179     180     184   \n",
              "\n",
              "   pixel9  ...  pixel775  pixel776  pixel777  pixel778  pixel779  pixel780  \\\n",
              "0     153  ...       207       207       207       207       206       206   \n",
              "1     158  ...        69       149       128        87        94       163   \n",
              "2     187  ...       202       201       200       199       198       199   \n",
              "3     210  ...       235       234       233       231       230       226   \n",
              "4     185  ...        92       105       105       108       133       163   \n",
              "\n",
              "   pixel781  pixel782  pixel783  pixel784  \n",
              "0       206       204       203       202  \n",
              "1       175       103       135       149  \n",
              "2       198       195       194       195  \n",
              "3       225       222       229       163  \n",
              "4       157       163       164       179  \n",
              "\n",
              "[5 rows x 785 columns]"
            ],
            "text/html": [
              "\n",
              "  <div id=\"df-a0f99a78-ce6c-45e8-9745-20ca07623a5b\">\n",
              "    <div class=\"colab-df-container\">\n",
              "      <div>\n",
              "<style scoped>\n",
              "    .dataframe tbody tr th:only-of-type {\n",
              "        vertical-align: middle;\n",
              "    }\n",
              "\n",
              "    .dataframe tbody tr th {\n",
              "        vertical-align: top;\n",
              "    }\n",
              "\n",
              "    .dataframe thead th {\n",
              "        text-align: right;\n",
              "    }\n",
              "</style>\n",
              "<table border=\"1\" class=\"dataframe\">\n",
              "  <thead>\n",
              "    <tr style=\"text-align: right;\">\n",
              "      <th></th>\n",
              "      <th>label</th>\n",
              "      <th>pixel1</th>\n",
              "      <th>pixel2</th>\n",
              "      <th>pixel3</th>\n",
              "      <th>pixel4</th>\n",
              "      <th>pixel5</th>\n",
              "      <th>pixel6</th>\n",
              "      <th>pixel7</th>\n",
              "      <th>pixel8</th>\n",
              "      <th>pixel9</th>\n",
              "      <th>...</th>\n",
              "      <th>pixel775</th>\n",
              "      <th>pixel776</th>\n",
              "      <th>pixel777</th>\n",
              "      <th>pixel778</th>\n",
              "      <th>pixel779</th>\n",
              "      <th>pixel780</th>\n",
              "      <th>pixel781</th>\n",
              "      <th>pixel782</th>\n",
              "      <th>pixel783</th>\n",
              "      <th>pixel784</th>\n",
              "    </tr>\n",
              "  </thead>\n",
              "  <tbody>\n",
              "    <tr>\n",
              "      <th>0</th>\n",
              "      <td>3</td>\n",
              "      <td>107</td>\n",
              "      <td>118</td>\n",
              "      <td>127</td>\n",
              "      <td>134</td>\n",
              "      <td>139</td>\n",
              "      <td>143</td>\n",
              "      <td>146</td>\n",
              "      <td>150</td>\n",
              "      <td>153</td>\n",
              "      <td>...</td>\n",
              "      <td>207</td>\n",
              "      <td>207</td>\n",
              "      <td>207</td>\n",
              "      <td>207</td>\n",
              "      <td>206</td>\n",
              "      <td>206</td>\n",
              "      <td>206</td>\n",
              "      <td>204</td>\n",
              "      <td>203</td>\n",
              "      <td>202</td>\n",
              "    </tr>\n",
              "    <tr>\n",
              "      <th>1</th>\n",
              "      <td>6</td>\n",
              "      <td>155</td>\n",
              "      <td>157</td>\n",
              "      <td>156</td>\n",
              "      <td>156</td>\n",
              "      <td>156</td>\n",
              "      <td>157</td>\n",
              "      <td>156</td>\n",
              "      <td>158</td>\n",
              "      <td>158</td>\n",
              "      <td>...</td>\n",
              "      <td>69</td>\n",
              "      <td>149</td>\n",
              "      <td>128</td>\n",
              "      <td>87</td>\n",
              "      <td>94</td>\n",
              "      <td>163</td>\n",
              "      <td>175</td>\n",
              "      <td>103</td>\n",
              "      <td>135</td>\n",
              "      <td>149</td>\n",
              "    </tr>\n",
              "    <tr>\n",
              "      <th>2</th>\n",
              "      <td>2</td>\n",
              "      <td>187</td>\n",
              "      <td>188</td>\n",
              "      <td>188</td>\n",
              "      <td>187</td>\n",
              "      <td>187</td>\n",
              "      <td>186</td>\n",
              "      <td>187</td>\n",
              "      <td>188</td>\n",
              "      <td>187</td>\n",
              "      <td>...</td>\n",
              "      <td>202</td>\n",
              "      <td>201</td>\n",
              "      <td>200</td>\n",
              "      <td>199</td>\n",
              "      <td>198</td>\n",
              "      <td>199</td>\n",
              "      <td>198</td>\n",
              "      <td>195</td>\n",
              "      <td>194</td>\n",
              "      <td>195</td>\n",
              "    </tr>\n",
              "    <tr>\n",
              "      <th>3</th>\n",
              "      <td>2</td>\n",
              "      <td>211</td>\n",
              "      <td>211</td>\n",
              "      <td>212</td>\n",
              "      <td>212</td>\n",
              "      <td>211</td>\n",
              "      <td>210</td>\n",
              "      <td>211</td>\n",
              "      <td>210</td>\n",
              "      <td>210</td>\n",
              "      <td>...</td>\n",
              "      <td>235</td>\n",
              "      <td>234</td>\n",
              "      <td>233</td>\n",
              "      <td>231</td>\n",
              "      <td>230</td>\n",
              "      <td>226</td>\n",
              "      <td>225</td>\n",
              "      <td>222</td>\n",
              "      <td>229</td>\n",
              "      <td>163</td>\n",
              "    </tr>\n",
              "    <tr>\n",
              "      <th>4</th>\n",
              "      <td>13</td>\n",
              "      <td>164</td>\n",
              "      <td>167</td>\n",
              "      <td>170</td>\n",
              "      <td>172</td>\n",
              "      <td>176</td>\n",
              "      <td>179</td>\n",
              "      <td>180</td>\n",
              "      <td>184</td>\n",
              "      <td>185</td>\n",
              "      <td>...</td>\n",
              "      <td>92</td>\n",
              "      <td>105</td>\n",
              "      <td>105</td>\n",
              "      <td>108</td>\n",
              "      <td>133</td>\n",
              "      <td>163</td>\n",
              "      <td>157</td>\n",
              "      <td>163</td>\n",
              "      <td>164</td>\n",
              "      <td>179</td>\n",
              "    </tr>\n",
              "  </tbody>\n",
              "</table>\n",
              "<p>5 rows × 785 columns</p>\n",
              "</div>\n",
              "      <button class=\"colab-df-convert\" onclick=\"convertToInteractive('df-a0f99a78-ce6c-45e8-9745-20ca07623a5b')\"\n",
              "              title=\"Convert this dataframe to an interactive table.\"\n",
              "              style=\"display:none;\">\n",
              "        \n",
              "  <svg xmlns=\"http://www.w3.org/2000/svg\" height=\"24px\"viewBox=\"0 0 24 24\"\n",
              "       width=\"24px\">\n",
              "    <path d=\"M0 0h24v24H0V0z\" fill=\"none\"/>\n",
              "    <path d=\"M18.56 5.44l.94 2.06.94-2.06 2.06-.94-2.06-.94-.94-2.06-.94 2.06-2.06.94zm-11 1L8.5 8.5l.94-2.06 2.06-.94-2.06-.94L8.5 2.5l-.94 2.06-2.06.94zm10 10l.94 2.06.94-2.06 2.06-.94-2.06-.94-.94-2.06-.94 2.06-2.06.94z\"/><path d=\"M17.41 7.96l-1.37-1.37c-.4-.4-.92-.59-1.43-.59-.52 0-1.04.2-1.43.59L10.3 9.45l-7.72 7.72c-.78.78-.78 2.05 0 2.83L4 21.41c.39.39.9.59 1.41.59.51 0 1.02-.2 1.41-.59l7.78-7.78 2.81-2.81c.8-.78.8-2.07 0-2.86zM5.41 20L4 18.59l7.72-7.72 1.47 1.35L5.41 20z\"/>\n",
              "  </svg>\n",
              "      </button>\n",
              "      \n",
              "  <style>\n",
              "    .colab-df-container {\n",
              "      display:flex;\n",
              "      flex-wrap:wrap;\n",
              "      gap: 12px;\n",
              "    }\n",
              "\n",
              "    .colab-df-convert {\n",
              "      background-color: #E8F0FE;\n",
              "      border: none;\n",
              "      border-radius: 50%;\n",
              "      cursor: pointer;\n",
              "      display: none;\n",
              "      fill: #1967D2;\n",
              "      height: 32px;\n",
              "      padding: 0 0 0 0;\n",
              "      width: 32px;\n",
              "    }\n",
              "\n",
              "    .colab-df-convert:hover {\n",
              "      background-color: #E2EBFA;\n",
              "      box-shadow: 0px 1px 2px rgba(60, 64, 67, 0.3), 0px 1px 3px 1px rgba(60, 64, 67, 0.15);\n",
              "      fill: #174EA6;\n",
              "    }\n",
              "\n",
              "    [theme=dark] .colab-df-convert {\n",
              "      background-color: #3B4455;\n",
              "      fill: #D2E3FC;\n",
              "    }\n",
              "\n",
              "    [theme=dark] .colab-df-convert:hover {\n",
              "      background-color: #434B5C;\n",
              "      box-shadow: 0px 1px 3px 1px rgba(0, 0, 0, 0.15);\n",
              "      filter: drop-shadow(0px 1px 2px rgba(0, 0, 0, 0.3));\n",
              "      fill: #FFFFFF;\n",
              "    }\n",
              "  </style>\n",
              "\n",
              "      <script>\n",
              "        const buttonEl =\n",
              "          document.querySelector('#df-a0f99a78-ce6c-45e8-9745-20ca07623a5b button.colab-df-convert');\n",
              "        buttonEl.style.display =\n",
              "          google.colab.kernel.accessAllowed ? 'block' : 'none';\n",
              "\n",
              "        async function convertToInteractive(key) {\n",
              "          const element = document.querySelector('#df-a0f99a78-ce6c-45e8-9745-20ca07623a5b');\n",
              "          const dataTable =\n",
              "            await google.colab.kernel.invokeFunction('convertToInteractive',\n",
              "                                                     [key], {});\n",
              "          if (!dataTable) return;\n",
              "\n",
              "          const docLinkHtml = 'Like what you see? Visit the ' +\n",
              "            '<a target=\"_blank\" href=https://colab.research.google.com/notebooks/data_table.ipynb>data table notebook</a>'\n",
              "            + ' to learn more about interactive tables.';\n",
              "          element.innerHTML = '';\n",
              "          dataTable['output_type'] = 'display_data';\n",
              "          await google.colab.output.renderOutput(dataTable, element);\n",
              "          const docLink = document.createElement('div');\n",
              "          docLink.innerHTML = docLinkHtml;\n",
              "          element.appendChild(docLink);\n",
              "        }\n",
              "      </script>\n",
              "    </div>\n",
              "  </div>\n",
              "  "
            ]
          },
          "metadata": {},
          "execution_count": 32
        }
      ]
    },
    {
      "cell_type": "code",
      "source": [
        "for index,row in train_df.iterrows():\n",
        "  pixels = np.array(row[1:])\n",
        "  print(pixels.reshape(28,28).shape)\n",
        "  print(pixels)\n",
        "  break"
      ],
      "metadata": {
        "colab": {
          "base_uri": "https://localhost:8080/"
        },
        "id": "0R5LH_OCYMEL",
        "outputId": "c6284c6c-c8f2-4934-c0d9-c7f5ec1a6ef6"
      },
      "execution_count": 33,
      "outputs": [
        {
          "output_type": "stream",
          "name": "stdout",
          "text": [
            "(28, 28)\n",
            "[107 118 127 134 139 143 146 150 153 156 158 160 163 165 159 166 168 170\n",
            " 170 171 171 171 172 171 171 170 170 169 111 121 129 135 141 144 148 151\n",
            " 154 157 160 163 164 170 119 152 171 171 170 171 172 172 172 172 172 171\n",
            " 171 170 113 123 131 137 142 145 150 152 155 158 161 163 164 172 105 142\n",
            " 170 171 171 171 172 172 173 173 172 171 171 171 116 125 133 139 143 146\n",
            " 151 153 156 159 162 163 167 167  95 144 171 172 172 172 172 172 173 173\n",
            " 173 172 172 171 117 126 134 140 145 149 153 156 158 161 163 164 175 156\n",
            "  87 154 172 173 173 173 173 173 174 174 174 173 172 172 119 128 136 142\n",
            " 146 150 153 156 159 163 165 164 184 148  89 164 172 174 174 174 174 175\n",
            " 175 174 175 174 173 173 122 130 138 143 147 150 154 158 162 165 166 172\n",
            " 181 128  94 170 173 175 174 175 176 177 177 177 177 175 175 174 122 132\n",
            " 139 145 149 152 156 160 163 165 166 181 172 103 113 175 176 178 178 179\n",
            " 179 179 179 178 179 177 175 174 125 134 141 147 150 153 157 161 164 167\n",
            " 168 184 179 116 126 165 176 179 180 180 181 180 180 180 179 178 177 176\n",
            " 128 135 142 148 152 154 158 162 165 168 170 187 180 156 161 124 143 179\n",
            " 178 178 181 182 181 180 181 180 179 179 129 136 144 150 153 155 159 163\n",
            " 166 169 172 187 184 153 102 117 110 175 169 154 182 183 183 182 182 181\n",
            " 181 179 131 138 145 150 155 157 161 165 168 174 190 189 175 146  94  97\n",
            " 113 151 158 129 184 184 184 184 183 183 182 180 131 139 146 151 155 159\n",
            " 163 167 175 182 179 171 159 114 102  89 121 136 136  96 172 186 186 185\n",
            " 185 184 182 181 131 140 147 154 157 160 164 179 186 191 187 180 157 100\n",
            "  88  84 108 111 126  90 120 186 187 187 186 185 184 182 133 141 149 155\n",
            " 158 160 174 201 189 165 151 143 146 120  87  78  87  76 108  98  96 181\n",
            " 188 187 186 186 185 183 133 141 150 156 160 161 179 197 174 135  99  72\n",
            "  95 134  97  72  74  68 116 105 108 187 189 187 187 186 186 185 134 143\n",
            " 151 156 161 163 179 194 156 110  74  42  52 139  94  67  75  75 118 106\n",
            " 129 189 191 190 188 188 187 186 135 144 152 158 163 163 177 193 161 122\n",
            "  84  43  71 134  81  57  71  88 112  98 157 193 193 192 190 190 189 188\n",
            " 136 144 152 158 162 163 176 192 164 128  98  62  60 100  71  76  96 101\n",
            " 105  95 174 195 194 194 194 193 191 190 137 145 152 159 164 165 178 191\n",
            " 164 135 113  82  59  87  98 111 120 108  97 108 190 196 195 195 194 193\n",
            " 193 192 139 146 154 160 164 165 175 186 163 139 112  85  67 102 126 133\n",
            " 126 105 104 176 197 198 197 196 195 195 194 193 138 147 155 161 165 167\n",
            " 172 186 163 137 107  87  76 106 122 125 117  96 156 199 199 200 198 196\n",
            " 196 195 195 194 139 148 156 163 166 168 172 180 158 131 108  99  86 108\n",
            " 118 116 103 107 191 202 201 200 200 200 199 197 198 196 140 149 157 164\n",
            " 168 167 177 178 155 131 118 105  87 100 106 100  96 164 202 202 202 202\n",
            " 202 201 200 199 199 198 140 150 157 165 167 170 181 175 152 130 115  98\n",
            "  82  85  90  99 165 202 203 204 203 203 202 202 201 201 200 200 142 150\n",
            " 159 165 170 191 173 157 144 119  97  84  79  79  91 172 202 203 203 205\n",
            " 204 204 204 203 202 202 201 200 142 151 160 165 188 190 187 150 119 109\n",
            "  85  79  79  78 137 203 205 206 206 207 207 206 206 204 205 204 203 202\n",
            " 142 151 160 172 196 188 188 190 135  96  86  77  77  79 176 205 207 207\n",
            " 207 207 207 207 206 206 206 204 203 202]\n"
          ]
        }
      ]
    },
    {
      "cell_type": "code",
      "source": [
        "# from PIL import Image\n",
        "# img = Image.open('/content/drive/MyDrive/PyTorch/learning_DL/images/img16_2.png')"
      ],
      "metadata": {
        "id": "th14xiL7XrV-"
      },
      "execution_count": 34,
      "outputs": []
    },
    {
      "cell_type": "code",
      "source": [
        "# img"
      ],
      "metadata": {
        "id": "pgdqsXH3w0Uj"
      },
      "execution_count": 35,
      "outputs": []
    },
    {
      "cell_type": "code",
      "source": [
        "classes = [\"A\", \"B\", \"C\", \"D\", \"E\", \"F\", \"G\", \"H\", \"I\", \"J\", \"K\", \"L\", \"M\", \"N\", \"O\", \"P\", \"Q\", \"R\", \"S\", \"T\", \"U\", \"V\", \"W\", \"X\", \"Y\", \"Z\"]"
      ],
      "metadata": {
        "id": "JVcbeX54Rjem"
      },
      "execution_count": 36,
      "outputs": []
    },
    {
      "cell_type": "code",
      "source": [
        "from PIL import Image\n",
        "from pathlib import Path \n",
        "from torchvision import transforms\n",
        "\n",
        "def csv_to_image_preprocessing(global_path,image_folder,dataframe):\n",
        "  #Setup path to a data folder \n",
        "  data_path = Path(global_path)\n",
        "  image_path = data_path / image_folder\n",
        "\n",
        "  #If the image folder doesn't exist, download it and prepare it \n",
        "  if image_path.is_dir():\n",
        "    print(f\"{image_path} directory already exists\")\n",
        "  else: \n",
        "    print(f\"{image_path} does not exist, creating one\")\n",
        "    image_path.mkdir(parents=True,exist_ok=True)\n",
        "\n",
        "\n",
        "  counter = dict()\n",
        "  dataset = []\n",
        "  is_empty = True \n",
        "  if not os.listdir(image_path):\n",
        "    pass\n",
        "  else:\n",
        "      is_empty = False\n",
        "\n",
        "\n",
        "  for index,row in dataframe.iterrows(): \n",
        "      pixels = np.array(row[1:],dtype=np.uint8)\n",
        "      pixels = np.reshape(pixels,(28,28))\n",
        "      image = Image.fromarray(pixels)\n",
        "      label = row[0]\n",
        "      \n",
        "      image_transform = transforms.Compose([transforms.ToTensor()])\n",
        "      dataset.append((image_transform(image),label))\n",
        "\n",
        "      if label not in counter:\n",
        "          counter[label] = 0\n",
        "      counter[label] += 1\n",
        "      \n",
        "      if is_empty: \n",
        "        filename = 'img{}_{}.png'.format(label, counter[label])\n",
        "        image.save(image_path/filename)\n",
        "        print('saved:', image_path/filename)\n",
        "  \n",
        "  return dataset\n"
      ],
      "metadata": {
        "id": "2gAiQNyVDRj9"
      },
      "execution_count": 37,
      "outputs": []
    },
    {
      "cell_type": "code",
      "source": [
        "train_dataset = csv_to_image_preprocessing(path,\"train_images\",train_df)"
      ],
      "metadata": {
        "id": "Hk8O342ti3Wt",
        "colab": {
          "base_uri": "https://localhost:8080/"
        },
        "outputId": "1869d595-2daa-45f8-a38b-42e1b3aa8a85"
      },
      "execution_count": 38,
      "outputs": [
        {
          "output_type": "stream",
          "name": "stdout",
          "text": [
            "/content/drive/MyDrive/PyTorch/learning_DL/train_images directory already exists\n"
          ]
        }
      ]
    },
    {
      "cell_type": "code",
      "source": [
        "test_dataset = csv_to_image_preprocessing(path,\"test_images\",test_df)"
      ],
      "metadata": {
        "id": "n5JFKrjxLI5p",
        "colab": {
          "base_uri": "https://localhost:8080/"
        },
        "outputId": "104b3003-aca5-4763-e84d-11e5d8128bb2"
      },
      "execution_count": 39,
      "outputs": [
        {
          "output_type": "stream",
          "name": "stdout",
          "text": [
            "/content/drive/MyDrive/PyTorch/learning_DL/test_images directory already exists\n"
          ]
        }
      ]
    },
    {
      "cell_type": "code",
      "source": [
        "image_test, label_test = test_dataset[100]"
      ],
      "metadata": {
        "id": "7vvsatYNLjDX"
      },
      "execution_count": 40,
      "outputs": []
    },
    {
      "cell_type": "code",
      "source": [
        "image_test.shape"
      ],
      "metadata": {
        "id": "B8zvLGFrQdRx",
        "colab": {
          "base_uri": "https://localhost:8080/"
        },
        "outputId": "489cfca4-5f1e-4cfa-939f-ba3e967be893"
      },
      "execution_count": 41,
      "outputs": [
        {
          "output_type": "execute_result",
          "data": {
            "text/plain": [
              "torch.Size([1, 28, 28])"
            ]
          },
          "metadata": {},
          "execution_count": 41
        }
      ]
    },
    {
      "cell_type": "code",
      "source": [
        "import matplotlib.pyplot as plt\n",
        "\n",
        "plt.imshow(image_test.permute(1,2,0))\n",
        "plt.axis(False)\n",
        "plt.title(classes[label_test])\n"
      ],
      "metadata": {
        "id": "RqG7orc-QjkI",
        "colab": {
          "base_uri": "https://localhost:8080/",
          "height": 281
        },
        "outputId": "bfe952de-f16d-4dae-a1de-a288b966b674"
      },
      "execution_count": 42,
      "outputs": [
        {
          "output_type": "execute_result",
          "data": {
            "text/plain": [
              "Text(0.5, 1.0, 'I')"
            ]
          },
          "metadata": {},
          "execution_count": 42
        },
        {
          "output_type": "display_data",
          "data": {
            "text/plain": [
              "<Figure size 432x288 with 1 Axes>"
            ],
            "image/png": "[encoded data removed]"
          },
          "metadata": {
            "needs_background": "light"
          }
        }
      ]
    },
    {
      "cell_type": "code",
      "source": [
        "from torch.utils.data import DataLoader \n",
        "BATCH_SIZE = 32 \n",
        "train_dataloader = DataLoader(dataset=train_dataset,\n",
        "                               batch_size=BATCH_SIZE,\n",
        "                               num_workers=1,\n",
        "                              shuffle=True)\n",
        "test_dataloader = DataLoader(dataset=test_dataset,\n",
        "                             batch_size=BATCH_SIZE,\n",
        "                             num_workers=1,\n",
        "                             shuffle=False)\n",
        "\n",
        "train_dataloader, test_dataloader"
      ],
      "metadata": {
        "id": "yMzpNc5PQ6ko",
        "colab": {
          "base_uri": "https://localhost:8080/"
        },
        "outputId": "e4f66d68-22f7-4a61-c3ac-b32193528600"
      },
      "execution_count": 43,
      "outputs": [
        {
          "output_type": "execute_result",
          "data": {
            "text/plain": [
              "(<torch.utils.data.dataloader.DataLoader at 0x7efbc8a3c670>,\n",
              " <torch.utils.data.dataloader.DataLoader at 0x7efbc8a3cc40>)"
            ]
          },
          "metadata": {},
          "execution_count": 43
        }
      ]
    },
    {
      "cell_type": "code",
      "source": [
        "img, label = next(iter(train_dataloader))\n",
        "\n",
        "print(f'Image Shape: {img.shape} -> [batch_size,color_channels,height,width]')\n",
        "print(f'Label Shape: {label.shape}')"
      ],
      "metadata": {
        "id": "rylQzWSHYxtI",
        "colab": {
          "base_uri": "https://localhost:8080/"
        },
        "outputId": "5dd5adeb-639e-437b-9e11-2838580aedcc"
      },
      "execution_count": 44,
      "outputs": [
        {
          "output_type": "stream",
          "name": "stdout",
          "text": [
            "Image Shape: torch.Size([32, 1, 28, 28]) -> [batch_size,color_channels,height,width]\n",
            "Label Shape: torch.Size([32])\n"
          ]
        }
      ]
    },
    {
      "cell_type": "code",
      "source": [
        "import torch.nn as nn\n",
        "\n",
        "class ResNet18(nn.Module):\n",
        "    def __init__(self, input_shape : int,\n",
        "                hidden_units : int,\n",
        "                output_shape : int):\n",
        "        super(ResNet18,self).__init__()\n",
        "\n",
        "        self.conv1 = nn.Conv2d(input_shape, hidden_units, kernel_size=3, stride=1, padding=1)\n",
        "        self.bn1 = nn.BatchNorm2d(hidden_units)\n",
        "        self.layer1 = nn.Sequential(\n",
        "            nn.Conv2d(hidden_units, hidden_units, kernel_size=3, stride=1, padding=1),\n",
        "            nn.BatchNorm2d(hidden_units),\n",
        "            nn.ReLU(),\n",
        "            nn.Conv2d(hidden_units, hidden_units, kernel_size=3, stride=1, padding=1,),\n",
        "            nn.BatchNorm2d(hidden_units),        \n",
        "            nn.ReLU()\n",
        "        )\n",
        "        self.layer2 = nn.Sequential(\n",
        "            nn.Conv2d(hidden_units, hidden_units*2, kernel_size=3, stride=2, padding=1),\n",
        "            nn.BatchNorm2d(hidden_units*2),\n",
        "            nn.ReLU(),\n",
        "            nn.Conv2d(hidden_units*2, hidden_units*2, kernel_size=3, stride=1, padding=1),\n",
        "            nn.BatchNorm2d(hidden_units*2),\n",
        "            nn.ReLU()\n",
        "        )\n",
        "        self.layer3 = nn.Sequential(\n",
        "            nn.Conv2d(hidden_units*2, hidden_units*4, kernel_size=3, stride=2, padding=1),\n",
        "            nn.BatchNorm2d(hidden_units*4),\n",
        "            nn.ReLU(),\n",
        "            nn.Conv2d(hidden_units*4, hidden_units*4, kernel_size=3, stride=1, padding=1),\n",
        "            nn.BatchNorm2d(hidden_units*4),\n",
        "            nn.ReLU()\n",
        "        )\n",
        "        self.avgpool = nn.AdaptiveAvgPool2d((1, 1))\n",
        "        self.fc = nn.Linear(hidden_units*4, output_shape)\n",
        "        self.dropout = nn.Dropout()\n",
        "\n",
        "    def forward(self, x):\n",
        "        x = self.conv1(x)\n",
        "        x = self.bn1(x)\n",
        "        x = self.layer1(x) \n",
        "        x = self.layer2(x) \n",
        "        x = self.dropout(x)\n",
        "        x = self.layer3(x) \n",
        "        x = self.avgpool(x)\n",
        "        x = x.view(x.size(0), -1)\n",
        "        x = self.fc(x)\n",
        "        return x"
      ],
      "metadata": {
        "id": "qvSLt5zXY0kg"
      },
      "execution_count": 45,
      "outputs": []
    },
    {
      "cell_type": "code",
      "source": [
        "torch.manual_seed(42)\n",
        "model_1 = ResNet18(input_shape=1,\n",
        "                hidden_units=16,\n",
        "                output_shape=len(classes)).to(device)\n",
        "\n",
        "model_1"
      ],
      "metadata": {
        "id": "_OtfaDIvacgA",
        "colab": {
          "base_uri": "https://localhost:8080/"
        },
        "outputId": "6c19fd74-2f31-486c-e2da-12ada5887245"
      },
      "execution_count": 46,
      "outputs": [
        {
          "output_type": "execute_result",
          "data": {
            "text/plain": [
              "ResNet18(\n",
              "  (conv1): Conv2d(1, 16, kernel_size=(3, 3), stride=(1, 1), padding=(1, 1))\n",
              "  (bn1): BatchNorm2d(16, eps=1e-05, momentum=0.1, affine=True, track_running_stats=True)\n",
              "  (layer1): Sequential(\n",
              "    (0): Conv2d(16, 16, kernel_size=(3, 3), stride=(1, 1), padding=(1, 1))\n",
              "    (1): BatchNorm2d(16, eps=1e-05, momentum=0.1, affine=True, track_running_stats=True)\n",
              "    (2): ReLU()\n",
              "    (3): Conv2d(16, 16, kernel_size=(3, 3), stride=(1, 1), padding=(1, 1))\n",
              "    (4): BatchNorm2d(16, eps=1e-05, momentum=0.1, affine=True, track_running_stats=True)\n",
              "    (5): ReLU()\n",
              "  )\n",
              "  (layer2): Sequential(\n",
              "    (0): Conv2d(16, 32, kernel_size=(3, 3), stride=(2, 2), padding=(1, 1))\n",
              "    (1): BatchNorm2d(32, eps=1e-05, momentum=0.1, affine=True, track_running_stats=True)\n",
              "    (2): ReLU()\n",
              "    (3): Conv2d(32, 32, kernel_size=(3, 3), stride=(1, 1), padding=(1, 1))\n",
              "    (4): BatchNorm2d(32, eps=1e-05, momentum=0.1, affine=True, track_running_stats=True)\n",
              "    (5): ReLU()\n",
              "  )\n",
              "  (layer3): Sequential(\n",
              "    (0): Conv2d(32, 64, kernel_size=(3, 3), stride=(2, 2), padding=(1, 1))\n",
              "    (1): BatchNorm2d(64, eps=1e-05, momentum=0.1, affine=True, track_running_stats=True)\n",
              "    (2): ReLU()\n",
              "    (3): Conv2d(64, 64, kernel_size=(3, 3), stride=(1, 1), padding=(1, 1))\n",
              "    (4): BatchNorm2d(64, eps=1e-05, momentum=0.1, affine=True, track_running_stats=True)\n",
              "    (5): ReLU()\n",
              "  )\n",
              "  (avgpool): AdaptiveAvgPool2d(output_size=(1, 1))\n",
              "  (fc): Linear(in_features=64, out_features=26, bias=True)\n",
              "  (dropout): Dropout(p=0.5, inplace=False)\n",
              ")"
            ]
          },
          "metadata": {},
          "execution_count": 46
        }
      ]
    },
    {
      "cell_type": "code",
      "source": [
        "# Create train and test loops functions \n",
        "def train_step(model: torch.nn.Module,\n",
        "               dataloader : torch.utils.data.DataLoader,\n",
        "               loss_fn ,\n",
        "               optimizer: torch.optim.Optimizer,\n",
        "               device=device):\n",
        "  #put the model in train mode \n",
        "  model.train()\n",
        "  #setup train loss and train accuracy values \n",
        "  train_loss, train_acc = 0,0 \n",
        "  #Loop through data loader data batchtes \n",
        "  for batch, (X,y) in enumerate(dataloader):\n",
        "    #send data to the target device \n",
        "    X,y = X.to(device), y.to(device)\n",
        "    #1.forward pass\n",
        "    y_pred = model(X) #output model logits\n",
        "    #2.Calculate the loss\n",
        "    loss = loss_fn(y_pred,y)\n",
        "    train_loss += loss.item()\n",
        "    #3.Optimizer zero grad \n",
        "    optimizer.zero_grad()\n",
        "    #4.loss backward\n",
        "    loss.backward()\n",
        "    #5. Optimizer step\n",
        "    optimizer.step()\n",
        "\n",
        "    #calculate accuracy metric \n",
        "    y_pred_class = torch.argmax(torch.softmax(y_pred,dim=1),dim=1)\n",
        "    train_acc += (y_pred_class==y).sum().item()/len(y_pred)\n",
        "  \n",
        "  #Adjust metrics to get average loss and accuracy per batch \n",
        "  train_loss = train_loss /len(dataloader)\n",
        "  train_acc = train_acc / len(dataloader)\n",
        "  return train_loss, train_acc \n"
      ],
      "metadata": {
        "id": "j0Dr2gMCeHNp"
      },
      "execution_count": 47,
      "outputs": []
    },
    {
      "cell_type": "code",
      "source": [
        "#Create a test step function \n",
        "def test_step(model: torch.nn.Module,\n",
        "              dataloader : torch.utils.data.DataLoader,\n",
        "              loss_fn ,\n",
        "              optimizer: torch.optim.Optimizer,\n",
        "              device=device):\n",
        "  #put model in eval model \n",
        "  model.eval()\n",
        "  #setup test loss and test accuracy values \n",
        "  test_loss, test_acc = 0,0\n",
        "  #Turn on inference model \n",
        "  with torch.inference_mode():\n",
        "    #Loop through Dataloader batches \n",
        "    for batch, (X,y) in enumerate(dataloader):\n",
        "      X,y = X.to(device), y.to(device)\n",
        "      #1.forward pass\n",
        "      test_pred_logits = model(X)\n",
        "      #2.Calculate the loss \n",
        "      loss = loss_fn(test_pred_logits,y)\n",
        "      test_loss += loss.item()\n",
        "      #calculate the accuracy \n",
        "      test_pred_labels = test_pred_logits.argmax(dim=1)\n",
        "      test_acc += (test_pred_labels==y).sum().item() / len(test_pred_labels)\n",
        "\n",
        "  #Adujust metrics to get average loss and accuracy per batch \n",
        "  test_loss = test_loss / len(dataloader) \n",
        "  test_acc = test_acc / len(dataloader) \n",
        "  return test_loss , test_acc  "
      ],
      "metadata": {
        "id": "FMryh7tmfRtg"
      },
      "execution_count": 48,
      "outputs": []
    },
    {
      "cell_type": "code",
      "source": [
        "from tqdm.auto import tqdm\n",
        "\n",
        "def train(model : torch.nn.Module,\n",
        "          train_dataloader : torch.utils.data.DataLoader,\n",
        "          test_dataloader : torch.utils.data.DataLoader, \n",
        "          loss_fn ,\n",
        "          optimizer : torch.optim.Optimizer,\n",
        "          epochs : int = 5, \n",
        "          device = device):\n",
        "  #create empty results dict \n",
        "  results = {\"train_loss\": [],\n",
        "             \"train_acc\": [],\n",
        "             \"test_loss\": [],\n",
        "             \"test_acc\": []}\n",
        "\n",
        "  #loop through training and testing steps for a number of epochs \n",
        "  for epoch in tqdm(range(epochs)):\n",
        "    train_loss, train_acc = train_step(model=model,\n",
        "                                       dataloader= train_dataloader,\n",
        "                                       loss_fn=loss_fn.to(device),\n",
        "                                       optimizer=optimizer,\n",
        "                                       device=device)\n",
        "    test_loss, test_acc = test_step(model=model,\n",
        "                                    dataloader= test_dataloader,\n",
        "                                    loss_fn=loss_fn,\n",
        "                                    optimizer= optimizer, \n",
        "                                    device=device) \n",
        "\n",
        "    #print out \n",
        "    print(f'Epoch : {epoch} | train loss: {train_loss: .4f} | Train acc : {train_acc : .4f} | Test loss : {test_loss : .4f} | Test acc : {test_acc :.4f} ')\n",
        "\n",
        "    #Update results dictionary \n",
        "    results['train_loss'].append(train_loss)\n",
        "    results['train_acc'].append(train_acc)\n",
        "    results['test_loss'].append(test_loss) \n",
        "    results['test_acc'].append(test_acc)\n",
        "  \n",
        "  #Return the filled results at the end of the epochs \n",
        "  return results\n",
        "\n",
        "  "
      ],
      "metadata": {
        "id": "vjUGeUTFfVfc"
      },
      "execution_count": 49,
      "outputs": []
    },
    {
      "cell_type": "code",
      "source": [
        "#Credits to \n",
        "#https://github.com/HaotianMXu/Multiclass_LinearSVM_with_SGD/blob/master/linearSVM.py\n",
        "\n",
        "class multiClassHingeLoss(nn.Module):\n",
        "    def __init__(self, p=1, margin=1, weight=None, size_average=True):\n",
        "        super(multiClassHingeLoss, self).__init__()\n",
        "        self.p=p\n",
        "        self.margin=margin\n",
        "        self.weight=weight#weight for each class, size=n_class, variable containing FloatTensor,cuda,reqiures_grad=False\n",
        "        self.size_average=size_average\n",
        "    def forward(self, output, y):#output: batchsize*n_class\n",
        "        #print(output.requires_grad)\n",
        "        #print(y.requires_grad)\n",
        "        output_y=output[torch.arange(0,y.size()[0]).long().cuda(),y.data.cuda()].view(-1,1)#view for transpose\n",
        "        #margin - output[y] + output[i]\n",
        "        loss=output-output_y+self.margin#contains i=y\n",
        "        #remove i=y items\n",
        "        loss[torch.arange(0,y.size()[0]).long().cuda(),y.data.cuda()]=0\n",
        "        #max(0,_)\n",
        "        loss[loss<0]=0\n",
        "        #^p\n",
        "        if(self.p!=1):\n",
        "            loss=torch.pow(loss,self.p)\n",
        "        #add weight\n",
        "        if(self.weight is not None):\n",
        "            loss=loss*self.weight\n",
        "        #sum up\n",
        "        loss=torch.sum(loss)\n",
        "        if(self.size_average):\n",
        "            loss/=output.size()[0]#output.size()[0]\n",
        "        return loss\n"
      ],
      "metadata": {
        "id": "nOkSAcXNgjX9"
      },
      "execution_count": 50,
      "outputs": []
    },
    {
      "cell_type": "code",
      "source": [
        "\n",
        "#Train and evaluate model 1\n",
        "torch.manual_seed(42)\n",
        "torch.cuda.manual_seed(42)\n",
        "\n",
        "#Set number of epochs \n",
        "NUM_EPOCHS = 8\n",
        "\n",
        "#Recreate an instance of ResNet18\n",
        "model_1  = ResNet18(input_shape=1,\n",
        "                   hidden_units=24,\n",
        "                   output_shape=len(classes)).to(device)\n",
        "\n",
        "#Setup loss funcion and optimizer \n",
        "loss_fn = multiClassHingeLoss()\n",
        "\n",
        "optimizer = torch.optim.SGD(params=model_1.parameters(), lr=0.01, momentum=0.9)\n",
        "# Start the timer \n",
        "from timeit import default_timer as timer \n",
        "start_time = timer()\n",
        "\n",
        "#Train model 1 \n",
        "model_1_results = train(model=model_1,\n",
        "                        train_dataloader=train_dataloader,\n",
        "                        test_dataloader=test_dataloader,\n",
        "                        loss_fn=loss_fn,\n",
        "                        optimizer=optimizer,\n",
        "                        epochs=NUM_EPOCHS)\n",
        "\n",
        "#End the timer and print out how long it took \n",
        "end_time = timer()\n",
        "print(f'Total training time : {end_time - start_time:.3f} seconds')"
      ],
      "metadata": {
        "id": "xWaw5pFEfbu4",
        "colab": {
          "base_uri": "https://localhost:8080/",
          "height": 205,
          "referenced_widgets": [
            "8fb4268eaf5f47f2b1b60e6c99e73e79",
            "8ba735f60ec948c58600dbb4b0e4bc45",
            "15e53712f2c644b09aabb8eca22e7dfc",
            "aade0c0fca8743639596a395c67b7716",
            "336f4e89cc7142e585e8c5c0963fed4a",
            "600bedde4ada4504895cc84734dcc956",
            "e034ea57fcbd407eb01fe550288768e8",
            "c3b677ce23f548d09fdd4eea35667022",
            "e1709950f05f494f8f6dec205757082e",
            "157f4bc27f8044df9ab7ac55c449399f",
            "3cdbbeefb9784f4b9eae25a044de75f7"
          ]
        },
        "outputId": "47170ac3-ae1a-4bfd-d6a6-4e5196a4764e"
      },
      "execution_count": 51,
      "outputs": [
        {
          "output_type": "display_data",
          "data": {
            "text/plain": [
              "  0%|          | 0/8 [00:00<?, ?it/s]"
            ],
            "application/vnd.jupyter.widget-view+json": {
              "version_major": 2,
              "version_minor": 0,
              "model_id": "8fb4268eaf5f47f2b1b60e6c99e73e79"
            }
          },
          "metadata": {}
        },
        {
          "output_type": "stream",
          "name": "stdout",
          "text": [
            "Epoch : 0 | train loss:  2.4987 | Train acc :  0.7302 | Test loss :  0.5657 | Test acc : 0.8525 \n",
            "Epoch : 1 | train loss:  0.0975 | Train acc :  0.9767 | Test loss :  0.0832 | Test acc : 0.9800 \n",
            "Epoch : 2 | train loss:  0.0329 | Train acc :  0.9928 | Test loss :  0.0568 | Test acc : 0.9857 \n",
            "Epoch : 3 | train loss:  0.0176 | Train acc :  0.9964 | Test loss :  0.0414 | Test acc : 0.9904 \n",
            "Epoch : 4 | train loss:  0.0122 | Train acc :  0.9981 | Test loss :  0.0559 | Test acc : 0.9833 \n",
            "Epoch : 5 | train loss:  0.0099 | Train acc :  0.9984 | Test loss :  0.0530 | Test acc : 0.9831 \n",
            "Epoch : 6 | train loss:  0.0078 | Train acc :  0.9987 | Test loss :  0.0356 | Test acc : 0.9932 \n",
            "Epoch : 7 | train loss:  0.0067 | Train acc :  0.9988 | Test loss :  0.0298 | Test acc : 0.9931 \n",
            "Total training time : 71.102 seconds\n"
          ]
        }
      ]
    },
    {
      "cell_type": "code",
      "source": [
        "image, label = test_dataset[100]"
      ],
      "metadata": {
        "id": "izpzpwrjqh24"
      },
      "execution_count": 52,
      "outputs": []
    },
    {
      "cell_type": "code",
      "source": [
        "plt.imshow(image.permute(1,2,0))\n",
        "plt.title(classes[label])\n",
        "plt.axis(False)"
      ],
      "metadata": {
        "id": "HpVGF1vtqnG6",
        "colab": {
          "base_uri": "https://localhost:8080/",
          "height": 281
        },
        "outputId": "5ae35b1d-5700-4905-e104-0f9463be6a77"
      },
      "execution_count": 53,
      "outputs": [
        {
          "output_type": "execute_result",
          "data": {
            "text/plain": [
              "(-0.5, 27.5, 27.5, -0.5)"
            ]
          },
          "metadata": {},
          "execution_count": 53
        },
        {
          "output_type": "display_data",
          "data": {
            "text/plain": [
              "<Figure size 432x288 with 1 Axes>"
            ],
            "image/png": "[encoded data removed]"
          },
          "metadata": {
            "needs_background": "light"
          }
        }
      ]
    },
    {
      "cell_type": "code",
      "source": [
        "logits = model_1(image.to(device).unsqueeze(0))\n",
        "logits"
      ],
      "metadata": {
        "id": "pe0UtZfg5noe",
        "colab": {
          "base_uri": "https://localhost:8080/"
        },
        "outputId": "a0874b3b-0d23-4e51-94ff-e0d472d4b0d5"
      },
      "execution_count": 54,
      "outputs": [
        {
          "output_type": "execute_result",
          "data": {
            "text/plain": [
              "tensor([[ 2.5483,  1.7320, -1.8358,  4.5003,  1.0039,  4.5166, -3.0982, -2.8059,\n",
              "          9.4153, -6.6762, -3.0069,  3.2137, -1.4241, -1.0713, -2.1322, -2.5749,\n",
              "          0.9710, -2.0918,  1.6005,  2.3560, -3.9506,  2.8942,  2.1331, -0.7834,\n",
              "          3.6403, -7.6856]], device='cuda:0', grad_fn=<AddmmBackward0>)"
            ]
          },
          "metadata": {},
          "execution_count": 54
        }
      ]
    },
    {
      "cell_type": "code",
      "source": [
        "pred_prob = torch.softmax(logits,dim=1)\n",
        "pred_prob"
      ],
      "metadata": {
        "id": "PV1R6Qwa7kkd",
        "colab": {
          "base_uri": "https://localhost:8080/"
        },
        "outputId": "d73c1946-b80a-4e5a-c73f-58494b566f9e"
      },
      "execution_count": 55,
      "outputs": [
        {
          "output_type": "execute_result",
          "data": {
            "text/plain": [
              "tensor([[1.0158e-03, 4.4906e-04, 1.2671e-05, 7.1540e-03, 2.1681e-04, 7.2716e-03,\n",
              "         3.5856e-06, 4.8030e-06, 9.7521e-01, 1.0015e-07, 3.9283e-06, 1.9760e-03,\n",
              "         1.9126e-05, 2.7216e-05, 9.4205e-06, 6.0507e-06, 2.0978e-04, 9.8087e-06,\n",
              "         3.9371e-04, 8.3805e-04, 1.5289e-06, 1.4356e-03, 6.7060e-04, 3.6296e-05,\n",
              "         3.0271e-03, 3.6499e-08]], device='cuda:0', grad_fn=<SoftmaxBackward0>)"
            ]
          },
          "metadata": {},
          "execution_count": 55
        }
      ]
    },
    {
      "cell_type": "code",
      "source": [
        "pred = torch.argmax(pred_prob,dim=1)\n",
        "pred"
      ],
      "metadata": {
        "id": "CXN_2_t77syt",
        "colab": {
          "base_uri": "https://localhost:8080/"
        },
        "outputId": "59b6cdae-32ac-48e8-8a47-1a79c40dd9f5"
      },
      "execution_count": 56,
      "outputs": [
        {
          "output_type": "execute_result",
          "data": {
            "text/plain": [
              "tensor([8], device='cuda:0')"
            ]
          },
          "metadata": {},
          "execution_count": 56
        }
      ]
    },
    {
      "cell_type": "code",
      "source": [
        "classes[pred]"
      ],
      "metadata": {
        "id": "hm8epUkP8DCh",
        "colab": {
          "base_uri": "https://localhost:8080/",
          "height": 35
        },
        "outputId": "7e9cd9ce-10c8-4a56-c06a-91d5175f8a1f"
      },
      "execution_count": 57,
      "outputs": [
        {
          "output_type": "execute_result",
          "data": {
            "text/plain": [
              "'I'"
            ],
            "application/vnd.google.colaboratory.intrinsic+json": {
              "type": "string"
            }
          },
          "metadata": {},
          "execution_count": 57
        }
      ]
    },
    {
      "cell_type": "code",
      "source": [
        "def make_predictions(model: torch.nn.Module,\n",
        "                     data: list,\n",
        "                     device: torch.device = device):\n",
        "  preds = []\n",
        "  for image in data:\n",
        "    logits = model(image.to(device).unsqueeze(0))\n",
        "    pred_prob = torch.softmax(logits,dim=1)\n",
        "    pred = torch.argmax(pred_prob,dim=1)\n",
        "    preds.append(pred)\n",
        "\n",
        "  return preds\n"
      ],
      "metadata": {
        "id": "tYWC5U5s8w2N"
      },
      "execution_count": 58,
      "outputs": []
    },
    {
      "cell_type": "code",
      "source": [
        "import random \n",
        "\n",
        "test_samples = []\n",
        "test_labels = []\n",
        "\n",
        "for sample, label in random.sample(list(test_dataset),k=20):\n",
        "  test_samples.append(sample)\n",
        "  test_labels.append(label)"
      ],
      "metadata": {
        "id": "WLPNjiRDCuX2"
      },
      "execution_count": 59,
      "outputs": []
    },
    {
      "cell_type": "code",
      "source": [
        "preds = make_predictions(model=model_1,\n",
        "                             data=test_samples)\n",
        "preds"
      ],
      "metadata": {
        "id": "cXkzakx9i-IM",
        "colab": {
          "base_uri": "https://localhost:8080/"
        },
        "outputId": "d3fa07d1-37b1-4682-ca26-1cc164e90cf1"
      },
      "execution_count": 60,
      "outputs": [
        {
          "output_type": "execute_result",
          "data": {
            "text/plain": [
              "[tensor([4], device='cuda:0'),\n",
              " tensor([19], device='cuda:0'),\n",
              " tensor([15], device='cuda:0'),\n",
              " tensor([10], device='cuda:0'),\n",
              " tensor([6], device='cuda:0'),\n",
              " tensor([19], device='cuda:0'),\n",
              " tensor([6], device='cuda:0'),\n",
              " tensor([8], device='cuda:0'),\n",
              " tensor([7], device='cuda:0'),\n",
              " tensor([12], device='cuda:0'),\n",
              " tensor([8], device='cuda:0'),\n",
              " tensor([18], device='cuda:0'),\n",
              " tensor([17], device='cuda:0'),\n",
              " tensor([7], device='cuda:0'),\n",
              " tensor([21], device='cuda:0'),\n",
              " tensor([15], device='cuda:0'),\n",
              " tensor([1], device='cuda:0'),\n",
              " tensor([11], device='cuda:0'),\n",
              " tensor([5], device='cuda:0'),\n",
              " tensor([19], device='cuda:0')]"
            ]
          },
          "metadata": {},
          "execution_count": 60
        }
      ]
    },
    {
      "cell_type": "code",
      "source": [
        "#Plot predictions \n",
        "plt.figure(figsize=(9,9))\n",
        "nrows = 5 \n",
        "ncols = 4 \n",
        "for i, sample in enumerate(test_samples):\n",
        "  #create subplot \n",
        "  plt.subplot(nrows,ncols,i+1)\n",
        "  #plot target image \n",
        "  plt.imshow(sample.permute(1,2,0))\n",
        "  #find the prediction label in text form\n",
        "  pred_label = classes[preds[i]]\n",
        "  # Get the truth label in text form \n",
        "  truth_label = classes[test_labels[i]]\n",
        "  #Create a title for the plot \n",
        "  title_text = f\"Pred : {pred_label} | Truth: {truth_label}\"\n",
        "  #Check for equality between pred and truth and color of title text\n",
        "  if pred_label == truth_label: \n",
        "    plt.title(title_text,fontsize=10,c=\"g\")\n",
        "  else: \n",
        "    plt.title(title_text,fontsize=10,c=\"r\")\n",
        "  plt.axis(False)"
      ],
      "metadata": {
        "id": "e42e0iZkoJL4",
        "colab": {
          "base_uri": "https://localhost:8080/",
          "height": 534
        },
        "outputId": "27029bb7-2468-44b8-9a1b-dc7cb0ebbdf3"
      },
      "execution_count": 61,
      "outputs": [
        {
          "output_type": "display_data",
          "data": {
            "text/plain": [
              "<Figure size 648x648 with 20 Axes>"
            ],
            "image/png": "[encoded data removed]"
          },
          "metadata": {
            "needs_background": "light"
          }
        }
      ]
    },
    {
      "cell_type": "code",
      "source": [
        "K = 5\n",
        "EPOCHS = 1\n",
        "BATCH_SIZE = 256\n",
        "loss_fn = multiClassHingeLoss()\n",
        "test_loader = torch.utils.data.DataLoader(test_dataset, \n",
        "                                          batch_size=BATCH_SIZE)\n",
        "\n",
        "optimizer = torch.optim.SGD(params=model_1.parameters(), lr=0.01, momentum=0.9)\n",
        "\n",
        "from sklearn.model_selection import KFold\n",
        "kfold = KFold(n_splits=K)\n",
        "\n",
        "for fold_i, (train_ids, val_ids) in enumerate(kfold.split(train_dataset)):\n",
        "    print(f'train size: {len(train_ids)}, val size: {len(val_ids)}')\n",
        "\n",
        "\n",
        "    # Sample elements from selected ids\n",
        "    train_sampler = torch.utils.data.SubsetRandomSampler(train_ids)\n",
        "    val_sampler = torch.utils.data.SubsetRandomSampler(val_ids)\n",
        "    # Use sampler to select data for training and validation\n",
        "    train_dataloader = DataLoader(dataset=train_dataset,\n",
        "                                  batch_size=BATCH_SIZE,\n",
        "                                  num_workers=1,\n",
        "                                  sampler=train_sampler)\n",
        "    val_dataloader = DataLoader(dataset=train_dataset,\n",
        "                                batch_size=BATCH_SIZE,\n",
        "                                num_workers=1,\n",
        "                                sampler=val_sampler)\n",
        "    \n",
        "    model_1_results_val = train(model=model_1,\n",
        "                            train_dataloader=train_dataloader,\n",
        "                            test_dataloader=val_dataloader,\n",
        "                            loss_fn=loss_fn,\n",
        "                            optimizer=optimizer,\n",
        "                            epochs=NUM_EPOCHS)\n"
      ],
      "metadata": {
        "id": "JZHJp5QAscbQ",
        "colab": {
          "base_uri": "https://localhost:8080/",
          "height": 958,
          "referenced_widgets": [
            "692d8f22de17480d92f3aac2466b2894",
            "c12019d64e6447f980f7eada46d3134b",
            "69851e3e3c7a4dd88818d0f2345304f0",
            "00c3d0d74ff340d18a4f270830c31f2b",
            "31b11aacbb0b4962a0b06e942f5563bf",
            "931d2d42f78d428db1018d19a738fa49",
            "adfc45bbf98d47208ed23b1aa18149c8",
            "d7dc355f333f4ed4943af0df25a2500b",
            "712a19c36928468bb61260e22a45c444",
            "8ca6c714226445f1a5ad5d712363ec2f",
            "a30afb00e2784dae9966783cbd59e828",
            "fcb47226d1e54ce882cbc765cf614380",
            "5492862b227e4ec1b93d709fd6f26a2c",
            "dff704cd12204e08adf133fef3f48e48",
            "9aa02bc988904bdd9403f768c90be123",
            "65a846af72c2446d9b708cd2dc44d16f",
            "7b6c2eae365042a9b562e963c23e3c4a",
            "a8cba1c433e24e999a46a0fb2fae2371",
            "5c7c1979264646e995c1a46cab42290a",
            "2dfc2f01490845fab807641688aae17b",
            "e791a59095cf4958a93710c1c3aa52ad",
            "cdfef5ecd5d4415094f24e00e61cdb89",
            "6bd2591337fa4ff4b6b4cc66e1e320cd",
            "11a42cf212e2460e9b120634c6bbf8e5",
            "6ea8cc4158784f0381beae71bb4351df",
            "8a47c80e83894f5fa98e5248e0d94ed3",
            "576b7c7e86914f0bbef139f4fae3143f",
            "a329ad6c32bd440b9ea409d5e2a0bd80",
            "bcb42ea186654310bf10f0d79a483208",
            "71fe5611434b4330bcdd1370589fbb51",
            "a943c59fb67b4ee096fa8c6f48464d54",
            "98b4928d2c494f029b4a21e721327af5",
            "ee028f877a3a4672aca5980949649de5",
            "1e5c47e43a9049fcb511aae078facf9e",
            "9d05e9090fae44e1a802718fe5a2bf2b",
            "6fcde62253f648ea98c0c886abcb3f4a",
            "985fdd8397324d93b888b2bd52eba744",
            "44503e8c55fb4122994a7efd60c2274f",
            "454913ac581046748e780be41183c688",
            "adf0cc17de904d7594223837fc15550f",
            "376166d13b4740e69e9d32a9295a3f2b",
            "1826e78ec5bb41018e851c1a95e1efc9",
            "1b1d660463c945c180b2a1f5b77bc020",
            "124d299fbf2340b09cffd22cf22d25e5",
            "19dde340e57e4d4ba3746a0a26c8f40e",
            "991f6e18c29e4fd596a50f10c92ad5d6",
            "63d2177150964ea5bd3cb54bd52d57b9",
            "810c51ef4ab5496998956cc857f5a007",
            "6fc583556fb14bb2851d8d638698e15e",
            "39b766ae0eb048a49f66d1ab29edc81a",
            "95177ee68b584bbf9fb4ad5ad7df079b",
            "495ebcd61eb2432fa2c46590db0c17fa",
            "cfbfd69d9daf415e956e6e17b624288b",
            "12d0e856cbde4aa7813d9039dbf8ff92",
            "b940d987cfef4eb0924f9e7bb3ba65b6"
          ]
        },
        "outputId": "14ea17cd-dddb-46c3-a66d-3ee90e892854"
      },
      "execution_count": 62,
      "outputs": [
        {
          "output_type": "stream",
          "name": "stdout",
          "text": [
            "train size: 21964, val size: 5491\n"
          ]
        },
        {
          "output_type": "display_data",
          "data": {
            "text/plain": [
              "  0%|          | 0/8 [00:00<?, ?it/s]"
            ],
            "application/vnd.jupyter.widget-view+json": {
              "version_major": 2,
              "version_minor": 0,
              "model_id": "692d8f22de17480d92f3aac2466b2894"
            }
          },
          "metadata": {}
        },
        {
          "output_type": "stream",
          "name": "stdout",
          "text": [
            "Epoch : 0 | train loss:  0.0009 | Train acc :  0.9998 | Test loss :  0.0000 | Test acc : 1.0000 \n",
            "Epoch : 1 | train loss:  0.0003 | Train acc :  1.0000 | Test loss :  0.0000 | Test acc : 1.0000 \n",
            "Epoch : 2 | train loss:  0.0003 | Train acc :  1.0000 | Test loss :  0.0000 | Test acc : 1.0000 \n",
            "Epoch : 3 | train loss:  0.0002 | Train acc :  1.0000 | Test loss :  0.0000 | Test acc : 1.0000 \n",
            "Epoch : 4 | train loss:  0.0003 | Train acc :  1.0000 | Test loss :  0.0000 | Test acc : 1.0000 \n",
            "Epoch : 5 | train loss:  0.0002 | Train acc :  1.0000 | Test loss :  0.0000 | Test acc : 1.0000 \n",
            "Epoch : 6 | train loss:  0.0001 | Train acc :  1.0000 | Test loss :  0.0000 | Test acc : 1.0000 \n",
            "Epoch : 7 | train loss:  0.0001 | Train acc :  1.0000 | Test loss :  0.0000 | Test acc : 1.0000 \n",
            "train size: 21964, val size: 5491\n"
          ]
        },
        {
          "output_type": "display_data",
          "data": {
            "text/plain": [
              "  0%|          | 0/8 [00:00<?, ?it/s]"
            ],
            "application/vnd.jupyter.widget-view+json": {
              "version_major": 2,
              "version_minor": 0,
              "model_id": "fcb47226d1e54ce882cbc765cf614380"
            }
          },
          "metadata": {}
        },
        {
          "output_type": "stream",
          "name": "stdout",
          "text": [
            "Epoch : 0 | train loss:  0.0002 | Train acc :  1.0000 | Test loss :  0.0000 | Test acc : 1.0000 \n",
            "Epoch : 1 | train loss:  0.0001 | Train acc :  1.0000 | Test loss :  0.0000 | Test acc : 1.0000 \n",
            "Epoch : 2 | train loss:  0.0001 | Train acc :  1.0000 | Test loss :  0.0000 | Test acc : 1.0000 \n",
            "Epoch : 3 | train loss:  0.0001 | Train acc :  1.0000 | Test loss :  0.0000 | Test acc : 1.0000 \n",
            "Epoch : 4 | train loss:  0.0002 | Train acc :  1.0000 | Test loss :  0.0000 | Test acc : 1.0000 \n",
            "Epoch : 5 | train loss:  0.0002 | Train acc :  1.0000 | Test loss :  0.0000 | Test acc : 1.0000 \n",
            "Epoch : 6 | train loss:  0.0001 | Train acc :  1.0000 | Test loss :  0.0000 | Test acc : 1.0000 \n",
            "Epoch : 7 | train loss:  0.0001 | Train acc :  1.0000 | Test loss :  0.0000 | Test acc : 1.0000 \n",
            "train size: 21964, val size: 5491\n"
          ]
        },
        {
          "output_type": "display_data",
          "data": {
            "text/plain": [
              "  0%|          | 0/8 [00:00<?, ?it/s]"
            ],
            "application/vnd.jupyter.widget-view+json": {
              "version_major": 2,
              "version_minor": 0,
              "model_id": "6bd2591337fa4ff4b6b4cc66e1e320cd"
            }
          },
          "metadata": {}
        },
        {
          "output_type": "stream",
          "name": "stdout",
          "text": [
            "Epoch : 0 | train loss:  0.0001 | Train acc :  1.0000 | Test loss :  0.0000 | Test acc : 1.0000 \n",
            "Epoch : 1 | train loss:  0.0001 | Train acc :  1.0000 | Test loss :  0.0000 | Test acc : 1.0000 \n",
            "Epoch : 2 | train loss:  0.0001 | Train acc :  1.0000 | Test loss :  0.0000 | Test acc : 1.0000 \n",
            "Epoch : 3 | train loss:  0.0001 | Train acc :  1.0000 | Test loss :  0.0000 | Test acc : 1.0000 \n",
            "Epoch : 4 | train loss:  0.0001 | Train acc :  1.0000 | Test loss :  0.0000 | Test acc : 1.0000 \n",
            "Epoch : 5 | train loss:  0.0001 | Train acc :  1.0000 | Test loss :  0.0000 | Test acc : 1.0000 \n",
            "Epoch : 6 | train loss:  0.0001 | Train acc :  1.0000 | Test loss :  0.0000 | Test acc : 1.0000 \n",
            "Epoch : 7 | train loss:  0.0002 | Train acc :  1.0000 | Test loss :  0.0000 | Test acc : 1.0000 \n",
            "train size: 21964, val size: 5491\n"
          ]
        },
        {
          "output_type": "display_data",
          "data": {
            "text/plain": [
              "  0%|          | 0/8 [00:00<?, ?it/s]"
            ],
            "application/vnd.jupyter.widget-view+json": {
              "version_major": 2,
              "version_minor": 0,
              "model_id": "1e5c47e43a9049fcb511aae078facf9e"
            }
          },
          "metadata": {}
        },
        {
          "output_type": "stream",
          "name": "stdout",
          "text": [
            "Epoch : 0 | train loss:  0.0001 | Train acc :  1.0000 | Test loss :  0.0000 | Test acc : 1.0000 \n",
            "Epoch : 1 | train loss:  0.0000 | Train acc :  1.0000 | Test loss :  0.0000 | Test acc : 1.0000 \n",
            "Epoch : 2 | train loss:  0.0002 | Train acc :  1.0000 | Test loss :  0.0000 | Test acc : 1.0000 \n",
            "Epoch : 3 | train loss:  0.0001 | Train acc :  1.0000 | Test loss :  0.0000 | Test acc : 1.0000 \n",
            "Epoch : 4 | train loss:  0.0001 | Train acc :  1.0000 | Test loss :  0.0000 | Test acc : 1.0000 \n",
            "Epoch : 5 | train loss:  0.0002 | Train acc :  1.0000 | Test loss :  0.0000 | Test acc : 1.0000 \n",
            "Epoch : 6 | train loss:  0.0001 | Train acc :  1.0000 | Test loss :  0.0000 | Test acc : 1.0000 \n",
            "Epoch : 7 | train loss:  0.0001 | Train acc :  1.0000 | Test loss :  0.0000 | Test acc : 1.0000 \n",
            "train size: 21964, val size: 5491\n"
          ]
        },
        {
          "output_type": "display_data",
          "data": {
            "text/plain": [
              "  0%|          | 0/8 [00:00<?, ?it/s]"
            ],
            "application/vnd.jupyter.widget-view+json": {
              "version_major": 2,
              "version_minor": 0,
              "model_id": "19dde340e57e4d4ba3746a0a26c8f40e"
            }
          },
          "metadata": {}
        },
        {
          "output_type": "stream",
          "name": "stdout",
          "text": [
            "Epoch : 0 | train loss:  0.0001 | Train acc :  1.0000 | Test loss :  0.0000 | Test acc : 1.0000 \n",
            "Epoch : 1 | train loss:  0.0001 | Train acc :  1.0000 | Test loss :  0.0000 | Test acc : 1.0000 \n",
            "Epoch : 2 | train loss:  0.0001 | Train acc :  1.0000 | Test loss :  0.0000 | Test acc : 1.0000 \n",
            "Epoch : 3 | train loss:  0.0002 | Train acc :  1.0000 | Test loss :  0.0000 | Test acc : 1.0000 \n",
            "Epoch : 4 | train loss:  0.0001 | Train acc :  1.0000 | Test loss :  0.0000 | Test acc : 1.0000 \n",
            "Epoch : 5 | train loss:  0.0001 | Train acc :  1.0000 | Test loss :  0.0000 | Test acc : 1.0000 \n",
            "Epoch : 6 | train loss:  0.0000 | Train acc :  1.0000 | Test loss :  0.0000 | Test acc : 1.0000 \n",
            "Epoch : 7 | train loss:  0.0001 | Train acc :  1.0000 | Test loss :  0.0000 | Test acc : 1.0000 \n"
          ]
        }
      ]
    },
    {
      "cell_type": "code",
      "source": [
        "#Saving and loading the best model \n",
        "from pathlib import Path \n",
        "\n",
        "# Create models directory (if it doesn't already exist), see: https://docs.python.org/3/library/pathlib.html#pathlib.Path.mkdir\n",
        "MODEL_PATH = Path(\"models\")\n",
        "MODEL_PATH.mkdir(parents=True, # create parent directories if needed\n",
        "                 exist_ok=True # if models directory already exists, don't error\n",
        ")\n",
        "\n",
        "# Create model save path\n",
        "MODEL_NAME = \"model_hingeLoss_Resnet_SGD.pth\"\n",
        "MODEL_SAVE_PATH = MODEL_PATH / MODEL_NAME\n",
        "\n",
        "# Save the model state dict\n",
        "print(f\"Saving model to: {MODEL_SAVE_PATH}\")\n",
        "torch.save(obj=model_1.state_dict(), # only saving the state_dict() only saves the learned parameters\n",
        "           f=MODEL_SAVE_PATH)\n"
      ],
      "metadata": {
        "id": "jl41hP4WmUvb",
        "colab": {
          "base_uri": "https://localhost:8080/"
        },
        "outputId": "f4b67bc8-64d5-4b19-b99e-163295efc140"
      },
      "execution_count": 63,
      "outputs": [
        {
          "output_type": "stream",
          "name": "stdout",
          "text": [
            "Saving model to: models/model_hingeLoss_Resnet_SGD.pth\n"
          ]
        }
      ]
    },
    {
      "cell_type": "code",
      "source": [
        "# create a new instance\n",
        "torch.manual_seed(42) \n",
        "loaded_model_1 = ResNet18(input_shape=1,\n",
        "                   hidden_units=24,\n",
        "                   output_shape=len(classes)).to(device)\n",
        "\n",
        "#Load in the save state_dict()\n",
        "loaded_model_1.load_state_dict(torch.load(f=MODEL_SAVE_PATH))\n",
        "\n",
        "#Send the model to target device \n",
        "loaded_model_1.to(device)"
      ],
      "metadata": {
        "colab": {
          "base_uri": "https://localhost:8080/"
        },
        "id": "nQ9_KuwOBXQl",
        "outputId": "b3ba4f88-e6e6-450d-ea4c-c4403931fc26"
      },
      "execution_count": 64,
      "outputs": [
        {
          "output_type": "execute_result",
          "data": {
            "text/plain": [
              "ResNet18(\n",
              "  (conv1): Conv2d(1, 24, kernel_size=(3, 3), stride=(1, 1), padding=(1, 1))\n",
              "  (bn1): BatchNorm2d(24, eps=1e-05, momentum=0.1, affine=True, track_running_stats=True)\n",
              "  (layer1): Sequential(\n",
              "    (0): Conv2d(24, 24, kernel_size=(3, 3), stride=(1, 1), padding=(1, 1))\n",
              "    (1): BatchNorm2d(24, eps=1e-05, momentum=0.1, affine=True, track_running_stats=True)\n",
              "    (2): ReLU()\n",
              "    (3): Conv2d(24, 24, kernel_size=(3, 3), stride=(1, 1), padding=(1, 1))\n",
              "    (4): BatchNorm2d(24, eps=1e-05, momentum=0.1, affine=True, track_running_stats=True)\n",
              "    (5): ReLU()\n",
              "  )\n",
              "  (layer2): Sequential(\n",
              "    (0): Conv2d(24, 48, kernel_size=(3, 3), stride=(2, 2), padding=(1, 1))\n",
              "    (1): BatchNorm2d(48, eps=1e-05, momentum=0.1, affine=True, track_running_stats=True)\n",
              "    (2): ReLU()\n",
              "    (3): Conv2d(48, 48, kernel_size=(3, 3), stride=(1, 1), padding=(1, 1))\n",
              "    (4): BatchNorm2d(48, eps=1e-05, momentum=0.1, affine=True, track_running_stats=True)\n",
              "    (5): ReLU()\n",
              "  )\n",
              "  (layer3): Sequential(\n",
              "    (0): Conv2d(48, 96, kernel_size=(3, 3), stride=(2, 2), padding=(1, 1))\n",
              "    (1): BatchNorm2d(96, eps=1e-05, momentum=0.1, affine=True, track_running_stats=True)\n",
              "    (2): ReLU()\n",
              "    (3): Conv2d(96, 96, kernel_size=(3, 3), stride=(1, 1), padding=(1, 1))\n",
              "    (4): BatchNorm2d(96, eps=1e-05, momentum=0.1, affine=True, track_running_stats=True)\n",
              "    (5): ReLU()\n",
              "  )\n",
              "  (avgpool): AdaptiveAvgPool2d(output_size=(1, 1))\n",
              "  (fc): Linear(in_features=96, out_features=26, bias=True)\n",
              "  (dropout): Dropout(p=0.5, inplace=False)\n",
              ")"
            ]
          },
          "metadata": {},
          "execution_count": 64
        }
      ]
    }
  ]
}